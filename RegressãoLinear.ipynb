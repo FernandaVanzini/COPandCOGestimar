{
 "cells": [
  {
   "cell_type": "markdown",
   "metadata": {
    "deletable": true,
    "editable": true
   },
   "source": [
    "# COP and COG estimation by linear regression\n",
    "Trying to estimate COP and COG were used linear function wich didn't give the results expected, therefore we tried to make different approaches and one of them is the linear regression"
   ]
  },
  {
   "cell_type": "markdown",
   "metadata": {
    "deletable": true,
    "editable": true
   },
   "source": [
    "## Python libraries\n",
    "\n",
    "First, let's import the necessary Python libraries and configure the environment:"
   ]
  },
  {
   "cell_type": "code",
   "execution_count": 17,
   "metadata": {
    "ExecuteTime": {
     "end_time": "2017-02-27T18:50:34.521091Z",
     "start_time": "2017-02-27T15:50:33.800352-03:00"
    },
    "deletable": true,
    "editable": true,
    "tags": []
   },
   "outputs": [],
   "source": [
    "import numpy as np\n",
    "#from scipy.signal import butter, filtfilt\n",
    "import pandas as pd\n",
    "import matplotlib\n",
    "import matplotlib.pyplot as plt\n",
    "import matplotlib.gridspec as gridspec\n",
    "%matplotlib inline\n",
    "#import seaborn as sns\n",
    "#sns.set_context(\"notebook\", font_scale=1.3,\n",
    " #               rc={'lines.linewidth': 1.5, 'lines.markersize': 14, 'axes.titlesize': 'x-large'})\n",
    "#matplotlib.rc('legend', numpoints=1, fontsize=14)\n",
    "#import glob\n",
    "import sys, os\n",
    "sys.path.insert(1, r'./Functions')\n",
    "# IPython widgets:\n",
    "from IPython.display import display\n",
    "import ipywidgets\n",
    "from ipywidgets import FloatProgress, interactive"
   ]
  },
  {
   "cell_type": "markdown",
   "metadata": {
    "deletable": true,
    "editable": true
   },
   "source": [
    "Versions of the Python libraries used:"
   ]
  },
  {
   "cell_type": "code",
   "execution_count": 18,
   "metadata": {
    "collapsed": false,
    "deletable": true,
    "editable": true,
    "jupyter": {
     "outputs_hidden": false
    }
   },
   "outputs": [
    {
     "name": "stdout",
     "output_type": "stream",
     "text": [
      "The version_information extension is already loaded. To reload it, use:\n",
      "  %reload_ext version_information\n"
     ]
    },
    {
     "data": {
      "application/json": {
       "Software versions": [
        {
         "module": "Python",
         "version": "3.8.8 64bit [MSC v.1916 64 bit (AMD64)]"
        },
        {
         "module": "IPython",
         "version": "7.22.0"
        },
        {
         "module": "OS",
         "version": "Windows 10 10.0.22000 SP0"
        },
        {
         "module": "numpy",
         "version": "1.20.1"
        },
        {
         "module": "scipy",
         "version": "1.6.2"
        },
        {
         "module": "pandas",
         "version": "1.2.4"
        },
        {
         "module": "matplotlib",
         "version": "3.3.4"
        },
        {
         "module": "seaborn",
         "version": "0.11.1"
        }
       ]
      },
      "text/html": [
       "<table><tr><th>Software</th><th>Version</th></tr><tr><td>Python</td><td>3.8.8 64bit [MSC v.1916 64 bit (AMD64)]</td></tr><tr><td>IPython</td><td>7.22.0</td></tr><tr><td>OS</td><td>Windows 10 10.0.22000 SP0</td></tr><tr><td>numpy</td><td>1.20.1</td></tr><tr><td>scipy</td><td>1.6.2</td></tr><tr><td>pandas</td><td>1.2.4</td></tr><tr><td>matplotlib</td><td>3.3.4</td></tr><tr><td>seaborn</td><td>0.11.1</td></tr><tr><td colspan='2'>Sat Dec 04 20:56:52 2021 Hora oficial do Brasil</td></tr></table>"
      ],
      "text/latex": [
       "\\begin{tabular}{|l|l|}\\hline\n",
       "{\\bf Software} & {\\bf Version} \\\\ \\hline\\hline\n",
       "Python & 3.8.8 64bit [MSC v.1916 64 bit (AMD64)] \\\\ \\hline\n",
       "IPython & 7.22.0 \\\\ \\hline\n",
       "OS & Windows 10 10.0.22000 SP0 \\\\ \\hline\n",
       "numpy & 1.20.1 \\\\ \\hline\n",
       "scipy & 1.6.2 \\\\ \\hline\n",
       "pandas & 1.2.4 \\\\ \\hline\n",
       "matplotlib & 3.3.4 \\\\ \\hline\n",
       "seaborn & 0.11.1 \\\\ \\hline\n",
       "\\hline \\multicolumn{2}{|l|}{Sat Dec 04 20:56:52 2021 Hora oficial do Brasil} \\\\ \\hline\n",
       "\\end{tabular}\n"
      ],
      "text/plain": [
       "Software versions\n",
       "Python 3.8.8 64bit [MSC v.1916 64 bit (AMD64)]\n",
       "IPython 7.22.0\n",
       "OS Windows 10 10.0.22000 SP0\n",
       "numpy 1.20.1\n",
       "scipy 1.6.2\n",
       "pandas 1.2.4\n",
       "matplotlib 3.3.4\n",
       "seaborn 0.11.1\n",
       "Sat Dec 04 20:56:52 2021 Hora oficial do Brasil"
      ]
     },
     "execution_count": 18,
     "metadata": {},
     "output_type": "execute_result"
    }
   ],
   "source": [
    "#!pip install version_information\n",
    "%load_ext version_information\n",
    "%version_information numpy, scipy, pandas, matplotlib, seaborn"
   ]
  },
  {
   "cell_type": "markdown",
   "metadata": {
    "deletable": true,
    "editable": true
   },
   "source": [
    "## Meta data\n",
    "\n",
    "The file `PDSinfo.txt` contains meta data about the subjects and the experimental trials. The file has a header plus 588 rows per 29 columns (there are 12 rows for each of the 49 subjects).   \n",
    "Let's use the power of the [pandas](http://pandas.pydata.org/) library to load and explore the meta data:"
   ]
  },
  {
   "cell_type": "code",
   "execution_count": 194,
   "metadata": {
    "ExecuteTime": {
     "end_time": "2017-02-27T18:50:34.534681Z",
     "start_time": "2017-02-27T15:50:34.521091-03:00"
    },
    "collapsed": false,
    "deletable": true,
    "editable": true,
    "jupyter": {
     "outputs_hidden": false
    }
   },
   "outputs": [
    {
     "name": "stdout",
     "output_type": "stream",
     "text": [
      "C:\\\\Users\\\\ferna\\\\Downloads\\\\IC- dados\\\\Dados\\PDSinfo.txt\n",
      "Information of 49 subjects loaded (588 rows, 29 columns).\n"
     ]
    },
    {
     "data": {
      "text/html": [
       "<div>\n",
       "<style scoped>\n",
       "    .dataframe tbody tr th:only-of-type {\n",
       "        vertical-align: middle;\n",
       "    }\n",
       "\n",
       "    .dataframe tbody tr th {\n",
       "        vertical-align: top;\n",
       "    }\n",
       "\n",
       "    .dataframe thead th {\n",
       "        text-align: right;\n",
       "    }\n",
       "</style>\n",
       "<table border=\"1\" class=\"dataframe\">\n",
       "  <thead>\n",
       "    <tr style=\"text-align: right;\">\n",
       "      <th></th>\n",
       "      <th>Trial</th>\n",
       "      <th>Subject</th>\n",
       "      <th>Vision</th>\n",
       "      <th>Surface</th>\n",
       "      <th>Rep</th>\n",
       "      <th>Age</th>\n",
       "      <th>AgeGroup</th>\n",
       "      <th>Gender</th>\n",
       "      <th>Height</th>\n",
       "      <th>Mass</th>\n",
       "      <th>...</th>\n",
       "      <th>Nmedication</th>\n",
       "      <th>Medication</th>\n",
       "      <th>Ortho-Prosthesis</th>\n",
       "      <th>Ortho-Prosthesis2</th>\n",
       "      <th>Disability</th>\n",
       "      <th>Disability2</th>\n",
       "      <th>Falls12m</th>\n",
       "      <th>PhysicalActivity</th>\n",
       "      <th>Sequence</th>\n",
       "      <th>Date</th>\n",
       "    </tr>\n",
       "  </thead>\n",
       "  <tbody>\n",
       "    <tr>\n",
       "      <th>132</th>\n",
       "      <td>PDS12OR1</td>\n",
       "      <td>12</td>\n",
       "      <td>Open</td>\n",
       "      <td>Rigid</td>\n",
       "      <td>1</td>\n",
       "      <td>24.75</td>\n",
       "      <td>Young</td>\n",
       "      <td>F</td>\n",
       "      <td>1.58</td>\n",
       "      <td>48.8</td>\n",
       "      <td>...</td>\n",
       "      <td>1</td>\n",
       "      <td>Oral contraceptive</td>\n",
       "      <td>Yes</td>\n",
       "      <td>Corrective lens</td>\n",
       "      <td>No</td>\n",
       "      <td>No</td>\n",
       "      <td>0</td>\n",
       "      <td>2</td>\n",
       "      <td>OR, CF, OF, CR</td>\n",
       "      <td>2016-08-22 11:12:36.410</td>\n",
       "    </tr>\n",
       "    <tr>\n",
       "      <th>133</th>\n",
       "      <td>PDS12OR2</td>\n",
       "      <td>12</td>\n",
       "      <td>Open</td>\n",
       "      <td>Rigid</td>\n",
       "      <td>2</td>\n",
       "      <td>24.75</td>\n",
       "      <td>Young</td>\n",
       "      <td>F</td>\n",
       "      <td>1.58</td>\n",
       "      <td>48.8</td>\n",
       "      <td>...</td>\n",
       "      <td>1</td>\n",
       "      <td>Oral contraceptive</td>\n",
       "      <td>Yes</td>\n",
       "      <td>Corrective lens</td>\n",
       "      <td>No</td>\n",
       "      <td>No</td>\n",
       "      <td>0</td>\n",
       "      <td>2</td>\n",
       "      <td>OR, CF, OF, CR</td>\n",
       "      <td>2016-08-22 11:12:36.410</td>\n",
       "    </tr>\n",
       "    <tr>\n",
       "      <th>134</th>\n",
       "      <td>PDS12OR3</td>\n",
       "      <td>12</td>\n",
       "      <td>Open</td>\n",
       "      <td>Rigid</td>\n",
       "      <td>3</td>\n",
       "      <td>24.75</td>\n",
       "      <td>Young</td>\n",
       "      <td>F</td>\n",
       "      <td>1.58</td>\n",
       "      <td>48.8</td>\n",
       "      <td>...</td>\n",
       "      <td>1</td>\n",
       "      <td>Oral contraceptive</td>\n",
       "      <td>Yes</td>\n",
       "      <td>Corrective lens</td>\n",
       "      <td>No</td>\n",
       "      <td>No</td>\n",
       "      <td>0</td>\n",
       "      <td>2</td>\n",
       "      <td>OR, CF, OF, CR</td>\n",
       "      <td>2016-08-22 11:12:36.410</td>\n",
       "    </tr>\n",
       "    <tr>\n",
       "      <th>135</th>\n",
       "      <td>PDS12OF1</td>\n",
       "      <td>12</td>\n",
       "      <td>Open</td>\n",
       "      <td>Foam</td>\n",
       "      <td>1</td>\n",
       "      <td>24.75</td>\n",
       "      <td>Young</td>\n",
       "      <td>F</td>\n",
       "      <td>1.58</td>\n",
       "      <td>48.8</td>\n",
       "      <td>...</td>\n",
       "      <td>1</td>\n",
       "      <td>Oral contraceptive</td>\n",
       "      <td>Yes</td>\n",
       "      <td>Corrective lens</td>\n",
       "      <td>No</td>\n",
       "      <td>No</td>\n",
       "      <td>0</td>\n",
       "      <td>2</td>\n",
       "      <td>OR, CF, OF, CR</td>\n",
       "      <td>2016-08-22 11:12:36.410</td>\n",
       "    </tr>\n",
       "    <tr>\n",
       "      <th>136</th>\n",
       "      <td>PDS12OF2</td>\n",
       "      <td>12</td>\n",
       "      <td>Open</td>\n",
       "      <td>Foam</td>\n",
       "      <td>2</td>\n",
       "      <td>24.75</td>\n",
       "      <td>Young</td>\n",
       "      <td>F</td>\n",
       "      <td>1.58</td>\n",
       "      <td>48.8</td>\n",
       "      <td>...</td>\n",
       "      <td>1</td>\n",
       "      <td>Oral contraceptive</td>\n",
       "      <td>Yes</td>\n",
       "      <td>Corrective lens</td>\n",
       "      <td>No</td>\n",
       "      <td>No</td>\n",
       "      <td>0</td>\n",
       "      <td>2</td>\n",
       "      <td>OR, CF, OF, CR</td>\n",
       "      <td>2016-08-22 11:12:36.410</td>\n",
       "    </tr>\n",
       "    <tr>\n",
       "      <th>137</th>\n",
       "      <td>PDS12OF3</td>\n",
       "      <td>12</td>\n",
       "      <td>Open</td>\n",
       "      <td>Foam</td>\n",
       "      <td>3</td>\n",
       "      <td>24.75</td>\n",
       "      <td>Young</td>\n",
       "      <td>F</td>\n",
       "      <td>1.58</td>\n",
       "      <td>48.8</td>\n",
       "      <td>...</td>\n",
       "      <td>1</td>\n",
       "      <td>Oral contraceptive</td>\n",
       "      <td>Yes</td>\n",
       "      <td>Corrective lens</td>\n",
       "      <td>No</td>\n",
       "      <td>No</td>\n",
       "      <td>0</td>\n",
       "      <td>2</td>\n",
       "      <td>OR, CF, OF, CR</td>\n",
       "      <td>2016-08-22 11:12:36.410</td>\n",
       "    </tr>\n",
       "    <tr>\n",
       "      <th>138</th>\n",
       "      <td>PDS12CR1</td>\n",
       "      <td>12</td>\n",
       "      <td>Closed</td>\n",
       "      <td>Rigid</td>\n",
       "      <td>1</td>\n",
       "      <td>24.75</td>\n",
       "      <td>Young</td>\n",
       "      <td>F</td>\n",
       "      <td>1.58</td>\n",
       "      <td>48.8</td>\n",
       "      <td>...</td>\n",
       "      <td>1</td>\n",
       "      <td>Oral contraceptive</td>\n",
       "      <td>Yes</td>\n",
       "      <td>Corrective lens</td>\n",
       "      <td>No</td>\n",
       "      <td>No</td>\n",
       "      <td>0</td>\n",
       "      <td>2</td>\n",
       "      <td>OR, CF, OF, CR</td>\n",
       "      <td>2016-08-22 11:12:36.410</td>\n",
       "    </tr>\n",
       "    <tr>\n",
       "      <th>139</th>\n",
       "      <td>PDS12CR2</td>\n",
       "      <td>12</td>\n",
       "      <td>Closed</td>\n",
       "      <td>Rigid</td>\n",
       "      <td>2</td>\n",
       "      <td>24.75</td>\n",
       "      <td>Young</td>\n",
       "      <td>F</td>\n",
       "      <td>1.58</td>\n",
       "      <td>48.8</td>\n",
       "      <td>...</td>\n",
       "      <td>1</td>\n",
       "      <td>Oral contraceptive</td>\n",
       "      <td>Yes</td>\n",
       "      <td>Corrective lens</td>\n",
       "      <td>No</td>\n",
       "      <td>No</td>\n",
       "      <td>0</td>\n",
       "      <td>2</td>\n",
       "      <td>OR, CF, OF, CR</td>\n",
       "      <td>2016-08-22 11:12:36.410</td>\n",
       "    </tr>\n",
       "    <tr>\n",
       "      <th>140</th>\n",
       "      <td>PDS12CR3</td>\n",
       "      <td>12</td>\n",
       "      <td>Closed</td>\n",
       "      <td>Rigid</td>\n",
       "      <td>3</td>\n",
       "      <td>24.75</td>\n",
       "      <td>Young</td>\n",
       "      <td>F</td>\n",
       "      <td>1.58</td>\n",
       "      <td>48.8</td>\n",
       "      <td>...</td>\n",
       "      <td>1</td>\n",
       "      <td>Oral contraceptive</td>\n",
       "      <td>Yes</td>\n",
       "      <td>Corrective lens</td>\n",
       "      <td>No</td>\n",
       "      <td>No</td>\n",
       "      <td>0</td>\n",
       "      <td>2</td>\n",
       "      <td>OR, CF, OF, CR</td>\n",
       "      <td>2016-08-22 11:12:36.410</td>\n",
       "    </tr>\n",
       "    <tr>\n",
       "      <th>141</th>\n",
       "      <td>PDS12CF1</td>\n",
       "      <td>12</td>\n",
       "      <td>Closed</td>\n",
       "      <td>Foam</td>\n",
       "      <td>1</td>\n",
       "      <td>24.75</td>\n",
       "      <td>Young</td>\n",
       "      <td>F</td>\n",
       "      <td>1.58</td>\n",
       "      <td>48.8</td>\n",
       "      <td>...</td>\n",
       "      <td>1</td>\n",
       "      <td>Oral contraceptive</td>\n",
       "      <td>Yes</td>\n",
       "      <td>Corrective lens</td>\n",
       "      <td>No</td>\n",
       "      <td>No</td>\n",
       "      <td>0</td>\n",
       "      <td>2</td>\n",
       "      <td>OR, CF, OF, CR</td>\n",
       "      <td>2016-08-22 11:12:36.410</td>\n",
       "    </tr>\n",
       "    <tr>\n",
       "      <th>142</th>\n",
       "      <td>PDS12CF2</td>\n",
       "      <td>12</td>\n",
       "      <td>Closed</td>\n",
       "      <td>Foam</td>\n",
       "      <td>2</td>\n",
       "      <td>24.75</td>\n",
       "      <td>Young</td>\n",
       "      <td>F</td>\n",
       "      <td>1.58</td>\n",
       "      <td>48.8</td>\n",
       "      <td>...</td>\n",
       "      <td>1</td>\n",
       "      <td>Oral contraceptive</td>\n",
       "      <td>Yes</td>\n",
       "      <td>Corrective lens</td>\n",
       "      <td>No</td>\n",
       "      <td>No</td>\n",
       "      <td>0</td>\n",
       "      <td>2</td>\n",
       "      <td>OR, CF, OF, CR</td>\n",
       "      <td>2016-08-22 11:12:36.410</td>\n",
       "    </tr>\n",
       "    <tr>\n",
       "      <th>143</th>\n",
       "      <td>PDS12CF3</td>\n",
       "      <td>12</td>\n",
       "      <td>Closed</td>\n",
       "      <td>Foam</td>\n",
       "      <td>3</td>\n",
       "      <td>24.75</td>\n",
       "      <td>Young</td>\n",
       "      <td>F</td>\n",
       "      <td>1.58</td>\n",
       "      <td>48.8</td>\n",
       "      <td>...</td>\n",
       "      <td>1</td>\n",
       "      <td>Oral contraceptive</td>\n",
       "      <td>Yes</td>\n",
       "      <td>Corrective lens</td>\n",
       "      <td>No</td>\n",
       "      <td>No</td>\n",
       "      <td>0</td>\n",
       "      <td>2</td>\n",
       "      <td>OR, CF, OF, CR</td>\n",
       "      <td>2016-08-22 11:12:36.410</td>\n",
       "    </tr>\n",
       "  </tbody>\n",
       "</table>\n",
       "<p>12 rows × 29 columns</p>\n",
       "</div>"
      ],
      "text/plain": [
       "        Trial  Subject  Vision Surface  Rep    Age AgeGroup Gender  Height  \\\n",
       "132  PDS12OR1       12    Open   Rigid    1  24.75    Young      F    1.58   \n",
       "133  PDS12OR2       12    Open   Rigid    2  24.75    Young      F    1.58   \n",
       "134  PDS12OR3       12    Open   Rigid    3  24.75    Young      F    1.58   \n",
       "135  PDS12OF1       12    Open    Foam    1  24.75    Young      F    1.58   \n",
       "136  PDS12OF2       12    Open    Foam    2  24.75    Young      F    1.58   \n",
       "137  PDS12OF3       12    Open    Foam    3  24.75    Young      F    1.58   \n",
       "138  PDS12CR1       12  Closed   Rigid    1  24.75    Young      F    1.58   \n",
       "139  PDS12CR2       12  Closed   Rigid    2  24.75    Young      F    1.58   \n",
       "140  PDS12CR3       12  Closed   Rigid    3  24.75    Young      F    1.58   \n",
       "141  PDS12CF1       12  Closed    Foam    1  24.75    Young      F    1.58   \n",
       "142  PDS12CF2       12  Closed    Foam    2  24.75    Young      F    1.58   \n",
       "143  PDS12CF3       12  Closed    Foam    3  24.75    Young      F    1.58   \n",
       "\n",
       "     Mass  ...  Nmedication          Medication Ortho-Prosthesis  \\\n",
       "132  48.8  ...            1  Oral contraceptive              Yes   \n",
       "133  48.8  ...            1  Oral contraceptive              Yes   \n",
       "134  48.8  ...            1  Oral contraceptive              Yes   \n",
       "135  48.8  ...            1  Oral contraceptive              Yes   \n",
       "136  48.8  ...            1  Oral contraceptive              Yes   \n",
       "137  48.8  ...            1  Oral contraceptive              Yes   \n",
       "138  48.8  ...            1  Oral contraceptive              Yes   \n",
       "139  48.8  ...            1  Oral contraceptive              Yes   \n",
       "140  48.8  ...            1  Oral contraceptive              Yes   \n",
       "141  48.8  ...            1  Oral contraceptive              Yes   \n",
       "142  48.8  ...            1  Oral contraceptive              Yes   \n",
       "143  48.8  ...            1  Oral contraceptive              Yes   \n",
       "\n",
       "    Ortho-Prosthesis2 Disability  Disability2 Falls12m PhysicalActivity  \\\n",
       "132   Corrective lens         No           No        0                2   \n",
       "133   Corrective lens         No           No        0                2   \n",
       "134   Corrective lens         No           No        0                2   \n",
       "135   Corrective lens         No           No        0                2   \n",
       "136   Corrective lens         No           No        0                2   \n",
       "137   Corrective lens         No           No        0                2   \n",
       "138   Corrective lens         No           No        0                2   \n",
       "139   Corrective lens         No           No        0                2   \n",
       "140   Corrective lens         No           No        0                2   \n",
       "141   Corrective lens         No           No        0                2   \n",
       "142   Corrective lens         No           No        0                2   \n",
       "143   Corrective lens         No           No        0                2   \n",
       "\n",
       "           Sequence                     Date  \n",
       "132  OR, CF, OF, CR  2016-08-22 11:12:36.410  \n",
       "133  OR, CF, OF, CR  2016-08-22 11:12:36.410  \n",
       "134  OR, CF, OF, CR  2016-08-22 11:12:36.410  \n",
       "135  OR, CF, OF, CR  2016-08-22 11:12:36.410  \n",
       "136  OR, CF, OF, CR  2016-08-22 11:12:36.410  \n",
       "137  OR, CF, OF, CR  2016-08-22 11:12:36.410  \n",
       "138  OR, CF, OF, CR  2016-08-22 11:12:36.410  \n",
       "139  OR, CF, OF, CR  2016-08-22 11:12:36.410  \n",
       "140  OR, CF, OF, CR  2016-08-22 11:12:36.410  \n",
       "141  OR, CF, OF, CR  2016-08-22 11:12:36.410  \n",
       "142  OR, CF, OF, CR  2016-08-22 11:12:36.410  \n",
       "143  OR, CF, OF, CR  2016-08-22 11:12:36.410  \n",
       "\n",
       "[12 rows x 29 columns]"
      ]
     },
     "execution_count": 194,
     "metadata": {},
     "output_type": "execute_result"
    }
   ],
   "source": [
    "# GitHub URL:\n",
    "#path2 = 'C:\\Users\\ferna\\Downloads\\IC- dados\\Dados'\n",
    "# local directory:\n",
    "path2 = r'C:\\\\Users\\\\ferna\\\\Downloads\\\\IC- dados\\\\Dados'\n",
    "fname = os.path.join(path2, 'PDSinfo.txt')\n",
    "PDSinfo = pd.read_csv(fname, sep='\\t', header=0, index_col=None, engine='c', encoding='utf-8')\n",
    "print(fname)\n",
    "print(\"Information of %s subjects loaded (%s rows, %s columns).\"\n",
    "      %(len(pd.unique(PDSinfo.Subject)), PDSinfo.shape[0], PDSinfo.shape[1]))\n",
    "PDSinfo[PDSinfo[\"Subject\"]==12]"
   ]
  },
  {
   "cell_type": "markdown",
   "metadata": {
    "deletable": true,
    "editable": true
   },
   "source": [
    "Here are the first 12 rows and first 10 columns of meta data:"
   ]
  },
  {
   "cell_type": "markdown",
   "metadata": {
    "deletable": true,
    "editable": true
   },
   "source": [
    "## COP and COG displacements"
   ]
  },
  {
   "cell_type": "markdown",
   "metadata": {},
   "source": [
    "## Trial 150"
   ]
  },
  {
   "cell_type": "code",
   "execution_count": 20,
   "metadata": {
    "ExecuteTime": {
     "end_time": "2017-02-27T18:50:36.895500Z",
     "start_time": "2017-02-27T15:50:36.705289-03:00"
    },
    "collapsed": false,
    "deletable": true,
    "editable": true,
    "jupyter": {
     "outputs_hidden": false
    }
   },
   "outputs": [
    {
     "name": "stdout",
     "output_type": "stream",
     "text": [
      "C:\\\\Users\\\\ferna\\\\Downloads\\\\IC- dados\\\\Dados\\PDS13CR1grf.txt (6000, 21)\n",
      "C:\\\\Users\\\\ferna\\\\Downloads\\\\IC- dados\\\\Dados\\PDS13CR1mkr.txt (6000, 130)\n"
     ]
    }
   ],
   "source": [
    "fname_grf = os.path.join(path2, PDSinfo.Trial[150] + 'grf' + '.txt') \n",
    "fname_mkr = os.path.join(path2, PDSinfo.Trial[150] + 'mkr' + '.txt')\n",
    "grf = pd.read_csv(fname_grf, delimiter='\\t', header=0, engine='c')\n",
    "mkr = pd.read_csv(fname_mkr, delimiter='\\t', header=0, engine='c')\n",
    "print(fname_grf, grf.shape)\n",
    "print(fname_mkr, mkr.shape)"
   ]
  },
  {
   "cell_type": "markdown",
   "metadata": {},
   "source": [
    "Devemos calcular os coeficientes da equação que relaciona o COG com o COP"
   ]
  },
  {
   "cell_type": "code",
   "execution_count": 21,
   "metadata": {},
   "outputs": [],
   "source": [
    "y=grf['COPNET_X']\n",
    "x=mkr['COG_X']\n",
    "t=mkr['Time']"
   ]
  },
  {
   "cell_type": "markdown",
   "metadata": {},
   "source": [
    "First it is created the array with values of cop and cog, and then calculated their coefficients, in this case for Trial 150, subject 13."
   ]
  },
  {
   "cell_type": "code",
   "execution_count": 73,
   "metadata": {},
   "outputs": [],
   "source": [
    "x1=np.array(x[:-30]).reshape(-1,1)\n",
    "y1=np.array(y[30:]).reshape(-1,1)\n",
    "for nt in range(1,30):\n",
    "    x1=np.hstack((x1,np.array(x[nt:-30+nt]).reshape(-1,1)))\n",
    "N=len(x1)\n",
    "f1=np.hstack((x1,np.ones((N,1))))\n",
    "c,d,_,_=np.linalg.lstsq(x1,y1,rcond=None)"
   ]
  },
  {
   "cell_type": "markdown",
   "metadata": {},
   "source": [
    "After the coefficients are calculated it is necessary to test the veracity of these values with other trials, for example 154"
   ]
  },
  {
   "cell_type": "code",
   "execution_count": 64,
   "metadata": {},
   "outputs": [],
   "source": [
    "fname_grftest1=os.path.join(path2, PDSinfo.Trial[154]+'grf'+'.txt')\n",
    "fname_mkrtest1=os.path.join(path2, PDSinfo.Trial[154]+'mkr'+'.txt')\n",
    "grftest1=pd.read_csv(fname_grftest1, delimiter='\\t', header=0, engine='c')\n",
    "mkrtest1=pd.read_csv(fname_mkrtest1, delimiter='\\t', header=0, engine='c')"
   ]
  },
  {
   "cell_type": "code",
   "execution_count": 67,
   "metadata": {},
   "outputs": [],
   "source": [
    "u1=mkrtest1['COG_X']\n",
    "v1=grftest1['COPNET_X']"
   ]
  },
  {
   "cell_type": "markdown",
   "metadata": {},
   "source": [
    "Now it is done de arrays that gather the data from nt to nt-30 for trial 154"
   ]
  },
  {
   "cell_type": "code",
   "execution_count": 74,
   "metadata": {},
   "outputs": [],
   "source": [
    "x1test1=np.array(u1[:-30]).reshape(-1,1)\n",
    "y1test1=np.array(v1[30:]).reshape(-1,1)\n",
    "for nt in range(1,30):\n",
    "    x1test1=np.hstack((x1test1,np.array(u1[nt:-30+nt]).reshape(-1,1)))"
   ]
  },
  {
   "cell_type": "markdown",
   "metadata": {},
   "source": [
    "It is time to plot tje graphics with values of trial number 154 but using trial's 150 coeficient"
   ]
  },
  {
   "cell_type": "code",
   "execution_count": 75,
   "metadata": {},
   "outputs": [
    {
     "data": {
      "text/plain": [
       "Text(0, 0.5, 'COP')"
      ]
     },
     "execution_count": 75,
     "metadata": {},
     "output_type": "execute_result"
    },
    {
     "data": {
      "image/png": "[encoded data removed]",
      "text/plain": [
       "<Figure size 432x288 with 1 Axes>"
      ]
     },
     "metadata": {
      "needs_background": "light"
     },
     "output_type": "display_data"
    }
   ],
   "source": [
    "yexttest1=x1test1@c\n",
    "plt.plot(t[:-30],yexttest1,marker='', color='purple',linestyle='-')\n",
    "plt.plot(t[:-30],v1[30:],marker='',color='red',linestyle='-')\n",
    "plt.xlabel('Tempo')\n",
    "plt.ylabel('COP')"
   ]
  },
  {
   "cell_type": "markdown",
   "metadata": {},
   "source": [
    "Now it is calculated the mean square error:"
   ]
  },
  {
   "cell_type": "code",
   "execution_count": 85,
   "metadata": {},
   "outputs": [
    {
     "name": "stdout",
     "output_type": "stream",
     "text": [
      "0.0004716409771949315\n"
     ]
    }
   ],
   "source": [
    "yext1med=np.mean(yexttest1)\n",
    "yreal1med=np.mean(v1[30:])\n",
    "e1=np.sqrt(np.mean((yext1med-yreal1med)**2))\n",
    "print(e1)"
   ]
  },
  {
   "cell_type": "markdown",
   "metadata": {},
   "source": [
    "## Trial 44"
   ]
  },
  {
   "cell_type": "markdown",
   "metadata": {},
   "source": [
    "First is taken the data "
   ]
  },
  {
   "cell_type": "code",
   "execution_count": 86,
   "metadata": {},
   "outputs": [],
   "source": [
    "fname_grf2=os.path.join(path2,PDSinfo.Trial[44]+'grf'+'.txt')\n",
    "fname_mkr2=os.path.join(path2,PDSinfo.Trial[44]+'mkr'+'.txt')\n",
    "grf2=pd.read_csv(fname_grf2,delimiter='\\t',header=0,engine='c')\n",
    "mkr2=pd.read_csv(fname_mkr2,delimiter='\\t',header=0,engine='c')"
   ]
  },
  {
   "cell_type": "markdown",
   "metadata": {},
   "source": [
    "It is necessary to give values to x, y and the time that will be used in the graphic"
   ]
  },
  {
   "cell_type": "code",
   "execution_count": 87,
   "metadata": {},
   "outputs": [],
   "source": [
    "x2=mkr2['COG_X']\n",
    "y2=grf2['COPNET_X']\n",
    "t2=mkr2['Time']"
   ]
  },
  {
   "cell_type": "markdown",
   "metadata": {},
   "source": [
    "Now we calculate the coeficients that will form the graphics"
   ]
  },
  {
   "cell_type": "code",
   "execution_count": 88,
   "metadata": {},
   "outputs": [],
   "source": [
    "x22=np.array(x2[:-30]).reshape(-1,1)\n",
    "y22=np.array(y2[30:]).reshape(-1,1)\n",
    "for nt in range(1,30):\n",
    "    x22=np.hstack((x22,np.array(x2[nt:-30+nt]).reshape(-1,1)))\n",
    "N2=len(x22)\n",
    "f2=np.hstack((x22,np.ones((N2,1))))\n",
    "c2,d2,_,_=np.linalg.lstsq(x22,y22,rcond=None)"
   ]
  },
  {
   "cell_type": "markdown",
   "metadata": {},
   "source": [
    "Collecting the data for the same Subject 4, but in Trial 47"
   ]
  },
  {
   "cell_type": "code",
   "execution_count": 89,
   "metadata": {},
   "outputs": [],
   "source": [
    "fname_grftest2=os.path.join(path2,PDSinfo.Trial[47]+'grf'+'.txt')\n",
    "fname_mkrtest2=os.path.join(path2,PDSinfo.Trial[47]+'mkr'+'.txt')\n",
    "grftest2=pd.read_csv(fname_grftest2,delimiter='\\t',header=0,engine='c')\n",
    "mkrtest2=pd.read_csv(fname_mkrtest2,delimiter='\\t',header=0, engine='c')"
   ]
  },
  {
   "cell_type": "code",
   "execution_count": 90,
   "metadata": {},
   "outputs": [],
   "source": [
    "u2=mkrtest2['COG_X']\n",
    "v2=grftest2['COPNET_X']"
   ]
  },
  {
   "cell_type": "markdown",
   "metadata": {},
   "source": [
    "It is necessary to do the array that gather the velues of COG as nt:-30+nt as in:"
   ]
  },
  {
   "cell_type": "code",
   "execution_count": 91,
   "metadata": {},
   "outputs": [],
   "source": [
    "x2test2=np.array(u2[:-30]).reshape(-1,1)\n",
    "for nt in range(1,30):\n",
    "    x2test2=np.hstack((x2test2,np.array(u2[nt:-30+nt]).reshape(-1,1)))"
   ]
  },
  {
   "cell_type": "markdown",
   "metadata": {},
   "source": [
    "Now to get the graphic:"
   ]
  },
  {
   "cell_type": "code",
   "execution_count": 92,
   "metadata": {},
   "outputs": [
    {
     "data": {
      "text/plain": [
       "Text(0, 0.5, 'COP')"
      ]
     },
     "execution_count": 92,
     "metadata": {},
     "output_type": "execute_result"
    },
    {
     "data": {
      "image/png": "[encoded data removed]",
      "text/plain": [
       "<Figure size 432x288 with 1 Axes>"
      ]
     },
     "metadata": {
      "needs_background": "light"
     },
     "output_type": "display_data"
    }
   ],
   "source": [
    "yexttest2=x2test2@c2\n",
    "plt.plot(t2[:-30],yexttest2,marker='',color='purple',linestyle='-')\n",
    "plt.plot(t2[:-30],v2[30:],marker='',color='red',linestyle='-')\n",
    "plt.xlabel('Time')\n",
    "plt.ylabel('COP')"
   ]
  },
  {
   "cell_type": "code",
   "execution_count": 93,
   "metadata": {},
   "outputs": [
    {
     "name": "stdout",
     "output_type": "stream",
     "text": [
      "0.0004500774622068493\n"
     ]
    }
   ],
   "source": [
    "yestimative2med=np.mean(yexttest2)\n",
    "yreal2med=np.mean(v2[30:])\n",
    "e2=np.sqrt(np.mean((yestimative2med-yreal2med)**2))\n",
    "print(e2)"
   ]
  },
  {
   "cell_type": "markdown",
   "metadata": {},
   "source": [
    "## Trial 5"
   ]
  },
  {
   "cell_type": "markdown",
   "metadata": {},
   "source": [
    "Getting data:"
   ]
  },
  {
   "cell_type": "code",
   "execution_count": 100,
   "metadata": {},
   "outputs": [],
   "source": [
    "fname_grf3=os.path.join(path2,PDSinfo.Trial[5]+'grf'+'.txt')\n",
    "fname_mkr3=os.path.join(path2,PDSinfo.Trial[5]+'mkr'+'.txt')\n",
    "grf3=pd.read_csv(fname_grf3, delimiter='\\t',header=0,engine='c')\n",
    "mkr3=pd.read_csv(fname_mkr3, delimiter='\\t',header=0,engine='c')"
   ]
  },
  {
   "cell_type": "markdown",
   "metadata": {},
   "source": [
    "Get the values for x, y and time"
   ]
  },
  {
   "cell_type": "code",
   "execution_count": 101,
   "metadata": {},
   "outputs": [],
   "source": [
    "x3=mkr3['COG_X']\n",
    "y3=grf3['COPNET_X']\n",
    "t3=mkr3['Time']"
   ]
  },
  {
   "cell_type": "markdown",
   "metadata": {},
   "source": [
    "Get coeficients"
   ]
  },
  {
   "cell_type": "code",
   "execution_count": 102,
   "metadata": {},
   "outputs": [],
   "source": [
    "x33=np.array(x3[:-30]).reshape(-1,1)\n",
    "y33=np.array(y3[30:]).reshape(-1,1)\n",
    "for nt in range(1,30):\n",
    "    x33=np.hstack((x33,np.array(x3[nt:-30+nt]).reshape(-1,1)))\n",
    "N3=len(x33)\n",
    "f3=np.hstack((x33,np.ones((N3,1))))\n",
    "c3,d3,_,_=np.linalg.lstsq(x33,y33,rcond=None)"
   ]
  },
  {
   "cell_type": "markdown",
   "metadata": {},
   "source": [
    "Now it is important to get the data for the trial 10, with the same subject 1"
   ]
  },
  {
   "cell_type": "code",
   "execution_count": 103,
   "metadata": {},
   "outputs": [],
   "source": [
    "fname_grftest3=os.path.join(path2,PDSinfo.Trial[10]+'grf'+'.txt')\n",
    "fname_mkrtest3=os.path.join(path2,PDSinfo.Trial[10]+'mkr'+'.txt')\n",
    "grftest3=pd.read_csv(fname_grftest3,delimiter='\\t',header=0,engine='c')\n",
    "mkrtest3=pd.read_csv(fname_mkrtest3,delimiter='\\t',header=0,engine='c')"
   ]
  },
  {
   "cell_type": "code",
   "execution_count": 104,
   "metadata": {},
   "outputs": [],
   "source": [
    "u3=mkrtest3['COG_X']\n",
    "v3=grftest3['COPNET_X']"
   ]
  },
  {
   "cell_type": "markdown",
   "metadata": {},
   "source": [
    "It is necessary to calculate the array with nt:-30+nt values of cog"
   ]
  },
  {
   "cell_type": "code",
   "execution_count": 105,
   "metadata": {},
   "outputs": [],
   "source": [
    "x3test3=np.array(u3[:-30]).reshape(-1,1)\n",
    "for nt in range(1,30):\n",
    "    x3test3=np.hstack((x3test3,np.array(u3[nt:-30+nt]).reshape(-1,1)))"
   ]
  },
  {
   "cell_type": "markdown",
   "metadata": {},
   "source": [
    "Using graphics"
   ]
  },
  {
   "cell_type": "code",
   "execution_count": 106,
   "metadata": {},
   "outputs": [
    {
     "data": {
      "text/plain": [
       "Text(0, 0.5, 'COP')"
      ]
     },
     "execution_count": 106,
     "metadata": {},
     "output_type": "execute_result"
    },
    {
     "data": {
      "image/png": "[encoded data removed]",
      "text/plain": [
       "<Figure size 432x288 with 1 Axes>"
      ]
     },
     "metadata": {
      "needs_background": "light"
     },
     "output_type": "display_data"
    }
   ],
   "source": [
    "yexttest3=x3test3@c\n",
    "plt.plot(t3[:-30],yexttest3,marker='',color='purple',linestyle='-')\n",
    "plt.plot(t3[:-30],v3[30:],marker='',color='red',linestyle='-')\n",
    "plt.xlabel('Time')\n",
    "plt.ylabel('COP')"
   ]
  },
  {
   "cell_type": "code",
   "execution_count": 108,
   "metadata": {},
   "outputs": [
    {
     "name": "stdout",
     "output_type": "stream",
     "text": [
      "0.000413230068053827\n"
     ]
    }
   ],
   "source": [
    "yestimative3med=np.mean(yexttest3)\n",
    "yreal3med=np.mean(v3[30:])\n",
    "e3=np.sqrt(((yestimative3med-yreal3med)**2))\n",
    "print(e3)"
   ]
  },
  {
   "cell_type": "markdown",
   "metadata": {},
   "source": [
    "## Trial 63"
   ]
  },
  {
   "cell_type": "markdown",
   "metadata": {},
   "source": [
    "Getting data:"
   ]
  },
  {
   "cell_type": "code",
   "execution_count": 115,
   "metadata": {},
   "outputs": [],
   "source": [
    "fname_grf4=os.path.join(path2,PDSinfo.Trial[63]+'grf'+'.txt')\n",
    "fname_mkr4=os.path.join(path2,PDSinfo.Trial[63]+'mkr'+'.txt')\n",
    "grf4=pd.read_csv(fname_grf4,delimiter='\\t',header=0,engine='c')\n",
    "mkr4=pd.read_csv(fname_mkr4,delimiter='\\t',header=0,engine='c')"
   ]
  },
  {
   "cell_type": "markdown",
   "metadata": {},
   "source": [
    "Get the values for x, y and time:"
   ]
  },
  {
   "cell_type": "code",
   "execution_count": 116,
   "metadata": {},
   "outputs": [],
   "source": [
    "x4=mkr4['COG_X']\n",
    "y4=grf4['COPNET_X']\n",
    "t4=mkr4['Time']"
   ]
  },
  {
   "cell_type": "markdown",
   "metadata": {},
   "source": [
    "Getting the values for the coeficients:"
   ]
  },
  {
   "cell_type": "code",
   "execution_count": 125,
   "metadata": {},
   "outputs": [],
   "source": [
    "x44=np.array(x4[:-30]).reshape(-1,1)\n",
    "y44=np.array(y4[30:]).reshape(-1,1)\n",
    "for nt in range(1,30):\n",
    "    x44=np.hstack((x44,np.array(x4[nt:-30+nt]).reshape(-1,1)))\n",
    "N4=len(x44)\n",
    "f4=np.hstack((x44,np.ones((N4,1))))\n",
    "c4,d4,_,_=np.linalg.lstsq(x44,y44,rcond=None)"
   ]
  },
  {
   "cell_type": "markdown",
   "metadata": {},
   "source": [
    "Getting data for Trial 64"
   ]
  },
  {
   "cell_type": "code",
   "execution_count": 126,
   "metadata": {},
   "outputs": [],
   "source": [
    "fname_grftest4=os.path.join(path2, PDSinfo.Trial[64]+'grf'+'.txt')\n",
    "fname_mkrtest4=os.path.join(path2, PDSinfo.Trial[64]+'mkr'+'.txt')\n",
    "grftest4=pd.read_csv(fname_grftest4, delimiter='\\t', header=0, engine='c')\n",
    "mkrtest4=pd.read_csv(fname_mkrtest4, delimiter='\\t',header=0, engine='c')"
   ]
  },
  {
   "cell_type": "code",
   "execution_count": 127,
   "metadata": {},
   "outputs": [],
   "source": [
    "u4=mkrtest4['COG_X']\n",
    "v4=grftest4['COPNET_X']"
   ]
  },
  {
   "cell_type": "markdown",
   "metadata": {},
   "source": [
    "Making the array with nt:-30+nt values of cog"
   ]
  },
  {
   "cell_type": "code",
   "execution_count": 131,
   "metadata": {},
   "outputs": [],
   "source": [
    "x4test4=np.array(u4[:-30]).reshape(-1,1)\n",
    "for nt in range(1,30):\n",
    "    x4test4=np.hstack((x4test4,np.array(u4[nt:-30+nt]).reshape(-1,1)))"
   ]
  },
  {
   "cell_type": "markdown",
   "metadata": {},
   "source": [
    "Ploting the graphic:"
   ]
  },
  {
   "cell_type": "code",
   "execution_count": 132,
   "metadata": {},
   "outputs": [
    {
     "data": {
      "text/plain": [
       "Text(0, 0.5, 'COP')"
      ]
     },
     "execution_count": 132,
     "metadata": {},
     "output_type": "execute_result"
    },
    {
     "data": {
      "image/png": "[encoded data removed]",
      "text/plain": [
       "<Figure size 432x288 with 1 Axes>"
      ]
     },
     "metadata": {
      "needs_background": "light"
     },
     "output_type": "display_data"
    }
   ],
   "source": [
    "yexttest4=x4test4@c4\n",
    "plt.plot(t4[:-30],yexttest4,marker='',color='purple',linestyle='-')\n",
    "plt.plot(t4[:-30],v4[30:],marker='',color='red',linestyle='-')\n",
    "plt.xlabel('Time')\n",
    "plt.ylabel('COP')"
   ]
  },
  {
   "cell_type": "code",
   "execution_count": 133,
   "metadata": {},
   "outputs": [
    {
     "name": "stdout",
     "output_type": "stream",
     "text": [
      "0.001588648206737181\n"
     ]
    }
   ],
   "source": [
    "yestimative5med=np.mean(yexttest4)\n",
    "yreal5med=np.mean(v4[30:])\n",
    "e5=np.sqrt(((yestimative5med-yreal5med)**2))\n",
    "print(e5)"
   ]
  },
  {
   "cell_type": "markdown",
   "metadata": {},
   "source": [
    "## Trial 77"
   ]
  },
  {
   "cell_type": "markdown",
   "metadata": {},
   "source": [
    "Getting data:"
   ]
  },
  {
   "cell_type": "code",
   "execution_count": 135,
   "metadata": {},
   "outputs": [],
   "source": [
    "fname_grf5=os.path.join(path2,PDSinfo.Trial[77]+'grf'+'.txt')\n",
    "fname_mkr5=os.path.join(path2,PDSinfo.Trial[77]+'mkr'+'.txt')\n",
    "grf5=pd.read_csv(fname_grf5,delimiter='\\t',header=0,engine='c')\n",
    "mkr5=pd.read_csv(fname_mkr5,delimiter='\\t',header=0,engine='c')"
   ]
  },
  {
   "cell_type": "markdown",
   "metadata": {},
   "source": [
    "Get values for x,y and time:"
   ]
  },
  {
   "cell_type": "code",
   "execution_count": 136,
   "metadata": {},
   "outputs": [],
   "source": [
    "x5=mkr5['COG_X']\n",
    "y5=grf5['COPNET_X']\n",
    "t5=mkr5['Time']"
   ]
  },
  {
   "cell_type": "markdown",
   "metadata": {},
   "source": [
    "Get coeficient values:"
   ]
  },
  {
   "cell_type": "code",
   "execution_count": 137,
   "metadata": {},
   "outputs": [],
   "source": [
    "x55=np.array(x5[:-30]).reshape(-1,1)\n",
    "y55=np.array(y5[30:]).reshape(-1,1)\n",
    "for nt in range(1,30):\n",
    "    x55=np.hstack((x55,np.array(x5[nt:-30+nt]).reshape(-1,1)))\n",
    "N5=len(x55)\n",
    "f5=np.hstack((x55,np.ones((N5,1))))\n",
    "c5,d5,_,_=np.linalg.lstsq(x55,y55,rcond=None)"
   ]
  },
  {
   "cell_type": "markdown",
   "metadata": {},
   "source": [
    "Getting data for other trial, trial number 74"
   ]
  },
  {
   "cell_type": "code",
   "execution_count": 138,
   "metadata": {},
   "outputs": [],
   "source": [
    "fname_grftest5=os.path.join(path2, PDSinfo.Trial[74]+'grf'+'.txt')\n",
    "fname_mkrtest5=os.path.join(path2, PDSinfo.Trial[74]+'mkr'+'.txt')\n",
    "grftest5=pd.read_csv(fname_grftest5, delimiter='\\t',header=0,engine='c')\n",
    "mkrtest5=pd.read_csv(fname_mkrtest5, delimiter='\\t',header=0,engine='c')"
   ]
  },
  {
   "cell_type": "code",
   "execution_count": 139,
   "metadata": {},
   "outputs": [],
   "source": [
    "u5=mkr5['COG_X']\n",
    "v5=grf5['COPNET_X']"
   ]
  },
  {
   "cell_type": "markdown",
   "metadata": {},
   "source": [
    "It is necessary to do the array with nt:-30+nt values of cog"
   ]
  },
  {
   "cell_type": "code",
   "execution_count": 140,
   "metadata": {},
   "outputs": [],
   "source": [
    "x5test5=np.array(u5[:-30]).reshape(-1,1)\n",
    "for nt in range(1,30):\n",
    "    x5test5=np.hstack((x5test5,np.array(u5[nt:-30+nt]).reshape(-1,1)))"
   ]
  },
  {
   "cell_type": "markdown",
   "metadata": {},
   "source": [
    "Plot graphic:"
   ]
  },
  {
   "cell_type": "code",
   "execution_count": 141,
   "metadata": {},
   "outputs": [
    {
     "data": {
      "text/plain": [
       "Text(0, 0.5, 'COP')"
      ]
     },
     "execution_count": 141,
     "metadata": {},
     "output_type": "execute_result"
    },
    {
     "data": {
      "image/png": "[encoded data removed]",
      "text/plain": [
       "<Figure size 432x288 with 1 Axes>"
      ]
     },
     "metadata": {
      "needs_background": "light"
     },
     "output_type": "display_data"
    }
   ],
   "source": [
    "yexttest5=x5test5@c5\n",
    "plt.plot(t5[:-30],yexttest5,marker='',color='purple',linestyle='-')\n",
    "plt.plot(t5[:-30],v5[30:],marker='',color='red',linestyle='-')\n",
    "plt.xlabel('Time')\n",
    "plt.ylabel('COP')"
   ]
  },
  {
   "cell_type": "code",
   "execution_count": 142,
   "metadata": {},
   "outputs": [
    {
     "name": "stdout",
     "output_type": "stream",
     "text": [
      "4.319515498729665e-06\n"
     ]
    }
   ],
   "source": [
    "yestimative6med=np.mean(yexttest5)\n",
    "yreal6med=np.mean(v5[30:])\n",
    "e6=np.sqrt((yestimative6med-yreal6med)**2)\n",
    "print(e6)"
   ]
  },
  {
   "cell_type": "markdown",
   "metadata": {},
   "source": [
    "## Trial 16"
   ]
  },
  {
   "cell_type": "markdown",
   "metadata": {},
   "source": [
    "Getting data"
   ]
  },
  {
   "cell_type": "code",
   "execution_count": 148,
   "metadata": {},
   "outputs": [],
   "source": [
    "fname_grf6=os.path.join(path2,PDSinfo.Trial[16]+'grf'+'.txt')\n",
    "fname_mkr6=os.path.join(path2,PDSinfo.Trial[16]+'mkr'+'.txt')\n",
    "grf6=pd.read_csv(fname_grf6,delimiter='\\t',header=0,engine='c')\n",
    "mkr6=pd.read_csv(fname_mkr6,delimiter='\\t',header=0,engine='c')"
   ]
  },
  {
   "cell_type": "markdown",
   "metadata": {},
   "source": [
    "Getting values for x,y and time"
   ]
  },
  {
   "cell_type": "code",
   "execution_count": 149,
   "metadata": {},
   "outputs": [],
   "source": [
    "x6=mkr6['COG_X']\n",
    "y6=grf6['COPNET_X']\n",
    "t6=mkr6['Time']"
   ]
  },
  {
   "cell_type": "markdown",
   "metadata": {},
   "source": [
    "Calculating coeficients:"
   ]
  },
  {
   "cell_type": "code",
   "execution_count": 150,
   "metadata": {},
   "outputs": [],
   "source": [
    "x66=np.array(x6[:-30]).reshape(-1,1)\n",
    "y66=np.array(y6[30:]).reshape(-1,1)\n",
    "for nt in range(1,30):\n",
    "    x66=np.hstack((x66,np.array(x6[nt:-30+nt]).reshape(-1,1)))\n",
    "N6=len(x66)\n",
    "f6=np.hstack((x66,np.ones((N6,1))))\n",
    "c6,d6,_,_=np.linalg.lstsq(x66,y66,rcond=None)"
   ]
  },
  {
   "cell_type": "markdown",
   "metadata": {},
   "source": [
    " Getting data for trial 12  for the same subject 2"
   ]
  },
  {
   "cell_type": "code",
   "execution_count": 152,
   "metadata": {},
   "outputs": [],
   "source": [
    "fname_grftest6=os.path.join(path2,PDSinfo.Trial[12]+'grf'+'.txt')\n",
    "fname_mkrtest6=os.path.join(path2,PDSinfo.Trial[12]+'mkr'+'.txt')\n",
    "grftest6=pd.read_csv(fname_grftest6,delimiter='\\t', header=0, engine='c')\n",
    "mkrtest6=pd.read_csv(fname_mkrtest6,delimiter='\\t',header=0,engine='c')"
   ]
  },
  {
   "cell_type": "code",
   "execution_count": 153,
   "metadata": {},
   "outputs": [],
   "source": [
    "u6=mkrtest6['COG_X']\n",
    "v6=grftest6['COPNET_X']"
   ]
  },
  {
   "cell_type": "markdown",
   "metadata": {},
   "source": [
    "It is possible to make the array with nt:-30+nt values of cog"
   ]
  },
  {
   "cell_type": "code",
   "execution_count": 154,
   "metadata": {},
   "outputs": [],
   "source": [
    "x6test6=np.array(u6[:-30]).reshape(-1,1)\n",
    "for nt in range(1,30):\n",
    "    x6test6=np.hstack((x6test6,np.array(u6[nt:-30+nt]).reshape(-1,1)))"
   ]
  },
  {
   "cell_type": "markdown",
   "metadata": {},
   "source": [
    "Plot the graphic"
   ]
  },
  {
   "cell_type": "code",
   "execution_count": 155,
   "metadata": {},
   "outputs": [
    {
     "data": {
      "text/plain": [
       "Text(0, 0.5, 'COP')"
      ]
     },
     "execution_count": 155,
     "metadata": {},
     "output_type": "execute_result"
    },
    {
     "data": {
      "image/png": "[encoded data removed]",
      "text/plain": [
       "<Figure size 432x288 with 1 Axes>"
      ]
     },
     "metadata": {
      "needs_background": "light"
     },
     "output_type": "display_data"
    }
   ],
   "source": [
    "yexttest6=x6test6@c6\n",
    "plt.plot(t6[:-30],yexttest6,marker='',color='purple',linestyle='-')\n",
    "plt.plot(t6[:-30],v6[30:],marker='',color='red',linestyle='-')\n",
    "plt.xlabel('Time')\n",
    "plt.ylabel('COP')"
   ]
  },
  {
   "cell_type": "code",
   "execution_count": 156,
   "metadata": {},
   "outputs": [
    {
     "name": "stdout",
     "output_type": "stream",
     "text": [
      "0.06063199505238785\n"
     ]
    }
   ],
   "source": [
    "yestimative7med=np.mean(yexttest6)\n",
    "yreal7med=np.mean(v6[30:])\n",
    "e7=np.sqrt((yestimative7med-yreal7med)*2)\n",
    "print(e7)"
   ]
  },
  {
   "cell_type": "markdown",
   "metadata": {},
   "source": [
    "## Trial 516 "
   ]
  },
  {
   "cell_type": "markdown",
   "metadata": {},
   "source": [
    "Get data:"
   ]
  },
  {
   "cell_type": "code",
   "execution_count": 158,
   "metadata": {},
   "outputs": [],
   "source": [
    "fname_grf7=os.path.join(path2,PDSinfo.Trial[516]+'grf'+'.txt')\n",
    "fname_mkr7=os.path.join(path2,PDSinfo.Trial[516]+'mkr'+'.txt')\n",
    "grf7=pd.read_csv(fname_grf7,delimiter='\\t',header=0,engine='c')\n",
    "mkr7=pd.read_csv(fname_mkr7,delimiter='\\t',header=0,engine='c')"
   ]
  },
  {
   "cell_type": "markdown",
   "metadata": {},
   "source": [
    "Get values for x, y and time"
   ]
  },
  {
   "cell_type": "code",
   "execution_count": 159,
   "metadata": {},
   "outputs": [],
   "source": [
    "x7=mkr7['COG_X']\n",
    "y7=grf7['COPNET_X']\n",
    "t7=mkr7['Time']"
   ]
  },
  {
   "cell_type": "markdown",
   "metadata": {},
   "source": [
    "Calculate coeficients"
   ]
  },
  {
   "cell_type": "code",
   "execution_count": 161,
   "metadata": {},
   "outputs": [],
   "source": [
    "x77=np.array(x7[:-30]).reshape(-1,1)\n",
    "y77=np.array(y7[30:]).reshape(-1,1)\n",
    "for nt in range(1,30):\n",
    "    x77=np.hstack((x77,np.array(x7[nt:-30+nt]).reshape(-1,1)))\n",
    "N7=len(x77)\n",
    "f7=np.hstack((x77,np.ones((N7,1))))\n",
    "c7,d7,_,_=np.linalg.lstsq(x77,y77,rcond=None)"
   ]
  },
  {
   "cell_type": "markdown",
   "metadata": {},
   "source": [
    "It is necessary to get values for other trial of subject 44"
   ]
  },
  {
   "cell_type": "code",
   "execution_count": 162,
   "metadata": {},
   "outputs": [],
   "source": [
    "fname_grftest7=os.path.join(path2,PDSinfo.Trial[524]+'grf'+'.txt')\n",
    "fname_mkrtest7=os.path.join(path2,PDSinfo.Trial[524]+'mkr'+'.txt')\n",
    "grftest7=pd.read_csv(fname_grftest7,delimiter='\\t',header=0,engine='c')\n",
    "mkrtest7=pd.read_csv(fname_mkrtest7,delimiter='\\t',header=0,engine='c')"
   ]
  },
  {
   "cell_type": "code",
   "execution_count": 163,
   "metadata": {},
   "outputs": [],
   "source": [
    "u7=mkrtest7['COG_X']\n",
    "v7=grftest7['COPNET_X']"
   ]
  },
  {
   "cell_type": "markdown",
   "metadata": {},
   "source": [
    "It is necessary to make a array with nt:-30+nt values of cog"
   ]
  },
  {
   "cell_type": "code",
   "execution_count": 167,
   "metadata": {},
   "outputs": [],
   "source": [
    "x7test7=np.array(u7[:-30]).reshape(-1,1)\n",
    "for nt in range(1,30):\n",
    "    x7test7=np.hstack((x7test7,np.array(u7[nt:-30+nt]).reshape(-1,1)))"
   ]
  },
  {
   "cell_type": "markdown",
   "metadata": {},
   "source": [
    "Plot the graphic"
   ]
  },
  {
   "cell_type": "code",
   "execution_count": 168,
   "metadata": {},
   "outputs": [
    {
     "data": {
      "text/plain": [
       "Text(0, 0.5, 'COP')"
      ]
     },
     "execution_count": 168,
     "metadata": {},
     "output_type": "execute_result"
    },
    {
     "data": {
      "image/png": "[encoded data removed]",
      "text/plain": [
       "<Figure size 432x288 with 1 Axes>"
      ]
     },
     "metadata": {
      "needs_background": "light"
     },
     "output_type": "display_data"
    }
   ],
   "source": [
    "yexttest7=x7test7@c7\n",
    "plt.plot(t7[:-30],yexttest7,marker='',color='purple',linestyle='-')\n",
    "plt.plot(t7[:-30],v7[30:],marker='',color='red',linestyle='-')\n",
    "plt.xlabel('Time')\n",
    "plt.ylabel('COP')"
   ]
  },
  {
   "cell_type": "code",
   "execution_count": 169,
   "metadata": {},
   "outputs": [
    {
     "name": "stdout",
     "output_type": "stream",
     "text": [
      "0.0012890981024283876\n"
     ]
    }
   ],
   "source": [
    "yestimative8med=np.mean(yexttest7)\n",
    "yreal8med=np.mean(v7[30:])\n",
    "e8=np.sqrt((yestimative8med-yreal8med)**2)\n",
    "print(e8)"
   ]
  },
  {
   "cell_type": "markdown",
   "metadata": {},
   "source": [
    "## Trial 48"
   ]
  },
  {
   "cell_type": "markdown",
   "metadata": {},
   "source": [
    "Get the data:"
   ]
  },
  {
   "cell_type": "code",
   "execution_count": 172,
   "metadata": {},
   "outputs": [],
   "source": [
    "fname_grf8=os.path.join(path2,PDSinfo.Trial[48]+'grf'+'.txt')\n",
    "fname_mkr8=os.path.join(path2,PDSinfo.Trial[48]+'mkr'+'.txt')\n",
    "grf8=pd.read_csv(fname_grf8,delimiter='\\t',header=0,engine='c')\n",
    "mkr8=pd.read_csv(fname_mkr8,delimiter='\\t',header=0,engine='c')"
   ]
  },
  {
   "cell_type": "markdown",
   "metadata": {},
   "source": [
    "Get values for x, y and time"
   ]
  },
  {
   "cell_type": "code",
   "execution_count": 173,
   "metadata": {},
   "outputs": [],
   "source": [
    "x8=mkr8['COG_X']\n",
    "y8=grf8['COPNET_X']\n",
    "t8=mkr8['Time']"
   ]
  },
  {
   "cell_type": "markdown",
   "metadata": {},
   "source": [
    "Calculate the coeficient:"
   ]
  },
  {
   "cell_type": "code",
   "execution_count": 174,
   "metadata": {},
   "outputs": [],
   "source": [
    "x88=np.array(x8[:-30]).reshape(-1,1)\n",
    "y88=np.array(y8[30:]).reshape(-1,1)\n",
    "for nt in range(1,30):\n",
    "    x88=np.hstack((x88,np.array(x8[nt:-30+nt]).reshape(-1,1)))\n",
    "N8=len(x88)\n",
    "f8=np.hstack((x88,np.ones((N8,1))))\n",
    "c8,d8,_,_=np.linalg.lstsq(x88,y88,rcond=None)"
   ]
  },
  {
   "cell_type": "markdown",
   "metadata": {},
   "source": [
    "Now it is necessary to take data for the trial 54, with the same subject 5"
   ]
  },
  {
   "cell_type": "code",
   "execution_count": 176,
   "metadata": {},
   "outputs": [],
   "source": [
    "fname_grftest8=os.path.join(path2,PDSinfo.Trial[54]+'grf'+'.txt')\n",
    "fname_mkrtest8=os.path.join(path2,PDSinfo.Trial[54]+'mkr'+'.txt')\n",
    "grftest8=pd.read_csv(fname_grftest8,delimiter='\\t',header=0,engine='c')\n",
    "mkrtest8=pd.read_csv(fname_mkrtest8,delimiter='\\t',header=0,engine='c')"
   ]
  },
  {
   "cell_type": "code",
   "execution_count": 177,
   "metadata": {},
   "outputs": [],
   "source": [
    "u8=mkrtest8['COG_X']\n",
    "v8=grftest8['COPNET_X']"
   ]
  },
  {
   "cell_type": "markdown",
   "metadata": {},
   "source": [
    "We make an array with COG values from nt:-30+nt"
   ]
  },
  {
   "cell_type": "code",
   "execution_count": 178,
   "metadata": {},
   "outputs": [],
   "source": [
    "x8test8=np.array(u8[:-30]).reshape(-1,1)\n",
    "for nt in range(1,30):\n",
    "    x8test8=np.hstack((x8test8,np.array(u8[nt:-30+nt]).reshape(-1,1)))"
   ]
  },
  {
   "cell_type": "markdown",
   "metadata": {},
   "source": [
    "Plot graphics:"
   ]
  },
  {
   "cell_type": "code",
   "execution_count": 179,
   "metadata": {},
   "outputs": [
    {
     "data": {
      "text/plain": [
       "Text(0, 0.5, 'COP')"
      ]
     },
     "execution_count": 179,
     "metadata": {},
     "output_type": "execute_result"
    },
    {
     "data": {
      "image/png": "[encoded data removed]",
      "text/plain": [
       "<Figure size 432x288 with 1 Axes>"
      ]
     },
     "metadata": {
      "needs_background": "light"
     },
     "output_type": "display_data"
    }
   ],
   "source": [
    "yexttest8=x8test8@c8\n",
    "plt.plot(t8[:-30],yexttest8,marker='',color='purple',linestyle='-')\n",
    "plt.plot(t8[:-30],v8[30:],marker='',color='red',linestyle='-')\n",
    "plt.xlabel('Time')\n",
    "plt.ylabel('COP')"
   ]
  },
  {
   "cell_type": "code",
   "execution_count": 180,
   "metadata": {},
   "outputs": [
    {
     "name": "stdout",
     "output_type": "stream",
     "text": [
      "0.0012787303758958202\n"
     ]
    }
   ],
   "source": [
    "yestimative9med=np.mean(yexttest8)\n",
    "yreal9med=np.mean(v8[30:])\n",
    "e9=np.sqrt((yestimative9med-yreal9med)**2)\n",
    "print(e9)"
   ]
  },
  {
   "cell_type": "markdown",
   "metadata": {},
   "source": [
    "## Trial 108"
   ]
  },
  {
   "cell_type": "markdown",
   "metadata": {},
   "source": [
    "Get data:"
   ]
  },
  {
   "cell_type": "code",
   "execution_count": 183,
   "metadata": {},
   "outputs": [],
   "source": [
    "fname_grf9=os.path.join(path2,PDSinfo.Trial[108]+'grf'+'.txt')\n",
    "fname_mkr9=os.path.join(path2,PDSinfo.Trial[108]+'mkr'+'.txt')\n",
    "grf9=pd.read_csv(fname_grf9,delimiter='\\t',header=0,engine='c')\n",
    "mkr9=pd.read_csv(fname_mkr9,delimiter='\\t',header=0,engine='c')"
   ]
  },
  {
   "cell_type": "markdown",
   "metadata": {},
   "source": [
    "Get values for x,y and time"
   ]
  },
  {
   "cell_type": "code",
   "execution_count": 184,
   "metadata": {},
   "outputs": [],
   "source": [
    "x9=mkr9['COG_X']\n",
    "y9=grf9['COPNET_X']\n",
    "t9=mkr9['Time']"
   ]
  },
  {
   "cell_type": "markdown",
   "metadata": {},
   "source": [
    "Calculate coeficient:"
   ]
  },
  {
   "cell_type": "code",
   "execution_count": 185,
   "metadata": {},
   "outputs": [],
   "source": [
    "x99=np.array(x9[:-30]).reshape(-1,1)\n",
    "y99=np.array(y9[30:]).reshape(-1,1)\n",
    "for nt in range(1,30):\n",
    "    x99=np.hstack((x99,np.array(x9[nt:-30+nt]).reshape(-1,1)))\n",
    "N9=len(x99)\n",
    "f9=np.hstack((x99,np.ones((N9,1))))\n",
    "c9,d9,_,_=np.linalg.lstsq(x99,y99,rcond=None)"
   ]
  },
  {
   "cell_type": "markdown",
   "metadata": {},
   "source": [
    "Now for data on trial 114"
   ]
  },
  {
   "cell_type": "code",
   "execution_count": 186,
   "metadata": {},
   "outputs": [],
   "source": [
    "fname_grftest9=os.path.join(path2,PDSinfo.Trial[114]+'grf'+'.txt')\n",
    "fname_mkrtest9=os.path.join(path2,PDSinfo.Trial[114]+'mkr'+'.txt')\n",
    "grftest9=pd.read_csv(fname_grftest9,delimiter='\\t',header=0,engine='c')\n",
    "mkrtest9=pd.read_csv(fname_mkrtest9,delimiter='\\t',header=0,engine='c')"
   ]
  },
  {
   "cell_type": "code",
   "execution_count": 187,
   "metadata": {},
   "outputs": [],
   "source": [
    "u9=mkrtest9['COG_X']\n",
    "v9=grftest9['COPNET_X']"
   ]
  },
  {
   "cell_type": "markdown",
   "metadata": {},
   "source": [
    "Gather values for cog in trial 114 for nt:-30+nt"
   ]
  },
  {
   "cell_type": "code",
   "execution_count": 191,
   "metadata": {},
   "outputs": [],
   "source": [
    "x9test9=np.array(u9[:-30]).reshape(-1,1)\n",
    "for nt in range(1,30):\n",
    "    x9test9=np.hstack((x9test9,np.array(u9[nt:-30+nt]).reshape(-1,1)))"
   ]
  },
  {
   "cell_type": "markdown",
   "metadata": {},
   "source": [
    "Plot graphic"
   ]
  },
  {
   "cell_type": "code",
   "execution_count": 192,
   "metadata": {},
   "outputs": [
    {
     "data": {
      "text/plain": [
       "Text(0, 0.5, 'COP')"
      ]
     },
     "execution_count": 192,
     "metadata": {},
     "output_type": "execute_result"
    },
    {
     "data": {
      "image/png": "[encoded data removed]",
      "text/plain": [
       "<Figure size 432x288 with 1 Axes>"
      ]
     },
     "metadata": {
      "needs_background": "light"
     },
     "output_type": "display_data"
    }
   ],
   "source": [
    "yexttest9=x9test9@c9\n",
    "plt.plot(t9[:-30],yexttest9,marker='',color='purple',linestyle='-')\n",
    "plt.plot(t9[:-30],v9[30:],marker='',color='red',linestyle='-')\n",
    "plt.xlabel('Time')\n",
    "plt.ylabel('COP')"
   ]
  },
  {
   "cell_type": "code",
   "execution_count": 193,
   "metadata": {},
   "outputs": [
    {
     "name": "stdout",
     "output_type": "stream",
     "text": [
      "0.0005286553121657545\n"
     ]
    }
   ],
   "source": [
    "yestimative10med=np.mean(yexttest9)\n",
    "yreal10med=np.mean(v9[30:])\n",
    "e10=np.sqrt((yestimative10med-yreal10med)**2)\n",
    "print(e10)"
   ]
  },
  {
   "cell_type": "markdown",
   "metadata": {},
   "source": [
    "## Subject 12"
   ]
  },
  {
   "cell_type": "markdown",
   "metadata": {},
   "source": [
    "Get data"
   ]
  },
  {
   "cell_type": "code",
   "execution_count": 195,
   "metadata": {},
   "outputs": [],
   "source": [
    "fname_grf10=os.path.join(path2,PDSinfo.Trial[134]+'grf'+'.txt')\n",
    "fname_mkr10=os.path.join(path2,PDSinfo.Trial[134]+'mkr'+'.txt')\n",
    "grf10=pd.read_csv(fname_grf10,delimiter='\\t',header=0,engine='c')\n",
    "mkr10=pd.read_csv(fname_mkr10,delimiter='\\t',header=0,engine='c')"
   ]
  },
  {
   "cell_type": "markdown",
   "metadata": {},
   "source": [
    "Get values for x,y and time:"
   ]
  },
  {
   "cell_type": "code",
   "execution_count": 196,
   "metadata": {},
   "outputs": [],
   "source": [
    "x10=mkr10['COG_X']\n",
    "y10=grf10['COPNET_X']\n",
    "t10=mkr10['Time']"
   ]
  },
  {
   "cell_type": "markdown",
   "metadata": {},
   "source": [
    "Calculate coeficient:"
   ]
  },
  {
   "cell_type": "code",
   "execution_count": 198,
   "metadata": {},
   "outputs": [],
   "source": [
    "x100=np.array(x10[:-30]).reshape(-1,1)\n",
    "y100=np.array(y10[30:]).reshape(-1,1)\n",
    "for nt in range(1,30):\n",
    "    x100=np.hstack((x100,np.array(x10[nt:-30+nt]).reshape(-1,1)))\n",
    "N10=len(x100)\n",
    "f10=np.hstack((x100,np.ones((N10,1))))\n",
    "c10,d10,_,_=np.linalg.lstsq(x100,y100,rcond=None)"
   ]
  },
  {
   "cell_type": "markdown",
   "metadata": {},
   "source": [
    "Getting data for the same subject, diferent trial, trial 140"
   ]
  },
  {
   "cell_type": "code",
   "execution_count": 199,
   "metadata": {},
   "outputs": [],
   "source": [
    "fname_grftest10=os.path.join(path2,PDSinfo.Trial[140]+'grf'+'.txt')\n",
    "fname_mkrtest10=os.path.join(path2,PDSinfo.Trial[140]+'mkr'+'.txt')\n",
    "grftest10=pd.read_csv(fname_grftest10,delimiter='\\t',header=0,engine='c')\n",
    "mkrtest10=pd.read_csv(fname_mkrtest10,delimiter='\\t',header=0,engine='c')"
   ]
  },
  {
   "cell_type": "code",
   "execution_count": 200,
   "metadata": {},
   "outputs": [],
   "source": [
    "u10=mkrtest10['COG_X']\n",
    "v10=grftest10['COPNET_X']"
   ]
  },
  {
   "cell_type": "markdown",
   "metadata": {},
   "source": [
    "Now is necessary to make the array with values of cog to trial 140 in nt:-30+nt interval"
   ]
  },
  {
   "cell_type": "code",
   "execution_count": 201,
   "metadata": {},
   "outputs": [],
   "source": [
    "x10test10=np.array(u10[:-30]).reshape(-1,1)\n",
    "for nt in range(1,30):\n",
    "    x10test10=np.hstack((x10test10,np.array(u10[nt:-30+nt]).reshape(-1,1)))"
   ]
  },
  {
   "cell_type": "markdown",
   "metadata": {},
   "source": [
    "Plot graphic"
   ]
  },
  {
   "cell_type": "code",
   "execution_count": 202,
   "metadata": {},
   "outputs": [
    {
     "data": {
      "text/plain": [
       "Text(0, 0.5, 'COP')"
      ]
     },
     "execution_count": 202,
     "metadata": {},
     "output_type": "execute_result"
    },
    {
     "data": {
      "image/png": "[encoded data removed]",
      "text/plain": [
       "<Figure size 432x288 with 1 Axes>"
      ]
     },
     "metadata": {
      "needs_background": "light"
     },
     "output_type": "display_data"
    }
   ],
   "source": [
    "yexttest10=x10test10@c10\n",
    "plt.plot(t10[:-30],yexttest10,marker='',color='purple',linestyle='-')\n",
    "plt.plot(t10[:-30],v10[30:],marker='',color='red',linestyle='-')\n",
    "plt.xlabel('Time')\n",
    "plt.ylabel('COP')"
   ]
  },
  {
   "cell_type": "markdown",
   "metadata": {},
   "source": [
    "Erro Quadrático Médio"
   ]
  },
  {
   "cell_type": "code",
   "execution_count": 203,
   "metadata": {},
   "outputs": [
    {
     "name": "stdout",
     "output_type": "stream",
     "text": [
      "0.0022363537497930575\n"
     ]
    }
   ],
   "source": [
    "yest11=np.mean(yexttest10)\n",
    "y11med=np.mean(v10[30:])\n",
    "e=np.sqrt(np.mean((yest11-y11med)**2))\n",
    "print(e)"
   ]
  },
  {
   "cell_type": "code",
   "execution_count": null,
   "metadata": {},
   "outputs": [],
   "source": []
  }
 ],
 "metadata": {
  "anaconda-cloud": {},
  "hide_input": false,
  "kernelspec": {
   "display_name": "Python 3",
   "language": "python",
   "name": "python3"
  },
  "language_info": {
   "codemirror_mode": {
    "name": "ipython",
    "version": 3
   },
   "file_extension": ".py",
   "mimetype": "text/x-python",
   "name": "python",
   "nbconvert_exporter": "python",
   "pygments_lexer": "ipython3",
   "version": "3.8.8"
  },
  "widgets": {
   "state": {
    "a16d9c9faf9c48c7af730aca51dc2a05": {
     "views": [
      {
       "cell_index": 25
      }
     ]
    },
    "be16c4e214eb40cf976ed257dbdbc5e5": {
     "views": [
      {
       "cell_index": 40
      }
     ]
    }
   },
   "version": "1.2.0"
  }
 },
 "nbformat": 4,
 "nbformat_minor": 4
}
