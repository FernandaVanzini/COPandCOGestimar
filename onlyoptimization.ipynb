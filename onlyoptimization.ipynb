{
 "cells": [
  {
   "cell_type": "code",
   "execution_count": 1,
   "id": "4d6f2b2e-9889-4f20-a259-70287557fe9a",
   "metadata": {
    "ExecuteTime": {
     "end_time": "2017-02-27T18:50:34.521091Z",
     "start_time": "2017-02-27T15:50:33.800352-03:00"
    },
    "editable": true,
    "tags": []
   },
   "outputs": [],
   "source": [
    "import numpy as np\n",
    "#from scipy.signal import butter, filtfilt\n",
    "import pandas as pd\n",
    "import matplotlib\n",
    "import matplotlib.pyplot as plt\n",
    "import matplotlib.gridspec as gridspec\n",
    "%matplotlib inline\n",
    "#import seaborn as sns\n",
    "#sns.set_context(\"notebook\", font_scale=1.3,\n",
    "#                rc={'lines.linewidth': 1.5, 'lines.markersize': 14, 'axes.titlesize': 'x-large'})\n",
    "#matplotlib.rc('legend', numpoints=1, fontsize=14)\n",
    "#import glob\n",
    "import sys, os\n",
    "sys.path.insert(1, r'./Functions')\n",
    "# IPython widgets:\n",
    "from IPython.display import display\n",
    "#%pip install ipywidgets\n",
    "#jupyter labextension install @jupyter-widgets/jupyterlab-manager\n",
    "#import ipywidgets\n",
    "#from ipywidgets import FloatProgress, interactive\n",
    "import seaborn as sns\n",
    "from scipy.signal import detrend\n",
    "import pickle"
   ]
  },
  {
   "cell_type": "code",
   "execution_count": 2,
   "id": "b6a86806-06a6-4230-a0e4-3dcc4c587c23",
   "metadata": {
    "collapsed": false,
    "editable": true,
    "jupyter": {
     "outputs_hidden": false
    },
    "tags": []
   },
   "outputs": [
    {
     "name": "stdout",
     "output_type": "stream",
     "text": [
      "Requirement already satisfied: version_information in c:\\users\\ferna\\anaconda3\\lib\\site-packages (1.0.4)\n",
      "Note: you may need to restart the kernel to use updated packages.\n"
     ]
    },
    {
     "data": {
      "application/json": {
       "Software versions": [
        {
         "module": "Python",
         "version": "3.8.8 64bit [MSC v.1916 64 bit (AMD64)]"
        },
        {
         "module": "IPython",
         "version": "7.22.0"
        },
        {
         "module": "OS",
         "version": "Windows 10 10.0.22621 SP0"
        },
        {
         "module": "numpy",
         "version": "1.20.1"
        },
        {
         "module": "scipy",
         "version": "1.6.2"
        },
        {
         "module": "pandas",
         "version": "1.2.4"
        },
        {
         "module": "matplotlib",
         "version": "3.3.4"
        },
        {
         "module": "seaborn",
         "version": "0.11.1"
        }
       ]
      },
      "text/html": [
       "<table><tr><th>Software</th><th>Version</th></tr><tr><td>Python</td><td>3.8.8 64bit [MSC v.1916 64 bit (AMD64)]</td></tr><tr><td>IPython</td><td>7.22.0</td></tr><tr><td>OS</td><td>Windows 10 10.0.22621 SP0</td></tr><tr><td>numpy</td><td>1.20.1</td></tr><tr><td>scipy</td><td>1.6.2</td></tr><tr><td>pandas</td><td>1.2.4</td></tr><tr><td>matplotlib</td><td>3.3.4</td></tr><tr><td>seaborn</td><td>0.11.1</td></tr><tr><td colspan='2'>Fri Jun 23 10:10:36 2023 Hora oficial do Brasil</td></tr></table>"
      ],
      "text/latex": [
       "\\begin{tabular}{|l|l|}\\hline\n",
       "{\\bf Software} & {\\bf Version} \\\\ \\hline\\hline\n",
       "Python & 3.8.8 64bit [MSC v.1916 64 bit (AMD64)] \\\\ \\hline\n",
       "IPython & 7.22.0 \\\\ \\hline\n",
       "OS & Windows 10 10.0.22621 SP0 \\\\ \\hline\n",
       "numpy & 1.20.1 \\\\ \\hline\n",
       "scipy & 1.6.2 \\\\ \\hline\n",
       "pandas & 1.2.4 \\\\ \\hline\n",
       "matplotlib & 3.3.4 \\\\ \\hline\n",
       "seaborn & 0.11.1 \\\\ \\hline\n",
       "\\hline \\multicolumn{2}{|l|}{Fri Jun 23 10:10:36 2023 Hora oficial do Brasil} \\\\ \\hline\n",
       "\\end{tabular}\n"
      ],
      "text/plain": [
       "Software versions\n",
       "Python 3.8.8 64bit [MSC v.1916 64 bit (AMD64)]\n",
       "IPython 7.22.0\n",
       "OS Windows 10 10.0.22621 SP0\n",
       "numpy 1.20.1\n",
       "scipy 1.6.2\n",
       "pandas 1.2.4\n",
       "matplotlib 3.3.4\n",
       "seaborn 0.11.1\n",
       "Fri Jun 23 10:10:36 2023 Hora oficial do Brasil"
      ]
     },
     "execution_count": 2,
     "metadata": {},
     "output_type": "execute_result"
    }
   ],
   "source": [
    "%pip install version_information\n",
    "%load_ext version_information\n",
    "%version_information numpy, scipy, pandas, matplotlib, seaborn"
   ]
  },
  {
   "cell_type": "code",
   "execution_count": 3,
   "id": "43e6855e-f2a8-45c3-b876-864fd3b24795",
   "metadata": {
    "ExecuteTime": {
     "end_time": "2017-02-27T18:50:34.534681Z",
     "start_time": "2017-02-27T15:50:34.521091-03:00"
    },
    "collapsed": false,
    "editable": true,
    "jupyter": {
     "outputs_hidden": false
    },
    "tags": []
   },
   "outputs": [
    {
     "name": "stdout",
     "output_type": "stream",
     "text": [
      "C:\\\\Users\\\\ferna\\\\Downloads\\\\IC- dados\\\\Dados\\PDSinfo.txt\n",
      "Information of 49 subjects loaded (588 rows, 29 columns).\n"
     ]
    }
   ],
   "source": [
    "# GitHub URL:\n",
    "#path2 = 'https://raw.githubusercontent.com/demotu/datasets/master/PDS/data'\n",
    "#local directory:\n",
    "path2 = r'C:\\\\Users\\\\ferna\\\\Downloads\\\\IC- dados\\\\Dados'\n",
    "#path2 = '/home/rnwatanabe/copdata'\n",
    "fname = os.path.join(path2, 'PDSinfo.txt')\n",
    "PDSinfo = pd.read_csv(fname, sep='\\t', header=0, index_col=None, engine='c', encoding='utf-8')\n",
    "print(fname)\n",
    "print(\"Information of %s subjects loaded (%s rows, %s columns).\"\n",
    "      %(len(pd.unique(PDSinfo.Subject)), PDSinfo.shape[0], PDSinfo.shape[1]))"
   ]
  },
  {
   "cell_type": "code",
   "execution_count": 4,
   "id": "980b8fea-56f9-4a6b-93de-a2c44fffce60",
   "metadata": {
    "tags": []
   },
   "outputs": [
    {
     "data": {
      "text/plain": [
       "Index                 128\n",
       "Trial                4704\n",
       "Subject              4704\n",
       "Vision               4704\n",
       "Surface              4704\n",
       "Rep                  4704\n",
       "Age                  4704\n",
       "AgeGroup             4704\n",
       "Gender               4704\n",
       "Height               4704\n",
       "Mass                 4704\n",
       "BMI                  4704\n",
       "FootLen              4704\n",
       "DominantLeg          4704\n",
       "Nationality          4704\n",
       "SkinColor            4704\n",
       "Ystudy               4704\n",
       "Footwear             4704\n",
       "Illness              4704\n",
       "Illness2             4704\n",
       "Nmedication          4704\n",
       "Medication           4704\n",
       "Ortho-Prosthesis     4704\n",
       "Ortho-Prosthesis2    4704\n",
       "Disability           4704\n",
       "Disability2          4704\n",
       "Falls12m             4704\n",
       "PhysicalActivity     4704\n",
       "Sequence             4704\n",
       "Date                 4704\n",
       "dtype: int64"
      ]
     },
     "execution_count": 4,
     "metadata": {},
     "output_type": "execute_result"
    }
   ],
   "source": [
    "a=PDSinfo[PDSinfo['Subject']==44].index.tolist()\n",
    "e=PDSinfo[PDSinfo['Subject']==44].index.tolist()[2]\n",
    "ei = PDSinfo[PDSinfo['Subject']==44]\n",
    "PDSinfo.memory_usage()"
   ]
  },
  {
   "cell_type": "code",
   "execution_count": 5,
   "id": "a02b1882",
   "metadata": {},
   "outputs": [],
   "source": [
    "fs=100"
   ]
  },
  {
   "cell_type": "code",
   "execution_count": 6,
   "id": "2ec0f13f",
   "metadata": {},
   "outputs": [],
   "source": [
    "file = open('store.pkl','rb')\n",
    "(COPXreal,COPZreal,COPX,COPZ,d1x,d1z,d2x,d2z,matrizangx,matrizangz,COGX,COGY,COGZ,ASISX,ASISY,ASISZ,angulox,anguloz,d,alpha,subject,ei,sinx,sinz,cosx,cosz,tanx,tanz,COGXtrain,COGYtrain,COGZtrain,COGXtest,COGYtest,COGZtest,ASISXtrain,ASISYtrain,ASISZtrain,ASISXtest,ASISYtest,ASISZtest,COPXtrain,COPXtest,COPZtrain,COPZtest,train,test,masstrain,masstest,subjectp,subjectc,subjecta,t)= pickle.load(file)\n",
    "file.close()"
   ]
  },
  {
   "cell_type": "code",
   "execution_count": 7,
   "id": "aa27057f-727e-4a8c-9c3a-6127b9f3aa02",
   "metadata": {},
   "outputs": [],
   "source": [
    "def newdist(paramt,x,y,z):\n",
    "    from sklearn.model_selection import train_test_split\n",
    "    from scipy.optimize import minimize, rosen, rosen_der\n",
    "    from sklearn.metrics import mean_squared_error\n",
    "    dest = np.zeros((60*fs-30))\n",
    "    d = np.zeros((60*fs-30))\n",
    "    for i in range(0, len(x)):\n",
    "\n",
    "        delta,mi = paramt\n",
    "        \n",
    "        d[i] = np.mean(np.sqrt(x[i]**2+y[i]**2+z[i]**2))\n",
    "        \n",
    "        dest[i] = delta * d[i] + mi\n",
    "    \n",
    "      \n",
    "    return dest\n"
   ]
  },
  {
   "cell_type": "code",
   "execution_count": 8,
   "id": "d01576ce-ebf5-4173-8c43-1b5e7a24945e",
   "metadata": {},
   "outputs": [],
   "source": [
    "#for i in range(0,len(COGXtrain)):\n",
    "        \n",
    "        #d= np.sqrt(COGXtrain[i]**2+COGYtrain[i]**2+COGZtrain[i]**2)\n",
    "        \n",
    "def meansquarerrordist(paramt,d,ASISXtrain,ASISYtrain,ASISZtrain):\n",
    "    d = np.zeros((60*fs-30))\n",
    "    from sklearn.metrics import mean_squared_error\n",
    "    ytrue = np.zeros((60*fs-30))\n",
    "    ypredicted = np.zeros((60*fs-30))\n",
    "    for i in range(0,len(ASISXtrain)):\n",
    "        \n",
    "        d[i] = np.mean(np.sqrt(COGXtrain[i]**2+COGYtrain[i]**2+COGZtrain[i]**2))\n",
    "        \n",
    "        ytrue[i] = d[i]\n",
    "        \n",
    "        ypredicted = newdist(paramt,ASISXtrain,ASISYtrain,ASISZtrain)\n",
    "        \n",
    "        \n",
    "    return mean_squared_error(ytrue, ypredicted)\n"
   ]
  },
  {
   "cell_type": "code",
   "execution_count": 9,
   "id": "3158a38e-9ed0-4ecd-b99c-8aa79390f345",
   "metadata": {},
   "outputs": [
    {
     "name": "stdout",
     "output_type": "stream",
     "text": [
      "0.9999999959558267\n",
      "-2.269694826528834e-08\n"
     ]
    }
   ],
   "source": [
    "from sklearn.model_selection import train_test_split\n",
    "#from scipy import optmize\n",
    "from scipy.optimize import minimize, rosen, rosen_der\n",
    "first_guess = [1,1]\n",
    "res = minimize(meansquarerrordist, first_guess,(d,COGXtrain,COGYtrain,COGZtrain))\n",
    "coeficientes = res.x\n",
    "delta=coeficientes[0]\n",
    "mi=coeficientes[1]\n",
    "print(delta)\n",
    "print(mi)"
   ]
  },
  {
   "cell_type": "code",
   "execution_count": 10,
   "id": "f4548c41-087c-434d-a4ef-cb8454946c32",
   "metadata": {},
   "outputs": [],
   "source": [
    "treino = newdist(coeficientes,COGXtrain,COGYtrain,COGZtrain)\n",
    "teste = newdist(coeficientes,COGXtest,COGYtest,COGZtest)"
   ]
  },
  {
   "cell_type": "markdown",
   "id": "57e2a4c8-7489-4c98-92fa-98d8d6d4136c",
   "metadata": {},
   "source": [
    "Regressão linear distância"
   ]
  },
  {
   "cell_type": "code",
   "execution_count": 11,
   "id": "2a40b8b4-a488-4a50-af54-44f8ab0b8dc9",
   "metadata": {},
   "outputs": [],
   "source": [
    "def centerofpressure(paramt, M,x,y,z):\n",
    "    from sklearn.model_selection import train_test_split\n",
    "    from scipy.optimize import minimize, rosen, rosen_der\n",
    "    from sklearn.metrics import mean_squared_error\n",
    "    \n",
    "    A,alpha,beta, gama= paramt\n",
    "    \n",
    "    d = np.mean(np.sqrt(x**2+y**2+z**2))\n",
    "        \n",
    "    dest = delta * d + mi\n",
    "        \n",
    "    angulox = np.arcsin(np.tanh(x/dest))\n",
    "    anguloz = np.arcsin(np.tanh(z/dest))\n",
    "    sinx=np.sin(angulox)\n",
    "    sinz=np.sin(anguloz)\n",
    "    cosx=np.cos(angulox)\n",
    "    cosz=np.cos(anguloz)\n",
    "    tanx=np.tan(angulox)\n",
    "    tanz=np.tan(anguloz)\n",
    "            \n",
    "    matrizangx = angulox\n",
    "    matrizangz = anguloz\n",
    "\n",
    "\n",
    "    sennovox = (sinx)*A + ((1-A**2)**1/2)*(cosx)\n",
    "\n",
    "    cosnovox = (cosx)*A - ((1-A**2)**1/2)*(sinx)\n",
    "            \n",
    "    sennovoz = (sinz)*A + ((1-A**2)**1/2)*(cosz)\n",
    "           \n",
    "\n",
    "    cosnovoz = (cosz)*A - ((1-A**2)**1/2)*(sinz)\n",
    "\n",
    "    Jb=(4/3)*(M)*((dest)**2)\n",
    "            \n",
    "    dt=t[1]-t[0]\n",
    "            \n",
    "    d1x=np.gradient(matrizangx,dt)\n",
    "    d1z=np.gradient(matrizangz,dt)\n",
    "                    \n",
    "    d2x=np.gradient(d1x,dt)\n",
    "    d2z=np.gradient(d1z,dt)\n",
    "            \n",
    "    COPX = dest*sennovox + Jb/(M*9.8)*(sennovox*d1x**2-cosnovox*d2x)\n",
    "    COPZ = dest*sennovoz + Jb/(M*9.8)*(sennovoz*d1z**2-cosnovoz*d2z)\n",
    "\n",
    "    COPXES= alpha*(dest*np.tanh(sennovox) + ((Jb/(M*9.8))*np.tanh(sennovox)*d1x**2)) + d2x*(-alpha*np.tanh(cosnovox)*Jb/(M*9.8)+beta) + gama\n",
    "    COPXESorig= COPX\n",
    "    \n",
    "    return COPXES"
   ]
  },
  {
   "cell_type": "code",
   "execution_count": 12,
   "id": "4d1a276e-dc55-4f68-b5c4-cfa0a40e4eb5",
   "metadata": {},
   "outputs": [],
   "source": [
    "def meansquarerror(paramt,COPXtrain,masstrain,ASISXtrain,ASISYtrain,ASISZtrain):\n",
    "    \n",
    "    from sklearn.metrics import mean_squared_error\n",
    "    \n",
    "    ytrue = np.empty((len(COPXtrain), 60*fs-30))\n",
    "    ypredicted = np.empty((len(COPXtrain),60*fs-30))\n",
    "    A,alpha,beta, gama = paramt\n",
    "    for i in range(0,len(ASISXtrain)):\n",
    "        \n",
    "        ytrue[i] = COPXtrain[i]\n",
    "    \n",
    "        ypredicted[i] = centerofpressure(paramt,masstrain[i],ASISXtrain[i],ASISYtrain[i],ASISZtrain[i])\n",
    "    \n",
    "        \n",
    "    \n",
    "    \n",
    "    return mean_squared_error(ytrue.T, ypredicted.T)\n",
    "        \n",
    "\n",
    "\n",
    "    "
   ]
  },
  {
   "cell_type": "code",
   "execution_count": 13,
   "id": "a7306f5a-b911-4764-84d8-0b9afde81b12",
   "metadata": {},
   "outputs": [],
   "source": [
    "from sklearn.model_selection import train_test_split\n",
    "#from scipy import optmize\n",
    "from scipy.optimize import minimize, rosen, rosen_der\n",
    "first_guess = [1,1,1,1]\n",
    "res = minimize(meansquarerror, first_guess,(COPXtrain,masstrain,ASISXtrain,ASISYtrain,ASISZtrain))\n",
    "coeficientes = res.x\n",
    "A=coeficientes[0]\n",
    "alpha=coeficientes[1]\n",
    "beta=coeficientes[2]\n",
    "gama=coeficientes[3]"
   ]
  },
  {
   "cell_type": "markdown",
   "id": "08bc179e-f61c-4b0e-ac26-6704e6c8fff7",
   "metadata": {},
   "source": [
    "Test"
   ]
  },
  {
   "cell_type": "code",
   "execution_count": 14,
   "id": "d84396a1-9dce-4032-97e2-388258134bf6",
   "metadata": {},
   "outputs": [
    {
     "ename": "TypeError",
     "evalue": "unsupported operand type(s) for ** or pow(): 'list' and 'int'",
     "output_type": "error",
     "traceback": [
      "\u001b[1;31m---------------------------------------------------------------------------\u001b[0m",
      "\u001b[1;31mTypeError\u001b[0m                                 Traceback (most recent call last)",
      "\u001b[1;32m<ipython-input-14-0f9b21678ce7>\u001b[0m in \u001b[0;36m<module>\u001b[1;34m\u001b[0m\n\u001b[1;32m----> 1\u001b[1;33m \u001b[0mtreinando\u001b[0m\u001b[1;33m=\u001b[0m\u001b[0mcenterofpressure\u001b[0m\u001b[1;33m(\u001b[0m\u001b[0mcoeficientes\u001b[0m\u001b[1;33m,\u001b[0m \u001b[0mmasstrain\u001b[0m\u001b[1;33m,\u001b[0m\u001b[0mASISXtrain\u001b[0m\u001b[1;33m,\u001b[0m\u001b[0mASISYtrain\u001b[0m\u001b[1;33m,\u001b[0m\u001b[0mASISZtrain\u001b[0m\u001b[1;33m)\u001b[0m\u001b[1;33m\u001b[0m\u001b[1;33m\u001b[0m\u001b[0m\n\u001b[0m\u001b[0;32m      2\u001b[0m \u001b[1;33m\u001b[0m\u001b[0m\n\u001b[0;32m      3\u001b[0m \u001b[0mtestando\u001b[0m\u001b[1;33m=\u001b[0m\u001b[0mcenterofpressure\u001b[0m\u001b[1;33m(\u001b[0m\u001b[0mcoeficientes\u001b[0m\u001b[1;33m,\u001b[0m \u001b[0mmasstest\u001b[0m\u001b[1;33m,\u001b[0m\u001b[0mASISXtest\u001b[0m\u001b[1;33m,\u001b[0m\u001b[0mASISYtest\u001b[0m\u001b[1;33m,\u001b[0m\u001b[0mASISZtest\u001b[0m\u001b[1;33m)\u001b[0m\u001b[1;33m\u001b[0m\u001b[1;33m\u001b[0m\u001b[0m\n",
      "\u001b[1;32m<ipython-input-11-5a4a85f20bd5>\u001b[0m in \u001b[0;36mcenterofpressure\u001b[1;34m(paramt, M, x, y, z)\u001b[0m\n\u001b[0;32m     42\u001b[0m     \u001b[0md2z\u001b[0m\u001b[1;33m=\u001b[0m\u001b[0mnp\u001b[0m\u001b[1;33m.\u001b[0m\u001b[0mgradient\u001b[0m\u001b[1;33m(\u001b[0m\u001b[0md1z\u001b[0m\u001b[1;33m,\u001b[0m\u001b[0mdt\u001b[0m\u001b[1;33m)\u001b[0m\u001b[1;33m\u001b[0m\u001b[1;33m\u001b[0m\u001b[0m\n\u001b[0;32m     43\u001b[0m \u001b[1;33m\u001b[0m\u001b[0m\n\u001b[1;32m---> 44\u001b[1;33m     \u001b[0mCOPX\u001b[0m \u001b[1;33m=\u001b[0m \u001b[0mdest\u001b[0m\u001b[1;33m*\u001b[0m\u001b[0msennovox\u001b[0m \u001b[1;33m+\u001b[0m \u001b[0mJb\u001b[0m\u001b[1;33m/\u001b[0m\u001b[1;33m(\u001b[0m\u001b[0mM\u001b[0m\u001b[1;33m*\u001b[0m\u001b[1;36m9.8\u001b[0m\u001b[1;33m)\u001b[0m\u001b[1;33m*\u001b[0m\u001b[1;33m(\u001b[0m\u001b[0msennovox\u001b[0m\u001b[1;33m*\u001b[0m\u001b[0md1x\u001b[0m\u001b[1;33m**\u001b[0m\u001b[1;36m2\u001b[0m\u001b[1;33m-\u001b[0m\u001b[0mcosnovox\u001b[0m\u001b[1;33m*\u001b[0m\u001b[0md2x\u001b[0m\u001b[1;33m)\u001b[0m\u001b[1;33m\u001b[0m\u001b[1;33m\u001b[0m\u001b[0m\n\u001b[0m\u001b[0;32m     45\u001b[0m     \u001b[0mCOPZ\u001b[0m \u001b[1;33m=\u001b[0m \u001b[0mdest\u001b[0m\u001b[1;33m*\u001b[0m\u001b[0msennovoz\u001b[0m \u001b[1;33m+\u001b[0m \u001b[0mJb\u001b[0m\u001b[1;33m/\u001b[0m\u001b[1;33m(\u001b[0m\u001b[0mM\u001b[0m\u001b[1;33m*\u001b[0m\u001b[1;36m9.8\u001b[0m\u001b[1;33m)\u001b[0m\u001b[1;33m*\u001b[0m\u001b[1;33m(\u001b[0m\u001b[0msennovoz\u001b[0m\u001b[1;33m*\u001b[0m\u001b[0md1z\u001b[0m\u001b[1;33m**\u001b[0m\u001b[1;36m2\u001b[0m\u001b[1;33m-\u001b[0m\u001b[0mcosnovoz\u001b[0m\u001b[1;33m*\u001b[0m\u001b[0md2z\u001b[0m\u001b[1;33m)\u001b[0m\u001b[1;33m\u001b[0m\u001b[1;33m\u001b[0m\u001b[0m\n\u001b[0;32m     46\u001b[0m \u001b[1;33m\u001b[0m\u001b[0m\n",
      "\u001b[1;31mTypeError\u001b[0m: unsupported operand type(s) for ** or pow(): 'list' and 'int'"
     ]
    }
   ],
   "source": [
    "\n",
    "treinando=centerofpressure(coeficientes, masstrain,ASISXtrain,ASISYtrain,ASISZtrain) \n",
    "\n",
    "testando=centerofpressure(coeficientes, masstest,ASISXtest,ASISYtest,ASISZtest)\n"
   ]
  },
  {
   "cell_type": "code",
   "execution_count": null,
   "id": "0bfc3ddd-2a9b-4803-a270-ec039de8db47",
   "metadata": {},
   "outputs": [],
   "source": [
    "time = np.arange(0,6000)/100\n",
    "for i in range(0,len(ASISXtest)): \n",
    "    plt.figure()\n",
    "    plt.plot(time[:5970],detrend(testando[i,:]),color='purple',label='COP predicted')\n",
    "    plt.plot(time[:5970],detrend(COPXreal[i]),color='blue', label='COP real')\n",
    "    plt.title('COP real X COP calculated for test {:.1f}'.format(i))\n",
    "    plt.xlabel('Time')\n",
    "    plt.legend()\n",
    "    plt.show()"
   ]
  },
  {
   "cell_type": "code",
   "execution_count": null,
   "id": "ff949f49-ed26-48ef-a9bf-c0f200014e09",
   "metadata": {},
   "outputs": [],
   "source": [
    "sennovo = sinx*A + ((1-A**2)**1/2)*cosx\n",
    "print(np.max(sennovo))\n",
    "print(np.min(sennovo))"
   ]
  },
  {
   "cell_type": "code",
   "execution_count": null,
   "id": "38ef0a9a-ab60-4faf-be22-ea53ee5bb0ac",
   "metadata": {},
   "outputs": [],
   "source": [
    "cosnovo = cosx*A - ((1-A**2)**1/2)*sinx\n",
    "print(np.max(cosnovo))\n",
    "print(np.min(cosnovo))"
   ]
  },
  {
   "cell_type": "code",
   "execution_count": null,
   "id": "f2274ad6-808f-44a5-b2ce-5c28e5f8dc93",
   "metadata": {},
   "outputs": [],
   "source": []
  },
  {
   "cell_type": "code",
   "execution_count": 16,
   "id": "3fa565bb-6017-4517-9aa3-a4706e48d6ba",
   "metadata": {},
   "outputs": [
    {
     "ename": "FileNotFoundError",
     "evalue": "[Errno 2] No such file or directory: 'storgtre.pkl'",
     "output_type": "error",
     "traceback": [
      "\u001b[1;31m---------------------------------------------------------------------------\u001b[0m",
      "\u001b[1;31mFileNotFoundError\u001b[0m                         Traceback (most recent call last)",
      "\u001b[1;32m<ipython-input-16-a45ba2b636f5>\u001b[0m in \u001b[0;36m<module>\u001b[1;34m\u001b[0m\n\u001b[1;32m----> 1\u001b[1;33m \u001b[0mfile\u001b[0m \u001b[1;33m=\u001b[0m \u001b[0mopen\u001b[0m\u001b[1;33m(\u001b[0m\u001b[1;34m'storgtre.pkl'\u001b[0m\u001b[1;33m,\u001b[0m\u001b[1;34m'rb'\u001b[0m\u001b[1;33m)\u001b[0m\u001b[1;33m\u001b[0m\u001b[1;33m\u001b[0m\u001b[0m\n\u001b[0m\u001b[0;32m      2\u001b[0m \u001b[1;33m(\u001b[0m\u001b[0mCOPXreal\u001b[0m\u001b[1;33m,\u001b[0m\u001b[0mCOPZreal\u001b[0m\u001b[1;33m,\u001b[0m\u001b[0mCOPXg\u001b[0m\u001b[1;33m,\u001b[0m\u001b[0mCOPZg\u001b[0m\u001b[1;33m,\u001b[0m\u001b[0md1x\u001b[0m\u001b[1;33m,\u001b[0m\u001b[0md1z\u001b[0m\u001b[1;33m,\u001b[0m\u001b[0md2x\u001b[0m\u001b[1;33m,\u001b[0m\u001b[0md2z\u001b[0m\u001b[1;33m,\u001b[0m\u001b[0mmatrizangx\u001b[0m\u001b[1;33m,\u001b[0m\u001b[0mmatrizangz\u001b[0m\u001b[1;33m,\u001b[0m\u001b[0mCOGX\u001b[0m\u001b[1;33m,\u001b[0m\u001b[0mCOGY\u001b[0m\u001b[1;33m,\u001b[0m\u001b[0mCOGZ\u001b[0m\u001b[1;33m,\u001b[0m\u001b[0mGTRX\u001b[0m\u001b[1;33m,\u001b[0m\u001b[0mGTRY\u001b[0m\u001b[1;33m,\u001b[0m\u001b[0mGTRZ\u001b[0m\u001b[1;33m,\u001b[0m\u001b[0mangulox\u001b[0m\u001b[1;33m,\u001b[0m\u001b[0manguloz\u001b[0m\u001b[1;33m,\u001b[0m\u001b[0md\u001b[0m\u001b[1;33m,\u001b[0m\u001b[0malpha\u001b[0m\u001b[1;33m,\u001b[0m\u001b[0msubject\u001b[0m\u001b[1;33m,\u001b[0m\u001b[0mei\u001b[0m\u001b[1;33m,\u001b[0m\u001b[0msinx\u001b[0m\u001b[1;33m,\u001b[0m\u001b[0msinz\u001b[0m\u001b[1;33m,\u001b[0m\u001b[0mcosx\u001b[0m\u001b[1;33m,\u001b[0m\u001b[0mcosz\u001b[0m\u001b[1;33m,\u001b[0m\u001b[0mtanx\u001b[0m\u001b[1;33m,\u001b[0m\u001b[0mtanz\u001b[0m\u001b[1;33m,\u001b[0m\u001b[0mCOGXtrain\u001b[0m\u001b[1;33m,\u001b[0m\u001b[0mCOGYtrain\u001b[0m\u001b[1;33m,\u001b[0m\u001b[0mCOGZtrain\u001b[0m\u001b[1;33m,\u001b[0m\u001b[0mCOGXtest\u001b[0m\u001b[1;33m,\u001b[0m\u001b[0mCOGYtest\u001b[0m\u001b[1;33m,\u001b[0m\u001b[0mCOGZtest\u001b[0m\u001b[1;33m,\u001b[0m\u001b[0mGTRXtrain\u001b[0m\u001b[1;33m,\u001b[0m\u001b[0mGTRYtrain\u001b[0m\u001b[1;33m,\u001b[0m\u001b[0mGTRZtrain\u001b[0m\u001b[1;33m,\u001b[0m\u001b[0mGTRXtest\u001b[0m\u001b[1;33m,\u001b[0m\u001b[0mGTRYtest\u001b[0m\u001b[1;33m,\u001b[0m\u001b[0mGTRZtest\u001b[0m\u001b[1;33m,\u001b[0m\u001b[0mCOPXtrain\u001b[0m\u001b[1;33m,\u001b[0m\u001b[0mCOPXtest\u001b[0m\u001b[1;33m,\u001b[0m\u001b[0mCOPZtrain\u001b[0m\u001b[1;33m,\u001b[0m\u001b[0mCOPZtest\u001b[0m\u001b[1;33m,\u001b[0m\u001b[0mtrain\u001b[0m\u001b[1;33m,\u001b[0m\u001b[0mtest\u001b[0m\u001b[1;33m,\u001b[0m\u001b[0mmasstrain\u001b[0m\u001b[1;33m,\u001b[0m\u001b[0mmasstest\u001b[0m\u001b[1;33m,\u001b[0m\u001b[0msubjectp\u001b[0m\u001b[1;33m,\u001b[0m\u001b[0msubjectc\u001b[0m\u001b[1;33m,\u001b[0m\u001b[0msubjecta\u001b[0m\u001b[1;33m,\u001b[0m\u001b[0mt\u001b[0m\u001b[1;33m)\u001b[0m\u001b[1;33m=\u001b[0m \u001b[0mpickle\u001b[0m\u001b[1;33m.\u001b[0m\u001b[0mload\u001b[0m\u001b[1;33m(\u001b[0m\u001b[0mfile\u001b[0m\u001b[1;33m)\u001b[0m\u001b[1;33m\u001b[0m\u001b[1;33m\u001b[0m\u001b[0m\n\u001b[0;32m      3\u001b[0m \u001b[0mfile\u001b[0m\u001b[1;33m.\u001b[0m\u001b[0mclose\u001b[0m\u001b[1;33m(\u001b[0m\u001b[1;33m)\u001b[0m\u001b[1;33m\u001b[0m\u001b[1;33m\u001b[0m\u001b[0m\n",
      "\u001b[1;31mFileNotFoundError\u001b[0m: [Errno 2] No such file or directory: 'storgtre.pkl'"
     ]
    }
   ],
   "source": [
    "file = open('storgtre.pkl','rb')\n",
    "(COPXreal,COPZreal,COPXg,COPZg,d1x,d1z,d2x,d2z,matrizangx,matrizangz,COGX,COGY,COGZ,GTRX,GTRY,GTRZ,angulox,anguloz,d,alpha,subject,ei,sinx,sinz,cosx,cosz,tanx,tanz,COGXtrain,COGYtrain,COGZtrain,COGXtest,COGYtest,COGZtest,GTRXtrain,GTRYtrain,GTRZtrain,GTRXtest,GTRYtest,GTRZtest,COPXtrain,COPXtest,COPZtrain,COPZtest,train,test,masstrain,masstest,subjectp,subjectc,subjecta,t)= pickle.load(file)\n",
    "file.close()"
   ]
  },
  {
   "cell_type": "code",
   "execution_count": null,
   "id": "e81a4aa3-1337-4c9d-a9df-6e101a356953",
   "metadata": {},
   "outputs": [],
   "source": []
  }
 ],
 "metadata": {
  "kernelspec": {
   "display_name": "Python 3",
   "language": "python",
   "name": "python3"
  },
  "language_info": {
   "codemirror_mode": {
    "name": "ipython",
    "version": 3
   },
   "file_extension": ".py",
   "mimetype": "text/x-python",
   "name": "python",
   "nbconvert_exporter": "python",
   "pygments_lexer": "ipython3",
   "version": "3.8.8"
  }
 },
 "nbformat": 4,
 "nbformat_minor": 5
}
