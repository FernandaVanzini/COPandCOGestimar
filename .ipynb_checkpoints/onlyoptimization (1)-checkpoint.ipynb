{
  "cells": [
    {
      "cell_type": "code",
      "execution_count": 6,
      "metadata": {
        "id": "4d6f2b2e-9889-4f20-a259-70287557fe9a"
      },
      "outputs": [],
      "source": [
        "import numpy as np\n",
        "#from scipy.signal import butter, filtfilt\n",
        "import pandas as pd\n",
        "import matplotlib\n",
        "import matplotlib.pyplot as plt\n",
        "import matplotlib.gridspec as gridspec\n",
        "%matplotlib inline\n",
        "#import seaborn as sns\n",
        "#sns.set_context(\"notebook\", font_scale=1.3,\n",
        "#                rc={'lines.linewidth': 1.5, 'lines.markersize': 14, 'axes.titlesize': 'x-large'})\n",
        "#matplotlib.rc('legend', numpoints=1, fontsize=14)\n",
        "#import glob\n",
        "import sys, os\n",
        "sys.path.insert(1, r'./Functions')\n",
        "# IPython widgets:\n",
        "from IPython.display import display\n",
        "#%pip install ipywidgets\n",
        "#jupyter labextension install @jupyter-widgets/jupyterlab-manager\n",
        "#import ipywidgets\n",
        "#from ipywidgets import FloatProgress, interactive\n",
        "import seaborn as sns\n",
        "from scipy.signal import detrend\n",
        "import pickle"
      ],
      "id": "4d6f2b2e-9889-4f20-a259-70287557fe9a"
    },
    {
      "cell_type": "code",
      "execution_count": 7,
      "metadata": {
        "colab": {
          "base_uri": "https://localhost:8080/",
          "height": 427
        },
        "id": "b6a86806-06a6-4230-a0e4-3dcc4c587c23",
        "outputId": "2e6b4e1b-5e2c-45e6-859c-f705a2479f8b"
      },
      "outputs": [
        {
          "output_type": "stream",
          "name": "stdout",
          "text": [
            "Collecting version_information\n",
            "  Downloading version_information-1.0.4.tar.gz (3.8 kB)\n",
            "  Preparing metadata (setup.py) ... \u001b[?25l\u001b[?25hdone\n",
            "Building wheels for collected packages: version_information\n",
            "  Building wheel for version_information (setup.py) ... \u001b[?25l\u001b[?25hdone\n",
            "  Created wheel for version_information: filename=version_information-1.0.4-py3-none-any.whl size=3897 sha256=e4e20b2f8ed4da896bab403632e734a9d31c6e612ff40387fc76979e97b84002\n",
            "  Stored in directory: /root/.cache/pip/wheels/81/48/43/91109adffe66267dfa0c5c27c05269409bc131d850c0fd386b\n",
            "Successfully built version_information\n",
            "Installing collected packages: version_information\n",
            "Successfully installed version_information-1.0.4\n"
          ]
        },
        {
          "output_type": "execute_result",
          "data": {
            "text/plain": [
              "Software versions\n",
              "Python 3.10.12 64bit [GCC 9.4.0]\n",
              "IPython 7.34.0\n",
              "OS Linux 5.15.107+ x86_64 with glibc2.31\n",
              "numpy 1.22.4\n",
              "scipy 1.10.1\n",
              "pandas 1.5.3\n",
              "matplotlib 3.7.1\n",
              "seaborn 0.12.2\n",
              "Tue Jun 27 22:57:03 2023 UTC"
            ],
            "text/html": [
              "<table><tr><th>Software</th><th>Version</th></tr><tr><td>Python</td><td>3.10.12 64bit [GCC 9.4.0]</td></tr><tr><td>IPython</td><td>7.34.0</td></tr><tr><td>OS</td><td>Linux 5.15.107+ x86\\_64 with glibc2.31</td></tr><tr><td>numpy</td><td>1.22.4</td></tr><tr><td>scipy</td><td>1.10.1</td></tr><tr><td>pandas</td><td>1.5.3</td></tr><tr><td>matplotlib</td><td>3.7.1</td></tr><tr><td>seaborn</td><td>0.12.2</td></tr><tr><td colspan='2'>Tue Jun 27 22:57:03 2023 UTC</td></tr></table>"
            ],
            "text/latex": "\\begin{tabular}{|l|l|}\\hline\n{\\bf Software} & {\\bf Version} \\\\ \\hline\\hline\nPython & 3.10.12 64bit [GCC 9.4.0] \\\\ \\hline\nIPython & 7.34.0 \\\\ \\hline\nOS & Linux 5.15.107+ x86\\_64 with glibc2.31 \\\\ \\hline\nnumpy & 1.22.4 \\\\ \\hline\nscipy & 1.10.1 \\\\ \\hline\npandas & 1.5.3 \\\\ \\hline\nmatplotlib & 3.7.1 \\\\ \\hline\nseaborn & 0.12.2 \\\\ \\hline\n\\hline \\multicolumn{2}{|l|}{Tue Jun 27 22:57:03 2023 UTC} \\\\ \\hline\n\\end{tabular}\n",
            "application/json": {
              "Software versions": [
                {
                  "module": "Python",
                  "version": "3.10.12 64bit [GCC 9.4.0]"
                },
                {
                  "module": "IPython",
                  "version": "7.34.0"
                },
                {
                  "module": "OS",
                  "version": "Linux 5.15.107+ x86_64 with glibc2.31"
                },
                {
                  "module": "numpy",
                  "version": "1.22.4"
                },
                {
                  "module": "scipy",
                  "version": "1.10.1"
                },
                {
                  "module": "pandas",
                  "version": "1.5.3"
                },
                {
                  "module": "matplotlib",
                  "version": "3.7.1"
                },
                {
                  "module": "seaborn",
                  "version": "0.12.2"
                }
              ]
            }
          },
          "metadata": {},
          "execution_count": 7
        }
      ],
      "source": [
        "%pip install version_information\n",
        "%load_ext version_information\n",
        "%version_information numpy, scipy, pandas, matplotlib, seaborn"
      ],
      "id": "b6a86806-06a6-4230-a0e4-3dcc4c587c23"
    },
    {
      "cell_type": "code",
      "execution_count": 8,
      "metadata": {
        "colab": {
          "base_uri": "https://localhost:8080/"
        },
        "id": "43e6855e-f2a8-45c3-b876-864fd3b24795",
        "outputId": "8ff7261c-8463-4176-e862-f3bb426613ea"
      },
      "outputs": [
        {
          "output_type": "stream",
          "name": "stdout",
          "text": [
            "https://raw.githubusercontent.com/demotu/datasets/master/PDS/data/PDSinfo.txt\n",
            "Information of 49 subjects loaded (588 rows, 29 columns).\n"
          ]
        }
      ],
      "source": [
        "# GitHub URL:\n",
        "path2 = 'https://raw.githubusercontent.com/demotu/datasets/master/PDS/data'\n",
        "#local directory:\n",
        "#path2 = r\"C:\\Users\\ferna\\Downloads\\IC-dados\\Dados\"\n",
        "#path2 = '/home/rnwatanabe/copdata'\n",
        "fname = os.path.join(path2, 'PDSinfo.txt')\n",
        "PDSinfo = pd.read_csv(fname, sep='\\t', header=0, index_col=None, engine='c', encoding='utf-8')\n",
        "print(fname)\n",
        "print(\"Information of %s subjects loaded (%s rows, %s columns).\"\n",
        "      %(len(pd.unique(PDSinfo.Subject)), PDSinfo.shape[0], PDSinfo.shape[1]))"
      ],
      "id": "43e6855e-f2a8-45c3-b876-864fd3b24795"
    },
    {
      "cell_type": "code",
      "execution_count": 9,
      "metadata": {
        "colab": {
          "base_uri": "https://localhost:8080/"
        },
        "id": "980b8fea-56f9-4a6b-93de-a2c44fffce60",
        "outputId": "6e1c3a29-1819-4005-9768-2ee361a8f7c6"
      },
      "outputs": [
        {
          "output_type": "execute_result",
          "data": {
            "text/plain": [
              "Index                 128\n",
              "Trial                4704\n",
              "Subject              4704\n",
              "Vision               4704\n",
              "Surface              4704\n",
              "Rep                  4704\n",
              "Age                  4704\n",
              "AgeGroup             4704\n",
              "Gender               4704\n",
              "Height               4704\n",
              "Mass                 4704\n",
              "BMI                  4704\n",
              "FootLen              4704\n",
              "DominantLeg          4704\n",
              "Nationality          4704\n",
              "SkinColor            4704\n",
              "Ystudy               4704\n",
              "Footwear             4704\n",
              "Illness              4704\n",
              "Illness2             4704\n",
              "Nmedication          4704\n",
              "Medication           4704\n",
              "Ortho-Prosthesis     4704\n",
              "Ortho-Prosthesis2    4704\n",
              "Disability           4704\n",
              "Disability2          4704\n",
              "Falls12m             4704\n",
              "PhysicalActivity     4704\n",
              "Sequence             4704\n",
              "Date                 4704\n",
              "dtype: int64"
            ]
          },
          "metadata": {},
          "execution_count": 9
        }
      ],
      "source": [
        "a=PDSinfo[PDSinfo['Subject']==44].index.tolist()\n",
        "e=PDSinfo[PDSinfo['Subject']==44].index.tolist()[2]\n",
        "ei = PDSinfo[PDSinfo['Subject']==44]\n",
        "PDSinfo.memory_usage()"
      ],
      "id": "980b8fea-56f9-4a6b-93de-a2c44fffce60"
    },
    {
      "cell_type": "code",
      "execution_count": 10,
      "metadata": {
        "colab": {
          "base_uri": "https://localhost:8080/"
        },
        "id": "a02b1882",
        "outputId": "e2e91998-34dd-499b-ca83-7aa73a4a8215"
      },
      "outputs": [
        {
          "output_type": "stream",
          "name": "stdout",
          "text": [
            "Mounted at /content/drive\n"
          ]
        }
      ],
      "source": [
        "fs=100\n",
        "from google.colab import drive\n",
        "drive.mount('/content/drive')"
      ],
      "id": "a02b1882"
    },
    {
      "cell_type": "code",
      "execution_count": 11,
      "metadata": {
        "id": "2ec0f13f"
      },
      "outputs": [],
      "source": [
        "file = open('drive/MyDrive/store.pkl','rb')\n",
        "(COPXreal,COPZreal,COPX,COPZ,d1x,d1z,d2x,d2z,matrizangx,matrizangz,COGX,COGY,COGZ,ASISX,ASISY,ASISZ,angulox,anguloz,d,alpha,subject,ei,sinx,sinz,cosx,cosz,tanx,tanz,COGXtrain,COGYtrain,COGZtrain,COGXtest,COGYtest,COGZtest,ASISXtrain,ASISYtrain,ASISZtrain,ASISXtest,ASISYtest,ASISZtest,COPXtrain,COPXtest,COPZtrain,COPZtest,train,test,masstrain,masstest,subjectp,subjectc,subjecta,t)= pickle.load(file)\n",
        "file.close()"
      ],
      "id": "2ec0f13f"
    },
    {
      "cell_type": "code",
      "execution_count": 12,
      "metadata": {
        "id": "aa27057f-727e-4a8c-9c3a-6127b9f3aa02"
      },
      "outputs": [],
      "source": [
        "def newdist(paramt,x,y,z):\n",
        "    from sklearn.model_selection import train_test_split\n",
        "    from scipy.optimize import minimize, rosen, rosen_der\n",
        "    from sklearn.metrics import mean_squared_error\n",
        "    dest = np.zeros((60*fs-30))\n",
        "    d = np.zeros((60*fs-30))\n",
        "    for i in range(0, len(x)):\n",
        "\n",
        "        delta,mi = paramt\n",
        "\n",
        "        d[i] = np.mean(np.sqrt(x[i]**2+y[i]**2+z[i]**2))\n",
        "\n",
        "        dest[i] = delta * d[i] + mi\n",
        "\n",
        "\n",
        "    return dest\n"
      ],
      "id": "aa27057f-727e-4a8c-9c3a-6127b9f3aa02"
    },
    {
      "cell_type": "code",
      "execution_count": 13,
      "metadata": {
        "id": "d01576ce-ebf5-4173-8c43-1b5e7a24945e"
      },
      "outputs": [],
      "source": [
        "#for i in range(0,len(COGXtrain)):\n",
        "\n",
        "        #d= np.sqrt(COGXtrain[i]**2+COGYtrain[i]**2+COGZtrain[i]**2)\n",
        "\n",
        "def meansquarerrordist(paramt,d,ASISXtrain,ASISYtrain,ASISZtrain):\n",
        "    d = np.zeros((60*fs-30))\n",
        "    from sklearn.metrics import mean_squared_error\n",
        "    ytrue = np.zeros((60*fs-30))\n",
        "    ypredicted = np.zeros((60*fs-30))\n",
        "    for i in range(0,len(ASISXtrain)):\n",
        "\n",
        "        d[i] = np.mean(np.sqrt(COGXtrain[i]**2+COGYtrain[i]**2+COGZtrain[i]**2))\n",
        "\n",
        "        ytrue[i] = d[i]\n",
        "\n",
        "        ypredicted = newdist(paramt,ASISXtrain,ASISYtrain,ASISZtrain)\n",
        "\n",
        "\n",
        "    return mean_squared_error(ytrue, ypredicted)\n"
      ],
      "id": "d01576ce-ebf5-4173-8c43-1b5e7a24945e"
    },
    {
      "cell_type": "code",
      "execution_count": null,
      "metadata": {
        "id": "3158a38e-9ed0-4ecd-b99c-8aa79390f345"
      },
      "outputs": [],
      "source": [
        "from sklearn.model_selection import train_test_split\n",
        "#from scipy import optmize\n",
        "from scipy.optimize import minimize, rosen, rosen_der\n",
        "first_guess = [1,1]\n",
        "res = minimize(meansquarerrordist, first_guess,(d,COGXtrain,COGYtrain,COGZtrain))\n",
        "coeficientes = res.x\n",
        "delta=coeficientes[0]\n",
        "mi=coeficientes[1]\n",
        "print(delta)\n",
        "print(mi)"
      ],
      "id": "3158a38e-9ed0-4ecd-b99c-8aa79390f345"
    },
    {
      "cell_type": "code",
      "execution_count": null,
      "metadata": {
        "id": "f4548c41-087c-434d-a4ef-cb8454946c32"
      },
      "outputs": [],
      "source": [
        "treino = newdist(coeficientes,COGXtrain,COGYtrain,COGZtrain)\n",
        "teste = newdist(coeficientes,COGXtest,COGYtest,COGZtest)"
      ],
      "id": "f4548c41-087c-434d-a4ef-cb8454946c32"
    },
    {
      "cell_type": "markdown",
      "metadata": {
        "id": "57e2a4c8-7489-4c98-92fa-98d8d6d4136c"
      },
      "source": [
        "Regressão linear distância"
      ],
      "id": "57e2a4c8-7489-4c98-92fa-98d8d6d4136c"
    },
    {
      "cell_type": "code",
      "execution_count": null,
      "metadata": {
        "id": "2a40b8b4-a488-4a50-af54-44f8ab0b8dc9"
      },
      "outputs": [],
      "source": [
        "def centerofpressure(paramt, M,x,y,z):\n",
        "    from sklearn.model_selection import train_test_split\n",
        "    from scipy.optimize import minimize, rosen, rosen_der\n",
        "    from sklearn.metrics import mean_squared_error\n",
        "\n",
        "    A,alpha,beta, gama= paramt\n",
        "\n",
        "    d = np.mean(np.sqrt(x**2+y**2+z**2))\n",
        "\n",
        "    dest = delta * d + mi\n",
        "\n",
        "    angulox = np.arcsin(np.tanh(x/dest))\n",
        "    anguloz = np.arcsin(np.tanh(z/dest))\n",
        "    sinx=np.sin(angulox)\n",
        "    sinz=np.sin(anguloz)\n",
        "    cosx=np.cos(angulox)\n",
        "    cosz=np.cos(anguloz)\n",
        "    tanx=np.tan(angulox)\n",
        "    tanz=np.tan(anguloz)\n",
        "\n",
        "    matrizangx = angulox\n",
        "    matrizangz = anguloz\n",
        "\n",
        "\n",
        "    sennovox = (sinx)*A + ((1-A**2)**1/2)*(cosx)\n",
        "\n",
        "    cosnovox = (cosx)*A - ((1-A**2)**1/2)*(sinx)\n",
        "\n",
        "    sennovoz = (sinz)*A + ((1-A**2)**1/2)*(cosz)\n",
        "\n",
        "\n",
        "    cosnovoz = (cosz)*A - ((1-A**2)**1/2)*(sinz)\n",
        "\n",
        "    Jb=(4/3)*(M)*((dest)**2)\n",
        "\n",
        "    dt=t[1]-t[0]\n",
        "\n",
        "    d1x=np.gradient(matrizangx,dt)\n",
        "    d1z=np.gradient(matrizangz,dt)\n",
        "\n",
        "    d2x=np.gradient(d1x,dt)\n",
        "    d2z=np.gradient(d1z,dt)\n",
        "\n",
        "    COPX = dest*sennovox + Jb/(M*9.8)*(sennovox*d1x**2-cosnovox*d2x)\n",
        "    COPZ = dest*sennovoz + Jb/(M*9.8)*(sennovoz*d1z**2-cosnovoz*d2z)\n",
        "\n",
        "    COPXES= alpha*(dest*np.tanh(sennovox) + ((Jb/(M*9.8))*np.tanh(sennovox)*d1x**2)) + d2x*(-alpha*np.tanh(cosnovox)*Jb/(M*9.8)+beta) + gama\n",
        "    COPXESorig= COPX\n",
        "\n",
        "    return COPXES"
      ],
      "id": "2a40b8b4-a488-4a50-af54-44f8ab0b8dc9"
    },
    {
      "cell_type": "code",
      "execution_count": null,
      "metadata": {
        "id": "4d1a276e-dc55-4f68-b5c4-cfa0a40e4eb5"
      },
      "outputs": [],
      "source": [
        "def meansquarerror(paramt,COPXtrain,masstrain,ASISXtrain,ASISYtrain,ASISZtrain):\n",
        "\n",
        "    from sklearn.metrics import mean_squared_error\n",
        "\n",
        "    ytrue = np.empty((len(COPXtrain), 60*fs-30))\n",
        "    ypredicted = np.empty((len(COPXtrain),60*fs-30))\n",
        "    A,alpha,beta, gama = paramt\n",
        "    for i in range(0,len(ASISXtrain)):\n",
        "\n",
        "        ytrue[i] = COPXtrain[i]\n",
        "\n",
        "        ypredicted[i] = centerofpressure(paramt,masstrain[i],ASISXtrain[i],ASISYtrain[i],ASISZtrain[i])\n",
        "\n",
        "\n",
        "\n",
        "\n",
        "    return mean_squared_error(ytrue.T, ypredicted.T)\n",
        "\n",
        "\n",
        "\n"
      ],
      "id": "4d1a276e-dc55-4f68-b5c4-cfa0a40e4eb5"
    },
    {
      "cell_type": "code",
      "execution_count": null,
      "metadata": {
        "id": "a7306f5a-b911-4764-84d8-0b9afde81b12"
      },
      "outputs": [],
      "source": [
        "from sklearn.model_selection import train_test_split\n",
        "#from scipy import optmize\n",
        "from scipy.optimize import minimize, rosen, rosen_der\n",
        "first_guess = [1,1,1,1]\n",
        "res = minimize(meansquarerror, first_guess,(COPXtrain,masstrain,ASISXtrain,ASISYtrain,ASISZtrain))\n",
        "coeficientes = res.x\n",
        "A=coeficientes[0]\n",
        "alpha=coeficientes[1]\n",
        "beta=coeficientes[2]\n",
        "gama=coeficientes[3]"
      ],
      "id": "a7306f5a-b911-4764-84d8-0b9afde81b12"
    },
    {
      "cell_type": "markdown",
      "metadata": {
        "id": "08bc179e-f61c-4b0e-ac26-6704e6c8fff7"
      },
      "source": [
        "Test"
      ],
      "id": "08bc179e-f61c-4b0e-ac26-6704e6c8fff7"
    },
    {
      "cell_type": "code",
      "execution_count": null,
      "metadata": {
        "id": "d84396a1-9dce-4032-97e2-388258134bf6"
      },
      "outputs": [],
      "source": [
        "\n",
        "#treinando=centerofpressure(coeficientes, masstrain,ASISXtrain,ASISYtrain,ASISZtrain)\n",
        "testando = np.empty((len(ASISXtest), 60*fs-30))\n",
        "for i in range(0,len(ASISXtest)):\n",
        "  testando[i]=centerofpressure(coeficientes, masstest[i],ASISXtest[i],ASISYtest[i],ASISZtest[i])\n"
      ],
      "id": "d84396a1-9dce-4032-97e2-388258134bf6"
    },
    {
      "cell_type": "code",
      "execution_count": null,
      "metadata": {
        "id": "0bfc3ddd-2a9b-4803-a270-ec039de8db47"
      },
      "outputs": [],
      "source": [
        "time = np.arange(0,6000)/100\n",
        "for i in range(0,len(ASISXtest)):\n",
        "    plt.figure()\n",
        "    plt.plot(time[:5970],detrend(testando[i]),color='purple',label='COP predicted')\n",
        "    plt.plot(time[:5970],detrend(COPXreal[i]),color='blue', label='COP real')\n",
        "    plt.title('COP real X COP calculated for test {:.1f}'.format(i))\n",
        "    plt.xlabel('Time')\n",
        "    plt.legend()\n",
        "    plt.show()"
      ],
      "id": "0bfc3ddd-2a9b-4803-a270-ec039de8db47"
    },
    {
      "cell_type": "markdown",
      "metadata": {
        "id": "3RWpT0mFKe1o"
      },
      "source": [
        "GTR"
      ],
      "id": "3RWpT0mFKe1o"
    },
    {
      "cell_type": "code",
      "execution_count": null,
      "metadata": {
        "id": "bbnOI9PUK2bc"
      },
      "outputs": [],
      "source": [
        "file = open('drive/MyDrive/storegtr.pkl','rb')\n",
        "(COPXreal,COPZreal,COPX,COPZ,d1x,d1z,d2x,d2z,matrizangx,matrizangz,COGX,COGY,COGZ,GTRX,GTRY,GTRZ,angulox,anguloz,d,alpha,subject,ei,sinx,sinz,cosx,cosz,tanx,tanz,COGXtrain,COGYtrain,COGZtrain,COGXtest,COGYtest,COGZtest,GTRXtrain,GTRYtrain,GTRZtrain,GTRXtest,GTRYtest,GTRZtest,COPXtrain,COPXtest,COPZtrain,COPZtest,train,test,masstrain,masstest,subjectp,subjectc,subjecta,t)= pickle.load(file)\n",
        "file.close()"
      ],
      "id": "bbnOI9PUK2bc"
    },
    {
      "cell_type": "code",
      "execution_count": null,
      "metadata": {
        "id": "VV6z0zQ-Q0W0"
      },
      "outputs": [],
      "source": [
        "def newdist(paramt,x,y,z):\n",
        "    from sklearn.model_selection import train_test_split\n",
        "    from scipy.optimize import minimize, rosen, rosen_der\n",
        "    from sklearn.metrics import mean_squared_error\n",
        "    dest = np.zeros((60*fs-30))\n",
        "    d = np.zeros((60*fs-30))\n",
        "    for i in range(0, len(x)):\n",
        "\n",
        "        delta,mi = paramt\n",
        "\n",
        "        d[i] = np.mean(np.sqrt(x[i]**2+y[i]**2+z[i]**2))\n",
        "\n",
        "        dest[i] = delta * d[i] + mi\n",
        "\n",
        "\n",
        "    return dest\n"
      ],
      "id": "VV6z0zQ-Q0W0"
    },
    {
      "cell_type": "code",
      "execution_count": null,
      "metadata": {
        "id": "A0mh3BfXLJzQ"
      },
      "outputs": [],
      "source": [
        "#for i in range(0,len(COGXtrain)):\n",
        "\n",
        "        #d= np.sqrt(COGXtrain[i]**2+COGYtrain[i]**2+COGZtrain[i]**2)\n",
        "\n",
        "def meansquarerrordist(paramt,d,GTRXtrain,GTRYtrain,GTRZtrain):\n",
        "    d = np.zeros((60*fs-30))\n",
        "    from sklearn.metrics import mean_squared_error\n",
        "    ytrue = np.zeros((60*fs-30))\n",
        "    ypredicted = np.zeros((60*fs-30))\n",
        "    for i in range(0,len(GTRXtrain)):\n",
        "\n",
        "        d[i] = np.mean(np.sqrt(COGXtrain[i]**2+COGYtrain[i]**2+COGZtrain[i]**2))\n",
        "\n",
        "        ytrue[i] = d[i]\n",
        "\n",
        "        ypredicted = newdist(paramt,GTRXtrain,GTRYtrain,GTRZtrain)\n",
        "\n",
        "\n",
        "    return mean_squared_error(ytrue, ypredicted)\n"
      ],
      "id": "A0mh3BfXLJzQ"
    },
    {
      "cell_type": "code",
      "execution_count": null,
      "metadata": {
        "id": "1NEs5C75LXdp"
      },
      "outputs": [],
      "source": [
        "from sklearn.model_selection import train_test_split\n",
        "#from scipy import optmize\n",
        "from scipy.optimize import minimize, rosen, rosen_der\n",
        "first_guess = [1,1]\n",
        "res = minimize(meansquarerrordist, first_guess,(d,COGXtrain,COGYtrain,COGZtrain))\n",
        "coeficientes = res.x\n",
        "delta=coeficientes[0]\n",
        "mi=coeficientes[1]\n",
        "print(delta)\n",
        "print(mi)"
      ],
      "id": "1NEs5C75LXdp"
    },
    {
      "cell_type": "code",
      "execution_count": null,
      "metadata": {
        "id": "oQGqAyeDQ9sK"
      },
      "outputs": [],
      "source": [
        "treino = newdist(coeficientes,COGXtrain,COGYtrain,COGZtrain)\n",
        "teste = newdist(coeficientes,COGXtest,COGYtest,COGZtest)"
      ],
      "id": "oQGqAyeDQ9sK"
    },
    {
      "cell_type": "code",
      "execution_count": null,
      "metadata": {
        "id": "o-uS5S2WRD8u"
      },
      "outputs": [],
      "source": [
        "def centerofpressure(paramt, M,x,y,z):\n",
        "    from sklearn.model_selection import train_test_split\n",
        "    from scipy.optimize import minimize, rosen, rosen_der\n",
        "    from sklearn.metrics import mean_squared_error\n",
        "\n",
        "    A,alpha,beta, gama= paramt\n",
        "\n",
        "    d = np.mean(np.sqrt(x**2+y**2+z**2))\n",
        "\n",
        "    dest = delta * d + mi\n",
        "\n",
        "    angulox = np.arcsin(np.tanh(x/dest))\n",
        "    anguloz = np.arcsin(np.tanh(z/dest))\n",
        "    sinx=np.sin(angulox)\n",
        "    sinz=np.sin(anguloz)\n",
        "    cosx=np.cos(angulox)\n",
        "    cosz=np.cos(anguloz)\n",
        "    tanx=np.tan(angulox)\n",
        "    tanz=np.tan(anguloz)\n",
        "\n",
        "    matrizangx = angulox\n",
        "    matrizangz = anguloz\n",
        "\n",
        "\n",
        "    sennovox = (sinx)*A + ((1-A**2)**1/2)*(cosx)\n",
        "\n",
        "    cosnovox = (cosx)*A - ((1-A**2)**1/2)*(sinx)\n",
        "\n",
        "    sennovoz = (sinz)*A + ((1-A**2)**1/2)*(cosz)\n",
        "\n",
        "\n",
        "    cosnovoz = (cosz)*A - ((1-A**2)**1/2)*(sinz)\n",
        "\n",
        "    Jb=(4/3)*(M)*((dest)**2)\n",
        "\n",
        "    dt=t[1]-t[0]\n",
        "\n",
        "    d1x=np.gradient(matrizangx,dt)\n",
        "    d1z=np.gradient(matrizangz,dt)\n",
        "\n",
        "    d2x=np.gradient(d1x,dt)\n",
        "    d2z=np.gradient(d1z,dt)\n",
        "\n",
        "    COPX = dest*sennovox + Jb/(M*9.8)*(sennovox*d1x**2-cosnovox*d2x)\n",
        "    COPZ = dest*sennovoz + Jb/(M*9.8)*(sennovoz*d1z**2-cosnovoz*d2z)\n",
        "\n",
        "    COPXES= alpha*(dest*np.tanh(sennovox) + ((Jb/(M*9.8))*np.tanh(sennovox)*d1x**2)) + d2x*(-alpha*np.tanh(cosnovox)*Jb/(M*9.8)+beta) + gama\n",
        "    COPXESorig= COPX\n",
        "\n",
        "    return COPXES"
      ],
      "id": "o-uS5S2WRD8u"
    },
    {
      "cell_type": "code",
      "execution_count": null,
      "metadata": {
        "id": "YS4bR4eJLfb3"
      },
      "outputs": [],
      "source": [
        "def meansquarerror(paramt,COPXtrain,masstrain,GTRXtrain,GTRYtrain,GTRZtrain):\n",
        "\n",
        "    from sklearn.metrics import mean_squared_error\n",
        "\n",
        "    ytrue = np.empty((len(COPXtrain), 60*fs-30))\n",
        "    ypredicted = np.empty((len(COPXtrain),60*fs-30))\n",
        "    A,alpha,beta, gama = paramt\n",
        "    for i in range(0,len(GTRXtrain)):\n",
        "\n",
        "        ytrue[i] = COPXtrain[i]\n",
        "\n",
        "        ypredicted[i] = centerofpressure(paramt,masstrain[i],GTRXtrain[i],GTRYtrain[i],GTRZtrain[i])\n",
        "    #print(np.any(np.isnan(GTRYtrain)))\n",
        "\n",
        "\n",
        "\n",
        "    return mean_squared_error(ytrue.T, ypredicted.T)\n",
        "\n",
        "\n",
        "\n"
      ],
      "id": "YS4bR4eJLfb3"
    },
    {
      "cell_type": "code",
      "execution_count": null,
      "metadata": {
        "id": "0vvfkvhiLmu4"
      },
      "outputs": [],
      "source": [
        "from sklearn.model_selection import train_test_split\n",
        "#from scipy import optmize\n",
        "from scipy.optimize import minimize, rosen, rosen_der\n",
        "first_guess = [1,1,1,1]\n",
        "res = minimize(meansquarerror, first_guess,(COPXtrain,masstrain,GTRXtrain,GTRYtrain,GTRZtrain))\n",
        "coeficientes = res.x\n",
        "A=coeficientes[0]\n",
        "alpha=coeficientes[1]\n",
        "beta=coeficientes[2]\n",
        "gama=coeficientes[3]\n",
        "print(A,alpha,beta,gama)"
      ],
      "id": "0vvfkvhiLmu4"
    },
    {
      "cell_type": "code",
      "execution_count": null,
      "metadata": {
        "id": "BvvewMyuLqyt"
      },
      "outputs": [],
      "source": [
        "\n",
        "#treinando=centerofpressure(coeficientes, masstrain,ASISXtrain,ASISYtrain,ASISZtrain)\n",
        "testando = np.empty((len(GTRXtest), 60*fs-30))\n",
        "for i in range(0,len(GTRXtest)):\n",
        "  testando[i]=centerofpressure(coeficientes, masstest[i],GTRXtest[i],GTRYtest[i],GTRZtest[i])\n",
        "print(COPXreal)\n",
        "print(testando)\n"
      ],
      "id": "BvvewMyuLqyt"
    },
    {
      "cell_type": "code",
      "execution_count": null,
      "metadata": {
        "id": "OZHCVgDjLuYi"
      },
      "outputs": [],
      "source": [
        "time = np.arange(0,6000)/100\n",
        "for i in range(0,len(GTRXtest)):\n",
        "    plt.figure()\n",
        "    plt.plot(time[:5970],detrend(testando[i]),color='purple',label='COP predicted')\n",
        "    plt.plot(time[:5970],detrend(COPXreal[i]),color='blue', label='COP real')\n",
        "    plt.title('COP real X COP calculated for test {:.1f}'.format(i))\n",
        "    plt.xlabel('Time')\n",
        "    plt.legend()\n",
        "    plt.show()"
      ],
      "id": "OZHCVgDjLuYi"
    },
    {
      "cell_type": "markdown",
      "source": [
        "Iliac"
      ],
      "metadata": {
        "id": "t9rt6okG7I1X"
      },
      "id": "t9rt6okG7I1X"
    },
    {
      "cell_type": "code",
      "source": [],
      "metadata": {
        "id": "2ktpq08E7J1U"
      },
      "id": "2ktpq08E7J1U",
      "execution_count": null,
      "outputs": []
    },
    {
      "cell_type": "code",
      "execution_count": null,
      "metadata": {
        "id": "I3TGHUas7PqU"
      },
      "outputs": [],
      "source": [
        "file = open('drive/MyDrive/storeili.pkl','rb')\n",
        "(COPXreal,COPZreal,COPXi,COPZi,d1x,d1z,d2x,d2z,matrizangx,matrizangz,COGX,COGY,COGZ,ILIACX,ILIACY,ILIACZ,angulox,anguloz,d,alpha,subject,ei,sinx,sinz,cosx,cosz,tanx,tanz,COGXtrain,COGYtrain,COGZtrain,COGXtest,COGYtest,COGZtest,ILIACXtrain,ILIACYtrain,ILIACZtrain,ILIACXtest,ILIACYtest,ILIACZtest,COPXtrain,COPXtest,COPZtrain,COPZtest,train,test,masstrain,masstest,subjectp,subjectc,subjecta,t)= pickle.load(file)\n",
        "file.close()"
      ],
      "id": "I3TGHUas7PqU"
    },
    {
      "cell_type": "code",
      "execution_count": null,
      "metadata": {
        "id": "v_thJTwz7PqV"
      },
      "outputs": [],
      "source": [
        "def newdist(paramt,x,y,z):\n",
        "    from sklearn.model_selection import train_test_split\n",
        "    from scipy.optimize import minimize, rosen, rosen_der\n",
        "    from sklearn.metrics import mean_squared_error\n",
        "    dest = np.zeros((60*fs-30))\n",
        "    d = np.zeros((60*fs-30))\n",
        "    for i in range(0, len(x)):\n",
        "\n",
        "        delta,mi = paramt\n",
        "\n",
        "        d[i] = np.mean(np.sqrt(x[i]**2+y[i]**2+z[i]**2))\n",
        "\n",
        "        dest[i] = delta * d[i] + mi\n",
        "\n",
        "\n",
        "    return dest\n"
      ],
      "id": "v_thJTwz7PqV"
    },
    {
      "cell_type": "code",
      "execution_count": null,
      "metadata": {
        "id": "80NXmzbR7PqW"
      },
      "outputs": [],
      "source": [
        "#for i in range(0,len(COGXtrain)):\n",
        "\n",
        "        #d= np.sqrt(COGXtrain[i]**2+COGYtrain[i]**2+COGZtrain[i]**2)\n",
        "\n",
        "def meansquarerrordist(paramt,d,ILIACXtrain,ILIACYtrain,ILIACZtrain):\n",
        "    d = np.zeros((60*fs-30))\n",
        "    from sklearn.metrics import mean_squared_error\n",
        "    ytrue = np.zeros((60*fs-30))\n",
        "    ypredicted = np.zeros((60*fs-30))\n",
        "    for i in range(0,len(ILIACXtrain)):\n",
        "\n",
        "        d[i] = np.mean(np.sqrt(COGXtrain[i]**2+COGYtrain[i]**2+COGZtrain[i]**2))\n",
        "\n",
        "        ytrue[i] = d[i]\n",
        "\n",
        "        ypredicted = newdist(paramt,ILIACXtrain,ILIACYtrain,ILIACZtrain)\n",
        "\n",
        "\n",
        "    return mean_squared_error(ytrue, ypredicted)\n"
      ],
      "id": "80NXmzbR7PqW"
    },
    {
      "cell_type": "code",
      "execution_count": null,
      "metadata": {
        "id": "H0EOXEbx7PqW"
      },
      "outputs": [],
      "source": [
        "from sklearn.model_selection import train_test_split\n",
        "#from scipy import optmize\n",
        "from scipy.optimize import minimize, rosen, rosen_der\n",
        "first_guess = [1,1]\n",
        "res = minimize(meansquarerrordist, first_guess,(d,COGXtrain,COGYtrain,COGZtrain))\n",
        "coeficientes = res.x\n",
        "delta=coeficientes[0]\n",
        "mi=coeficientes[1]\n",
        "print(delta)\n",
        "print(mi)"
      ],
      "id": "H0EOXEbx7PqW"
    },
    {
      "cell_type": "code",
      "execution_count": null,
      "metadata": {
        "id": "I-6MePaH7PqW"
      },
      "outputs": [],
      "source": [
        "treino = newdist(coeficientes,COGXtrain,COGYtrain,COGZtrain)\n",
        "teste = newdist(coeficientes,COGXtest,COGYtest,COGZtest)"
      ],
      "id": "I-6MePaH7PqW"
    },
    {
      "cell_type": "code",
      "execution_count": null,
      "metadata": {
        "id": "tLrSwMrY7PqW"
      },
      "outputs": [],
      "source": [
        "def centerofpressure(paramt, M,x,y,z):\n",
        "    from sklearn.model_selection import train_test_split\n",
        "    from scipy.optimize import minimize, rosen, rosen_der\n",
        "    from sklearn.metrics import mean_squared_error\n",
        "\n",
        "    A,alpha,beta, gama= paramt\n",
        "\n",
        "    d = np.mean(np.sqrt(x**2+y**2+z**2))\n",
        "\n",
        "    dest = delta * d + mi\n",
        "\n",
        "    angulox = np.arcsin(np.tanh(x/dest))\n",
        "    anguloz = np.arcsin(np.tanh(z/dest))\n",
        "    sinx=np.sin(angulox)\n",
        "    sinz=np.sin(anguloz)\n",
        "    cosx=np.cos(angulox)\n",
        "    cosz=np.cos(anguloz)\n",
        "    tanx=np.tan(angulox)\n",
        "    tanz=np.tan(anguloz)\n",
        "\n",
        "    matrizangx = angulox\n",
        "    matrizangz = anguloz\n",
        "\n",
        "\n",
        "    sennovox = (sinx)*A + ((1-A**2)**1/2)*(cosx)\n",
        "\n",
        "    cosnovox = (cosx)*A - ((1-A**2)**1/2)*(sinx)\n",
        "\n",
        "    sennovoz = (sinz)*A + ((1-A**2)**1/2)*(cosz)\n",
        "\n",
        "\n",
        "    cosnovoz = (cosz)*A - ((1-A**2)**1/2)*(sinz)\n",
        "\n",
        "    Jb=(4/3)*(M)*((dest)**2)\n",
        "\n",
        "    dt=t[1]-t[0]\n",
        "\n",
        "    d1x=np.gradient(matrizangx,dt)\n",
        "    d1z=np.gradient(matrizangz,dt)\n",
        "\n",
        "    d2x=np.gradient(d1x,dt)\n",
        "    d2z=np.gradient(d1z,dt)\n",
        "\n",
        "    COPX = dest*sennovox + Jb/(M*9.8)*(sennovox*d1x**2-cosnovox*d2x)\n",
        "    COPZ = dest*sennovoz + Jb/(M*9.8)*(sennovoz*d1z**2-cosnovoz*d2z)\n",
        "\n",
        "    COPXES= alpha*(dest*np.tanh(sennovox) + ((Jb/(M*9.8))*np.tanh(sennovox)*d1x**2)) + d2x*(-alpha*np.tanh(cosnovox)*Jb/(M*9.8)+beta) + gama\n",
        "    COPXESorig= COPX\n",
        "\n",
        "    return COPXES"
      ],
      "id": "tLrSwMrY7PqW"
    },
    {
      "cell_type": "code",
      "execution_count": null,
      "metadata": {
        "id": "kUQOrBOI7PqW"
      },
      "outputs": [],
      "source": [
        "def meansquarerror(paramt,COPXtrain,masstrain,ILIACXtrain,ILIACYtrain,ILIACZtrain):\n",
        "\n",
        "    from sklearn.metrics import mean_squared_error\n",
        "\n",
        "    ytrue = np.empty((len(COPXtrain), 60*fs-30))\n",
        "    ypredicted = np.empty((len(COPXtrain),60*fs-30))\n",
        "    A,alpha,beta, gama = paramt\n",
        "    for i in range(0,len(ILIACXtrain)):\n",
        "\n",
        "        ytrue[i] = COPXtrain[i]\n",
        "\n",
        "        ypredicted[i] = centerofpressure(paramt,masstrain[i],ILIACXtrain[i],ILIACYtrain[i],ILIACZtrain[i])\n",
        "    #print(np.any(np.isnan(GTRYtrain)))\n",
        "\n",
        "\n",
        "\n",
        "    return mean_squared_error(ytrue.T, ypredicted.T)\n",
        "\n",
        "\n",
        "\n"
      ],
      "id": "kUQOrBOI7PqW"
    },
    {
      "cell_type": "code",
      "execution_count": null,
      "metadata": {
        "id": "53pdHfQv7PqW"
      },
      "outputs": [],
      "source": [
        "from sklearn.model_selection import train_test_split\n",
        "#from scipy import optmize\n",
        "from scipy.optimize import minimize, rosen, rosen_der\n",
        "first_guess = [1,1,1,1]\n",
        "res = minimize(meansquarerror, first_guess,(COPXtrain,masstrain,ILIACXtrain,ILIACYtrain,ILIACZtrain))\n",
        "coeficientes = res.x\n",
        "A=coeficientes[0]\n",
        "alpha=coeficientes[1]\n",
        "beta=coeficientes[2]\n",
        "gama=coeficientes[3]\n",
        "print(A,alpha,beta,gama)"
      ],
      "id": "53pdHfQv7PqW"
    },
    {
      "cell_type": "code",
      "execution_count": null,
      "metadata": {
        "id": "lILRqNf-7PqX"
      },
      "outputs": [],
      "source": [
        "\n",
        "#treinando=centerofpressure(coeficientes, masstrain,ASISXtrain,ASISYtrain,ASISZtrain)\n",
        "testando = np.empty((len(ILIACXtest), 60*fs-30))\n",
        "for i in range(0,len(ILIACXtest)):\n",
        "  testando[i]=centerofpressure(coeficientes, masstest[i],ILIACXtest[i],ILIACYtest[i],ILIACZtest[i])\n",
        "print(COPXreal)\n",
        "print(testando)\n"
      ],
      "id": "lILRqNf-7PqX"
    },
    {
      "cell_type": "code",
      "execution_count": null,
      "metadata": {
        "id": "pHYxue-b7PqX"
      },
      "outputs": [],
      "source": [
        "time = np.arange(0,6000)/100\n",
        "for i in range(0,len(ILIACXtest)):\n",
        "    plt.figure()\n",
        "    plt.plot(time[:5970],detrend(testando[i]),color='purple',label='COP predicted')\n",
        "    plt.plot(time[:5970],detrend(COPXreal[i]),color='blue', label='COP real')\n",
        "    plt.title('COP real X COP calculated for test {:.1f}'.format(i))\n",
        "    plt.xlabel('Time')\n",
        "    plt.legend()\n",
        "    plt.show()"
      ],
      "id": "pHYxue-b7PqX"
    },
    {
      "cell_type": "markdown",
      "source": [
        "Iliac"
      ],
      "metadata": {
        "id": "iYHSiyWo7PqY"
      },
      "id": "iYHSiyWo7PqY"
    },
    {
      "cell_type": "code",
      "source": [],
      "metadata": {
        "id": "cpDkQNdV7PqY"
      },
      "execution_count": null,
      "outputs": [],
      "id": "cpDkQNdV7PqY"
    },
    {
      "cell_type": "code",
      "execution_count": null,
      "metadata": {
        "id": "GoVwXfnbFCld"
      },
      "outputs": [],
      "source": [
        "file = open('drive/MyDrive/storepsi.pkl','rb')\n",
        "(COPXreal,COPZreal,COPXp,COPZp,d1x,d1z,d2x,d2z,matrizangx,matrizangz,COGX,COGY,COGZ,PSISX,PSISY,PSISZ,angulox,anguloz,d,alpha,subject,ei,sinx,sinz,cosx,cosz,tanx,tanz,COGXtrain,COGYtrain,COGZtrain,COGXtest,COGYtest,COGZtest,PSISXtrain,PSISYtrain,PSISZtrain,PSISXtest,PSISYtest,PSISZtest,COPXtrain,COPXtest,COPZtrain,COPZtest,train,test,masstrain,masstest,subjectp,subjectc,subjecta,t)= pickle.load(file)\n",
        "file.close()"
      ],
      "id": "GoVwXfnbFCld"
    },
    {
      "cell_type": "code",
      "execution_count": null,
      "metadata": {
        "id": "SRiml4t8FCll"
      },
      "outputs": [],
      "source": [
        "def newdist(paramt,x,y,z):\n",
        "    from sklearn.model_selection import train_test_split\n",
        "    from scipy.optimize import minimize, rosen, rosen_der\n",
        "    from sklearn.metrics import mean_squared_error\n",
        "    dest = np.zeros((60*fs-30))\n",
        "    d = np.zeros((60*fs-30))\n",
        "    for i in range(0, len(x)):\n",
        "\n",
        "        delta,mi = paramt\n",
        "\n",
        "        d[i] = np.mean(np.sqrt(x[i]**2+y[i]**2+z[i]**2))\n",
        "\n",
        "        dest[i] = delta * d[i] + mi\n",
        "\n",
        "\n",
        "    return dest\n"
      ],
      "id": "SRiml4t8FCll"
    },
    {
      "cell_type": "code",
      "execution_count": null,
      "metadata": {
        "id": "yiddpwzuFCll"
      },
      "outputs": [],
      "source": [
        "#for i in range(0,len(COGXtrain)):\n",
        "\n",
        "        #d= np.sqrt(COGXtrain[i]**2+COGYtrain[i]**2+COGZtrain[i]**2)\n",
        "\n",
        "def meansquarerrordist(paramt,d,PSISXtrain,PSISYtrain,PSISZtrain):\n",
        "    d = np.zeros((60*fs-30))\n",
        "    from sklearn.metrics import mean_squared_error\n",
        "    ytrue = np.zeros((60*fs-30))\n",
        "    ypredicted = np.zeros((60*fs-30))\n",
        "    for i in range(0,len(PSISXtrain)):\n",
        "\n",
        "        d[i] = np.mean(np.sqrt(COGXtrain[i]**2+COGYtrain[i]**2+COGZtrain[i]**2))\n",
        "\n",
        "        ytrue[i] = d[i]\n",
        "\n",
        "        ypredicted = newdist(paramt,PSISXtrain,PSISYtrain,PSISZtrain)\n",
        "\n",
        "\n",
        "    return mean_squared_error(ytrue, ypredicted)\n"
      ],
      "id": "yiddpwzuFCll"
    },
    {
      "cell_type": "code",
      "execution_count": null,
      "metadata": {
        "id": "UniLhTXFFCll"
      },
      "outputs": [],
      "source": [
        "from sklearn.model_selection import train_test_split\n",
        "#from scipy import optmize\n",
        "from scipy.optimize import minimize, rosen, rosen_der\n",
        "first_guess = [1,1]\n",
        "res = minimize(meansquarerrordist, first_guess,(d,COGXtrain,COGYtrain,COGZtrain))\n",
        "coeficientes = res.x\n",
        "delta=coeficientes[0]\n",
        "mi=coeficientes[1]\n",
        "print(delta)\n",
        "print(mi)"
      ],
      "id": "UniLhTXFFCll"
    },
    {
      "cell_type": "code",
      "execution_count": null,
      "metadata": {
        "id": "tTioqbpCFCll"
      },
      "outputs": [],
      "source": [
        "treino = newdist(coeficientes,COGXtrain,COGYtrain,COGZtrain)\n",
        "teste = newdist(coeficientes,COGXtest,COGYtest,COGZtest)"
      ],
      "id": "tTioqbpCFCll"
    },
    {
      "cell_type": "code",
      "execution_count": null,
      "metadata": {
        "id": "OZlnbV82FCll"
      },
      "outputs": [],
      "source": [
        "def centerofpressure(paramt, M,x,y,z):\n",
        "    from sklearn.model_selection import train_test_split\n",
        "    from scipy.optimize import minimize, rosen, rosen_der\n",
        "    from sklearn.metrics import mean_squared_error\n",
        "\n",
        "    A,alpha,beta, gama= paramt\n",
        "\n",
        "    d = np.mean(np.sqrt(x**2+y**2+z**2))\n",
        "\n",
        "    dest = delta * d + mi\n",
        "\n",
        "    angulox = np.arcsin(np.tanh(x/dest))\n",
        "    anguloz = np.arcsin(np.tanh(z/dest))\n",
        "    sinx=np.sin(angulox)\n",
        "    sinz=np.sin(anguloz)\n",
        "    cosx=np.cos(angulox)\n",
        "    cosz=np.cos(anguloz)\n",
        "    tanx=np.tan(angulox)\n",
        "    tanz=np.tan(anguloz)\n",
        "\n",
        "    matrizangx = angulox\n",
        "    matrizangz = anguloz\n",
        "\n",
        "\n",
        "    sennovox = (sinx)*A + ((1-A**2)**1/2)*(cosx)\n",
        "\n",
        "    cosnovox = (cosx)*A - ((1-A**2)**1/2)*(sinx)\n",
        "\n",
        "    sennovoz = (sinz)*A + ((1-A**2)**1/2)*(cosz)\n",
        "\n",
        "\n",
        "    cosnovoz = (cosz)*A - ((1-A**2)**1/2)*(sinz)\n",
        "\n",
        "    Jb=(4/3)*(M)*((dest)**2)\n",
        "\n",
        "    dt=t[1]-t[0]\n",
        "\n",
        "    d1x=np.gradient(matrizangx,dt)\n",
        "    d1z=np.gradient(matrizangz,dt)\n",
        "\n",
        "    d2x=np.gradient(d1x,dt)\n",
        "    d2z=np.gradient(d1z,dt)\n",
        "\n",
        "    COPX = dest*sennovox + Jb/(M*9.8)*(sennovox*d1x**2-cosnovox*d2x)\n",
        "    COPZ = dest*sennovoz + Jb/(M*9.8)*(sennovoz*d1z**2-cosnovoz*d2z)\n",
        "\n",
        "    COPXES= alpha*(dest*np.tanh(sennovox) + ((Jb/(M*9.8))*np.tanh(sennovox)*d1x**2)) + d2x*(-alpha*np.tanh(cosnovox)*Jb/(M*9.8)+beta) + gama\n",
        "    COPXESorig= COPX\n",
        "\n",
        "    return COPXES"
      ],
      "id": "OZlnbV82FCll"
    },
    {
      "cell_type": "code",
      "execution_count": null,
      "metadata": {
        "id": "Z72cddj-FCll"
      },
      "outputs": [],
      "source": [
        "def meansquarerror(paramt,COPXtrain,masstrain,PSISXtrain,PSISYtrain,PSISZtrain):\n",
        "\n",
        "    from sklearn.metrics import mean_squared_error\n",
        "\n",
        "    ytrue = np.empty((len(COPXtrain), 60*fs-30))\n",
        "    ypredicted = np.empty((len(COPXtrain),60*fs-30))\n",
        "    A,alpha,beta, gama = paramt\n",
        "    for i in range(0,len(PSISXtrain)):\n",
        "\n",
        "        ytrue[i] = COPXtrain[i]\n",
        "\n",
        "        ypredicted[i] = centerofpressure(paramt,masstrain[i],PSISXtrain[i],PSISYtrain[i],PSISZtrain[i])\n",
        "    #print(np.any(np.isnan(GTRYtrain)))\n",
        "\n",
        "\n",
        "\n",
        "    return mean_squared_error(ytrue.T, ypredicted.T)\n",
        "\n",
        "\n",
        "\n"
      ],
      "id": "Z72cddj-FCll"
    },
    {
      "cell_type": "code",
      "execution_count": null,
      "metadata": {
        "id": "uRd2Kl2bFClm"
      },
      "outputs": [],
      "source": [
        "from sklearn.model_selection import train_test_split\n",
        "#from scipy import optmize\n",
        "from scipy.optimize import minimize, rosen, rosen_der\n",
        "first_guess = [1,1,1,1]\n",
        "res = minimize(meansquarerror, first_guess,(COPXtrain,masstrain,PSISXtrain,PSISYtrain,PSISZtrain))\n",
        "coeficientes = res.x\n",
        "A=coeficientes[0]\n",
        "alpha=coeficientes[1]\n",
        "beta=coeficientes[2]\n",
        "gama=coeficientes[3]\n",
        "print(A,alpha,beta,gama)"
      ],
      "id": "uRd2Kl2bFClm"
    },
    {
      "cell_type": "code",
      "execution_count": null,
      "metadata": {
        "id": "hlWgIFK2FClm"
      },
      "outputs": [],
      "source": [
        "\n",
        "#treinando=centerofpressure(coeficientes, masstrain,ASISXtrain,ASISYtrain,ASISZtrain)\n",
        "testando = np.empty((len(PSISXtest), 60*fs-30))\n",
        "for i in range(0,len(PSISXtest)):\n",
        "  testando[i]=centerofpressure(coeficientes, masstest[i],PSISXtest[i],PSISYtest[i],PSISZtest[i])\n",
        "print(COPXreal)\n",
        "print(testando)\n"
      ],
      "id": "hlWgIFK2FClm"
    },
    {
      "cell_type": "code",
      "execution_count": null,
      "metadata": {
        "id": "LhYPNA8XFClm"
      },
      "outputs": [],
      "source": [
        "time = np.arange(0,6000)/100\n",
        "for i in range(0,len(PSISXtest)):\n",
        "    plt.figure()\n",
        "    plt.plot(time[:5970],detrend(testando[i]),color='purple',label='COP predicted')\n",
        "    plt.plot(time[:5970],detrend(COPXreal[i]),color='blue', label='COP real')\n",
        "    plt.title('COP real X COP calculated for test {:.1f}'.format(i))\n",
        "    plt.xlabel('Time')\n",
        "    plt.legend()\n",
        "    plt.show()"
      ],
      "id": "LhYPNA8XFClm"
    },
    {
      "cell_type": "markdown",
      "source": [
        "Iliac"
      ],
      "metadata": {
        "id": "SD3V1mFJFClm"
      },
      "id": "SD3V1mFJFClm"
    },
    {
      "cell_type": "code",
      "source": [],
      "metadata": {
        "id": "WkG25L-RFClm"
      },
      "execution_count": null,
      "outputs": [],
      "id": "WkG25L-RFClm"
    }
  ],
  "metadata": {
    "colab": {
      "provenance": []
    },
    "kernelspec": {
      "display_name": "Python 3",
      "language": "python",
      "name": "python3"
    },
    "language_info": {
      "codemirror_mode": {
        "name": "ipython",
        "version": 3
      },
      "file_extension": ".py",
      "mimetype": "text/x-python",
      "name": "python",
      "nbconvert_exporter": "python",
      "pygments_lexer": "ipython3",
      "version": "3.10.4"
    }
  },
  "nbformat": 4,
  "nbformat_minor": 5
}