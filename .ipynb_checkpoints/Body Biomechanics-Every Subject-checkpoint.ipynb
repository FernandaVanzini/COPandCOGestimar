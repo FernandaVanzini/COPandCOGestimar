{
 "cells": [
  {
   "cell_type": "markdown",
   "metadata": {
    "editable": true
   },
   "source": [
    "## COP and COG estimation by derivative method\n",
    "Trying to estimate COP and COG were used linear function wich didn't give the results expected, therefore we tried to make different approaches and one of them is the next function:\n",
    "COP= COG-(4/g*3*d²derivadasegundaTeta)"
   ]
  },
  {
   "cell_type": "markdown",
   "metadata": {
    "deletable": true,
    "editable": true
   },
   "source": [
    "## Python libraries\n",
    "\n",
    "First, let's import the necessary Python libraries and configure the environment:"
   ]
  },
  {
   "cell_type": "code",
   "execution_count": 2,
   "metadata": {
    "ExecuteTime": {
     "end_time": "2017-02-27T18:50:34.521091Z",
     "start_time": "2017-02-27T15:50:33.800352-03:00"
    },
    "deletable": true,
    "editable": true,
    "tags": []
   },
   "outputs": [],
   "source": [
    "import numpy as np\n",
    "#from scipy.signal import butter, filtfilt\n",
    "import pandas as pd\n",
    "import matplotlib\n",
    "import matplotlib.pyplot as plt\n",
    "import matplotlib.gridspec as gridspec\n",
    "%matplotlib inline\n",
    "#import seaborn as sns\n",
    "#sns.set_context(\"notebook\", font_scale=1.3,\n",
    "#                rc={'lines.linewidth': 1.5, 'lines.markersize': 14, 'axes.titlesize': 'x-large'})\n",
    "#matplotlib.rc('legend', numpoints=1, fontsize=14)\n",
    "#import glob\n",
    "import sys, os\n",
    "sys.path.insert(1, r'./Functions')\n",
    "# IPython widgets:\n",
    "from IPython.display import display\n",
    "import ipywidgets\n",
    "from ipywidgets import FloatProgress, interactive"
   ]
  },
  {
   "cell_type": "markdown",
   "metadata": {
    "deletable": true,
    "editable": true
   },
   "source": [
    "Versions of the Python libraries used:"
   ]
  },
  {
   "cell_type": "code",
   "execution_count": 3,
   "metadata": {
    "collapsed": false,
    "deletable": true,
    "editable": true,
    "jupyter": {
     "outputs_hidden": false
    }
   },
   "outputs": [
    {
     "data": {
      "application/json": {
       "Software versions": [
        {
         "module": "Python",
         "version": "3.8.8 64bit [MSC v.1916 64 bit (AMD64)]"
        },
        {
         "module": "IPython",
         "version": "7.22.0"
        },
        {
         "module": "OS",
         "version": "Windows 10 10.0.22000 SP0"
        },
        {
         "module": "numpy",
         "version": "1.20.1"
        },
        {
         "module": "scipy",
         "version": "1.6.2"
        },
        {
         "module": "pandas",
         "version": "1.2.4"
        },
        {
         "module": "matplotlib",
         "version": "3.3.4"
        },
        {
         "module": "seaborn",
         "version": "0.11.1"
        }
       ]
      },
      "text/html": [
       "<table><tr><th>Software</th><th>Version</th></tr><tr><td>Python</td><td>3.8.8 64bit [MSC v.1916 64 bit (AMD64)]</td></tr><tr><td>IPython</td><td>7.22.0</td></tr><tr><td>OS</td><td>Windows 10 10.0.22000 SP0</td></tr><tr><td>numpy</td><td>1.20.1</td></tr><tr><td>scipy</td><td>1.6.2</td></tr><tr><td>pandas</td><td>1.2.4</td></tr><tr><td>matplotlib</td><td>3.3.4</td></tr><tr><td>seaborn</td><td>0.11.1</td></tr><tr><td colspan='2'>Thu Feb 24 11:56:39 2022 Hora oficial do Brasil</td></tr></table>"
      ],
      "text/latex": [
       "\\begin{tabular}{|l|l|}\\hline\n",
       "{\\bf Software} & {\\bf Version} \\\\ \\hline\\hline\n",
       "Python & 3.8.8 64bit [MSC v.1916 64 bit (AMD64)] \\\\ \\hline\n",
       "IPython & 7.22.0 \\\\ \\hline\n",
       "OS & Windows 10 10.0.22000 SP0 \\\\ \\hline\n",
       "numpy & 1.20.1 \\\\ \\hline\n",
       "scipy & 1.6.2 \\\\ \\hline\n",
       "pandas & 1.2.4 \\\\ \\hline\n",
       "matplotlib & 3.3.4 \\\\ \\hline\n",
       "seaborn & 0.11.1 \\\\ \\hline\n",
       "\\hline \\multicolumn{2}{|l|}{Thu Feb 24 11:56:39 2022 Hora oficial do Brasil} \\\\ \\hline\n",
       "\\end{tabular}\n"
      ],
      "text/plain": [
       "Software versions\n",
       "Python 3.8.8 64bit [MSC v.1916 64 bit (AMD64)]\n",
       "IPython 7.22.0\n",
       "OS Windows 10 10.0.22000 SP0\n",
       "numpy 1.20.1\n",
       "scipy 1.6.2\n",
       "pandas 1.2.4\n",
       "matplotlib 3.3.4\n",
       "seaborn 0.11.1\n",
       "Thu Feb 24 11:56:39 2022 Hora oficial do Brasil"
      ]
     },
     "execution_count": 3,
     "metadata": {},
     "output_type": "execute_result"
    }
   ],
   "source": [
    "#!pip install version_information\n",
    "%load_ext version_information\n",
    "%version_information numpy, scipy, pandas, matplotlib, seaborn"
   ]
  },
  {
   "cell_type": "markdown",
   "metadata": {
    "deletable": true,
    "editable": true
   },
   "source": [
    "## Meta data\n",
    "\n",
    "The file `PDSinfo.txt` contains meta data about the subjects and the experimental trials. The file has a header plus 588 rows per 29 columns (there are 12 rows for each of the 49 subjects).   \n",
    "Let's use the power of the [pandas](http://pandas.pydata.org/) library to load and explore the meta data:"
   ]
  },
  {
   "cell_type": "code",
   "execution_count": 4,
   "metadata": {
    "ExecuteTime": {
     "end_time": "2017-02-27T18:50:34.534681Z",
     "start_time": "2017-02-27T15:50:34.521091-03:00"
    },
    "collapsed": false,
    "deletable": true,
    "editable": true,
    "jupyter": {
     "outputs_hidden": false
    }
   },
   "outputs": [
    {
     "name": "stdout",
     "output_type": "stream",
     "text": [
      "C:\\\\Users\\\\ferna\\\\Downloads\\\\IC- dados\\\\Dados\\PDSinfo.txt\n",
      "Information of 49 subjects loaded (588 rows, 29 columns).\n"
     ]
    }
   ],
   "source": [
    "# GitHub URL:\n",
    "#path2 = 'C:\\Users\\ferna\\Downloads\\IC- dados\\Dados'\n",
    "# local directory:\n",
    "path2 = r'C:\\\\Users\\\\ferna\\\\Downloads\\\\IC- dados\\\\Dados'\n",
    "fname = os.path.join(path2, 'PDSinfo.txt')\n",
    "PDSinfo = pd.read_csv(fname, sep='\\t', header=0, index_col=None, engine='c', encoding='utf-8')\n",
    "print(fname)\n",
    "print(\"Information of %s subjects loaded (%s rows, %s columns).\"\n",
    "      %(len(pd.unique(PDSinfo.Subject)), PDSinfo.shape[0], PDSinfo.shape[1]))"
   ]
  },
  {
   "cell_type": "markdown",
   "metadata": {
    "deletable": true,
    "editable": true
   },
   "source": [
    "Here are the first 12 rows and first 10 columns of meta data:"
   ]
  },
  {
   "cell_type": "markdown",
   "metadata": {
    "deletable": true,
    "editable": true
   },
   "source": [
    "## COP and COG displacements"
   ]
  },
  {
   "cell_type": "markdown",
   "metadata": {},
   "source": [
    "## Subject 150"
   ]
  },
  {
   "cell_type": "code",
   "execution_count": 5,
   "metadata": {
    "ExecuteTime": {
     "end_time": "2017-02-27T18:50:36.895500Z",
     "start_time": "2017-02-27T15:50:36.705289-03:00"
    },
    "collapsed": false,
    "deletable": true,
    "editable": true,
    "jupyter": {
     "outputs_hidden": false
    }
   },
   "outputs": [],
   "source": [
    "fname_grf = os.path.join(path2, PDSinfo.Trial[150] + 'grf' + '.txt') \n",
    "fname_mkr = os.path.join(path2, PDSinfo.Trial[150] + 'mkr' + '.txt')\n",
    "grf1 = pd.read_csv(fname_grf, delimiter='\\t', header=0, engine='c')\n",
    "mkr1 = pd.read_csv(fname_mkr, delimiter='\\t', header=0, engine='c')"
   ]
  },
  {
   "cell_type": "markdown",
   "metadata": {},
   "source": [
    "To calculate the distance in the equation we did the square root of the sum of COG in the 3 dimensions sqaured:"
   ]
  },
  {
   "cell_type": "code",
   "execution_count": 6,
   "metadata": {},
   "outputs": [],
   "source": [
    "COGX1=mkr1['COG_X']\n",
    "COGY1=mkr1['COG_Y']\n",
    "COGZ1=mkr1['COG_Z']\n",
    "d1= (COGX1**2+COGY1**2+COGZ1**2)**0.5"
   ]
  },
  {
   "cell_type": "markdown",
   "metadata": {},
   "source": [
    "Para calcularmos a derivada do ângulo primeiro precisamos achar o próprio ângulo que será dado pelo arcsen(COG/d)"
   ]
  },
  {
   "cell_type": "code",
   "execution_count": 61,
   "metadata": {},
   "outputs": [
    {
     "name": "stdout",
     "output_type": "stream",
     "text": [
      "0       1.342181\n",
      "1       1.342207\n",
      "2       1.342236\n",
      "3       1.342266\n",
      "4       1.342301\n",
      "          ...   \n",
      "5995    1.342664\n",
      "5996    1.342684\n",
      "5997    1.342705\n",
      "5998    1.342726\n",
      "5999    1.342748\n",
      "Length: 6000, dtype: float64\n",
      "0       0.993470\n",
      "1       0.993472\n",
      "2       0.993476\n",
      "3       0.993485\n",
      "4       0.993498\n",
      "          ...   \n",
      "5995    0.993921\n",
      "5996    0.993922\n",
      "5997    0.993922\n",
      "5998    0.993921\n",
      "5999    0.993920\n",
      "Name: COG_Y, Length: 6000, dtype: float64\n"
     ]
    }
   ],
   "source": [
    "angulox= np.arcsin(COGX1/d1)\n",
    "anguloz=np.arcsin(COGZ1/d1)\n",
    "matrizangx=np.array(angulox[30:])\n",
    "matrizangz=np.array(anguloz[30:])"
   ]
  },
  {
   "attachments": {
    "386e5aee-9c67-495e-a8ef-d997b7d20dc9.png": {
     "image/png": "[encoded data removed]"
    }
   },
   "cell_type": "markdown",
   "metadata": {},
   "source": [
    "Para chegarmos na primeira derivada devemos usar a seguinte fórmula \n",
    "![image.png](attachment:386e5aee-9c67-495e-a8ef-d997b7d20dc9.png), onde h+x0 seria a próxima posição, xo a posição em questão e h a variação do tempo"
   ]
  },
  {
   "cell_type": "code",
   "execution_count": 8,
   "metadata": {},
   "outputs": [
    {
     "name": "stdout",
     "output_type": "stream",
     "text": [
      "[-0.00714961 -0.00690753 -0.00656982 ... -0.00207621 -0.00217171\n",
      "  0.        ]\n"
     ]
    }
   ],
   "source": [
    "t=grf1['Time']\n",
    "dt=t[1]-t[0]\n",
    "d1x=np.zeros(len(matrizangx))\n",
    "d1z=np.zeros(len(matrizangz))\n",
    "for i  in range(0,len(matrizangx)-1):\n",
    "    prox=i+1\n",
    "    d1x[i]=(matrizangx[prox]-matrizangx[i])/dt\n",
    "    d1z[i]=(matrizangz[prox]-matrizangz[i])/dt\n",
    "print(d1x)"
   ]
  },
  {
   "cell_type": "markdown",
   "metadata": {},
   "source": [
    "Fazemos então a segunda derivada:"
   ]
  },
  {
   "cell_type": "code",
   "execution_count": 9,
   "metadata": {},
   "outputs": [
    {
     "name": "stdout",
     "output_type": "stream",
     "text": [
      "[0.02420806 0.03377094 0.02642648 ... 0.         0.         0.        ]\n"
     ]
    }
   ],
   "source": [
    "d2x=np.zeros(len(d1x))\n",
    "d2z=np.zeros(len(d1z))\n",
    "for i in range(0,30):\n",
    "    prox=i+1\n",
    "    d2x[i]=(d1x[i+1]-d1x[i])/dt\n",
    "    d2z[i]=(d1z[i+1]-d1z[i])/dt\n",
    "print(d2x)"
   ]
  },
  {
   "cell_type": "markdown",
   "metadata": {},
   "source": [
    "Com as derivadas feitas, precisamos fazer a função em si:"
   ]
  },
  {
   "cell_type": "code",
   "execution_count": 10,
   "metadata": {},
   "outputs": [],
   "source": [
    "COPX1= COGX1[30:] - (4/3)*(d1[30:]**4)*(1/9.8)*d2x\n",
    "COPZ1= COGZ1[30:] - (4/3)*(d1[30:]**4)*(1/9.8)*d2z"
   ]
  },
  {
   "cell_type": "markdown",
   "metadata": {},
   "source": [
    "Para fazer o gráfico comparando o real e o estimado primeiro precisamos do real:"
   ]
  },
  {
   "cell_type": "code",
   "execution_count": 11,
   "metadata": {},
   "outputs": [],
   "source": [
    "COPXreal1=grf1['COPNET_X']\n",
    "COPZreal1=grf1['COPNET_Z']"
   ]
  },
  {
   "cell_type": "code",
   "execution_count": 62,
   "metadata": {},
   "outputs": [
    {
     "data": {
      "image/png": "[encoded data removed]",
      "text/plain": [
       "<Figure size 432x288 with 1 Axes>"
      ]
     },
     "metadata": {
      "needs_background": "light"
     },
     "output_type": "display_data"
    }
   ],
   "source": [
    "plt.plot(t[:-30],COPX1,marker='',color='purple',linestyle='-')\n",
    "plt.plot(t[:-30],COPXreal1[30:],marker='',color='red',linestyle='-')\n",
    "plt.xlabel('Time')\n",
    "plt.ylabel('COP')\n",
    "plt.title('Real and estimated COP of Subject 150')\n",
    "plt.show()"
   ]
  },
  {
   "cell_type": "markdown",
   "metadata": {},
   "source": [
    "Mean Square Error"
   ]
  },
  {
   "cell_type": "code",
   "execution_count": 13,
   "metadata": {},
   "outputs": [
    {
     "name": "stdout",
     "output_type": "stream",
     "text": [
      "0.004952826159672963\n"
     ]
    }
   ],
   "source": [
    "COPX1med=np.mean(COPX1)\n",
    "COPX1realmed=np.mean(COPXreal1)\n",
    "ex1=np.sqrt((COPX1med-COPX1realmed)**2)\n",
    "print(ex1)"
   ]
  },
  {
   "cell_type": "code",
   "execution_count": 14,
   "metadata": {},
   "outputs": [
    {
     "data": {
      "text/plain": [
       "Text(0, 0.5, 'COP')"
      ]
     },
     "execution_count": 14,
     "metadata": {},
     "output_type": "execute_result"
    },
    {
     "data": {
      "image/png": "[encoded data removed]",
      "text/plain": [
       "<Figure size 432x288 with 1 Axes>"
      ]
     },
     "metadata": {
      "needs_background": "light"
     },
     "output_type": "display_data"
    }
   ],
   "source": [
    "plt.plot(t[:-30],COPZ1,marker='',color='purple',linestyle='-')\n",
    "plt.plot(t[:-30],COPZreal1[:-30],marker='',color='red',linestyle='-')\n",
    "plt.xlabel('Time')\n",
    "plt.ylabel('COP')"
   ]
  },
  {
   "cell_type": "markdown",
   "metadata": {},
   "source": [
    "Mean Square Error"
   ]
  },
  {
   "cell_type": "code",
   "execution_count": 15,
   "metadata": {},
   "outputs": [
    {
     "name": "stdout",
     "output_type": "stream",
     "text": [
      "4.253399800316087e-12\n"
     ]
    }
   ],
   "source": [
    "COPZ1med=np.mean(COPZ1)\n",
    "COPZreal1med=np.mean(COPZreal1)\n",
    "ez1=np.square((COPZ1med-COPZreal1med)**2)\n",
    "print(ez1)"
   ]
  },
  {
   "cell_type": "markdown",
   "metadata": {},
   "source": [
    "Now we do the same for other 9 subjects"
   ]
  },
  {
   "cell_type": "markdown",
   "metadata": {},
   "source": [
    "## Subject 44"
   ]
  },
  {
   "cell_type": "code",
   "execution_count": 16,
   "metadata": {},
   "outputs": [],
   "source": [
    "fname_grf2 = os.path.join(path2,PDSinfo.Trial[44]+'grf'+'.txt')\n",
    "fname_mkr2 = os.path.join(path2,PDSinfo.Trial[44]+'mkr'+'.txt')\n",
    "grf2=pd.read_csv(fname_grf2, delimiter='\\t',header=0,engine='c')\n",
    "mkr2=pd.read_csv(fname_mkr2, delimiter='\\t', header=0, engine='c')"
   ]
  },
  {
   "cell_type": "code",
   "execution_count": 17,
   "metadata": {},
   "outputs": [],
   "source": [
    "COGX2=mkr2['COG_X']\n",
    "COGY2=mkr2['COG_Y']\n",
    "COGZ2=mkr2['COG_Z']\n",
    "d2=(COGX2**2+COGY2**2+COGZ2**2)**0.5"
   ]
  },
  {
   "cell_type": "code",
   "execution_count": 18,
   "metadata": {},
   "outputs": [],
   "source": [
    "angulox2=np.arcsin(COGX2/d2)\n",
    "anguloz2=np.arcsin(COGZ2/d2)\n",
    "matrizangx2=np.array(angulox2[30:])\n",
    "matrizangz2=np.array(anguloz2[30:])"
   ]
  },
  {
   "cell_type": "code",
   "execution_count": 19,
   "metadata": {},
   "outputs": [],
   "source": [
    "t=grf2['Time']\n",
    "dt=t[1]-t[0]\n",
    "d1x2=np.zeros(len(matrizangx2))\n",
    "d1z2=np.zeros(len(matrizangz2))\n",
    "for i in range(0,len(matrizangx2)-1):\n",
    "    prox=i+1\n",
    "    d1x2[i]=(matrizangx2[prox]-matrizangx2[i])/dt\n",
    "    d1z2[i]=(matrizangz2[prox]-matrizangz2[i])/dt"
   ]
  },
  {
   "cell_type": "code",
   "execution_count": 20,
   "metadata": {},
   "outputs": [],
   "source": [
    "d2x2=np.zeros(len(d1x2))\n",
    "d2z2=np.zeros(len(d1z2))\n",
    "for i in range(0,30):\n",
    "    prox=i+1\n",
    "    d2x2[i]=(d1x2[prox]-d1x2[i])/dt\n",
    "    d2z2[i]=(d1z2[prox]-d1z2[i])/dt"
   ]
  },
  {
   "cell_type": "code",
   "execution_count": 21,
   "metadata": {},
   "outputs": [],
   "source": [
    "COPX2= COGX2[30:] -(4/3)*(d2[30:]**4)*(1/9.8)*d2x2\n",
    "COPZ2= COGZ2[30:] -(4/3)*(d2[30:]**4)*(1/9.8)*d2z2"
   ]
  },
  {
   "cell_type": "code",
   "execution_count": 22,
   "metadata": {},
   "outputs": [],
   "source": [
    "COPXreal2=grf2['COPNET_X']\n",
    "COPZreal2=grf2['COPNET_Z']"
   ]
  },
  {
   "cell_type": "code",
   "execution_count": 64,
   "metadata": {},
   "outputs": [
    {
     "data": {
      "image/png": "[encoded data removed]",
      "text/plain": [
       "<Figure size 432x288 with 1 Axes>"
      ]
     },
     "metadata": {
      "needs_background": "light"
     },
     "output_type": "display_data"
    }
   ],
   "source": [
    "plt.plot(t[:-30],COPX2,marker='', color='purple', linestyle='-')\n",
    "plt.plot(t[:-30],COPXreal2[30:],marker='',color='red',linestyle='-')\n",
    "plt.xlabel('Time')\n",
    "plt.ylabel('COP')\n",
    "plt.title('Real and estimated COP of Subject 44')\n",
    "plt.show()"
   ]
  },
  {
   "cell_type": "markdown",
   "metadata": {},
   "source": [
    "Mean Square Error"
   ]
  },
  {
   "cell_type": "code",
   "execution_count": 24,
   "metadata": {},
   "outputs": [
    {
     "name": "stdout",
     "output_type": "stream",
     "text": [
      "0.009163029294552927\n"
     ]
    }
   ],
   "source": [
    "COPX2med=np.mean(COPX2)\n",
    "COPXreal2med=np.mean(COPXreal2)\n",
    "ex2=np.sqrt((COPX2med-COPXreal2med)**2)\n",
    "print(ex2)"
   ]
  },
  {
   "cell_type": "code",
   "execution_count": 25,
   "metadata": {},
   "outputs": [
    {
     "data": {
      "text/plain": [
       "Text(0, 0.5, 'COP')"
      ]
     },
     "execution_count": 25,
     "metadata": {},
     "output_type": "execute_result"
    },
    {
     "data": {
      "image/png": "[encoded data removed]",
      "text/plain": [
       "<Figure size 432x288 with 1 Axes>"
      ]
     },
     "metadata": {
      "needs_background": "light"
     },
     "output_type": "display_data"
    }
   ],
   "source": [
    "plt.plot(t[:-30],COPZ2,marker='',color='purple',linestyle='-')\n",
    "plt.plot(t[:-30],COPZreal2[30:],marker='',color='red',linestyle='-')\n",
    "plt.xlabel('Time')\n",
    "plt.ylabel('COP')"
   ]
  },
  {
   "cell_type": "markdown",
   "metadata": {},
   "source": [
    "Mean Square Error"
   ]
  },
  {
   "cell_type": "code",
   "execution_count": 26,
   "metadata": {},
   "outputs": [
    {
     "name": "stdout",
     "output_type": "stream",
     "text": [
      "0.0003221783166044061\n"
     ]
    }
   ],
   "source": [
    "COPZ2med=np.mean(COPZ2)\n",
    "COPZreal2med=np.mean(COPZreal2)\n",
    "ez2=np.sqrt((COPZ2med-COPZreal2med)**2)\n",
    "print(ez2)"
   ]
  },
  {
   "cell_type": "markdown",
   "metadata": {},
   "source": [
    "## Subject 5"
   ]
  },
  {
   "cell_type": "code",
   "execution_count": 27,
   "metadata": {},
   "outputs": [],
   "source": [
    "fname_grf3=os.path.join(path2,PDSinfo.Trial[5] + 'grf'+'.txt')\n",
    "fname_mkr3=os.path.join(path2,PDSinfo.Trial[5]+'mkr'+'.txt')\n",
    "grf3=pd.read_csv(fname_grf3, delimiter='\\t',header=0, engine='c')\n",
    "mkr3=pd.read_csv(fname_mkr3, delimiter='\\t', header=0, engine='c')"
   ]
  },
  {
   "cell_type": "code",
   "execution_count": 28,
   "metadata": {},
   "outputs": [],
   "source": [
    "COGX3=mkr3['COG_X']\n",
    "COGY3=mkr3['COG_Y']\n",
    "COGZ3=mkr3['COG_Z']\n",
    "d3=(COGX3**2+COGY3**2+COGZ3**2)**0.5"
   ]
  },
  {
   "cell_type": "code",
   "execution_count": 29,
   "metadata": {},
   "outputs": [],
   "source": [
    "angulox3=np.arcsin(COGX3/d3)\n",
    "anguloz3=np.arcsin(COGZ3/d3)\n",
    "matrizangx3=np.array(angulox3[30:])\n",
    "matrizangz3=np.array(anguloz3[30:])"
   ]
  },
  {
   "cell_type": "code",
   "execution_count": 30,
   "metadata": {},
   "outputs": [],
   "source": [
    "t3=grf3['Time']\n",
    "dt3=t3[1]-t3[0]\n",
    "d1x3=np.zeros(len(matrizangx3))\n",
    "d1z3=np.zeros(len(matrizangz3))\n",
    "for i in range(0,len(matrizangx3)-1):\n",
    "    prox=i+1\n",
    "    d1x3[i]=(matrizangx3[prox]-matrizangx3[i])/dt3\n",
    "    d1z3[i]=(matrizangz3[prox]-matrizangz3[i])/dt3"
   ]
  },
  {
   "cell_type": "code",
   "execution_count": 31,
   "metadata": {},
   "outputs": [],
   "source": [
    "d2x3=np.zeros(len(d1x3))\n",
    "d2z3=np.zeros(len(d1z3))\n",
    "for i in range(0,30):\n",
    "    prox=i+1\n",
    "    d2x3[i]=(d1x3[prox]-d1x3[i])/dt3\n",
    "    d2z3[i]=(d1z3[prox]-d1z3[i])/dt3"
   ]
  },
  {
   "cell_type": "code",
   "execution_count": 32,
   "metadata": {},
   "outputs": [],
   "source": [
    "COPX3=COGX3[30:]-(4/3)*(d3[30:]**4)*(1/9.8)*d2x3\n",
    "COPZ3=COGZ3[30:]-(4/3)*(d3[30:]**4)*(1/9.8)*d2z3"
   ]
  },
  {
   "cell_type": "code",
   "execution_count": 33,
   "metadata": {},
   "outputs": [],
   "source": [
    "COPX3real=grf3['COPNET_X']\n",
    "COPZ3real=grf3['COPNET_Z']"
   ]
  },
  {
   "cell_type": "code",
   "execution_count": 34,
   "metadata": {},
   "outputs": [
    {
     "data": {
      "text/plain": [
       "Text(0, 0.5, 'COP')"
      ]
     },
     "execution_count": 34,
     "metadata": {},
     "output_type": "execute_result"
    },
    {
     "data": {
      "image/png": "[encoded data removed]",
      "text/plain": [
       "<Figure size 432x288 with 1 Axes>"
      ]
     },
     "metadata": {
      "needs_background": "light"
     },
     "output_type": "display_data"
    }
   ],
   "source": [
    "plt.plot(t[:-30],COPX3, marker='',color='purple',linestyle='-')\n",
    "plt.plot(t[:-30],COPX3real[30:], marker='',color='red',linestyle='-')\n",
    "plt.xlabel('Time')\n",
    "plt.ylabel('COP')"
   ]
  },
  {
   "cell_type": "markdown",
   "metadata": {},
   "source": [
    "Mean Square Error"
   ]
  },
  {
   "cell_type": "code",
   "execution_count": 35,
   "metadata": {},
   "outputs": [
    {
     "name": "stdout",
     "output_type": "stream",
     "text": [
      "3.5864332893625877e-10\n"
     ]
    }
   ],
   "source": [
    "COPX3med=np.mean(COPX3)\n",
    "COPX3realmed=np.mean(COPX3real)\n",
    "ex3=np.square((COPX3med-COPX3realmed)**2)\n",
    "print(ex3)"
   ]
  },
  {
   "cell_type": "code",
   "execution_count": 36,
   "metadata": {},
   "outputs": [
    {
     "data": {
      "text/plain": [
       "Text(0, 0.5, 'COP')"
      ]
     },
     "execution_count": 36,
     "metadata": {},
     "output_type": "execute_result"
    },
    {
     "data": {
      "image/png": "[encoded data removed]",
      "text/plain": [
       "<Figure size 432x288 with 1 Axes>"
      ]
     },
     "metadata": {
      "needs_background": "light"
     },
     "output_type": "display_data"
    }
   ],
   "source": [
    "plt.plot(t[:-30],COPZ3,marker='',color='purple',linestyle='-')\n",
    "plt.plot(t[:-30],COPZ3real[30:],marker='',color='red',linestyle='-')\n",
    "plt.xlabel('Time')\n",
    "plt.ylabel('COP')"
   ]
  },
  {
   "cell_type": "markdown",
   "metadata": {},
   "source": [
    "Mean Square Error"
   ]
  },
  {
   "cell_type": "code",
   "execution_count": 37,
   "metadata": {},
   "outputs": [
    {
     "name": "stdout",
     "output_type": "stream",
     "text": [
      "0.00712572112043559\n"
     ]
    }
   ],
   "source": [
    "COPZ3med=np.mean(COPZ3)\n",
    "COPZ3realmed=np.mean(COPZ3real)\n",
    "ez3=np.sqrt((COPZ3med-COPZ3realmed)**2)\n",
    "print(ez3)"
   ]
  },
  {
   "cell_type": "markdown",
   "metadata": {},
   "source": [
    "## Subject 3"
   ]
  },
  {
   "cell_type": "code",
   "execution_count": 38,
   "metadata": {},
   "outputs": [],
   "source": [
    "fname_grf4=os.path.join(path2,PDSinfo.Trial[3]+'grf'+'.txt')\n",
    "fname_mkr4=os.path.join(path2,PDSinfo.Trial[3]+'mkr'+'.txt')\n",
    "grf4=pd.read_csv(fname_grf4,delimiter='\\t',header=0,engine='c')\n",
    "mkr4=pd.read_csv(fname_mkr4,delimiter='\\t',header=0,engine='c')"
   ]
  },
  {
   "cell_type": "code",
   "execution_count": 39,
   "metadata": {},
   "outputs": [],
   "source": [
    "COGX4=mkr4['COG_X']\n",
    "COGY4=mkr4['COG_Y']\n",
    "COGZ4=mkr4['COG_Z']\n",
    "d4=(COGX4**2+COGY4*2+COGZ4**2)**0.5"
   ]
  },
  {
   "cell_type": "code",
   "execution_count": 40,
   "metadata": {},
   "outputs": [],
   "source": [
    "angulox4=np.arcsin(COGX4/d4)\n",
    "anguloz4=np.arcsin(COGZ4/d4)\n",
    "matrizangx4=np.array(angulox4[30:])\n",
    "matrizangz4=np.array(anguloz4[30:])"
   ]
  },
  {
   "cell_type": "code",
   "execution_count": 41,
   "metadata": {},
   "outputs": [],
   "source": [
    "t4=grf4['Time']\n",
    "dt4=t4[1]-t4[0]\n",
    "d1x4=np.zeros(len(matrizangx4))\n",
    "d1z4=np.zeros(len(matrizangz4))\n",
    "for i in range(0,len(matrizangx4)-1):\n",
    "    prox=i+1\n",
    "    d1x4[i]=(matrizangx4[prox]-matrizangx4[i])/dt4\n",
    "    d1z4[i]=(matrizangz4[prox]-matrizangz4[i])/dt4"
   ]
  },
  {
   "cell_type": "code",
   "execution_count": 42,
   "metadata": {},
   "outputs": [],
   "source": [
    "d2x4=np.zeros(len(d1x4))\n",
    "d2z4=np.zeros(len(d1z4))\n",
    "for i in range(0,30):\n",
    "    prox=i+1\n",
    "    d2x4[i]=(d1x4[prox]-d1x4[i])/dt4\n",
    "    d2z4[i]=(d2z4[prox]-d2z4[i])/dt4"
   ]
  },
  {
   "cell_type": "code",
   "execution_count": 43,
   "metadata": {},
   "outputs": [],
   "source": [
    "COPX4= COGX4[30:] -(4/3)*(d4[30:]**4)*(1/9.8)*d2x4\n",
    "COPZ4= COGZ4[30:] -(4/3)*(d4[30:]**4)*(1/9.8)*d2z4"
   ]
  },
  {
   "cell_type": "code",
   "execution_count": 44,
   "metadata": {},
   "outputs": [],
   "source": [
    "COPX4real=grf4['COPNET_X']\n",
    "COPZ4real=grf4['COPNET_Z']"
   ]
  },
  {
   "cell_type": "code",
   "execution_count": 45,
   "metadata": {},
   "outputs": [
    {
     "data": {
      "text/plain": [
       "Text(0, 0.5, 'COP')"
      ]
     },
     "execution_count": 45,
     "metadata": {},
     "output_type": "execute_result"
    },
    {
     "data": {
      "image/png": "[encoded data removed]",
      "text/plain": [
       "<Figure size 432x288 with 1 Axes>"
      ]
     },
     "metadata": {
      "needs_background": "light"
     },
     "output_type": "display_data"
    }
   ],
   "source": [
    "plt.plot(t[:-30],COPX4,marker='',color='purple',linestyle='-')\n",
    "plt.plot(t[:-30],COPX4real[30:],marker='',color='red',linestyle='-')\n",
    "plt.xlabel('Time')\n",
    "plt.ylabel('COP')"
   ]
  },
  {
   "cell_type": "markdown",
   "metadata": {},
   "source": [
    "Mean Square Error"
   ]
  },
  {
   "cell_type": "code",
   "execution_count": 46,
   "metadata": {},
   "outputs": [
    {
     "name": "stdout",
     "output_type": "stream",
     "text": [
      "0.00555374496822672\n"
     ]
    }
   ],
   "source": [
    "COPX4med=np.mean(COPX4)\n",
    "COPX4realmed=np.mean(COPX4real)\n",
    "ex4=np.sqrt((COPX4med-COPX4realmed)**2)\n",
    "print(ex4)"
   ]
  },
  {
   "cell_type": "code",
   "execution_count": 47,
   "metadata": {},
   "outputs": [
    {
     "data": {
      "text/plain": [
       "Text(0, 0.5, 'COP')"
      ]
     },
     "execution_count": 47,
     "metadata": {},
     "output_type": "execute_result"
    },
    {
     "data": {
      "image/png": "[encoded data removed]",
      "text/plain": [
       "<Figure size 432x288 with 1 Axes>"
      ]
     },
     "metadata": {
      "needs_background": "light"
     },
     "output_type": "display_data"
    }
   ],
   "source": [
    "plt.plot(t[:-30],COPZ4,marker='',color='purple',linestyle='-')\n",
    "plt.plot(t[:-30],COPZ4real[30:],marker='',color='red',linestyle='-')\n",
    "plt.xlabel('Time')\n",
    "plt.ylabel('COP')"
   ]
  },
  {
   "cell_type": "markdown",
   "metadata": {},
   "source": [
    "   Mean Square Error"
   ]
  },
  {
   "cell_type": "code",
   "execution_count": 48,
   "metadata": {},
   "outputs": [
    {
     "name": "stdout",
     "output_type": "stream",
     "text": [
      "0.006081197718592909\n"
     ]
    }
   ],
   "source": [
    "COPZ4med=np.mean(COPZ4)\n",
    "COPZ4realmed=np.mean(COPZ4real)\n",
    "ez4=np.sqrt((COPZ4med-COPZ4realmed)**2)\n",
    "print(ez4)"
   ]
  },
  {
   "cell_type": "markdown",
   "metadata": {},
   "source": [
    "## Subject 63"
   ]
  },
  {
   "cell_type": "code",
   "execution_count": 49,
   "metadata": {},
   "outputs": [],
   "source": [
    "fname_grf5=os.path.join(path2,PDSinfo.Trial[63]+'grf'+'.txt')\n",
    "fname_mkr5=os.path.join(path2,PDSinfo.Trial[63]+'mkr'+'.txt')\n",
    "grf5=pd.read_csv(fname_grf5,delimiter='\\t', header=0, engine='c')\n",
    "mkr5=pd.read_csv(fname_mkr5,delimiter='\\t', header=0, engine='c')"
   ]
  },
  {
   "cell_type": "code",
   "execution_count": 50,
   "metadata": {},
   "outputs": [],
   "source": [
    "COGX5=mkr5['COG_X']\n",
    "COGY5=mkr5['COG_Y']\n",
    "COGZ5=mkr5['COG_Z']\n",
    "d5=(COGX5**2+COGY5**2+COGZ5**2)**0.5"
   ]
  },
  {
   "cell_type": "code",
   "execution_count": 51,
   "metadata": {},
   "outputs": [],
   "source": [
    "angulox5=np.arcsin(COGX5/d5)\n",
    "anguloz5=np.arcsin(COGZ5/d5)\n",
    "matrizangx5=np.array(angulox5[30:])\n",
    "matrizangz5=np.array(anguloz5[30:])"
   ]
  },
  {
   "cell_type": "code",
   "execution_count": 52,
   "metadata": {},
   "outputs": [],
   "source": [
    "t5=grf5['Time']\n",
    "dt5=t5[1]-t5[0]\n",
    "d1x5=np.zeros(len(matrizangx5))\n",
    "d1z5=np.zeros(len(matrizangz5))\n",
    "for i in range(0,len(matrizangx5)-1):\n",
    "    prox=i+1\n",
    "    d1x5[i]=(matrizangx5[prox]-matrizangx5[i])/dt5\n",
    "    d1z5[i]=(matrizangz5[prox]-matrizangz5[i])/dt5"
   ]
  },
  {
   "cell_type": "code",
   "execution_count": 53,
   "metadata": {},
   "outputs": [],
   "source": [
    "d2x5=np.zeros(len(d1x5))\n",
    "d2z5=np.zeros(len(d1z5))\n",
    "for i in range(0,30):\n",
    "    prox=i+1\n",
    "    d2x5[i]=(d1x5[prox]-d1x5[i])/dt5\n",
    "    d2z5[i]=(d1z5[prox]-d1z5[i])/dt5"
   ]
  },
  {
   "cell_type": "code",
   "execution_count": 54,
   "metadata": {},
   "outputs": [],
   "source": [
    "COPX5= COGX5[30:]- (4/3)*(d5[30:]**4)*(1/9.8)*d2x5\n",
    "COPZ5= COGZ5[30:]-(4/3)*(d5[30:]**4)*(1/9.8)*d2z5"
   ]
  },
  {
   "cell_type": "code",
   "execution_count": 55,
   "metadata": {},
   "outputs": [],
   "source": [
    "COPXreal5=grf5['COPNET_X']\n",
    "COPZreal5=grf5['COPNET_Z']"
   ]
  },
  {
   "cell_type": "code",
   "execution_count": 56,
   "metadata": {},
   "outputs": [
    {
     "data": {
      "text/plain": [
       "Text(0, 0.5, 'COP')"
      ]
     },
     "execution_count": 56,
     "metadata": {},
     "output_type": "execute_result"
    },
    {
     "data": {
      "image/png": "[encoded data removed]",
      "text/plain": [
       "<Figure size 432x288 with 1 Axes>"
      ]
     },
     "metadata": {
      "needs_background": "light"
     },
     "output_type": "display_data"
    }
   ],
   "source": [
    "plt.plot(t[:-30],COPX5, marker='',color='purple',linestyle='-')\n",
    "plt.plot(t[:-30],COPXreal5[30:],marker='',color='red',linestyle='-')\n",
    "plt.xlabel('Time')\n",
    "plt.ylabel('COP')"
   ]
  },
  {
   "cell_type": "markdown",
   "metadata": {},
   "source": [
    "Mean Square Error"
   ]
  },
  {
   "cell_type": "code",
   "execution_count": 57,
   "metadata": {},
   "outputs": [
    {
     "name": "stdout",
     "output_type": "stream",
     "text": [
      "1.734003013315523e-07\n"
     ]
    }
   ],
   "source": [
    "COPX5med=np.mean(COPX5)\n",
    "COPXreal5=np.mean(COPXreal5)\n",
    "ex5=np.square((COPX5med-COPXreal5)**2)\n",
    "print(ex5)"
   ]
  },
  {
   "cell_type": "code",
   "execution_count": 58,
   "metadata": {},
   "outputs": [
    {
     "data": {
      "text/plain": [
       "Text(0, 0.5, 'COP')"
      ]
     },
     "execution_count": 58,
     "metadata": {},
     "output_type": "execute_result"
    },
    {
     "data": {
      "image/png": "[encoded data removed]",
      "text/plain": [
       "<Figure size 432x288 with 1 Axes>"
      ]
     },
     "metadata": {
      "needs_background": "light"
     },
     "output_type": "display_data"
    }
   ],
   "source": [
    "plt.plot(t[:-30],COPZ5, marker='',color='purple',linestyle='-')\n",
    "plt.plot(t[:-30],COPZreal5[30:],marker='',color='red',linestyle='-')\n",
    "plt.xlabel('Time')\n",
    "plt.ylabel('COP')"
   ]
  },
  {
   "cell_type": "markdown",
   "metadata": {},
   "source": [
    "Mean Square Error"
   ]
  },
  {
   "cell_type": "code",
   "execution_count": 59,
   "metadata": {},
   "outputs": [
    {
     "ename": "NameError",
     "evalue": "name 'COPZreal' is not defined",
     "output_type": "error",
     "traceback": [
      "\u001b[1;31m---------------------------------------------------------------------------\u001b[0m",
      "\u001b[1;31mNameError\u001b[0m                                 Traceback (most recent call last)",
      "\u001b[1;32m<ipython-input-59-9e72242c2296>\u001b[0m in \u001b[0;36m<module>\u001b[1;34m\u001b[0m\n\u001b[0;32m      1\u001b[0m \u001b[0mCOPZ5med\u001b[0m\u001b[1;33m=\u001b[0m\u001b[0mnp\u001b[0m\u001b[1;33m.\u001b[0m\u001b[0mmean\u001b[0m\u001b[1;33m(\u001b[0m\u001b[0mCOPZ5\u001b[0m\u001b[1;33m)\u001b[0m\u001b[1;33m\u001b[0m\u001b[1;33m\u001b[0m\u001b[0m\n\u001b[1;32m----> 2\u001b[1;33m \u001b[0mCOPZreal5med\u001b[0m\u001b[1;33m=\u001b[0m\u001b[0mnp\u001b[0m\u001b[1;33m.\u001b[0m\u001b[0mmean\u001b[0m\u001b[1;33m(\u001b[0m\u001b[0mCOPZreal\u001b[0m\u001b[1;33m)\u001b[0m\u001b[1;33m\u001b[0m\u001b[1;33m\u001b[0m\u001b[0m\n\u001b[0m\u001b[0;32m      3\u001b[0m \u001b[0mez5\u001b[0m\u001b[1;33m=\u001b[0m\u001b[0mnp\u001b[0m\u001b[1;33m.\u001b[0m\u001b[0msqrt\u001b[0m\u001b[1;33m(\u001b[0m\u001b[1;33m(\u001b[0m\u001b[0mCOPZ5med\u001b[0m\u001b[1;33m-\u001b[0m\u001b[0mCOPZreal5med\u001b[0m\u001b[1;33m)\u001b[0m\u001b[1;33m**\u001b[0m\u001b[1;36m2\u001b[0m\u001b[1;33m)\u001b[0m\u001b[1;33m\u001b[0m\u001b[1;33m\u001b[0m\u001b[0m\n\u001b[0;32m      4\u001b[0m \u001b[0mprint\u001b[0m\u001b[1;33m(\u001b[0m\u001b[0mez5\u001b[0m\u001b[1;33m)\u001b[0m\u001b[1;33m\u001b[0m\u001b[1;33m\u001b[0m\u001b[0m\n",
      "\u001b[1;31mNameError\u001b[0m: name 'COPZreal' is not defined"
     ]
    }
   ],
   "source": [
    "COPZ5med=np.mean(COPZ5)\n",
    "COPZreal5med=np.mean(COPZreal)\n",
    "ez5=np.sqrt((COPZ5med-COPZreal5med)**2)\n",
    "print(ez5)"
   ]
  },
  {
   "cell_type": "markdown",
   "metadata": {},
   "source": [
    "\n",
    "## Subject 77"
   ]
  },
  {
   "cell_type": "code",
   "execution_count": null,
   "metadata": {},
   "outputs": [],
   "source": [
    "fname_grf6=os.path.join(path2,PDSinfo.Trial[77]+'grf'+'.txt')\n",
    "fname_mkr6=os.path.join(path2,PDSinfo.Trial[77]+'mkr'+'.txt')\n",
    "grf6=pd.read_csv(fname_grf6,delimiter='\\t',header=0,engine='c')\n",
    "mkr6=pd.read_csv(fname_mkr6,delimiter='\\t',header=0,engine='c')"
   ]
  },
  {
   "cell_type": "code",
   "execution_count": null,
   "metadata": {},
   "outputs": [],
   "source": [
    "COGX6=mkr6['COG_X']\n",
    "COGY6=mkr6['COG_Y']\n",
    "COGZ6=mkr6['COG_Z']\n",
    "d6=(COGX6**2+COGY6**2+COGZ6**2)**0.5"
   ]
  },
  {
   "cell_type": "code",
   "execution_count": null,
   "metadata": {},
   "outputs": [],
   "source": [
    "angulox6=np.arcsin(COGX6/d6)\n",
    "anguloz6=np.arcsin(COGZ6/d6)\n",
    "matrizangx6=np.array(angulox6[30:])\n",
    "matrizangz6=np.array(anguloz6[30:])"
   ]
  },
  {
   "cell_type": "code",
   "execution_count": null,
   "metadata": {},
   "outputs": [],
   "source": [
    "t6=grf6['Time']\n",
    "dt6=t6[1]-t6[0]\n",
    "d1x6=np.zeros(len(matrizangx6))\n",
    "d1z6=np.zeros(len(matrizangz6))\n",
    "for i in range(0,len(matrizangx6)-1):\n",
    "    prox=i+1\n",
    "    d1x6[i]=(matrizangx6[prox]-matrizangx[i])/dt6\n",
    "    d1z6[i]=(matrizangz6[prox]-matrizangz6[i])/dt6"
   ]
  },
  {
   "cell_type": "code",
   "execution_count": null,
   "metadata": {},
   "outputs": [],
   "source": [
    "d2x6=np.zeros(len(d1x6))\n",
    "d2z6=np.zeros(len(d1z6))\n",
    "for i in range(0,30):\n",
    "    prox=i+1\n",
    "    d2x6[i]=(d1x6[prox]-d1x6[i])/dt6\n",
    "    d2z6[i]=(d1z6[prox]-d1z6[i])/dt6"
   ]
  },
  {
   "cell_type": "code",
   "execution_count": null,
   "metadata": {},
   "outputs": [],
   "source": [
    "COPX6= COGX6[30:]-(4/3)*(d6[30:]**4)*(1/9.8)*d2x6\n",
    "COPZ6= COGZ6[30:]-(4/3)*(d6[30:]**4)*(1/9.8)*d2z6"
   ]
  },
  {
   "cell_type": "code",
   "execution_count": null,
   "metadata": {},
   "outputs": [],
   "source": [
    "COPXreal6=grf6['COPNET_X']\n",
    "COPZreal6=grf6['COPNET_Z']"
   ]
  },
  {
   "cell_type": "code",
   "execution_count": null,
   "metadata": {},
   "outputs": [],
   "source": [
    "plt.plot(t[:-30],COPX6,marker='',color='purple',linestyle='-')\n",
    "plt.plot(t[:-30],COPXreal6[30:],marker='',color='red',linestyle='-')\n",
    "plt.xlabel('Time')\n",
    "plt.ylabel('COP')"
   ]
  },
  {
   "cell_type": "code",
   "execution_count": null,
   "metadata": {},
   "outputs": [],
   "source": [
    "COPX6med=np.mean(COPX6)\n",
    "COPXreal6med=np.mean(COPXreal6)\n",
    "ex6=np.sqrt((COPX6med-COPXreal6med)**2)\n",
    "print(ex6)"
   ]
  },
  {
   "cell_type": "code",
   "execution_count": null,
   "metadata": {},
   "outputs": [],
   "source": [
    "plt.plot(t[:-30],COPZ6, marker='',color='purple',linestyle='-')\n",
    "plt.plot(t[:-30],COPZreal6[30:],marker='',color='red',linestyle='-')\n",
    "plt.xlabel('Time')\n",
    "plt.ylabel('COP')"
   ]
  },
  {
   "cell_type": "code",
   "execution_count": null,
   "metadata": {},
   "outputs": [],
   "source": [
    "COPZ6med=np.mean(COPZ6)\n",
    "COPZreal6med=np.mean(COPZreal6)\n",
    "ez6=np.sqrt((COPZ6med-COPZreal6med)**2)\n",
    "print(ez6)"
   ]
  },
  {
   "cell_type": "markdown",
   "metadata": {},
   "source": [
    "## Subject 16"
   ]
  },
  {
   "cell_type": "code",
   "execution_count": null,
   "metadata": {},
   "outputs": [],
   "source": [
    "fname_grf7=os.path.join(path2,PDSinfo.Trial[16]+'grf' + '.txt')\n",
    "fname_mkr7=os.path.join(path2,PDSinfo.Trial[16]+'mkr'+ '.txt')\n",
    "grf7=pd.read_csv(fname_grf7,delimiter='\\t',header=0,engine='c')\n",
    "mkr7=pd.read_csv(fname_mkr7,delimiter='\\t',header=0,engine='c')"
   ]
  },
  {
   "cell_type": "code",
   "execution_count": null,
   "metadata": {},
   "outputs": [],
   "source": [
    "COGX7=mkr7['COG_X']\n",
    "COGY7=mkr7['COG_Y']\n",
    "COGZ7=mkr7['COG_Z']\n",
    "d7=(COGX7**2+COGY7**2+COGZ7**2)*0.5"
   ]
  },
  {
   "cell_type": "code",
   "execution_count": null,
   "metadata": {},
   "outputs": [],
   "source": [
    "angulox7=np.arcsin(COGX7/d7)\n",
    "anguloz7=np.arcsin(COGZ7/d7)\n",
    "matrizangx7=np.array(angulox7[30:])\n",
    "matrizangz7=np.array(anguloz7[30:])"
   ]
  },
  {
   "cell_type": "code",
   "execution_count": null,
   "metadata": {},
   "outputs": [],
   "source": [
    "t7=grf7['Time']\n",
    "dt7=t7[1]-t7[0]\n",
    "d1x7=np.zeros(len(matrizangx7))\n",
    "d1z7=np.zeros(len(matrizangz7))\n",
    "for i in range(0,len(matrizangx7)-1):\n",
    "    prox=i+1\n",
    "    d1x7[i]=(matrizangx7[prox]-matrizangx7[i])/dt7\n",
    "    d1z7[i]=(matrizangz7[prox]-matrizangz7[i])/dt7"
   ]
  },
  {
   "cell_type": "code",
   "execution_count": null,
   "metadata": {},
   "outputs": [],
   "source": [
    "d2x7=np.zeros(len(d1x7))\n",
    "d2z7=np.zeros(len(d1z7))\n",
    "for i in range(0,30):\n",
    "    prox=i+1\n",
    "    d2x7=(d1x7[prox]-d1x7[i])/dt7\n",
    "    d2z7=(d1z7[prox]-d1z7[i])/dt7"
   ]
  },
  {
   "cell_type": "code",
   "execution_count": null,
   "metadata": {},
   "outputs": [],
   "source": [
    "COPX7= COGX7[30:] - (4/3)*(d7[30:]**4)*(1/9.8)*d2x7\n",
    "COPZ7= COGZ7[30:] - (4/3)*(d7[30:]**4)*(1/9.8)*d2z7"
   ]
  },
  {
   "cell_type": "code",
   "execution_count": null,
   "metadata": {},
   "outputs": [],
   "source": [
    "COPXreal7=grf7['COPNET_X']\n",
    "COPZreal7=grf7['COPNET_Z']"
   ]
  },
  {
   "cell_type": "code",
   "execution_count": null,
   "metadata": {},
   "outputs": [],
   "source": [
    "plt.plot(t[:-30],COPX7, marker='',color='purple',linestyle='-')\n",
    "plt.plot(t[:-30],COPXreal7[30:],marker='',color='red',linestyle='-')\n",
    "plt.xlabel('Time')\n",
    "plt.ylabel('COP')"
   ]
  },
  {
   "cell_type": "code",
   "execution_count": null,
   "metadata": {},
   "outputs": [],
   "source": [
    "COPX7med=np.mean(COPX7)\n",
    "COPXreal7med=np.mean(COPXreal7)\n",
    "ex7=np.sqrt((COPX7med-COPXreal7med)**2)\n",
    "print(ex7)"
   ]
  },
  {
   "cell_type": "code",
   "execution_count": null,
   "metadata": {},
   "outputs": [],
   "source": [
    "plt.plot(t[:-30], COPZ7, marker='',color='purple',linestyle='-')\n",
    "plt.plot(t[:-30], COPZreal7[30:],marker='',color='red',linestyle='-')\n",
    "plt.xlabel('Time')\n",
    "plt.ylabel('COP')"
   ]
  },
  {
   "cell_type": "code",
   "execution_count": null,
   "metadata": {},
   "outputs": [],
   "source": [
    "COPZ7med=np.mean(COPZ7)\n",
    "COPZreal7med=np.mean(COPZreal7)\n",
    "ez7=np.sqrt((COPZ7med-COPZreal7med)**2)\n",
    "print(ez7)"
   ]
  },
  {
   "cell_type": "markdown",
   "metadata": {},
   "source": [
    "## Subject 47"
   ]
  },
  {
   "cell_type": "markdown",
   "metadata": {},
   "source": [
    "Getting the data:"
   ]
  },
  {
   "cell_type": "code",
   "execution_count": null,
   "metadata": {},
   "outputs": [],
   "source": [
    "fname_grf8=os.path.join(path2,PDSinfo.Trial[47]+'grf'+'.txt')\n",
    "fname_mkr8=os.path.join(path2,PDSinfo.Trial[47]+'mkr'+'.txt')\n",
    "grf8=pd.read_csv(fname_grf8,delimiter='\\t',header=0,engine='c')\n",
    "mkr8=pd.read_csv(fname_mkr8,delimiter='\\t', header=0, engine='c')"
   ]
  },
  {
   "cell_type": "markdown",
   "metadata": {},
   "source": [
    "Getting the COG data and calculating the distance:"
   ]
  },
  {
   "cell_type": "code",
   "execution_count": null,
   "metadata": {},
   "outputs": [],
   "source": [
    "COGX8=mkr8['COG_X']\n",
    "COGY8=mkr8['COG_Y']\n",
    "COGZ8=mkr8['COG_Z']\n",
    "d8=(COGX8**2+COGY8**2+COGZ8**2)**0.5"
   ]
  },
  {
   "cell_type": "markdown",
   "metadata": {},
   "source": [
    "Calculating the angles:"
   ]
  },
  {
   "cell_type": "code",
   "execution_count": null,
   "metadata": {},
   "outputs": [],
   "source": [
    "angulox8=np.arcsin(COGX8/d8)\n",
    "anguloz8=np.arcsin(COGZ8/d8)\n",
    "matrizangx8=np.array(angulox8[30:])\n",
    "matrizangz8=np.array(anguloz8[30:])"
   ]
  },
  {
   "cell_type": "markdown",
   "metadata": {},
   "source": [
    "Now we calculate the first derivative"
   ]
  },
  {
   "cell_type": "code",
   "execution_count": null,
   "metadata": {},
   "outputs": [],
   "source": [
    "t8=grf8['Time']\n",
    "dt8=t8[1]-t8[0]\n",
    "d1x8=np.zeros(len(matrizangx8))\n",
    "d1z8=np.zeros(len(matrizangz8))\n",
    "for i in range(0,len(matrizangx8)-1):\n",
    "    prox=i+1\n",
    "    d1x8[i]=(matrizangx8[prox]-matrizangx8[i])/dt8\n",
    "    d1z8[i]=(matrizangz8[prox]-matrizangz8[i])/dt8"
   ]
  },
  {
   "cell_type": "markdown",
   "metadata": {},
   "source": [
    "For the second derivative:"
   ]
  },
  {
   "cell_type": "code",
   "execution_count": null,
   "metadata": {},
   "outputs": [],
   "source": [
    "d2x8=np.zeros(len(d1x8))\n",
    "d2z8=np.zeros(len(d1z8))\n",
    "for i in range(0,30):\n",
    "    prox=i+1\n",
    "    d2x8[i]=(d1x8[prox]-d1x8[i])/dt8\n",
    "    d2z8[i]=(d1z8[prox]-d1z8[i])/dt8"
   ]
  },
  {
   "cell_type": "markdown",
   "metadata": {},
   "source": [
    "Now we calculate the equation in question:"
   ]
  },
  {
   "cell_type": "code",
   "execution_count": null,
   "metadata": {},
   "outputs": [],
   "source": [
    "COPX8= COGX8[30:] -(4/3)*(d8[30:]**4)*(1/9.8)*d2x8\n",
    "COPZ8= COGZ8[30:] -(4/3)*(d8[30:]**4)*(1/9.8)*d2z8"
   ]
  },
  {
   "cell_type": "code",
   "execution_count": null,
   "metadata": {},
   "outputs": [],
   "source": [
    "COPXreal8=grf8['COPNET_X']\n",
    "COPZreal8=grf8['COPNET_Z']"
   ]
  },
  {
   "cell_type": "code",
   "execution_count": null,
   "metadata": {},
   "outputs": [],
   "source": [
    "plt.plot(t[:-30],COPX8, marker='',color='purple',linestyle='-')\n",
    "plt.plot(t[:-30],COPXreal8[30:],marker='',color='red',linestyle='-')\n",
    "plt.xlabel('Time')\n",
    "plt.ylabel('COP')"
   ]
  },
  {
   "cell_type": "code",
   "execution_count": null,
   "metadata": {},
   "outputs": [],
   "source": [
    "COPX8med=np.mean(COPX8)\n",
    "COPXreal8med=np.mean(COPXreal8)\n",
    "ex8=np.sqrt((COPX8med-COPXreal8med)**2)\n",
    "print(ex8)"
   ]
  },
  {
   "cell_type": "code",
   "execution_count": null,
   "metadata": {},
   "outputs": [],
   "source": [
    "plt.plot(t[:-30],COPZ8,marker='', color='purple', linestyle='-')\n",
    "plt.plot(t[:-30],COPZreal8[30:],marker='',color='red',linestyle='-')\n",
    "plt.xlabel('Time')\n",
    "plt.ylabel('COP')"
   ]
  },
  {
   "cell_type": "code",
   "execution_count": null,
   "metadata": {},
   "outputs": [],
   "source": [
    "COPZ8med=np.mean(COPZ8)\n",
    "COPZreal8med=np.mean(COPZreal8)\n",
    "ez8=np.sqrt((COPZ8med-COPZreal8med)**2)\n",
    "print(ez8)"
   ]
  },
  {
   "cell_type": "markdown",
   "metadata": {},
   "source": [
    "## Subject 10"
   ]
  },
  {
   "cell_type": "markdown",
   "metadata": {},
   "source": [
    "Getting the data:"
   ]
  },
  {
   "cell_type": "code",
   "execution_count": null,
   "metadata": {},
   "outputs": [],
   "source": [
    "fname_grf9=os.path.join(path2,PDSinfo.Trial[10]+'grf'+'.txt')\n",
    "fname_mkr9=os.path.join(path2,PDSinfo.Trial[10]+'mkr'+'.txt')\n",
    "grf9=pd.read_csv(fname_grf9,delimiter='\\t', header=0,engine='c')\n",
    "mkr9=pd.read_csv(fname_mkr9,delimiter='\\t', header=0, engine='c')"
   ]
  },
  {
   "cell_type": "markdown",
   "metadata": {},
   "source": [
    "Getting the COG data and calculating the distance:"
   ]
  },
  {
   "cell_type": "code",
   "execution_count": null,
   "metadata": {},
   "outputs": [],
   "source": [
    "COGX9=mkr9['COG_X']\n",
    "COGY9=mkr9['COG_Y']\n",
    "COGZ9=mkr9['COG_Z']\n",
    "d9=(COGX9**2+COGY9**2+COGZ9**2)**0.5"
   ]
  },
  {
   "cell_type": "markdown",
   "metadata": {},
   "source": [
    "Calculating the angles:"
   ]
  },
  {
   "cell_type": "code",
   "execution_count": null,
   "metadata": {},
   "outputs": [],
   "source": [
    "angulox9=np.arcsin(COGX9/d9)\n",
    "anguloz9=np.arcsin(COGZ9/d9)\n",
    "matrizangx9=np.array(COGX9[30:])\n",
    "matrizangz9=np.array(COGZ9[30:])"
   ]
  },
  {
   "cell_type": "markdown",
   "metadata": {},
   "source": [
    "Now we calculate the first derivative"
   ]
  },
  {
   "cell_type": "code",
   "execution_count": null,
   "metadata": {},
   "outputs": [],
   "source": [
    "t9=grf9['Time']\n",
    "dt9=t9[1]-t9[0]\n",
    "d1x9=np.zeros(len(matrizangx9))\n",
    "d1z9=np.zeros(len(matrizangz9))\n",
    "for i in range(0,len(matrizangx9)-1):\n",
    "    prox=i+1\n",
    "    d1x9[i]=(matrizangx9[prox]-matrizangx9[i])/dt9\n",
    "    d1z9[i]=(matrizangz9[prox]-matrizangz9[i])/dt9"
   ]
  },
  {
   "cell_type": "markdown",
   "metadata": {},
   "source": [
    "Now we calculate the second derivative"
   ]
  },
  {
   "cell_type": "code",
   "execution_count": null,
   "metadata": {},
   "outputs": [],
   "source": [
    "d2x9=np.zeros(len(d1x9))\n",
    "d2z9=np.zeros(len(d1z9))\n",
    "for i in range(0,30):\n",
    "    prox=i+1\n",
    "    d2x9[i]=(d1x9[prox]-d1x9[i])/dt9\n",
    "    d2z9[i]=(d1z9[prox]-d1z9[i])/dt9"
   ]
  },
  {
   "cell_type": "markdown",
   "metadata": {},
   "source": [
    "With the second derivative it is possible to use the equation"
   ]
  },
  {
   "cell_type": "code",
   "execution_count": null,
   "metadata": {},
   "outputs": [],
   "source": [
    "COPX9=COGX9[30:]-(4/3)*(d9[30:]**4)*(1/9.8)*d2x9\n",
    "COPZ9=COGZ9[30:]-(4/3)*(d9[30:]**4)*(1/9.8)*d2z9"
   ]
  },
  {
   "cell_type": "code",
   "execution_count": null,
   "metadata": {},
   "outputs": [],
   "source": [
    "COPXreal9=grf9['COPNET_X']\n",
    "COPZreal9=grf9['COPNET_Z']"
   ]
  },
  {
   "cell_type": "code",
   "execution_count": null,
   "metadata": {},
   "outputs": [],
   "source": [
    "plt.plot(t9[:-30],COPX9,marker='',color='purple',linestyle='-')\n",
    "plt.plot(t9[:-30],COPXreal9[30:],marker='',color='red',linestyle='-')\n",
    "plt.xlabel('Time')\n",
    "plt.ylabel('COP')"
   ]
  },
  {
   "cell_type": "code",
   "execution_count": null,
   "metadata": {},
   "outputs": [],
   "source": [
    "COPX9med=np.mean(COPX9)\n",
    "COPXreal9med=np.mean(COPXreal)\n",
    "ex9=np.sqrt((COPX9med-COPXreal9med)**2)\n",
    "print(ex9)"
   ]
  },
  {
   "cell_type": "code",
   "execution_count": null,
   "metadata": {},
   "outputs": [],
   "source": [
    "plt.plot(t9[:-30],COPZ9,marker='',color='purple',linestyle='-')\n",
    "plt.plot(t9[:-30],COPZreal9[30:],marker='',color='red',linestyle='-')\n",
    "plt.xlabel('Time')\n",
    "plt.ylabel('COP')"
   ]
  },
  {
   "cell_type": "code",
   "execution_count": null,
   "metadata": {},
   "outputs": [],
   "source": [
    "COPZ9med=np.mean(COPZ9)\n",
    "COPZreal9med=np.mean(COPZreal9)\n",
    "ex9=np.sqrt((COPZ9med-COPZreal9med)**2)\n",
    "print(ex9)"
   ]
  },
  {
   "cell_type": "markdown",
   "metadata": {},
   "source": [
    "## Subject 19"
   ]
  },
  {
   "cell_type": "markdown",
   "metadata": {},
   "source": [
    "Collect the data"
   ]
  },
  {
   "cell_type": "code",
   "execution_count": null,
   "metadata": {},
   "outputs": [],
   "source": [
    "fname_grf10=os.path.join(path2,PDSinfo.Trial[9]+'grf'+'.txt')\n",
    "fname_mkr10=os.path.join(path2,PDSinfo.Trial[9]+'mkr'+'.txt')\n",
    "grf10=pd.read_csv(fname_grf10, delimiter='\\t', header=0, engine='c')\n",
    "mkr10=pd.read_csv(fname_mkr10, delimiter='\\t', header=0, engine='c')"
   ]
  },
  {
   "cell_type": "markdown",
   "metadata": {},
   "source": [
    "Collect the COG data and distance"
   ]
  },
  {
   "cell_type": "code",
   "execution_count": null,
   "metadata": {},
   "outputs": [],
   "source": [
    "COGX10=mkr10['COG_X']\n",
    "COGY10=mkr10['COG_Y']\n",
    "COGZ10=mkr10['COG_Z']\n",
    "d10=(COGX10**2+COGY10**2+COGZ10**2)**0.5"
   ]
  },
  {
   "cell_type": "markdown",
   "metadata": {},
   "source": [
    "Calculating the angles:"
   ]
  },
  {
   "cell_type": "code",
   "execution_count": null,
   "metadata": {},
   "outputs": [],
   "source": [
    "angulox10=np.arcsin(COGX10/d10)\n",
    "anguloz10=np.arcsin(COGZ10/d10)\n",
    "matrizangx10=np.array(angulox10[30:])\n",
    "matrizangz10=np.array(anguloz10[30:])"
   ]
  },
  {
   "cell_type": "markdown",
   "metadata": {},
   "source": [
    "After that is calculated the first derivative:"
   ]
  },
  {
   "cell_type": "code",
   "execution_count": null,
   "metadata": {},
   "outputs": [],
   "source": [
    "t10=grf10['Time']\n",
    "dt10=t10[1]-t10[0]\n",
    "d1x10=np.zeros(len(matrizangx10))\n",
    "d1z10=np.zeros(len(matrizangz10))\n",
    "for i in range(0,len(matrizangx10)-1):\n",
    "    prox=i+1\n",
    "    d1x10[i]=(matrizangx10[prox]-matrizangx10[i])/dt10\n",
    "    d1z10[i]=(matrizangz10[prox]-matrizangz10[i])/dt10"
   ]
  },
  {
   "cell_type": "markdown",
   "metadata": {},
   "source": [
    "Now it is possible to have the second derivative"
   ]
  },
  {
   "cell_type": "code",
   "execution_count": null,
   "metadata": {},
   "outputs": [],
   "source": [
    "d2x10=np.zeros(len(d1x10))\n",
    "d2z10=np.zeros(len(d1z10))\n",
    "for i in range(0,30):\n",
    "    prox=i+1\n",
    "    d2x10[i]=(d1x10[prox]-d1x10[i])/dt10\n",
    "    d2z10[i]=(d1z10[prox]-d1z10[i])/dt10"
   ]
  },
  {
   "cell_type": "markdown",
   "metadata": {},
   "source": [
    "And it is possible to calculate the estimative COP"
   ]
  },
  {
   "cell_type": "code",
   "execution_count": null,
   "metadata": {},
   "outputs": [],
   "source": [
    "COPX10= COGX10[30:]-(4/3)*(d10[30:]**4)*(1/9.8)*d2x10\n",
    "COPZ10= COGZ10[30:]-(4/3)*(d10[30:]**4)*(1/9.8)*d2z10"
   ]
  },
  {
   "cell_type": "markdown",
   "metadata": {},
   "source": [
    "For the graphics we can take the real values for COP"
   ]
  },
  {
   "cell_type": "code",
   "execution_count": null,
   "metadata": {},
   "outputs": [],
   "source": [
    "COPXreal10=grf10['COPNET_X']\n",
    "COPZreal10=grf10['COPNET_Z']"
   ]
  },
  {
   "cell_type": "markdown",
   "metadata": {},
   "source": [
    "We can have the graphics now"
   ]
  },
  {
   "cell_type": "code",
   "execution_count": null,
   "metadata": {},
   "outputs": [],
   "source": [
    "plt.plot(t10[:-30],COPX10,marker='',color='purple',linestyle='-')\n",
    "plt.plot(t10[:-30],COPXreal10[30:],marker='',color='red',linestyle='-')\n",
    "plt.xlabel('Time')\n",
    "plt.ylabel('COP')"
   ]
  },
  {
   "cell_type": "code",
   "execution_count": null,
   "metadata": {},
   "outputs": [],
   "source": [
    "COPX10med=np.mean(COPX10)\n",
    "COPXreal10med=np.mean(COPXreal10)\n",
    "ex10=np.sqrt((COPX10med-COPXreal10med)**2)\n",
    "print(ex10)"
   ]
  },
  {
   "cell_type": "code",
   "execution_count": null,
   "metadata": {},
   "outputs": [],
   "source": [
    "plt.plot(t10[:-30],COPZ10,marker='',color='purple',linestyle='-')\n",
    "plt.plot(t10[:-30],COPZreal10[30:],marker='',color='red',linestyle='-')\n",
    "plt.xlabel('Time')\n",
    "plt.ylabel('COP')"
   ]
  },
  {
   "cell_type": "code",
   "execution_count": null,
   "metadata": {},
   "outputs": [],
   "source": [
    "COPZ10med=np.mean(COPZ10)\n",
    "COPZreal10med=np.mean(COPZreal10)\n",
    "ez10=np.sqrt((COPZ10med-COPZreal10med)**2)\n",
    "print(ez10)"
   ]
  },
  {
   "cell_type": "markdown",
   "metadata": {},
   "source": [
    "## Subject 12"
   ]
  },
  {
   "cell_type": "markdown",
   "metadata": {},
   "source": [
    "Collecting the data:"
   ]
  },
  {
   "cell_type": "code",
   "execution_count": null,
   "metadata": {},
   "outputs": [],
   "source": [
    "fname_grf11=os.path.join(path2,PDSinfo.Trial[12]+'grf'+'.txt')\n",
    "fname_mkr11=os.path.join(path2,PDSinfo.Trial[12]+'mkr'+'.txt')\n",
    "grf11=pd.read_csv(fname_grf11,delimiter='\\t',header=0,engine='c')\n",
    "mkr11=pd.read_csv(fname_mkr11,delimiter='\\t',header=0,engine='c')"
   ]
  },
  {
   "cell_type": "markdown",
   "metadata": {},
   "source": [
    "Collecting COG data and distance"
   ]
  },
  {
   "cell_type": "code",
   "execution_count": null,
   "metadata": {},
   "outputs": [],
   "source": [
    "COGX11=mkr11['COG_X']\n",
    "COGY11=mkr11['COG_Y']\n",
    "COGZ11=mkr11['COG_Z']\n",
    "d11=(COGX11**2+COGY11**2+COGZ11**2)**0.5"
   ]
  },
  {
   "cell_type": "markdown",
   "metadata": {},
   "source": [
    "Collecting the angles:"
   ]
  },
  {
   "cell_type": "code",
   "execution_count": null,
   "metadata": {},
   "outputs": [],
   "source": [
    "angulox11=np.arcsin(COGX10/d11)\n",
    "anguloz11=np.arcsin(COGZ10/d11)\n",
    "matrizangx11=np.array(angulox11[30:])\n",
    "matrizangz11=np.array(anguloz11[30:])"
   ]
  },
  {
   "cell_type": "markdown",
   "metadata": {},
   "source": [
    "Calculating the first derivative:"
   ]
  },
  {
   "cell_type": "code",
   "execution_count": null,
   "metadata": {},
   "outputs": [],
   "source": [
    "t11=grf11['Time']\n",
    "dt11=t11[1]-t11[0]\n",
    "d1x11=np.zeros(len(matrizangx11))\n",
    "d1z11=np.zeros(len(matrizangz11))\n",
    "for i in range(0,len(matrizangx11)-1):\n",
    "    prox=i+1\n",
    "    d1x11[i]=(matrizangx11[prox]-matrizangx11[i])/dt11\n",
    "    d1z11[i]=(matrizangz11[prox]-matrizangz11[i])/dt11"
   ]
  },
  {
   "cell_type": "markdown",
   "metadata": {},
   "source": [
    "For the second derivative:"
   ]
  },
  {
   "cell_type": "code",
   "execution_count": null,
   "metadata": {},
   "outputs": [],
   "source": [
    "d2x11=np.zeros(len(d1x11))\n",
    "d2z11=np.zeros(len(d1z11))\n",
    "for i in range(0,30):\n",
    "    prox=i+1\n",
    "    d2x11[i]=(d1x11[prox]-d1x11[i])/dt11\n",
    "    d2z11[i]=(d1z11[prox]-d1z11[i])/dt11"
   ]
  },
  {
   "cell_type": "markdown",
   "metadata": {},
   "source": [
    "Calculating the COP estimation:"
   ]
  },
  {
   "cell_type": "code",
   "execution_count": null,
   "metadata": {},
   "outputs": [],
   "source": [
    "COPX11=COGX11[30:]-(4/3)*(d11[30:]**4)*(1/9.8)*d2x11\n",
    "COPZ11=COGZ11[30:]-(4/3)*(d11[30:]**4)*(1/9.8)*d2z11"
   ]
  },
  {
   "cell_type": "markdown",
   "metadata": {},
   "source": [
    "The actual values of the COP:"
   ]
  },
  {
   "cell_type": "code",
   "execution_count": null,
   "metadata": {},
   "outputs": [],
   "source": [
    "COPXreal11=grf11['COPNET_X']\n",
    "COPZreal11=grf11['COPNET_Z']"
   ]
  },
  {
   "cell_type": "code",
   "execution_count": null,
   "metadata": {},
   "outputs": [],
   "source": [
    "plt.plot(t11[:-30],COPX11,marker='',color='purple',linestyle='-')\n",
    "plt.plot(t11[:-30],COPXreal11[30:],marker='',color='red',linestyle='-')\n",
    "plt.xlabel('Time')\n",
    "plt.ylabel('COP')"
   ]
  },
  {
   "cell_type": "code",
   "execution_count": null,
   "metadata": {},
   "outputs": [],
   "source": [
    "COPX11med=np.mean(COPX11)\n",
    "COPXreal11med=np.mean(COPXreal11)\n",
    "ex11=np.sqrt((COPX11med-COPXreal11med)**2)\n",
    "print(ex11)"
   ]
  },
  {
   "cell_type": "code",
   "execution_count": null,
   "metadata": {},
   "outputs": [],
   "source": [
    "plt.plot(t11[:-30],COPZ11,marker='',color='purple',linestyle='-')\n",
    "plt.plot(t11[:-30],COPZreal11[30:],marker='',color='red',linestyle='-')\n",
    "plt.xlabel('Time')\n",
    "plt.ylabel('COP')"
   ]
  },
  {
   "cell_type": "code",
   "execution_count": null,
   "metadata": {},
   "outputs": [],
   "source": [
    "COPZ11med=np.mean(COPZ11)\n",
    "COPZreal11med=np.mean(COPZreal11)\n",
    "ez11=np.sqrt((COPZ11med-COPZreal11med)**2)\n",
    "print(ez11)"
   ]
  },
  {
   "cell_type": "code",
   "execution_count": null,
   "metadata": {},
   "outputs": [],
   "source": []
  },
  {
   "cell_type": "code",
   "execution_count": null,
   "metadata": {},
   "outputs": [],
   "source": []
  },
  {
   "cell_type": "code",
   "execution_count": null,
   "metadata": {},
   "outputs": [],
   "source": []
  }
 ],
 "metadata": {
  "anaconda-cloud": {},
  "hide_input": false,
  "kernelspec": {
   "display_name": "Python 3",
   "language": "python",
   "name": "python3"
  },
  "language_info": {
   "codemirror_mode": {
    "name": "ipython",
    "version": 3
   },
   "file_extension": ".py",
   "mimetype": "text/x-python",
   "name": "python",
   "nbconvert_exporter": "python",
   "pygments_lexer": "ipython3",
   "version": "3.8.8"
  },
  "widgets": {
   "state": {
    "a16d9c9faf9c48c7af730aca51dc2a05": {
     "views": [
      {
       "cell_index": 25
      }
     ]
    },
    "be16c4e214eb40cf976ed257dbdbc5e5": {
     "views": [
      {
       "cell_index": 40
      }
     ]
    }
   },
   "version": "1.2.0"
  }
 },
 "nbformat": 4,
 "nbformat_minor": 4
}
