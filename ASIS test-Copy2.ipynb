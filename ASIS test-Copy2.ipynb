{
 "cells": [
  {
   "cell_type": "code",
   "execution_count": 2,
   "id": "4d6f2b2e-9889-4f20-a259-70287557fe9a",
   "metadata": {
    "ExecuteTime": {
     "end_time": "2017-02-27T18:50:34.521091Z",
     "start_time": "2017-02-27T15:50:33.800352-03:00"
    },
    "editable": true,
    "tags": []
   },
   "outputs": [],
   "source": [
    "import numpy as np\n",
    "#from scipy.signal import butter, filtfilt\n",
    "import pandas as pd\n",
    "import matplotlib\n",
    "import matplotlib.pyplot as plt\n",
    "import matplotlib.gridspec as gridspec\n",
    "%matplotlib inline\n",
    "#import seaborn as sns\n",
    "#sns.set_context(\"notebook\", font_scale=1.3,\n",
    "#                rc={'lines.linewidth': 1.5, 'lines.markersize': 14, 'axes.titlesize': 'x-large'})\n",
    "#matplotlib.rc('legend', numpoints=1, fontsize=14)\n",
    "#import glob\n",
    "import sys, os\n",
    "sys.path.insert(1, r'./Functions')\n",
    "# IPython widgets:\n",
    "from IPython.display import display\n",
    "import ipywidgets\n",
    "from ipywidgets import FloatProgress, interactive\n",
    "import seaborn as sns\n",
    "from scipy.signal import detrend"
   ]
  },
  {
   "cell_type": "code",
   "execution_count": 3,
   "id": "b6a86806-06a6-4230-a0e4-3dcc4c587c23",
   "metadata": {
    "collapsed": false,
    "editable": true,
    "jupyter": {
     "outputs_hidden": false
    },
    "tags": []
   },
   "outputs": [
    {
     "data": {
      "application/json": {
       "Software versions": [
        {
         "module": "Python",
         "version": "3.8.8 64bit [MSC v.1916 64 bit (AMD64)]"
        },
        {
         "module": "IPython",
         "version": "7.22.0"
        },
        {
         "module": "OS",
         "version": "Windows 10 10.0.22621 SP0"
        },
        {
         "module": "numpy",
         "version": "1.20.1"
        },
        {
         "module": "scipy",
         "version": "1.6.2"
        },
        {
         "module": "pandas",
         "version": "1.2.4"
        },
        {
         "module": "matplotlib",
         "version": "3.3.4"
        },
        {
         "module": "seaborn",
         "version": "0.11.1"
        }
       ]
      },
      "text/html": [
       "<table><tr><th>Software</th><th>Version</th></tr><tr><td>Python</td><td>3.8.8 64bit [MSC v.1916 64 bit (AMD64)]</td></tr><tr><td>IPython</td><td>7.22.0</td></tr><tr><td>OS</td><td>Windows 10 10.0.22621 SP0</td></tr><tr><td>numpy</td><td>1.20.1</td></tr><tr><td>scipy</td><td>1.6.2</td></tr><tr><td>pandas</td><td>1.2.4</td></tr><tr><td>matplotlib</td><td>3.3.4</td></tr><tr><td>seaborn</td><td>0.11.1</td></tr><tr><td colspan='2'>Thu Apr 27 13:14:56 2023 Hora oficial do Brasil</td></tr></table>"
      ],
      "text/latex": [
       "\\begin{tabular}{|l|l|}\\hline\n",
       "{\\bf Software} & {\\bf Version} \\\\ \\hline\\hline\n",
       "Python & 3.8.8 64bit [MSC v.1916 64 bit (AMD64)] \\\\ \\hline\n",
       "IPython & 7.22.0 \\\\ \\hline\n",
       "OS & Windows 10 10.0.22621 SP0 \\\\ \\hline\n",
       "numpy & 1.20.1 \\\\ \\hline\n",
       "scipy & 1.6.2 \\\\ \\hline\n",
       "pandas & 1.2.4 \\\\ \\hline\n",
       "matplotlib & 3.3.4 \\\\ \\hline\n",
       "seaborn & 0.11.1 \\\\ \\hline\n",
       "\\hline \\multicolumn{2}{|l|}{Thu Apr 27 13:14:56 2023 Hora oficial do Brasil} \\\\ \\hline\n",
       "\\end{tabular}\n"
      ],
      "text/plain": [
       "Software versions\n",
       "Python 3.8.8 64bit [MSC v.1916 64 bit (AMD64)]\n",
       "IPython 7.22.0\n",
       "OS Windows 10 10.0.22621 SP0\n",
       "numpy 1.20.1\n",
       "scipy 1.6.2\n",
       "pandas 1.2.4\n",
       "matplotlib 3.3.4\n",
       "seaborn 0.11.1\n",
       "Thu Apr 27 13:14:56 2023 Hora oficial do Brasil"
      ]
     },
     "execution_count": 3,
     "metadata": {},
     "output_type": "execute_result"
    }
   ],
   "source": [
    "#!pip install version_information\n",
    "%load_ext version_information\n",
    "%version_information numpy, scipy, pandas, matplotlib, seaborn"
   ]
  },
  {
   "cell_type": "code",
   "execution_count": 4,
   "id": "43e6855e-f2a8-45c3-b876-864fd3b24795",
   "metadata": {
    "ExecuteTime": {
     "end_time": "2017-02-27T18:50:34.534681Z",
     "start_time": "2017-02-27T15:50:34.521091-03:00"
    },
    "collapsed": false,
    "editable": true,
    "jupyter": {
     "outputs_hidden": false
    },
    "tags": []
   },
   "outputs": [
    {
     "name": "stdout",
     "output_type": "stream",
     "text": [
      "C:\\\\Users\\\\ferna\\\\Downloads\\\\IC- dados\\\\Dados\\PDSinfo.txt\n",
      "Information of 49 subjects loaded (588 rows, 29 columns).\n"
     ]
    }
   ],
   "source": [
    "# GitHub URL:\n",
    "#path2 = 'C:\\Users\\ferna\\Downloads\\IC- dados\\Dados'\n",
    "#local directory:\n",
    "path2 = r'C:\\\\Users\\\\ferna\\\\Downloads\\\\IC- dados\\\\Dados'\n",
    "#path2 = '/home/rnwatanabe/copdata'\n",
    "fname = os.path.join(path2, 'PDSinfo.txt')\n",
    "PDSinfo = pd.read_csv(fname, sep='\\t', header=0, index_col=None, engine='c', encoding='utf-8')\n",
    "print(fname)\n",
    "print(\"Information of %s subjects loaded (%s rows, %s columns).\"\n",
    "      %(len(pd.unique(PDSinfo.Subject)), PDSinfo.shape[0], PDSinfo.shape[1]))"
   ]
  },
  {
   "cell_type": "code",
   "execution_count": 5,
   "id": "980b8fea-56f9-4a6b-93de-a2c44fffce60",
   "metadata": {
    "tags": []
   },
   "outputs": [
    {
     "data": {
      "text/plain": [
       "Index                 128\n",
       "Trial                4704\n",
       "Subject              4704\n",
       "Vision               4704\n",
       "Surface              4704\n",
       "Rep                  4704\n",
       "Age                  4704\n",
       "AgeGroup             4704\n",
       "Gender               4704\n",
       "Height               4704\n",
       "Mass                 4704\n",
       "BMI                  4704\n",
       "FootLen              4704\n",
       "DominantLeg          4704\n",
       "Nationality          4704\n",
       "SkinColor            4704\n",
       "Ystudy               4704\n",
       "Footwear             4704\n",
       "Illness              4704\n",
       "Illness2             4704\n",
       "Nmedication          4704\n",
       "Medication           4704\n",
       "Ortho-Prosthesis     4704\n",
       "Ortho-Prosthesis2    4704\n",
       "Disability           4704\n",
       "Disability2          4704\n",
       "Falls12m             4704\n",
       "PhysicalActivity     4704\n",
       "Sequence             4704\n",
       "Date                 4704\n",
       "dtype: int64"
      ]
     },
     "execution_count": 5,
     "metadata": {},
     "output_type": "execute_result"
    }
   ],
   "source": [
    "a=PDSinfo[PDSinfo['Subject']==44].index.tolist()\n",
    "e=PDSinfo[PDSinfo['Subject']==44].index.tolist()[2]\n",
    "ei = PDSinfo[PDSinfo['Subject']==44]\n",
    "PDSinfo.memory_usage()"
   ]
  },
  {
   "cell_type": "code",
   "execution_count": 8,
   "id": "7ec60844-868c-4cc3-a9df-9f7e1f2e07fd",
   "metadata": {},
   "outputs": [
    {
     "name": "stdout",
     "output_type": "stream",
     "text": [
      "        Trial  Subject  Vision Surface  Rep    Age AgeGroup Gender  Height  \\\n",
      "0    PDS01OR1        1    Open   Rigid    1  25.67    Young      M    1.72   \n",
      "1    PDS01OR2        1    Open   Rigid    2  25.67    Young      M    1.72   \n",
      "2    PDS01OR3        1    Open   Rigid    3  25.67    Young      M    1.72   \n",
      "3    PDS01OF1        1    Open    Foam    1  25.67    Young      M    1.72   \n",
      "4    PDS01OF2        1    Open    Foam    2  25.67    Young      M    1.72   \n",
      "..        ...      ...     ...     ...  ...    ...      ...    ...     ...   \n",
      "583  PDS49CR2       49  Closed   Rigid    2  64.92      Old      F    1.58   \n",
      "584  PDS49CR3       49  Closed   Rigid    3  64.92      Old      F    1.58   \n",
      "585  PDS49CF1       49  Closed    Foam    1  64.92      Old      F    1.58   \n",
      "586  PDS49CF2       49  Closed    Foam    2  64.92      Old      F    1.58   \n",
      "587  PDS49CF3       49  Closed    Foam    3  64.92      Old      F    1.58   \n",
      "\n",
      "      Mass  ...  Nmedication  \\\n",
      "0    74.30  ...            0   \n",
      "1    74.30  ...            0   \n",
      "2    74.30  ...            0   \n",
      "3    74.30  ...            0   \n",
      "4    74.30  ...            0   \n",
      "..     ...  ...          ...   \n",
      "583  60.75  ...            3   \n",
      "584  60.75  ...            3   \n",
      "585  60.75  ...            3   \n",
      "586  60.75  ...            3   \n",
      "587  60.75  ...            3   \n",
      "\n",
      "                                            Medication Ortho-Prosthesis  \\\n",
      "0                                                   No              Yes   \n",
      "1                                                   No              Yes   \n",
      "2                                                   No              Yes   \n",
      "3                                                   No              Yes   \n",
      "4                                                   No              Yes   \n",
      "..                                                 ...              ...   \n",
      "583  HMG-CoA reductase inhibitor, Synthetic thyroid...              Yes   \n",
      "584  HMG-CoA reductase inhibitor, Synthetic thyroid...              Yes   \n",
      "585  HMG-CoA reductase inhibitor, Synthetic thyroid...              Yes   \n",
      "586  HMG-CoA reductase inhibitor, Synthetic thyroid...              Yes   \n",
      "587  HMG-CoA reductase inhibitor, Synthetic thyroid...              Yes   \n",
      "\n",
      "                   Ortho-Prosthesis2 Disability         Disability2 Falls12m  \\\n",
      "0                    Corrective lens         No                  No        0   \n",
      "1                    Corrective lens         No                  No        0   \n",
      "2                    Corrective lens         No                  No        0   \n",
      "3                    Corrective lens         No                  No        0   \n",
      "4                    Corrective lens         No                  No        0   \n",
      "..                               ...        ...                 ...      ...   \n",
      "583  Corrective lens, Dental implant        Yes  Hearing (Left ear)        0   \n",
      "584  Corrective lens, Dental implant        Yes  Hearing (Left ear)        0   \n",
      "585  Corrective lens, Dental implant        Yes  Hearing (Left ear)        0   \n",
      "586  Corrective lens, Dental implant        Yes  Hearing (Left ear)        0   \n",
      "587  Corrective lens, Dental implant        Yes  Hearing (Left ear)        0   \n",
      "\n",
      "    PhysicalActivity        Sequence                     Date  \n",
      "0                  1  OR, OF, CF, CR  2016-08-01 11:00:17.753  \n",
      "1                  1  OR, OF, CF, CR  2016-08-01 11:00:17.753  \n",
      "2                  1  OR, OF, CF, CR  2016-08-01 11:00:17.753  \n",
      "3                  1  OR, OF, CF, CR  2016-08-01 11:00:17.753  \n",
      "4                  1  OR, OF, CF, CR  2016-08-01 11:00:17.753  \n",
      "..               ...             ...                      ...  \n",
      "583                0  CF, OF, CR, OR  2016-12-06 09:33:45.819  \n",
      "584                0  CF, OF, CR, OR  2016-12-06 09:33:45.819  \n",
      "585                0  CF, OF, CR, OR  2016-12-06 09:33:45.819  \n",
      "586                0  CF, OF, CR, OR  2016-12-06 09:33:45.819  \n",
      "587                0  CF, OF, CR, OR  2016-12-06 09:33:45.819  \n",
      "\n",
      "[588 rows x 29 columns]\n"
     ]
    }
   ],
   "source": [
    "trial = 0\n",
    "fs = 100 # Hz\n",
    "COGX = np.empty((49*12, 60*fs-30))\n",
    "for s in range(1,50):\n",
    "    ei = PDSinfo[PDSinfo['Subject']==s].index.tolist()\n",
    "    for i in range(0,len(ei)):\n",
    "        a = ei[i]\n",
    "        fname_grf = os.path.join(path2, PDSinfo.Trial[a] + 'grf' + '.txt') \n",
    "        fname_mkr = os.path.join(path2, PDSinfo.Trial[a] + 'mkr' + '.txt')\n",
    "        grf = pd.read_csv(fname_grf, delimiter='\\t', header=0, engine='c')\n",
    "        mkr = pd.read_csv(fname_mkr, delimiter='\\t', header=0, engine='c')\n",
    "        \n",
    "    \n",
    "    trial = trial + 1\n",
    "print(PDSinfo)\n",
    "#cu = mkr.isna().sum().any()\n",
    "#print(np.where(cu !=0))\n",
    "#print(mkr.isna())\n",
    "#print(mkr[1].isna().sum())  \n",
    "#print(mkr.isna().any())\n",
    "#mkr.isna().sum().sort_values()[20:30]\n",
    "#for i in range(0,131):\n",
    " #   mkr.isna().sum().sort_values()[i:10*i]\n",
    "#if mkr.[mkr.columns].isna().sum() >0:\n",
    "# print(mkr.columns)\n",
    "#mkr['Time'].isna().sum().any()\n",
    "#print(mkr['COG_X'].isna().any()\n",
    "#print(COGX[32])\n",
    "#print(COGX[384])\n",
    "#np.delete(COGX, 384)\n",
    "#print(COGX[384])\n",
    "#print(np.argwhere(np.isnan(COGX).any()))"
   ]
  },
  {
   "cell_type": "code",
   "execution_count": null,
   "id": "cf0dfcf3-a159-48a0-a9c4-b091672cab01",
   "metadata": {},
   "outputs": [],
   "source": []
  }
 ],
 "metadata": {
  "kernelspec": {
   "display_name": "Python 3",
   "language": "python",
   "name": "python3"
  },
  "language_info": {
   "codemirror_mode": {
    "name": "ipython",
    "version": 3
   },
   "file_extension": ".py",
   "mimetype": "text/x-python",
   "name": "python",
   "nbconvert_exporter": "python",
   "pygments_lexer": "ipython3",
   "version": "3.8.8"
  }
 },
 "nbformat": 4,
 "nbformat_minor": 5
}
