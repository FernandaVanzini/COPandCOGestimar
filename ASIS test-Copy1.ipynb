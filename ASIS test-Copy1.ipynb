{
 "cells": [
  {
   "cell_type": "code",
   "execution_count": 1,
   "id": "4d6f2b2e-9889-4f20-a259-70287557fe9a",
   "metadata": {
    "ExecuteTime": {
     "end_time": "2017-02-27T18:50:34.521091Z",
     "start_time": "2017-02-27T15:50:33.800352-03:00"
    },
    "editable": true,
    "tags": []
   },
   "outputs": [],
   "source": [
    "import numpy as np\n",
    "#from scipy.signal import butter, filtfilt\n",
    "import pandas as pd\n",
    "import matplotlib\n",
    "import matplotlib.pyplot as plt\n",
    "import matplotlib.gridspec as gridspec\n",
    "%matplotlib inline\n",
    "#import seaborn as sns\n",
    "#sns.set_context(\"notebook\", font_scale=1.3,\n",
    "#                rc={'lines.linewidth': 1.5, 'lines.markersize': 14, 'axes.titlesize': 'x-large'})\n",
    "#matplotlib.rc('legend', numpoints=1, fontsize=14)\n",
    "#import glob\n",
    "import sys, os\n",
    "sys.path.insert(1, r'./Functions')\n",
    "# IPython widgets:\n",
    "from IPython.display import display\n",
    "#%pip install ipywidgets\n",
    "#jupyter labextension install @jupyter-widgets/jupyterlab-manager\n",
    "#import ipywidgets\n",
    "#from ipywidgets import FloatProgress, interactive\n",
    "import seaborn as sns\n",
    "from scipy.signal import detrend\n",
    "import pickle"
   ]
  },
  {
   "cell_type": "code",
   "execution_count": 2,
   "id": "b6a86806-06a6-4230-a0e4-3dcc4c587c23",
   "metadata": {
    "collapsed": false,
    "editable": true,
    "jupyter": {
     "outputs_hidden": false
    },
    "tags": []
   },
   "outputs": [
    {
     "name": "stdout",
     "output_type": "stream",
     "text": [
      "Requirement already satisfied: version_information in /usr/local/python/3.10.4/lib/python3.10/site-packages (1.0.4)\n",
      "\n",
      "\u001b[1m[\u001b[0m\u001b[34;49mnotice\u001b[0m\u001b[1;39;49m]\u001b[0m\u001b[39;49m A new release of pip is available: \u001b[0m\u001b[31;49m23.1.1\u001b[0m\u001b[39;49m -> \u001b[0m\u001b[32;49m23.1.2\u001b[0m\n",
      "\u001b[1m[\u001b[0m\u001b[34;49mnotice\u001b[0m\u001b[1;39;49m]\u001b[0m\u001b[39;49m To update, run: \u001b[0m\u001b[32;49mpip install --upgrade pip\u001b[0m\n",
      "Note: you may need to restart the kernel to use updated packages.\n"
     ]
    },
    {
     "data": {
      "application/json": {
       "Software versions": [
        {
         "module": "Python",
         "version": "3.10.4 64bit [GCC 9.4.0]"
        },
        {
         "module": "IPython",
         "version": "8.12.0"
        },
        {
         "module": "OS",
         "version": "Linux 5.15.0 1038 azure x86_64 with glibc2.31"
        },
        {
         "module": "numpy",
         "version": "1.24.3"
        },
        {
         "module": "scipy",
         "version": "1.10.1"
        },
        {
         "module": "pandas",
         "version": "2.0.1"
        },
        {
         "module": "matplotlib",
         "version": "3.7.1"
        },
        {
         "module": "seaborn",
         "version": "0.12.2"
        }
       ]
      },
      "text/html": [
       "<table><tr><th>Software</th><th>Version</th></tr><tr><td>Python</td><td>3.10.4 64bit [GCC 9.4.0]</td></tr><tr><td>IPython</td><td>8.12.0</td></tr><tr><td>OS</td><td>Linux 5.15.0 1038 azure x86\\_64 with glibc2.31</td></tr><tr><td>numpy</td><td>1.24.3</td></tr><tr><td>scipy</td><td>1.10.1</td></tr><tr><td>pandas</td><td>2.0.1</td></tr><tr><td>matplotlib</td><td>3.7.1</td></tr><tr><td>seaborn</td><td>0.12.2</td></tr><tr><td colspan='2'>Sat Jun 03 01:12:42 2023 UTC</td></tr></table>"
      ],
      "text/latex": [
       "\\begin{tabular}{|l|l|}\\hline\n",
       "{\\bf Software} & {\\bf Version} \\\\ \\hline\\hline\n",
       "Python & 3.10.4 64bit [GCC 9.4.0] \\\\ \\hline\n",
       "IPython & 8.12.0 \\\\ \\hline\n",
       "OS & Linux 5.15.0 1038 azure x86\\_64 with glibc2.31 \\\\ \\hline\n",
       "numpy & 1.24.3 \\\\ \\hline\n",
       "scipy & 1.10.1 \\\\ \\hline\n",
       "pandas & 2.0.1 \\\\ \\hline\n",
       "matplotlib & 3.7.1 \\\\ \\hline\n",
       "seaborn & 0.12.2 \\\\ \\hline\n",
       "\\hline \\multicolumn{2}{|l|}{Sat Jun 03 01:12:42 2023 UTC} \\\\ \\hline\n",
       "\\end{tabular}\n"
      ],
      "text/plain": [
       "Software versions\n",
       "Python 3.10.4 64bit [GCC 9.4.0]\n",
       "IPython 8.12.0\n",
       "OS Linux 5.15.0 1038 azure x86_64 with glibc2.31\n",
       "numpy 1.24.3\n",
       "scipy 1.10.1\n",
       "pandas 2.0.1\n",
       "matplotlib 3.7.1\n",
       "seaborn 0.12.2\n",
       "Sat Jun 03 01:12:42 2023 UTC"
      ]
     },
     "execution_count": 2,
     "metadata": {},
     "output_type": "execute_result"
    }
   ],
   "source": [
    "%pip install version_information\n",
    "%load_ext version_information\n",
    "%version_information numpy, scipy, pandas, matplotlib, seaborn"
   ]
  },
  {
   "cell_type": "code",
   "execution_count": 3,
   "id": "43e6855e-f2a8-45c3-b876-864fd3b24795",
   "metadata": {
    "ExecuteTime": {
     "end_time": "2017-02-27T18:50:34.534681Z",
     "start_time": "2017-02-27T15:50:34.521091-03:00"
    },
    "collapsed": false,
    "editable": true,
    "jupyter": {
     "outputs_hidden": false
    },
    "tags": []
   },
   "outputs": [
    {
     "name": "stdout",
     "output_type": "stream",
     "text": [
      "https://raw.githubusercontent.com/demotu/datasets/master/PDS/data/PDSinfo.txt\n",
      "Information of 49 subjects loaded (588 rows, 29 columns).\n"
     ]
    }
   ],
   "source": [
    "# GitHub URL:\n",
    "path2 = 'https://raw.githubusercontent.com/demotu/datasets/master/PDS/data'\n",
    "#local directory:\n",
    "#path2 = r\"C:\\Users\\ferna\\Downloads\\IC-dados\\Dados\"\n",
    "#path2 = '/home/rnwatanabe/copdata'\n",
    "fname = os.path.join(path2, 'PDSinfo.txt')\n",
    "PDSinfo = pd.read_csv(fname, sep='\\t', header=0, index_col=None, engine='c', encoding='utf-8')\n",
    "print(fname)\n",
    "print(\"Information of %s subjects loaded (%s rows, %s columns).\"\n",
    "      %(len(pd.unique(PDSinfo.Subject)), PDSinfo.shape[0], PDSinfo.shape[1]))"
   ]
  },
  {
   "cell_type": "code",
   "execution_count": 4,
   "id": "980b8fea-56f9-4a6b-93de-a2c44fffce60",
   "metadata": {
    "tags": []
   },
   "outputs": [
    {
     "data": {
      "text/plain": [
       "Index                 128\n",
       "Trial                4704\n",
       "Subject              4704\n",
       "Vision               4704\n",
       "Surface              4704\n",
       "Rep                  4704\n",
       "Age                  4704\n",
       "AgeGroup             4704\n",
       "Gender               4704\n",
       "Height               4704\n",
       "Mass                 4704\n",
       "BMI                  4704\n",
       "FootLen              4704\n",
       "DominantLeg          4704\n",
       "Nationality          4704\n",
       "SkinColor            4704\n",
       "Ystudy               4704\n",
       "Footwear             4704\n",
       "Illness              4704\n",
       "Illness2             4704\n",
       "Nmedication          4704\n",
       "Medication           4704\n",
       "Ortho-Prosthesis     4704\n",
       "Ortho-Prosthesis2    4704\n",
       "Disability           4704\n",
       "Disability2          4704\n",
       "Falls12m             4704\n",
       "PhysicalActivity     4704\n",
       "Sequence             4704\n",
       "Date                 4704\n",
       "dtype: int64"
      ]
     },
     "execution_count": 4,
     "metadata": {},
     "output_type": "execute_result"
    }
   ],
   "source": [
    "a=PDSinfo[PDSinfo['Subject']==44].index.tolist()\n",
    "e=PDSinfo[PDSinfo['Subject']==44].index.tolist()[2]\n",
    "ei = PDSinfo[PDSinfo['Subject']==44]\n",
    "PDSinfo.memory_usage()"
   ]
  },
  {
   "cell_type": "code",
   "execution_count": 5,
   "id": "a02b1882",
   "metadata": {},
   "outputs": [],
   "source": [
    "fs=100"
   ]
  },
  {
   "cell_type": "code",
   "execution_count": 6,
   "id": "2ec0f13f",
   "metadata": {},
   "outputs": [],
   "source": [
    "file = open('store.pkl','rb')\n",
    "(COPXreal,COPZreal,COPX,COPZ,d1x,d1z,d2x,d2z,matrizangx,matrizangz,COGX,COGY,COGZ,ASISX,ASISY,ASISZ,angulox,anguloz,d,alpha,subject,ei,sinx,sinz,cosx,cosz,tanx,tanz,COGXtrain,COGYtrain,COGZtrain,COGXtest,COGYtest,COGZtest,ASISXtrain,ASISYtrain,ASISZtrain,ASISXtest,ASISYtest,ASISZtest,COPXtrain,COPXtest,COPZtrain,COPZtest,train,test,masstrain,masstest,subjectp,subjectc,subjecta,t)= pickle.load(file)\n",
    "file.close()"
   ]
  },
  {
   "cell_type": "code",
   "execution_count": 7,
   "id": "aa27057f-727e-4a8c-9c3a-6127b9f3aa02",
   "metadata": {},
   "outputs": [],
   "source": [
    "def newdist(paramt,x,y,z):\n",
    "    from sklearn.model_selection import train_test_split\n",
    "    from scipy.optimize import minimize, rosen, rosen_der\n",
    "    from sklearn.metrics import mean_squared_error\n",
    "    dest = np.zeros((60*fs-30))\n",
    "    d = np.zeros((60*fs-30))\n",
    "    for i in range(0, len(x)):\n",
    "\n",
    "        delta,mi = paramt\n",
    "        \n",
    "        d[i] = np.mean(np.sqrt(x[i]**2+y[i]**2+z[i]**2))\n",
    "        \n",
    "        dest[i] = delta * d[i] + mi\n",
    "    \n",
    "      \n",
    "    return dest\n"
   ]
  },
  {
   "cell_type": "code",
   "execution_count": 8,
   "id": "d01576ce-ebf5-4173-8c43-1b5e7a24945e",
   "metadata": {},
   "outputs": [],
   "source": [
    "#for i in range(0,len(COGXtrain)):\n",
    "        \n",
    "        #d= np.sqrt(COGXtrain[i]**2+COGYtrain[i]**2+COGZtrain[i]**2)\n",
    "        \n",
    "def meansquarerrordist(paramt,d,ASISXtrain,ASISYtrain,ASISZtrain):\n",
    "    d = np.zeros((60*fs-30))\n",
    "    from sklearn.metrics import mean_squared_error\n",
    "    ytrue = np.zeros((60*fs-30))\n",
    "    ypredicted = np.zeros((60*fs-30))\n",
    "    for i in range(0,len(ASISXtrain)):\n",
    "        \n",
    "        d[i] = np.mean(np.sqrt(COGXtrain[i]**2+COGYtrain[i]**2+COGZtrain[i]**2))\n",
    "        \n",
    "        ytrue[i] = d[i]\n",
    "        \n",
    "        ypredicted = newdist(paramt,ASISXtrain,ASISYtrain,ASISZtrain)\n",
    "        \n",
    "        \n",
    "    return mean_squared_error(ytrue, ypredicted)\n"
   ]
  },
  {
   "cell_type": "code",
   "execution_count": 9,
   "id": "3158a38e-9ed0-4ecd-b99c-8aa79390f345",
   "metadata": {},
   "outputs": [
    {
     "name": "stdout",
     "output_type": "stream",
     "text": [
      "0.9999999972968698\n",
      "-2.0664267963432792e-08\n"
     ]
    }
   ],
   "source": [
    "from sklearn.model_selection import train_test_split\n",
    "#from scipy import optmize\n",
    "from scipy.optimize import minimize, rosen, rosen_der\n",
    "first_guess = [1,1]\n",
    "res = minimize(meansquarerrordist, first_guess,(d,COGXtrain,COGYtrain,COGZtrain))\n",
    "coeficientes = res.x\n",
    "delta=coeficientes[0]\n",
    "mi=coeficientes[1]\n",
    "print(delta)\n",
    "print(mi)"
   ]
  },
  {
   "cell_type": "code",
   "execution_count": 10,
   "id": "f4548c41-087c-434d-a4ef-cb8454946c32",
   "metadata": {},
   "outputs": [],
   "source": [
    "treino = newdist(coeficientes,COGXtrain,COGYtrain,COGZtrain)\n",
    "teste = newdist(coeficientes,COGXtest,COGYtest,COGZtest)"
   ]
  },
  {
   "cell_type": "markdown",
   "id": "57e2a4c8-7489-4c98-92fa-98d8d6d4136c",
   "metadata": {},
   "source": [
    "Regressão linear distância"
   ]
  },
  {
   "cell_type": "code",
   "execution_count": 11,
   "id": "2a40b8b4-a488-4a50-af54-44f8ab0b8dc9",
   "metadata": {},
   "outputs": [],
   "source": [
    "def centerofpressure(paramt, M,x,y,z):\n",
    "    from sklearn.model_selection import train_test_split\n",
    "    from scipy.optimize import minimize, rosen, rosen_der\n",
    "    from sklearn.metrics import mean_squared_error\n",
    "    COPXES = np.empty((49*12, 60*fs-30))\n",
    "    COPXESorig =np.empty((49*12, 60*fs-30))\n",
    "    dest =np.empty((49*12,60*fs-30))\n",
    "    trial = 0 \n",
    "    sennovox=np.empty((49*12,60*fs-30))\n",
    "    cosnovox =np.empty((49*12,60*fs-30))\n",
    "    sennovoz=np.empty((49*12,60*fs-30))\n",
    "    cosnovoz =np.empty((49*12,60*fs-30))\n",
    "    \n",
    "    for i in range(0,12):\n",
    "        \n",
    "        A,alpha,beta, gama= paramt\n",
    "        \n",
    "        d[trial,:] = np.mean(np.sqrt(x[trial,:]**2+y[trial,:]**2+z[trial,:]**2))\n",
    "        \n",
    "        dest[trial,:] = delta * d[trial,:] + mi\n",
    "        \n",
    "        angulox[trial,:] = np.arcsin(np.tanh(x[trial,:]/dest[trial,:]))\n",
    "        anguloz[trial,:] = np.arcsin(np.tanh(z[trial,:]/dest[trial,:]))\n",
    "        sinx=np.sin(angulox[trial,:])\n",
    "        sinz=np.sin(anguloz[trial,:])\n",
    "        cosx=np.cos(angulox[trial,:])\n",
    "        cosz=np.cos(anguloz[trial,:])\n",
    "        tanx=np.tan(angulox[trial,:])\n",
    "        tanz=np.tan(anguloz[trial,:])\n",
    "            \n",
    "        matrizangx[trial,:] = angulox[trial,:]\n",
    "        matrizangz[trial,:] = anguloz[trial,:]\n",
    "\n",
    "\n",
    "\n",
    "\n",
    "\n",
    "\n",
    "\n",
    "        sennovox[trial,:] = (sinx)*A + ((1-A**2)**1/2)*(cosx)\n",
    "            \n",
    "\n",
    "        cosnovox[trial,:] = (cosx)*A - ((1-A**2)**1/2)*(sinx)\n",
    "            \n",
    "        sennovoz[trial,:] = (sinz)*A + ((1-A**2)**1/2)*(cosz)\n",
    "           \n",
    "\n",
    "        cosnovoz[trial,:] = (cosz)*A - ((1-A**2)**1/2)*(sinz)\n",
    "\n",
    "        \n",
    "\n",
    "\n",
    "\n",
    "        Jb=(4/3)*(M[trial])*((dest[trial,:])**2)\n",
    "            \n",
    "        dt=t[1]-t[0]\n",
    "            \n",
    "        d1x[trial,:]=np.gradient(matrizangx[trial,:],dt)\n",
    "        d1z[trial,:]=np.gradient(matrizangz[trial,:],dt)\n",
    "            \n",
    "            \n",
    "        d2x[trial,:]=np.gradient(d1x[trial,:],dt)\n",
    "        d2z[trial,:]=np.gradient(d1z[trial,:],dt)\n",
    "            \n",
    "        COPX[trial,:] = dest[trial,:]*sennovox[trial,:] + Jb/(M[trial]*9.8)*(sennovox[trial,:]*d1x[trial,:]**2-cosnovox[trial,:]*d2x[trial,:])\n",
    "        COPZ[trial,:] = dest[trial,:]*sennovoz[trial,:] + Jb/(M[trial]*9.8)*(sennovoz[trial,:]*d1z[trial,:]**2-cosnovoz[trial,:]*d2z[trial,:])\n",
    "\n",
    "        COPXES[trial,:]= alpha*(dest[trial,:]*np.tanh(sennovox[trial,:]) + ((Jb/(M[trial]*9.8))*np.tanh(sennovox[trial,:])*d1x[trial,:]**2)) + d2x[trial,:]*(-alpha*np.tanh(cosnovox[trial,:])*Jb/(M[trial]*9.8)+beta) + gama\n",
    "        COPXESorig[trial,:]= COPX[trial,:]\n",
    "        \n",
    "        \n",
    "        trial = trial +1\n",
    "        \n",
    "    \n",
    "    return COPXES\n",
    "\n"
   ]
  },
  {
   "cell_type": "code",
   "execution_count": 12,
   "id": "4d1a276e-dc55-4f68-b5c4-cfa0a40e4eb5",
   "metadata": {},
   "outputs": [],
   "source": [
    "def meansquarerror(paramt,COPXtrain,masstrain,ASISXtrain,ASISYtrain,ASISZtrain):\n",
    "    \n",
    "    from sklearn.metrics import mean_squared_error\n",
    "    \n",
    "    ytrue = np.empty((49*12, 60*fs-30))\n",
    "    A,alpha,beta, gama = paramt\n",
    "    for i in range(0,len(ASISXtrain)):\n",
    "        \n",
    "        ytrue[i] = COPXtrain[i]\n",
    "    \n",
    "        ypredicted = centerofpressure(paramt,masstrain,ASISXtrain,ASISYtrain,ASISZtrain)\n",
    "    \n",
    "        \n",
    "    \n",
    "    \n",
    "    return mean_squared_error(ytrue, ypredicted)\n",
    "        \n",
    "\n",
    "\n",
    "    "
   ]
  },
  {
   "cell_type": "code",
   "execution_count": 13,
   "id": "a7306f5a-b911-4764-84d8-0b9afde81b12",
   "metadata": {},
   "outputs": [],
   "source": [
    "from sklearn.model_selection import train_test_split\n",
    "#from scipy import optmize\n",
    "from scipy.optimize import minimize, rosen, rosen_der\n",
    "first_guess = [1,1,1,1]\n",
    "res = minimize(meansquarerror, first_guess,(COPXtrain,masstrain,ASISXtrain,ASISYtrain,ASISZtrain))\n",
    "coeficientes = res.x\n",
    "A=coeficientes[0]\n",
    "alpha=coeficientes[1]\n",
    "beta=coeficientes[2]\n",
    "gama=coeficientes[3]"
   ]
  },
  {
   "cell_type": "markdown",
   "id": "08bc179e-f61c-4b0e-ac26-6704e6c8fff7",
   "metadata": {},
   "source": [
    "Test"
   ]
  },
  {
   "cell_type": "code",
   "execution_count": 14,
   "id": "d84396a1-9dce-4032-97e2-388258134bf6",
   "metadata": {},
   "outputs": [],
   "source": [
    "\n",
    "treinando=centerofpressure(coeficientes, masstrain,ASISXtrain,ASISYtrain,ASISZtrain) \n",
    "\n",
    "testando=centerofpressure(coeficientes, masstest,ASISXtest,ASISYtest,ASISZtest)\n"
   ]
  },
  {
   "cell_type": "code",
   "execution_count": 15,
   "id": "0bfc3ddd-2a9b-4803-a270-ec039de8db47",
   "metadata": {},
   "outputs": [
    {
     "data": {
      "image/png": "[encoded data removed]",
      "text/plain": [
       "<Figure size 640x480 with 1 Axes>"
      ]
     },
     "metadata": {},
     "output_type": "display_data"
    }
   ],
   "source": [
    "time = np.arange(0,6000)/100\n",
    "for i in range(0,len(ASISXtest)): \n",
    "    plt.figure()\n",
    "    plt.plot(time[:5970],detrend(testando[i,:]),color='purple',label='COP predicted')\n",
    "    plt.plot(time[:5970],detrend(COPXreal[i]),color='blue', label='COP real')\n",
    "    plt.title('COP real X COP calculated for test {:.1f}'.format(i))\n",
    "    plt.xlabel('Time')\n",
    "    plt.legend()\n",
    "    plt.show()"
   ]
  },
  {
   "cell_type": "code",
   "execution_count": null,
   "id": "ff949f49-ed26-48ef-a9bf-c0f200014e09",
   "metadata": {},
   "outputs": [
    {
     "name": "stdout",
     "output_type": "stream",
     "text": [
      "0.09555602807480801\n",
      "0.05422735764554448\n"
     ]
    }
   ],
   "source": [
    "sennovo = sinx*A + ((1-A**2)**1/2)*cosx\n",
    "print(np.max(sennovo))\n",
    "print(np.min(sennovo))"
   ]
  },
  {
   "cell_type": "code",
   "execution_count": null,
   "id": "38ef0a9a-ab60-4faf-be22-ea53ee5bb0ac",
   "metadata": {},
   "outputs": [
    {
     "name": "stdout",
     "output_type": "stream",
     "text": [
      "1.4933132380909104\n",
      "1.4912391085514571\n"
     ]
    }
   ],
   "source": [
    "cosnovo = cosx*A - ((1-A**2)**1/2)*sinx\n",
    "print(np.max(cosnovo))\n",
    "print(np.min(cosnovo))"
   ]
  },
  {
   "cell_type": "code",
   "execution_count": null,
   "id": "44bbe9ea-cb35-4b8c-b63d-41a91e314af1",
   "metadata": {},
   "outputs": [],
   "source": []
  }
 ],
 "metadata": {
  "kernelspec": {
   "display_name": "Python 3",
   "language": "python",
   "name": "python3"
  },
  "language_info": {
   "codemirror_mode": {
    "name": "ipython",
    "version": 3
   },
   "file_extension": ".py",
   "mimetype": "text/x-python",
   "name": "python",
   "nbconvert_exporter": "python",
   "pygments_lexer": "ipython3",
   "version": "3.10.4"
  }
 },
 "nbformat": 4,
 "nbformat_minor": 5
}
