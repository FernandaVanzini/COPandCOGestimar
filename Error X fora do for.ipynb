{
 "cells": [
  {
   "cell_type": "markdown",
   "metadata": {
    "editable": true
   },
   "source": [
    "## COP and COG estimation by derivative method\n",
    "Trying to estimate COP and COG were used linear function wich didn't give the results expected, therefore we tried to make different approaches and one of them is the next function:\n",
    "COP= COG-(4/g*3*d²derivadasegundaTeta)"
   ]
  },
  {
   "cell_type": "markdown",
   "metadata": {
    "deletable": true,
    "editable": true
   },
   "source": [
    "## Python libraries\n",
    "\n",
    "First, let's import the necessary Python libraries and configure the environment:"
   ]
  },
  {
   "cell_type": "code",
   "execution_count": null,
   "metadata": {
    "ExecuteTime": {
     "end_time": "2017-02-27T18:50:34.521091Z",
     "start_time": "2017-02-27T15:50:33.800352-03:00"
    },
    "deletable": true,
    "editable": true,
    "tags": []
   },
   "outputs": [],
   "source": [
    "import numpy as np\n",
    "#from scipy.signal import butter, filtfilt\n",
    "import pandas as pd\n",
    "import matplotlib\n",
    "import matplotlib.pyplot as plt\n",
    "import matplotlib.gridspec as gridspec\n",
    "%matplotlib inline\n",
    "#import seaborn as sns\n",
    "#sns.set_context(\"notebook\", font_scale=1.3,\n",
    "#                rc={'lines.linewidth': 1.5, 'lines.markersize': 14, 'axes.titlesize': 'x-large'})\n",
    "#matplotlib.rc('legend', numpoints=1, fontsize=14)\n",
    "#import glob\n",
    "import sys, os\n",
    "sys.path.insert(1, r'./Functions')\n",
    "# IPython widgets:\n",
    "from IPython.display import display\n",
    "import ipywidgets\n",
    "from ipywidgets import FloatProgress, interactive"
   ]
  },
  {
   "cell_type": "markdown",
   "metadata": {
    "deletable": true,
    "editable": true
   },
   "source": [
    "Versions of the Python libraries used:"
   ]
  },
  {
   "cell_type": "code",
   "execution_count": null,
   "metadata": {
    "collapsed": false,
    "deletable": true,
    "editable": true,
    "jupyter": {
     "outputs_hidden": false
    }
   },
   "outputs": [],
   "source": [
    "#!pip install version_information\n",
    "%load_ext version_information\n",
    "%version_information numpy, scipy, pandas, matplotlib, seaborn"
   ]
  },
  {
   "cell_type": "markdown",
   "metadata": {
    "deletable": true,
    "editable": true
   },
   "source": [
    "## Meta data\n",
    "\n",
    "The file `PDSinfo.txt` contains meta data about the subjects and the experimental trials. The file has a header plus 588 rows per 29 columns (there are 12 rows for each of the 49 subjects).   \n",
    "Let's use the power of the [pandas](http://pandas.pydata.org/) library to load and explore the meta data:"
   ]
  },
  {
   "cell_type": "code",
   "execution_count": null,
   "metadata": {
    "ExecuteTime": {
     "end_time": "2017-02-27T18:50:34.534681Z",
     "start_time": "2017-02-27T15:50:34.521091-03:00"
    },
    "collapsed": false,
    "deletable": true,
    "editable": true,
    "jupyter": {
     "outputs_hidden": false
    }
   },
   "outputs": [],
   "source": [
    "# GitHub URL:\n",
    "#path2 = 'C:\\Users\\ferna\\Downloads\\IC- dados\\Dados'\n",
    "# local directory:\n",
    "path2 = r'C:\\\\Users\\\\ferna\\\\Downloads\\\\IC- dados\\\\Dados'\n",
    "fname = os.path.join(path2, 'PDSinfo.txt')\n",
    "PDSinfo = pd.read_csv(fname, sep='\\t', header=0, index_col=None, engine='c', encoding='utf-8')\n",
    "print(fname)\n",
    "print(\"Information of %s subjects loaded (%s rows, %s columns).\"\n",
    "      %(len(pd.unique(PDSinfo.Subject)), PDSinfo.shape[0], PDSinfo.shape[1]))"
   ]
  },
  {
   "cell_type": "code",
   "execution_count": null,
   "metadata": {},
   "outputs": [],
   "source": [
    "a=PDSinfo[PDSinfo['Subject']==44].index.tolist()\n",
    "e=PDSinfo[PDSinfo['Subject']==44].index.tolist()[2]\n",
    "print(a)\n",
    "print(e)"
   ]
  },
  {
   "cell_type": "markdown",
   "metadata": {
    "deletable": true,
    "editable": true
   },
   "source": [
    "Here are the first 12 rows and first 10 columns of meta data:"
   ]
  },
  {
   "cell_type": "markdown",
   "metadata": {
    "deletable": true,
    "editable": true
   },
   "source": [
    "## COP and COG displacements"
   ]
  },
  {
   "cell_type": "markdown",
   "metadata": {},
   "source": [
    "## For Every Subject"
   ]
  },
  {
   "cell_type": "markdown",
   "metadata": {},
   "source": [
    "The Center of Pressure mesured will be called COPXrealmatrix and COPZrealmatrix and the one calculated by COPXmatrix and COPZmatrix by the equation with Yp being the center of pressure. By subtracting the real one from the calculated one is found the error. From it the next steps will try to find where is this error. "
   ]
  },
  {
   "cell_type": "code",
   "execution_count": null,
   "metadata": {
    "ExecuteTime": {
     "end_time": "2017-02-27T18:50:36.895500Z",
     "start_time": "2017-02-27T15:50:36.705289-03:00"
    },
    "collapsed": false,
    "editable": true,
    "jupyter": {
     "outputs_hidden": false
    }
   },
   "outputs": [],
   "source": [
    "fs = 100 # Hz\n",
    "COPX = np.zeros((49, 60*fs-30))\n",
    "COPZ = np.zeros((49, 60*fs-30))\n",
    "\n",
    "COPXreal = np.zeros((49, 60*fs-30))\n",
    "COPZreal = np.zeros((49, 60*fs-30))\n",
    "\n",
    "d1x = np.zeros((49, 60*fs-30))\n",
    "d2x = np.zeros((49, 60*fs-30))\n",
    "\n",
    "d1z = np.zeros((49, 60*fs-30))\n",
    "d2z = np.zeros((49, 60*fs-30))\n",
    "\n",
    "matrizangx = np.zeros((49, 60*fs-30))\n",
    "matrizangz = np.zeros((49, 60*fs-30))\n",
    "\n",
    "\n",
    "for s in range (1,50):\n",
    "    a = PDSinfo[PDSinfo['Subject']==s].index.tolist()[2]\n",
    "    \n",
    "    fname_grf = os.path.join(path2, PDSinfo.Trial[a] + 'grf' + '.txt') \n",
    "    fname_mkr = os.path.join(path2, PDSinfo.Trial[a] + 'mkr' + '.txt')\n",
    "    grf = pd.read_csv(fname_grf, delimiter='\\t', header=0, engine='c')\n",
    "    mkr = pd.read_csv(fname_mkr, delimiter='\\t', header=0, engine='c')\n",
    "    COGX=mkr['COG_X']\n",
    "    COGY=mkr['COG_Y']\n",
    "    COGZ=mkr['COG_Z']\n",
    "    mass=PDSinfo['Mass']\n",
    "    d = np.sqrt(COGX**2+COGY**2+COGZ**2)\n",
    "    angulox = np.arcsin(COGX/d)\n",
    "    anguloz= np.arcsin(COGZ/d)\n",
    "    sinx=np.sin(angulox)\n",
    "    sinz=np.sin(anguloz)\n",
    "    cosx=np.cos(angulox)\n",
    "    cosz=np.cos(anguloz)\n",
    "    tanx=np.tan(angulox)\n",
    "    tanz=np.tan(anguloz)\n",
    "    matrizangx[s-1,:] = angulox.values[30:]\n",
    "    matrizangz[s-1,:] = anguloz.values[30:]\n",
    "    \n",
    "    \n",
    "    Jb=(4/3)*(mass.values[s])*((d[30:])**2)\n",
    "    t=grf['Time']\n",
    "    dt=t[1]-t[0]\n",
    "\n",
    "    d1x[s-1,:]=np.gradient(matrizangx[s-1,:],dt)\n",
    "    d1z[s-1,:]=np.gradient(matrizangz[s-1,:],dt)\n",
    "\n",
    "    d2x[s-1,:]=np.gradient(d1x[s-1,:],dt)\n",
    "    d2z[s-1,:]=np.gradient(d1z[s-1,:],dt)\n",
    "    \n",
    "    \n",
    "    \n",
    "    COPX[s-1,:] = d.values[30:]*sinx.values[30:] + Jb/(mass.values[s]*9.8)*(sinx.values[30:]*d1x[s-1,:]**2-cosx.values[30:]*d2x[s-1,:])\n",
    "    COPZ[s-1,:] = d.values[30:]*sinz.values[30:] + Jb/(mass.values[s]*9.8)*(sinz.values[30:]*d1z[s-1,:]**2-cosz.values[30:]*d2z[s-1,:])\n",
    "    \n",
    "    COPXreal[s-1,:]=grf['COPNET_X'].values[30:]\n",
    "    COPZreal[s-1,:]=grf['COPNET_Z'].values[30:]\n",
    "    \n",
    "    \n",
    "errorX = COPX - COPXreal\n"
   ]
  },
  {
   "cell_type": "markdown",
   "metadata": {},
   "source": [
    "## Graphics between real and calculated COP"
   ]
  },
  {
   "cell_type": "code",
   "execution_count": null,
   "metadata": {},
   "outputs": [],
   "source": [
    "for s in range (1,50):\n",
    "    plt.figure()\n",
    "    plt.plot(COPX[s-1,:],color='blue')\n",
    "    plt.plot(COPXreal[s-1,:],color='purple')\n",
    "    plt.title('Comparison between COP real and predicted of Subject {}'.format(s))\n",
    "    plt.show()"
   ]
  },
  {
   "cell_type": "markdown",
   "metadata": {},
   "source": [
    "# COP in function of angles"
   ]
  },
  {
   "cell_type": "markdown",
   "metadata": {},
   "source": [
    "Let's se how the COP correlates with the angles x and z, if the number is closer to 0 than to 1 or -1, the two variables dont correlate. From the graphics we can notice some lack of correlation between them. "
   ]
  },
  {
   "cell_type": "markdown",
   "metadata": {},
   "source": [
    "# Correlation between COPX and Angle x"
   ]
  },
  {
   "cell_type": "code",
   "execution_count": null,
   "metadata": {
    "ExecuteTime": {
     "end_time": "2017-02-27T18:50:36.895500Z",
     "start_time": "2017-02-27T15:50:36.705289-03:00"
    },
    "collapsed": false,
    "editable": true,
    "jupyter": {
     "outputs_hidden": false
    }
   },
   "outputs": [],
   "source": [
    "for s in range(1,50):\n",
    "    plt.figure()\n",
    "    plt.plot(COPX[s-1,:],matrizangx[s-1,:])\n",
    "    plt.xlabel(\"Angle \")\n",
    "    plt.ylabel(\"COPX\")\n",
    "    plt.title(\"Correlation between COPX and Angle x \")\n",
    "    plt.show()\n",
    "\n",
    "    r=np.corrcoef(matrizangx[s-1,:],COPX[s-1,:])\n",
    "    print(r)\n",
    "    plt.figure()\n",
    "    data={'x':matrizangx[s-1,:],\n",
    "          'y': COPX[s-1,:]\n",
    "         }\n",
    "    df=pd.DataFrame(data)\n",
    "    correlation=df.corr()\n",
    "    plot=sns.heatmap(correlation,annot= True, fmt='.1f',linewidths=.6)\n",
    "    plt.show()"
   ]
  },
  {
   "cell_type": "markdown",
   "metadata": {},
   "source": [
    "## Correlation between COPX and anglez"
   ]
  },
  {
   "cell_type": "code",
   "execution_count": null,
   "metadata": {
    "ExecuteTime": {
     "end_time": "2017-02-27T18:50:36.895500Z",
     "start_time": "2017-02-27T15:50:36.705289-03:00"
    },
    "collapsed": false,
    "editable": true,
    "jupyter": {
     "outputs_hidden": false
    }
   },
   "outputs": [],
   "source": [
    "for s in range(1,50):\n",
    "    plt.figure()\n",
    "    plt.plot(COPX[s-1,:],matrizangz[s-1,:])\n",
    "    plt.xlabel(\"Angle z \")\n",
    "    plt.ylabel(\"COPX\")\n",
    "    plt.title(\"Correlation between COPX and Angle z \")\n",
    "    plt.show()\n",
    "\n",
    "    r=np.corrcoef(matrizangx[s-1,:],COPX[s-1,:])\n",
    "    print(r)\n",
    "    plt.figure()\n",
    "    data={'x':matrizangz[s-1,:],\n",
    "          'y': COPX[s-1,:]\n",
    "         }\n",
    "    df=pd.DataFrame(data)\n",
    "    correlation=df.corr()\n",
    "    plot=sns.heatmap(correlation,annot= True, fmt='.1f',linewidths=.6)\n",
    "    plt.show()"
   ]
  },
  {
   "cell_type": "markdown",
   "metadata": {},
   "source": [
    "# Error in function of angles"
   ]
  },
  {
   "cell_type": "markdown",
   "metadata": {},
   "source": [
    "We are going to correlate the error found with angle x and z. If the number is closer to 0 than to 1 or -1, the two variables dont correlate. From the graphics we can notice that the number of correlation approaches -1, indicating a negative correlation betweem them, for the errorz and anglez. With angle x it's possible to conclude that they dont correlate. "
   ]
  },
  {
   "cell_type": "markdown",
   "metadata": {},
   "source": [
    "## Correlation between errorx and angle x "
   ]
  },
  {
   "cell_type": "code",
   "execution_count": null,
   "metadata": {
    "ExecuteTime": {
     "end_time": "2017-02-27T18:50:36.895500Z",
     "start_time": "2017-02-27T15:50:36.705289-03:00"
    },
    "collapsed": false,
    "editable": true,
    "jupyter": {
     "outputs_hidden": false
    }
   },
   "outputs": [],
   "source": [
    "for s in range(1,50):\n",
    "    plt.figure()\n",
    "    plt.plot(matrizangx[s-1,:], errorX[s-1,:])\n",
    "    plt.xlabel(\"Angle x \")\n",
    "    plt.ylabel(\"Error X\")\n",
    "    plt.title(\"Correlation between Error x and Angle x\")\n",
    "    plt.show()\n",
    "\n",
    "    r=np.corrcoef(matrizangx[s-1,:],errorX[s-1,:])\n",
    "    print(r)\n",
    "    plt.figure()\n",
    "    data={'x':matrizangx[s-1,:],\n",
    "          'y': errorX[s-1,:]\n",
    "         }\n",
    "    df=pd.DataFrame(data)\n",
    "    correlation=df.corr()\n",
    "    plot=sns.heatmap(correlation,annot= True, fmt='.1f',linewidths=.6)\n",
    "    plt.show()"
   ]
  },
  {
   "cell_type": "markdown",
   "metadata": {},
   "source": [
    "## Correlation between errorx and anglez"
   ]
  },
  {
   "cell_type": "code",
   "execution_count": null,
   "metadata": {},
   "outputs": [],
   "source": [
    "for s in range(1,50):\n",
    "    plt.figure()\n",
    "    plt.plot(matrizangz[s-1,:],errorX[s-1,:])\n",
    "    plt.xlabel(\"Angle z \")\n",
    "    plt.ylabel(\"Error X\")\n",
    "    plt.title(\"Correlation between Error X and Angle z \")\n",
    "    plt.show()\n",
    "\n",
    "    r=np.corrcoef(matrizangx[s-1,:],errorX[s-1,:])\n",
    "    print(r)\n",
    "    plt.figure()\n",
    "    data={'x':matrizangz[s-1,:],\n",
    "          'y': errorX[s-1,:]\n",
    "         }\n",
    "    df=pd.DataFrame(data)\n",
    "    correlation=df.corr()\n",
    "    plot=sns.heatmap(correlation,annot= True, fmt='.1f',linewidths=.6)\n",
    "    plt.show()"
   ]
  },
  {
   "cell_type": "markdown",
   "metadata": {},
   "source": [
    "# Error in function of trigonometry"
   ]
  },
  {
   "cell_type": "markdown",
   "metadata": {},
   "source": [
    "We are going to correlate the error found with the trigonometry angle x and z. If the number is closer to 0 than to 1 or -1, the two variables dont correlate. From the graphics we can notice that the number of correlation approaches -1, inidicating a negative correlation betweem them, for the errorz and trigonometry of the anglez. With angle x it's possible to conclude that they dont correlate. "
   ]
  },
  {
   "cell_type": "markdown",
   "metadata": {},
   "source": [
    "## Error x and senx, cosx and tanx"
   ]
  },
  {
   "cell_type": "code",
   "execution_count": null,
   "metadata": {
    "ExecuteTime": {
     "end_time": "2017-02-27T18:50:36.895500Z",
     "start_time": "2017-02-27T15:50:36.705289-03:00"
    },
    "collapsed": false,
    "editable": true,
    "jupyter": {
     "outputs_hidden": false
    }
   },
   "outputs": [],
   "source": [
    "for s in range(1,50):\n",
    "    plt.figure()\n",
    "    plt.plot(sinx[30:],errorX[s-1,:],color='blue',label='Sen x')\n",
    "    plt.plot(cosx[30:],errorX[s-1,:],color='red',label='Cos x')\n",
    "    plt.plot(tanx[30:],errorX[s-1,:],color='purple',label='Tan x')\n",
    "    plt.xlabel(\"Trigonometry \")\n",
    "    plt.ylabel(\"Error x\")\n",
    "    plt.legend()\n",
    "    plt.show()\n",
    "\n",
    "    plt.plot(sinx[30:],errorX[s-1,:])\n",
    "    plt.xlabel(\"Sin x\")\n",
    "    plt.ylabel(\"Error x\")\n",
    "    plt.title(\"Correlation between error x and Sin x\")\n",
    "    plt.show()\n",
    "    r=np.corrcoef(sinx[30:],errorX[s-1,:])\n",
    "    print(r)\n",
    "    plt.figure()\n",
    "    data={'x':sinx[30:],\n",
    "          'y': errorX[s-1,:]\n",
    "         }\n",
    "    df=pd.DataFrame(data)\n",
    "    correlation=df.corr()\n",
    "    plot=sns.heatmap(correlation,annot= True, fmt='.1f',linewidths=.6)\n",
    "    plt.show()\n",
    "\n",
    "    plt.plot(cosx[30:],errorX[s-1,:])\n",
    "    plt.xlabel(\"Cos x\")\n",
    "    plt.ylabel(\"Error x\")\n",
    "    plt.title(\"Correlation between error x and Cos x\")\n",
    "    plt.show()\n",
    "    r=np.corrcoef(cosx[30:],errorX[s-1,:])\n",
    "    print(r)\n",
    "    plt.figure()\n",
    "    data={'x':cosx[30:],\n",
    "          'y': errorX[s-1,:]\n",
    "         }\n",
    "    df=pd.DataFrame(data)\n",
    "    correlation=df.corr()\n",
    "    plot=sns.heatmap(correlation,annot= True, fmt='.1f',linewidths=.6)\n",
    "    plt.show()\n",
    "\n",
    "    plt.plot(tanx[30:],errorX[s-1,:])\n",
    "    plt.xlabel(\"Tan x\")\n",
    "    plt.ylabel(\"Error x\")\n",
    "    plt.title(\"Correlation between error x and Tan x\")\n",
    "    plt.show()\n",
    "    r=np.corrcoef(tanx[30:],errorX[s-1,:])\n",
    "    print(r)\n",
    "    plt.figure()\n",
    "    data={'x':tanx[30:],\n",
    "          'y': errorX[s-1,:]\n",
    "         }\n",
    "    df=pd.DataFrame(data)\n",
    "    correlation=df.corr()\n",
    "    plot=sns.heatmap(correlation,annot= True, fmt='.1f',linewidths=.6)\n",
    "    plt.show()"
   ]
  },
  {
   "cell_type": "markdown",
   "metadata": {},
   "source": [
    "## Correlation between errorx and sen,cos and tan of z"
   ]
  },
  {
   "cell_type": "code",
   "execution_count": null,
   "metadata": {
    "ExecuteTime": {
     "end_time": "2017-02-27T18:50:36.895500Z",
     "start_time": "2017-02-27T15:50:36.705289-03:00"
    },
    "collapsed": false,
    "editable": true,
    "jupyter": {
     "outputs_hidden": false
    }
   },
   "outputs": [],
   "source": [
    "for s in range(1,50):\n",
    "    plt.figure()\n",
    "    plt.plot(sinz[30:],errorX[s-1,:],color='blue',label='Sen z')\n",
    "    plt.plot(cosz[30:],errorX[s-1,:],color='red',label='Cos z')\n",
    "    plt.plot(tanz[30:],errorX[s-1,:],color='purple',label='Tan z')\n",
    "    plt.xlabel(\"Trigonometry \")\n",
    "    plt.ylabel(\"Error x\")\n",
    "    plt.legend()\n",
    "    plt.show()\n",
    "\n",
    "    plt.plot(sinz[30:],errorX[s-1,:])\n",
    "    plt.xlabel(\"Sin z\")\n",
    "    plt.ylabel(\"Error x\")\n",
    "    plt.title(\"Correlation between error x and Sin z\")\n",
    "    plt.show()\n",
    "    r=np.corrcoef(sinz[30:],errorX[s-1,:])\n",
    "    print(r)\n",
    "    plt.figure()\n",
    "    data={'x':sinz[30:],\n",
    "          'y': errorX[s-1,:]\n",
    "         }\n",
    "    df=pd.DataFrame(data)\n",
    "    correlation=df.corr()\n",
    "    plot=sns.heatmap(correlation,annot= True, fmt='.1f',linewidths=.6)\n",
    "    plt.show()\n",
    "\n",
    "    plt.plot(cosz[30:],errorX[s-1,:])\n",
    "    plt.xlabel(\"Cos z\")\n",
    "    plt.ylabel(\"Error x\")\n",
    "    plt.title(\"Correlation between error x and Cos z\")\n",
    "    plt.show()\n",
    "    r=np.corrcoef(cosz[30:],errorX[s-1,:])\n",
    "    print(r)\n",
    "    plt.figure()\n",
    "    data={'x':cosz[30:],\n",
    "          'y': errorX[s-1,:]\n",
    "         }\n",
    "    df=pd.DataFrame(data)\n",
    "    correlation=df.corr()\n",
    "    plot=sns.heatmap(correlation,annot= True, fmt='.1f',linewidths=.6)\n",
    "    plt.show()\n",
    "\n",
    "    plt.plot(tanz[30:],errorX[s-1,:])\n",
    "    plt.xlabel(\"Tan z\")\n",
    "    plt.ylabel(\"Error x\")\n",
    "    plt.title(\"Correlation between error x and Tan z\")\n",
    "    plt.show()\n",
    "    r=np.corrcoef(tanz[30:],errorX[s-1,:])\n",
    "    print(r)\n",
    "    plt.figure()\n",
    "    data={'x':tanz[30:],\n",
    "          'y': errorX[s-1,:]\n",
    "         }\n",
    "    df=pd.DataFrame(data)\n",
    "    correlation=df.corr()\n",
    "    plot=sns.heatmap(correlation,annot= True, fmt='.1f',linewidths=.6)\n",
    "    plt.show()"
   ]
  },
  {
   "cell_type": "markdown",
   "metadata": {
    "tags": []
   },
   "source": [
    "# Error x in function of derivatives"
   ]
  },
  {
   "cell_type": "markdown",
   "metadata": {},
   "source": [
    "We are going to correlate the error found with the first and second. If the number is closer to 0 than to 1 or -1, the two variables dont correlate. From the graphics we can notice that the number of correlation approaches 0, indicating a lack of correlation betweem them, for the errorz and anglez and angle x for the first and second derivative."
   ]
  },
  {
   "cell_type": "markdown",
   "metadata": {
    "tags": []
   },
   "source": [
    "## Correlation between errorx and first and second derivative of x"
   ]
  },
  {
   "cell_type": "code",
   "execution_count": null,
   "metadata": {
    "ExecuteTime": {
     "end_time": "2017-02-27T18:50:36.895500Z",
     "start_time": "2017-02-27T15:50:36.705289-03:00"
    },
    "collapsed": false,
    "editable": true,
    "jupyter": {
     "outputs_hidden": false
    }
   },
   "outputs": [],
   "source": [
    "import seaborn as sns\n",
    "for s in range(1,50):\n",
    "    plt.figure()\n",
    "    plt.plot(d1x[s-1,:],errorX[s-1,:],color='blue',label='First derivative')\n",
    "    plt.plot(d2x[s-1,:],errorX[s-1,:],color='red',label='Second derivative')\n",
    "    plt.xlabel(\"Derivative\")\n",
    "    plt.ylabel(\"Error x\")\n",
    "    plt.legend()\n",
    "    plt.show()\n",
    "\n",
    "    plt.plot(d1x,errorX,'bo')\n",
    "    plt.xlabel(\"First derivative x\")\n",
    "    plt.ylabel(\"Errorx\")\n",
    "    plt.title(\"Correlation between error x and First derivative x \")\n",
    "    plt.show()\n",
    "    r=np.corrcoef(d1x[s-1,:],errorX[s-1,:])\n",
    "    print(r)\n",
    "    plt.figure()\n",
    "    data={'x':d1x[s-1,:],\n",
    "          'y': errorX[s-1,:],\n",
    "         }\n",
    "    df=pd.DataFrame(data)\n",
    "    correlation=df.corr()\n",
    "    plot=sns.heatmap(correlation,annot= True, fmt='.1f',linewidths=.6)\n",
    "    plt.show()\n",
    "    plt.plot(d2x[s-1,:],errorX[s-1,:])\n",
    "    plt.xlabel(\"Second derivative x\")\n",
    "    plt.ylabel(\"Error x\")\n",
    "    plt.title(\"Correlation between error x and Second deivative  x \")\n",
    "    plt.show()\n",
    "    r=np.corrcoef(d2x[s-1,:],errorX[s-1,:])\n",
    "    print(r)\n",
    "    plt.figure()\n",
    "    data={'x':d2x[s-1,:],\n",
    "          'y': errorX[s-1,:],\n",
    "         }\n",
    "    df=pd.DataFrame(data)\n",
    "    correlation=df.corr()\n",
    "    plot=sns.heatmap(correlation,annot= True, fmt='.1f',linewidths=.6)\n",
    "    plt.show()\n",
    "    "
   ]
  },
  {
   "cell_type": "markdown",
   "metadata": {},
   "source": [
    "## Correlation between errorx and first and second derivative of z"
   ]
  },
  {
   "cell_type": "code",
   "execution_count": null,
   "metadata": {},
   "outputs": [],
   "source": [
    "for s in range(1,50):\n",
    "    plt.figure()\n",
    "    plt.plot(d1z[s-1,:],errorX[s-1,:],color='blue',label='First derivative')\n",
    "    plt.plot(d2z[s-1,:],errorX[s-1,:],color='red',label='Second derivative')\n",
    "    plt.xlabel(\"Derivative\")\n",
    "    plt.ylabel(\"Error x\")\n",
    "    plt.legend()\n",
    "    plt.show()\n",
    "\n",
    "    plt.plot(d1z[s-1,:],errorX[s-1,:],'bo')\n",
    "    plt.xlabel(\"First derivative z\")\n",
    "    plt.ylabel(\"Errorx\")\n",
    "    plt.title(\"Correlation between error x and First derivative z\")\n",
    "    plt.show()\n",
    "    r=np.corrcoef(d1z[s-1,:],errorX[s-1,:])\n",
    "    print(r)\n",
    "    plt.figure()\n",
    "    data={'x':d1z[s-1,:],\n",
    "          'y': errorX[s-1,:],\n",
    "         }\n",
    "    df=pd.DataFrame(data)\n",
    "    correlation=df.corr()\n",
    "    plot=sns.heatmap(correlation,annot= True, fmt='.1f',linewidths=.6)\n",
    "    plt.show()\n",
    "    plt.plot(d2z[s-1,:],errorX[s-1,:])\n",
    "    plt.xlabel(\"Second derivative z\")\n",
    "    plt.ylabel(\"Error x\")\n",
    "    plt.title(\"Correlation between error x and Second deivative z \")\n",
    "    plt.show()\n",
    "    r=np.corrcoef(d2z[s-1,:],errorX[s-1,:])\n",
    "    print(r)\n",
    "    plt.figure()\n",
    "    data={'x':d2z[s-1,:],\n",
    "          'y': errorX[s-1,:],\n",
    "         }\n",
    "    df=pd.DataFrame(data)\n",
    "    correlation=df.corr()\n",
    "    plot=sns.heatmap(correlation,annot= True, fmt='.1f',linewidths=.6)\n",
    "    plt.show()\n"
   ]
  },
  {
   "cell_type": "code",
   "execution_count": null,
   "metadata": {},
   "outputs": [],
   "source": [
    "for s in range(1,50):\n",
    "    plt.figure()\n",
    "    hist=plt.hist(errorZ[s-1,:])\n",
    "    plt.show()"
   ]
  }
 ],
 "metadata": {
  "anaconda-cloud": {},
  "hide_input": false,
  "kernelspec": {
   "display_name": "Python 3",
   "language": "python",
   "name": "python3"
  },
  "language_info": {
   "codemirror_mode": {
    "name": "ipython",
    "version": 3
   },
   "file_extension": ".py",
   "mimetype": "text/x-python",
   "name": "python",
   "nbconvert_exporter": "python",
   "pygments_lexer": "ipython3",
   "version": "3.8.8"
  },
  "widgets": {
   "state": {
    "a16d9c9faf9c48c7af730aca51dc2a05": {
     "views": [
      {
       "cell_index": 25
      }
     ]
    },
    "be16c4e214eb40cf976ed257dbdbc5e5": {
     "views": [
      {
       "cell_index": 40
      }
     ]
    }
   },
   "version": "1.2.0"
  }
 },
 "nbformat": 4,
 "nbformat_minor": 4
}
