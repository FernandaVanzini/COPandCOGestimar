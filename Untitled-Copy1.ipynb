{
 "cells": [
  {
   "cell_type": "code",
   "execution_count": null,
   "id": "268a4ed9-454f-4cdf-a59f-76711f67fd87",
   "metadata": {},
   "outputs": [],
   "source": []
  },
  {
   "cell_type": "code",
   "execution_count": null,
   "id": "476fcf12-0925-4941-a281-e2e5835e2786",
   "metadata": {},
   "outputs": [],
   "source": []
  },
  {
   "cell_type": "code",
   "execution_count": 1,
   "id": "a986f27d-a120-454e-9c0d-f1aa9aaf80a9",
   "metadata": {},
   "outputs": [
    {
     "name": "stdout",
     "output_type": "stream",
     "text": [
      "93.6\n",
      "93.4\n",
      "95.2\n",
      "93.8\n",
      "94.4\n",
      "95.8\n",
      "93.7\n",
      "93.9\n",
      "93.5\n",
      "93.4\n",
      "93.5\n",
      "(array([0.00437063, 0.00874126, 0.00437063, 0.02622378, 0.03496503,\n",
      "       0.07867133, 0.09178322, 0.08741259, 0.04807692]), array([72.6, 75.2, 77.8, 80.4, 83. , 85.6, 88.2, 90.8, 93.4, 96. ]), <BarContainer object of 9 artists>)\n"
     ]
    },
    {
     "data": {
      "image/png": "[encoded data removed]",
      "text/plain": [
       "<Figure size 432x288 with 1 Axes>"
      ]
     },
     "metadata": {
      "needs_background": "light"
     },
     "output_type": "display_data"
    }
   ],
   "source": [
    "%matplotlib inline\n",
    "import matplotlib.pyplot as plt\n",
    "import pandas as pd\n",
    "import ipywidgets as widgets\n",
    "import numpy as np\n",
    "x= [89.5, 93.0, 87.9, 81.8, 89.5, 87.9, 92.9, 88.6,93.6, 92.9, 85.5, 81.9, 91.8, 85.7, 91.1, 88.3,90.5, 91.7, 88.8, 86.1, 90.0, 87.0, 93.4, 85.4,95.2, 90.5, 85.8 ,81.0, 88.3, 88.5, 87.0, 84.3,92.5, 92.0, 87.9, 72.6, 88.9 ,87.1, 91.1, 87.9,89.8, 93.8, 88.3, 75.7 ,86.3 ,86.6, 91.1, 82.4,94.4, 95.8, 91.9, 77.0, 90.5, 85.2, 93.7, 89.3,90.1, 93.9, 88.2, 80.7, 91.4, 86.8, 93.5, 87.8,91.8, 91.6, 88.5, 81.0, 91.2, 89.0, 91.2, 83.7,92.4, 93.4, 86.1, 78.8, 92.0, 88.6, 93.5, 83.1,86.3, 91.0, 88.3, 83.6, 91.2, 84.8, 86.8, 85.7,]\n",
    "for i in x:\n",
    "    if 93.4<=i<96:\n",
    "        print(i)\n",
    "hist1=plt.hist(x,bins=9,range=(72.6,96.0),density=1)\n",
    "print(hist1)"
   ]
  },
  {
   "cell_type": "code",
   "execution_count": null,
   "id": "e739c4e4-d191-4895-8a8b-0b5edd30748d",
   "metadata": {},
   "outputs": [],
   "source": []
  },
  {
   "cell_type": "code",
   "execution_count": 3,
   "id": "e2f6fa42-bfc3-4e04-8fa2-23a1cdb6446a",
   "metadata": {},
   "outputs": [
    {
     "name": "stdout",
     "output_type": "stream",
     "text": [
      "22\n",
      "22\n",
      "23\n",
      "23\n",
      "22\n",
      "(array([0.05333333, 0.06666667, 0.04666667, 0.05333333, 0.04666667,\n",
      "       0.03333333, 0.03333333]), array([ 4.,  7., 10., 13., 16., 19., 22., 25.]), <BarContainer object of 7 artists>)\n"
     ]
    },
    {
     "data": {
      "image/png": "[encoded data removed]",
      "text/plain": [
       "<Figure size 432x288 with 1 Axes>"
      ]
     },
     "metadata": {
      "needs_background": "light"
     },
     "output_type": "display_data"
    }
   ],
   "source": [
    "%matplotlib inline\n",
    "import matplotlib.pyplot as plt\n",
    "import pandas as pd\n",
    "import ipywidgets as widgets\n",
    "import numpy as np\n",
    "x= [6,9, 18, 22, 6,15, 21, 7, 22, 12,6, 7, 13, 7, 8, 6, 5, 9, 21, 9,17, 16, 11, 23, 15, 15,19, 18, 23, 11,11, 20, 18, 15, 22, 10, 5, 17, 14, 7,13, 5, 20, 10, 14, 12, 8, 17 ,5, 7]\n",
    "for i in x:\n",
    "    if 22<=i<25:\n",
    "        print(i)\n",
    "hist1=plt.hist(x,bins=7,range=(4,25),density=1)\n",
    "print(hist1)"
   ]
  },
  {
   "cell_type": "code",
   "execution_count": null,
   "id": "5f581b02-bd01-4849-8ee1-aab96f2f0d0b",
   "metadata": {},
   "outputs": [],
   "source": []
  },
  {
   "cell_type": "code",
   "execution_count": 13,
   "id": "2d929d1d-0427-4a8f-bea0-3682955f163d",
   "metadata": {},
   "outputs": [
    {
     "name": "stdout",
     "output_type": "stream",
     "text": [
      "(array([0.03125, 0.01875, 0.05   , 0.04375, 0.025  , 0.03125]), array([22., 27., 32., 37., 42., 47., 52.]), <BarContainer object of 6 artists>)\n",
      "[22.9166, 23.6666, 25.0, 26.4166, 26.58333, 27.6666, 28.25, 29.3333, 32.08333, 32.58333, 33.75, 34.25, 35.25, 35.75, 35.75, 36.6666, 37.09333, 37.1666, 38.09333, 38.9166, 40.9166, 41.4166, 41.5833, 44.0, 44.9166, 45.1666, 45.4166, 47.5, 48.75, 48.8333, 48.8333, 48.8333]\n",
      "0.46875\n",
      "0.5\n",
      "0.53125\n",
      "0.5625\n",
      "0.59375\n",
      "0.625\n",
      "0.65625\n",
      "0.6875\n",
      "0.71875\n",
      "0.75\n",
      "0.78125\n",
      "0.8125\n",
      "0.84375\n",
      "0.875\n",
      "0.90625\n"
     ]
    },
    {
     "data": {
      "image/png": "[encoded data removed]",
      "text/plain": [
       "<Figure size 432x288 with 1 Axes>"
      ]
     },
     "metadata": {
      "needs_background": "light"
     },
     "output_type": "display_data"
    }
   ],
   "source": [
    "%matplotlib inline\n",
    "import matplotlib.pyplot as plt\n",
    "import pandas as pd\n",
    "import ipywidgets as widgets\n",
    "import numpy as np\n",
    "x= [44.9166,35.25,36.6666,34.25,35.75,26.58333,29.3333,48.8333,35.75,37.1666,25.0,44.0,33.75,45.1666,23.6666,37.09333,38.09333,45.4166,26.4166,41.4166,22.9166,48.8333,41.5833,48.75,47.5,38.9166,28.25,32.58333,40.9166,32.08333,27.6666,48.8333]\n",
    "#for i in x:\n",
    " #   if 22<=i<25:\n",
    "  #      print(i)\n",
    "hist1=plt.hist(x,bins=6,range=(22,52),density=1)\n",
    "print(hist1)\n",
    "crescente=sorted(x,key=float)\n",
    "print(crescente)\n",
    "for i in range(0,15):\n",
    "    somar= 0.46875+ i*0.03125\n",
    "    print(somar)"
   ]
  },
  {
   "cell_type": "code",
   "execution_count": null,
   "id": "919199ee-2488-4ad0-b038-72e6e8ed5722",
   "metadata": {},
   "outputs": [],
   "source": []
  },
  {
   "cell_type": "code",
   "execution_count": 5,
   "id": "51bc3de0-66ca-425f-863a-e1b6908ff9d0",
   "metadata": {},
   "outputs": [
    {
     "name": "stdout",
     "output_type": "stream",
     "text": [
      "(array([0.19047619, 0.15238095, 0.07619048, 0.11428571, 0.03809524]), array([0.36, 2.11, 3.86, 5.61, 7.36, 9.11]), <BarContainer object of 5 artists>)\n"
     ]
    },
    {
     "data": {
      "image/png": "[encoded data removed]",
      "text/plain": [
       "<Figure size 432x288 with 1 Axes>"
      ]
     },
     "metadata": {
      "needs_background": "light"
     },
     "output_type": "display_data"
    }
   ],
   "source": [
    "%matplotlib inline\n",
    "import matplotlib.pyplot as plt\n",
    "import pandas as pd\n",
    "import ipywidgets as widgets\n",
    "import numpy as np\n",
    "x= [1.96, 2.13, 5.99, 5.15, 1.42,8.06, 0.37, 3.15, 6.36, 1.49,6.19, 1.74, 2.95, 4.51, 3.22,6.70, 1.12, 2.23, 9.06, 1.63,2.35, 3.90, 0.61, 6.60, 3.42,6.84, 0.48, 2.96, 5.60, 1.77]\n",
    "#for i in x:\n",
    " #   if 22<=i<25:\n",
    "  #      print(i)\n",
    "hist1=plt.hist(x,bins=5,range=(0.36,9.11),density=1)\n",
    "print(hist1)"
   ]
  },
  {
   "cell_type": "code",
   "execution_count": null,
   "id": "68421dfd-b9c3-4dea-a4f1-c4fad44e3559",
   "metadata": {},
   "outputs": [],
   "source": []
  }
 ],
 "metadata": {
  "kernelspec": {
   "display_name": "Python 3",
   "language": "python",
   "name": "python3"
  },
  "language_info": {
   "codemirror_mode": {
    "name": "ipython",
    "version": 3
   },
   "file_extension": ".py",
   "mimetype": "text/x-python",
   "name": "python",
   "nbconvert_exporter": "python",
   "pygments_lexer": "ipython3",
   "version": "3.8.8"
  }
 },
 "nbformat": 4,
 "nbformat_minor": 5
}
