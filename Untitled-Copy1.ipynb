{
 "cells": [
  {
   "cell_type": "code",
   "execution_count": null,
   "id": "268a4ed9-454f-4cdf-a59f-76711f67fd87",
   "metadata": {},
   "outputs": [],
   "source": []
  },
  {
   "cell_type": "code",
   "execution_count": null,
   "id": "476fcf12-0925-4941-a281-e2e5835e2786",
   "metadata": {},
   "outputs": [],
   "source": []
  },
  {
   "cell_type": "code",
   "execution_count": 79,
   "id": "a986f27d-a120-454e-9c0d-f1aa9aaf80a9",
   "metadata": {},
   "outputs": [
    {
     "name": "stdout",
     "output_type": "stream",
     "text": [
      "93.6\n",
      "93.4\n",
      "95.2\n",
      "93.8\n",
      "94.4\n",
      "95.8\n",
      "93.7\n",
      "93.9\n",
      "93.5\n",
      "93.4\n",
      "93.5\n",
      "(array([0.00437063, 0.00874126, 0.00437063, 0.02622378, 0.03496503,\n",
      "       0.07867133, 0.09178322, 0.08741259, 0.04807692]), array([72.6, 75.2, 77.8, 80.4, 83. , 85.6, 88.2, 90.8, 93.4, 96. ]), <BarContainer object of 9 artists>)\n"
     ]
    },
    {
     "data": {
      "image/png": "[encoded data removed]",
      "text/plain": [
       "<Figure size 432x288 with 1 Axes>"
      ]
     },
     "metadata": {
      "needs_background": "light"
     },
     "output_type": "display_data"
    }
   ],
   "source": [
    "%matplotlib inline\n",
    "import matplotlib.pyplot as plt\n",
    "import pandas as pd\n",
    "import ipywidgets as widgets\n",
    "import numpy as np\n",
    "x= [89.5, 93.0, 87.9, 81.8, 89.5, 87.9, 92.9, 88.6,93.6, 92.9, 85.5, 81.9, 91.8, 85.7, 91.1, 88.3,90.5, 91.7, 88.8, 86.1, 90.0, 87.0, 93.4, 85.4,95.2, 90.5, 85.8 ,81.0, 88.3, 88.5, 87.0, 84.3,92.5, 92.0, 87.9, 72.6, 88.9 ,87.1, 91.1, 87.9,89.8, 93.8, 88.3, 75.7 ,86.3 ,86.6, 91.1, 82.4,94.4, 95.8, 91.9, 77.0, 90.5, 85.2, 93.7, 89.3,90.1, 93.9, 88.2, 80.7, 91.4, 86.8, 93.5, 87.8,91.8, 91.6, 88.5, 81.0, 91.2, 89.0, 91.2, 83.7,92.4, 93.4, 86.1, 78.8, 92.0, 88.6, 93.5, 83.1,86.3, 91.0, 88.3, 83.6, 91.2, 84.8, 86.8, 85.7,]\n",
    "for i in x:\n",
    "    if 93.4<=i<96:\n",
    "        print(i)\n",
    "hist1=plt.hist(x,bins=9,range=(72.6,96.0),density=1)\n",
    "print(hist1)"
   ]
  },
  {
   "cell_type": "code",
   "execution_count": null,
   "id": "e739c4e4-d191-4895-8a8b-0b5edd30748d",
   "metadata": {},
   "outputs": [],
   "source": []
  }
 ],
 "metadata": {
  "kernelspec": {
   "display_name": "Python 3",
   "language": "python",
   "name": "python3"
  },
  "language_info": {
   "codemirror_mode": {
    "name": "ipython",
    "version": 3
   },
   "file_extension": ".py",
   "mimetype": "text/x-python",
   "name": "python",
   "nbconvert_exporter": "python",
   "pygments_lexer": "ipython3",
   "version": "3.8.8"
  }
 },
 "nbformat": 4,
 "nbformat_minor": 5
}
