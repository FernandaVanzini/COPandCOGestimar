{
 "cells": [
  {
   "cell_type": "code",
   "execution_count": 3,
   "id": "e868bd3d-1327-4682-8510-49f09139ffe7",
   "metadata": {},
   "outputs": [
    {
     "name": "stdout",
     "output_type": "stream",
     "text": [
      "A string\n"
     ]
    }
   ],
   "source": [
    "object_1 = 1\n",
    "object_2 = \"A string\"\n",
    "object_3 = 5\n",
    "import pickle\n",
    "sample_list = [object_1, object_2, object_3]\n",
    "file_name = \"sample.pkl\"\n",
    "\n",
    "open_file = open(file_name, \"wb\")\n",
    "pickle.dump(sample_list, open_file)\n",
    "open_file.close()\n",
    "\n",
    "open_file = open(file_name, \"rb\")\n",
    "loaded_list = pickle.load(open_file)\n",
    "open_file.close()\n",
    "print(loaded_list[1])"
   ]
  },
  {
   "cell_type": "code",
   "execution_count": null,
   "id": "54b6dfbf-80a3-426e-8c50-ff90897bfcd7",
   "metadata": {},
   "outputs": [],
   "source": []
  }
 ],
 "metadata": {
  "kernelspec": {
   "display_name": "Python 3",
   "language": "python",
   "name": "python3"
  },
  "language_info": {
   "codemirror_mode": {
    "name": "ipython",
    "version": 3
   },
   "file_extension": ".py",
   "mimetype": "text/x-python",
   "name": "python",
   "nbconvert_exporter": "python",
   "pygments_lexer": "ipython3",
   "version": "3.8.8"
  }
 },
 "nbformat": 4,
 "nbformat_minor": 5
}
