{
 "cells": [
  {
   "cell_type": "markdown",
   "metadata": {
    "deletable": true,
    "editable": true
   },
   "source": [
    "# COP and COG estimation by linear regression\n",
    "Trying to estimate COP and COG were used linear function wich didn't give the results expected, therefore we tried to make different approaches and one of them is the linear regression"
   ]
  },
  {
   "cell_type": "markdown",
   "metadata": {
    "deletable": true,
    "editable": true
   },
   "source": [
    "## Python libraries\n",
    "\n",
    "First, let's import the necessary Python libraries and configure the environment:"
   ]
  },
  {
   "cell_type": "code",
   "execution_count": 1,
   "metadata": {
    "ExecuteTime": {
     "end_time": "2017-02-27T18:50:34.521091Z",
     "start_time": "2017-02-27T15:50:33.800352-03:00"
    },
    "deletable": true,
    "editable": true,
    "tags": []
   },
   "outputs": [],
   "source": [
    "import numpy as np\n",
    "#from scipy.signal import butter, filtfilt\n",
    "import pandas as pd\n",
    "import matplotlib\n",
    "import matplotlib.pyplot as plt\n",
    "import matplotlib.gridspec as gridspec\n",
    "%matplotlib inline\n",
    "#import seaborn as sns\n",
    "#sns.set_context(\"notebook\", font_scale=1.3,\n",
    " #               rc={'lines.linewidth': 1.5, 'lines.markersize': 14, 'axes.titlesize': 'x-large'})\n",
    "#matplotlib.rc('legend', numpoints=1, fontsize=14)\n",
    "#import glob\n",
    "import sys, os\n",
    "sys.path.insert(1, r'./Functions')\n",
    "# IPython widgets:\n",
    "from IPython.display import display\n",
    "import ipywidgets\n",
    "from ipywidgets import FloatProgress, interactive"
   ]
  },
  {
   "cell_type": "markdown",
   "metadata": {
    "deletable": true,
    "editable": true
   },
   "source": [
    "Versions of the Python libraries used:"
   ]
  },
  {
   "cell_type": "code",
   "execution_count": 2,
   "metadata": {
    "collapsed": false,
    "deletable": true,
    "editable": true,
    "jupyter": {
     "outputs_hidden": false
    }
   },
   "outputs": [
    {
     "data": {
      "application/json": {
       "Software versions": [
        {
         "module": "Python",
         "version": "3.8.8 64bit [MSC v.1916 64 bit (AMD64)]"
        },
        {
         "module": "IPython",
         "version": "7.22.0"
        },
        {
         "module": "OS",
         "version": "Windows 10 10.0.22000 SP0"
        },
        {
         "module": "numpy",
         "version": "1.20.1"
        },
        {
         "module": "scipy",
         "version": "1.6.2"
        },
        {
         "module": "pandas",
         "version": "1.2.4"
        },
        {
         "module": "matplotlib",
         "version": "3.3.4"
        },
        {
         "module": "seaborn",
         "version": "0.11.1"
        }
       ]
      },
      "text/html": [
       "<table><tr><th>Software</th><th>Version</th></tr><tr><td>Python</td><td>3.8.8 64bit [MSC v.1916 64 bit (AMD64)]</td></tr><tr><td>IPython</td><td>7.22.0</td></tr><tr><td>OS</td><td>Windows 10 10.0.22000 SP0</td></tr><tr><td>numpy</td><td>1.20.1</td></tr><tr><td>scipy</td><td>1.6.2</td></tr><tr><td>pandas</td><td>1.2.4</td></tr><tr><td>matplotlib</td><td>3.3.4</td></tr><tr><td>seaborn</td><td>0.11.1</td></tr><tr><td colspan='2'>Wed Dec 22 23:19:13 2021 Hora oficial do Brasil</td></tr></table>"
      ],
      "text/latex": [
       "\\begin{tabular}{|l|l|}\\hline\n",
       "{\\bf Software} & {\\bf Version} \\\\ \\hline\\hline\n",
       "Python & 3.8.8 64bit [MSC v.1916 64 bit (AMD64)] \\\\ \\hline\n",
       "IPython & 7.22.0 \\\\ \\hline\n",
       "OS & Windows 10 10.0.22000 SP0 \\\\ \\hline\n",
       "numpy & 1.20.1 \\\\ \\hline\n",
       "scipy & 1.6.2 \\\\ \\hline\n",
       "pandas & 1.2.4 \\\\ \\hline\n",
       "matplotlib & 3.3.4 \\\\ \\hline\n",
       "seaborn & 0.11.1 \\\\ \\hline\n",
       "\\hline \\multicolumn{2}{|l|}{Wed Dec 22 23:19:13 2021 Hora oficial do Brasil} \\\\ \\hline\n",
       "\\end{tabular}\n"
      ],
      "text/plain": [
       "Software versions\n",
       "Python 3.8.8 64bit [MSC v.1916 64 bit (AMD64)]\n",
       "IPython 7.22.0\n",
       "OS Windows 10 10.0.22000 SP0\n",
       "numpy 1.20.1\n",
       "scipy 1.6.2\n",
       "pandas 1.2.4\n",
       "matplotlib 3.3.4\n",
       "seaborn 0.11.1\n",
       "Wed Dec 22 23:19:13 2021 Hora oficial do Brasil"
      ]
     },
     "execution_count": 2,
     "metadata": {},
     "output_type": "execute_result"
    }
   ],
   "source": [
    "#!pip install version_information\n",
    "%load_ext version_information\n",
    "%version_information numpy, scipy, pandas, matplotlib, seaborn"
   ]
  },
  {
   "cell_type": "markdown",
   "metadata": {
    "deletable": true,
    "editable": true
   },
   "source": [
    "## Meta data\n",
    "\n",
    "The file `PDSinfo.txt` contains meta data about the subjects and the experimental trials. The file has a header plus 588 rows per 29 columns (there are 12 rows for each of the 49 subjects).   \n",
    "Let's use the power of the [pandas](http://pandas.pydata.org/) library to load and explore the meta data:"
   ]
  },
  {
   "cell_type": "code",
   "execution_count": 3,
   "metadata": {
    "ExecuteTime": {
     "end_time": "2017-02-27T18:50:34.534681Z",
     "start_time": "2017-02-27T15:50:34.521091-03:00"
    },
    "collapsed": false,
    "deletable": true,
    "editable": true,
    "jupyter": {
     "outputs_hidden": false
    }
   },
   "outputs": [
    {
     "name": "stdout",
     "output_type": "stream",
     "text": [
      "C:\\\\Users\\\\ferna\\\\Downloads\\\\IC- dados\\\\Dados\\PDSinfo.txt\n",
      "Information of 49 subjects loaded (588 rows, 29 columns).\n"
     ]
    },
    {
     "data": {
      "text/html": [
       "<div>\n",
       "<style scoped>\n",
       "    .dataframe tbody tr th:only-of-type {\n",
       "        vertical-align: middle;\n",
       "    }\n",
       "\n",
       "    .dataframe tbody tr th {\n",
       "        vertical-align: top;\n",
       "    }\n",
       "\n",
       "    .dataframe thead th {\n",
       "        text-align: right;\n",
       "    }\n",
       "</style>\n",
       "<table border=\"1\" class=\"dataframe\">\n",
       "  <thead>\n",
       "    <tr style=\"text-align: right;\">\n",
       "      <th></th>\n",
       "      <th>Trial</th>\n",
       "      <th>Subject</th>\n",
       "      <th>Vision</th>\n",
       "      <th>Surface</th>\n",
       "      <th>Rep</th>\n",
       "      <th>Age</th>\n",
       "      <th>AgeGroup</th>\n",
       "      <th>Gender</th>\n",
       "      <th>Height</th>\n",
       "      <th>Mass</th>\n",
       "      <th>...</th>\n",
       "      <th>Nmedication</th>\n",
       "      <th>Medication</th>\n",
       "      <th>Ortho-Prosthesis</th>\n",
       "      <th>Ortho-Prosthesis2</th>\n",
       "      <th>Disability</th>\n",
       "      <th>Disability2</th>\n",
       "      <th>Falls12m</th>\n",
       "      <th>PhysicalActivity</th>\n",
       "      <th>Sequence</th>\n",
       "      <th>Date</th>\n",
       "    </tr>\n",
       "  </thead>\n",
       "  <tbody>\n",
       "    <tr>\n",
       "      <th>384</th>\n",
       "      <td>PDS33OR1</td>\n",
       "      <td>33</td>\n",
       "      <td>Open</td>\n",
       "      <td>Rigid</td>\n",
       "      <td>1</td>\n",
       "      <td>72.25</td>\n",
       "      <td>Old</td>\n",
       "      <td>F</td>\n",
       "      <td>1.54</td>\n",
       "      <td>62.0</td>\n",
       "      <td>...</td>\n",
       "      <td>6</td>\n",
       "      <td>Angiotensin II receptor antagonist, Biguanide,...</td>\n",
       "      <td>Yes</td>\n",
       "      <td>Corrective lens, Bridge teeh, PaceMaker</td>\n",
       "      <td>Yes</td>\n",
       "      <td>Hearing (Left ear)</td>\n",
       "      <td>0</td>\n",
       "      <td>2</td>\n",
       "      <td>CF, OR, CR, OF</td>\n",
       "      <td>2016-11-10 15:08:17.682</td>\n",
       "    </tr>\n",
       "    <tr>\n",
       "      <th>385</th>\n",
       "      <td>PDS33OR2</td>\n",
       "      <td>33</td>\n",
       "      <td>Open</td>\n",
       "      <td>Rigid</td>\n",
       "      <td>2</td>\n",
       "      <td>72.25</td>\n",
       "      <td>Old</td>\n",
       "      <td>F</td>\n",
       "      <td>1.54</td>\n",
       "      <td>62.0</td>\n",
       "      <td>...</td>\n",
       "      <td>6</td>\n",
       "      <td>Angiotensin II receptor antagonist, Biguanide,...</td>\n",
       "      <td>Yes</td>\n",
       "      <td>Corrective lens, Bridge teeh, PaceMaker</td>\n",
       "      <td>Yes</td>\n",
       "      <td>Hearing (Left ear)</td>\n",
       "      <td>0</td>\n",
       "      <td>2</td>\n",
       "      <td>CF, OR, CR, OF</td>\n",
       "      <td>2016-11-10 15:08:17.682</td>\n",
       "    </tr>\n",
       "    <tr>\n",
       "      <th>386</th>\n",
       "      <td>PDS33OR3</td>\n",
       "      <td>33</td>\n",
       "      <td>Open</td>\n",
       "      <td>Rigid</td>\n",
       "      <td>3</td>\n",
       "      <td>72.25</td>\n",
       "      <td>Old</td>\n",
       "      <td>F</td>\n",
       "      <td>1.54</td>\n",
       "      <td>62.0</td>\n",
       "      <td>...</td>\n",
       "      <td>6</td>\n",
       "      <td>Angiotensin II receptor antagonist, Biguanide,...</td>\n",
       "      <td>Yes</td>\n",
       "      <td>Corrective lens, Bridge teeh, PaceMaker</td>\n",
       "      <td>Yes</td>\n",
       "      <td>Hearing (Left ear)</td>\n",
       "      <td>0</td>\n",
       "      <td>2</td>\n",
       "      <td>CF, OR, CR, OF</td>\n",
       "      <td>2016-11-10 15:08:17.682</td>\n",
       "    </tr>\n",
       "    <tr>\n",
       "      <th>387</th>\n",
       "      <td>PDS33OF1</td>\n",
       "      <td>33</td>\n",
       "      <td>Open</td>\n",
       "      <td>Foam</td>\n",
       "      <td>1</td>\n",
       "      <td>72.25</td>\n",
       "      <td>Old</td>\n",
       "      <td>F</td>\n",
       "      <td>1.54</td>\n",
       "      <td>62.0</td>\n",
       "      <td>...</td>\n",
       "      <td>6</td>\n",
       "      <td>Angiotensin II receptor antagonist, Biguanide,...</td>\n",
       "      <td>Yes</td>\n",
       "      <td>Corrective lens, Bridge teeh, PaceMaker</td>\n",
       "      <td>Yes</td>\n",
       "      <td>Hearing (Left ear)</td>\n",
       "      <td>0</td>\n",
       "      <td>2</td>\n",
       "      <td>CF, OR, CR, OF</td>\n",
       "      <td>2016-11-10 15:08:17.682</td>\n",
       "    </tr>\n",
       "    <tr>\n",
       "      <th>388</th>\n",
       "      <td>PDS33OF2</td>\n",
       "      <td>33</td>\n",
       "      <td>Open</td>\n",
       "      <td>Foam</td>\n",
       "      <td>2</td>\n",
       "      <td>72.25</td>\n",
       "      <td>Old</td>\n",
       "      <td>F</td>\n",
       "      <td>1.54</td>\n",
       "      <td>62.0</td>\n",
       "      <td>...</td>\n",
       "      <td>6</td>\n",
       "      <td>Angiotensin II receptor antagonist, Biguanide,...</td>\n",
       "      <td>Yes</td>\n",
       "      <td>Corrective lens, Bridge teeh, PaceMaker</td>\n",
       "      <td>Yes</td>\n",
       "      <td>Hearing (Left ear)</td>\n",
       "      <td>0</td>\n",
       "      <td>2</td>\n",
       "      <td>CF, OR, CR, OF</td>\n",
       "      <td>2016-11-10 15:08:17.682</td>\n",
       "    </tr>\n",
       "    <tr>\n",
       "      <th>389</th>\n",
       "      <td>PDS33OF3</td>\n",
       "      <td>33</td>\n",
       "      <td>Open</td>\n",
       "      <td>Foam</td>\n",
       "      <td>3</td>\n",
       "      <td>72.25</td>\n",
       "      <td>Old</td>\n",
       "      <td>F</td>\n",
       "      <td>1.54</td>\n",
       "      <td>62.0</td>\n",
       "      <td>...</td>\n",
       "      <td>6</td>\n",
       "      <td>Angiotensin II receptor antagonist, Biguanide,...</td>\n",
       "      <td>Yes</td>\n",
       "      <td>Corrective lens, Bridge teeh, PaceMaker</td>\n",
       "      <td>Yes</td>\n",
       "      <td>Hearing (Left ear)</td>\n",
       "      <td>0</td>\n",
       "      <td>2</td>\n",
       "      <td>CF, OR, CR, OF</td>\n",
       "      <td>2016-11-10 15:08:17.682</td>\n",
       "    </tr>\n",
       "    <tr>\n",
       "      <th>390</th>\n",
       "      <td>PDS33CR1</td>\n",
       "      <td>33</td>\n",
       "      <td>Closed</td>\n",
       "      <td>Rigid</td>\n",
       "      <td>1</td>\n",
       "      <td>72.25</td>\n",
       "      <td>Old</td>\n",
       "      <td>F</td>\n",
       "      <td>1.54</td>\n",
       "      <td>62.0</td>\n",
       "      <td>...</td>\n",
       "      <td>6</td>\n",
       "      <td>Angiotensin II receptor antagonist, Biguanide,...</td>\n",
       "      <td>Yes</td>\n",
       "      <td>Corrective lens, Bridge teeh, PaceMaker</td>\n",
       "      <td>Yes</td>\n",
       "      <td>Hearing (Left ear)</td>\n",
       "      <td>0</td>\n",
       "      <td>2</td>\n",
       "      <td>CF, OR, CR, OF</td>\n",
       "      <td>2016-11-10 15:08:17.682</td>\n",
       "    </tr>\n",
       "    <tr>\n",
       "      <th>391</th>\n",
       "      <td>PDS33CR2</td>\n",
       "      <td>33</td>\n",
       "      <td>Closed</td>\n",
       "      <td>Rigid</td>\n",
       "      <td>2</td>\n",
       "      <td>72.25</td>\n",
       "      <td>Old</td>\n",
       "      <td>F</td>\n",
       "      <td>1.54</td>\n",
       "      <td>62.0</td>\n",
       "      <td>...</td>\n",
       "      <td>6</td>\n",
       "      <td>Angiotensin II receptor antagonist, Biguanide,...</td>\n",
       "      <td>Yes</td>\n",
       "      <td>Corrective lens, Bridge teeh, PaceMaker</td>\n",
       "      <td>Yes</td>\n",
       "      <td>Hearing (Left ear)</td>\n",
       "      <td>0</td>\n",
       "      <td>2</td>\n",
       "      <td>CF, OR, CR, OF</td>\n",
       "      <td>2016-11-10 15:08:17.682</td>\n",
       "    </tr>\n",
       "    <tr>\n",
       "      <th>392</th>\n",
       "      <td>PDS33CR3</td>\n",
       "      <td>33</td>\n",
       "      <td>Closed</td>\n",
       "      <td>Rigid</td>\n",
       "      <td>3</td>\n",
       "      <td>72.25</td>\n",
       "      <td>Old</td>\n",
       "      <td>F</td>\n",
       "      <td>1.54</td>\n",
       "      <td>62.0</td>\n",
       "      <td>...</td>\n",
       "      <td>6</td>\n",
       "      <td>Angiotensin II receptor antagonist, Biguanide,...</td>\n",
       "      <td>Yes</td>\n",
       "      <td>Corrective lens, Bridge teeh, PaceMaker</td>\n",
       "      <td>Yes</td>\n",
       "      <td>Hearing (Left ear)</td>\n",
       "      <td>0</td>\n",
       "      <td>2</td>\n",
       "      <td>CF, OR, CR, OF</td>\n",
       "      <td>2016-11-10 15:08:17.682</td>\n",
       "    </tr>\n",
       "    <tr>\n",
       "      <th>393</th>\n",
       "      <td>PDS33CF1</td>\n",
       "      <td>33</td>\n",
       "      <td>Closed</td>\n",
       "      <td>Foam</td>\n",
       "      <td>1</td>\n",
       "      <td>72.25</td>\n",
       "      <td>Old</td>\n",
       "      <td>F</td>\n",
       "      <td>1.54</td>\n",
       "      <td>62.0</td>\n",
       "      <td>...</td>\n",
       "      <td>6</td>\n",
       "      <td>Angiotensin II receptor antagonist, Biguanide,...</td>\n",
       "      <td>Yes</td>\n",
       "      <td>Corrective lens, Bridge teeh, PaceMaker</td>\n",
       "      <td>Yes</td>\n",
       "      <td>Hearing (Left ear)</td>\n",
       "      <td>0</td>\n",
       "      <td>2</td>\n",
       "      <td>CF, OR, CR, OF</td>\n",
       "      <td>2016-11-10 15:08:17.682</td>\n",
       "    </tr>\n",
       "    <tr>\n",
       "      <th>394</th>\n",
       "      <td>PDS33CF2</td>\n",
       "      <td>33</td>\n",
       "      <td>Closed</td>\n",
       "      <td>Foam</td>\n",
       "      <td>2</td>\n",
       "      <td>72.25</td>\n",
       "      <td>Old</td>\n",
       "      <td>F</td>\n",
       "      <td>1.54</td>\n",
       "      <td>62.0</td>\n",
       "      <td>...</td>\n",
       "      <td>6</td>\n",
       "      <td>Angiotensin II receptor antagonist, Biguanide,...</td>\n",
       "      <td>Yes</td>\n",
       "      <td>Corrective lens, Bridge teeh, PaceMaker</td>\n",
       "      <td>Yes</td>\n",
       "      <td>Hearing (Left ear)</td>\n",
       "      <td>0</td>\n",
       "      <td>2</td>\n",
       "      <td>CF, OR, CR, OF</td>\n",
       "      <td>2016-11-10 15:08:17.682</td>\n",
       "    </tr>\n",
       "    <tr>\n",
       "      <th>395</th>\n",
       "      <td>PDS33CF3</td>\n",
       "      <td>33</td>\n",
       "      <td>Closed</td>\n",
       "      <td>Foam</td>\n",
       "      <td>3</td>\n",
       "      <td>72.25</td>\n",
       "      <td>Old</td>\n",
       "      <td>F</td>\n",
       "      <td>1.54</td>\n",
       "      <td>62.0</td>\n",
       "      <td>...</td>\n",
       "      <td>6</td>\n",
       "      <td>Angiotensin II receptor antagonist, Biguanide,...</td>\n",
       "      <td>Yes</td>\n",
       "      <td>Corrective lens, Bridge teeh, PaceMaker</td>\n",
       "      <td>Yes</td>\n",
       "      <td>Hearing (Left ear)</td>\n",
       "      <td>0</td>\n",
       "      <td>2</td>\n",
       "      <td>CF, OR, CR, OF</td>\n",
       "      <td>2016-11-10 15:08:17.682</td>\n",
       "    </tr>\n",
       "  </tbody>\n",
       "</table>\n",
       "<p>12 rows × 29 columns</p>\n",
       "</div>"
      ],
      "text/plain": [
       "        Trial  Subject  Vision Surface  Rep    Age AgeGroup Gender  Height  \\\n",
       "384  PDS33OR1       33    Open   Rigid    1  72.25      Old      F    1.54   \n",
       "385  PDS33OR2       33    Open   Rigid    2  72.25      Old      F    1.54   \n",
       "386  PDS33OR3       33    Open   Rigid    3  72.25      Old      F    1.54   \n",
       "387  PDS33OF1       33    Open    Foam    1  72.25      Old      F    1.54   \n",
       "388  PDS33OF2       33    Open    Foam    2  72.25      Old      F    1.54   \n",
       "389  PDS33OF3       33    Open    Foam    3  72.25      Old      F    1.54   \n",
       "390  PDS33CR1       33  Closed   Rigid    1  72.25      Old      F    1.54   \n",
       "391  PDS33CR2       33  Closed   Rigid    2  72.25      Old      F    1.54   \n",
       "392  PDS33CR3       33  Closed   Rigid    3  72.25      Old      F    1.54   \n",
       "393  PDS33CF1       33  Closed    Foam    1  72.25      Old      F    1.54   \n",
       "394  PDS33CF2       33  Closed    Foam    2  72.25      Old      F    1.54   \n",
       "395  PDS33CF3       33  Closed    Foam    3  72.25      Old      F    1.54   \n",
       "\n",
       "     Mass  ...  Nmedication  \\\n",
       "384  62.0  ...            6   \n",
       "385  62.0  ...            6   \n",
       "386  62.0  ...            6   \n",
       "387  62.0  ...            6   \n",
       "388  62.0  ...            6   \n",
       "389  62.0  ...            6   \n",
       "390  62.0  ...            6   \n",
       "391  62.0  ...            6   \n",
       "392  62.0  ...            6   \n",
       "393  62.0  ...            6   \n",
       "394  62.0  ...            6   \n",
       "395  62.0  ...            6   \n",
       "\n",
       "                                            Medication Ortho-Prosthesis  \\\n",
       "384  Angiotensin II receptor antagonist, Biguanide,...              Yes   \n",
       "385  Angiotensin II receptor antagonist, Biguanide,...              Yes   \n",
       "386  Angiotensin II receptor antagonist, Biguanide,...              Yes   \n",
       "387  Angiotensin II receptor antagonist, Biguanide,...              Yes   \n",
       "388  Angiotensin II receptor antagonist, Biguanide,...              Yes   \n",
       "389  Angiotensin II receptor antagonist, Biguanide,...              Yes   \n",
       "390  Angiotensin II receptor antagonist, Biguanide,...              Yes   \n",
       "391  Angiotensin II receptor antagonist, Biguanide,...              Yes   \n",
       "392  Angiotensin II receptor antagonist, Biguanide,...              Yes   \n",
       "393  Angiotensin II receptor antagonist, Biguanide,...              Yes   \n",
       "394  Angiotensin II receptor antagonist, Biguanide,...              Yes   \n",
       "395  Angiotensin II receptor antagonist, Biguanide,...              Yes   \n",
       "\n",
       "                           Ortho-Prosthesis2 Disability         Disability2  \\\n",
       "384  Corrective lens, Bridge teeh, PaceMaker        Yes  Hearing (Left ear)   \n",
       "385  Corrective lens, Bridge teeh, PaceMaker        Yes  Hearing (Left ear)   \n",
       "386  Corrective lens, Bridge teeh, PaceMaker        Yes  Hearing (Left ear)   \n",
       "387  Corrective lens, Bridge teeh, PaceMaker        Yes  Hearing (Left ear)   \n",
       "388  Corrective lens, Bridge teeh, PaceMaker        Yes  Hearing (Left ear)   \n",
       "389  Corrective lens, Bridge teeh, PaceMaker        Yes  Hearing (Left ear)   \n",
       "390  Corrective lens, Bridge teeh, PaceMaker        Yes  Hearing (Left ear)   \n",
       "391  Corrective lens, Bridge teeh, PaceMaker        Yes  Hearing (Left ear)   \n",
       "392  Corrective lens, Bridge teeh, PaceMaker        Yes  Hearing (Left ear)   \n",
       "393  Corrective lens, Bridge teeh, PaceMaker        Yes  Hearing (Left ear)   \n",
       "394  Corrective lens, Bridge teeh, PaceMaker        Yes  Hearing (Left ear)   \n",
       "395  Corrective lens, Bridge teeh, PaceMaker        Yes  Hearing (Left ear)   \n",
       "\n",
       "    Falls12m PhysicalActivity        Sequence                     Date  \n",
       "384        0                2  CF, OR, CR, OF  2016-11-10 15:08:17.682  \n",
       "385        0                2  CF, OR, CR, OF  2016-11-10 15:08:17.682  \n",
       "386        0                2  CF, OR, CR, OF  2016-11-10 15:08:17.682  \n",
       "387        0                2  CF, OR, CR, OF  2016-11-10 15:08:17.682  \n",
       "388        0                2  CF, OR, CR, OF  2016-11-10 15:08:17.682  \n",
       "389        0                2  CF, OR, CR, OF  2016-11-10 15:08:17.682  \n",
       "390        0                2  CF, OR, CR, OF  2016-11-10 15:08:17.682  \n",
       "391        0                2  CF, OR, CR, OF  2016-11-10 15:08:17.682  \n",
       "392        0                2  CF, OR, CR, OF  2016-11-10 15:08:17.682  \n",
       "393        0                2  CF, OR, CR, OF  2016-11-10 15:08:17.682  \n",
       "394        0                2  CF, OR, CR, OF  2016-11-10 15:08:17.682  \n",
       "395        0                2  CF, OR, CR, OF  2016-11-10 15:08:17.682  \n",
       "\n",
       "[12 rows x 29 columns]"
      ]
     },
     "execution_count": 3,
     "metadata": {},
     "output_type": "execute_result"
    }
   ],
   "source": [
    "# GitHub URL:\n",
    "#path2 = 'C:\\Users\\ferna\\Downloads\\IC- dados\\Dados'\n",
    "# local directory:\n",
    "path2 = r'C:\\\\Users\\\\ferna\\\\Downloads\\\\IC- dados\\\\Dados'\n",
    "fname = os.path.join(path2, 'PDSinfo.txt')\n",
    "PDSinfo = pd.read_csv(fname, sep='\\t', header=0, index_col=None, engine='c', encoding='utf-8')\n",
    "print(fname)\n",
    "print(\"Information of %s subjects loaded (%s rows, %s columns).\"\n",
    "      %(len(pd.unique(PDSinfo.Subject)), PDSinfo.shape[0], PDSinfo.shape[1]))\n",
    "PDSinfo[PDSinfo[\"Subject\"]==33]"
   ]
  },
  {
   "cell_type": "markdown",
   "metadata": {
    "deletable": true,
    "editable": true
   },
   "source": [
    "Here are the first 12 rows and first 10 columns of meta data:"
   ]
  },
  {
   "cell_type": "markdown",
   "metadata": {
    "deletable": true,
    "editable": true
   },
   "source": [
    "## COP and COG displacements"
   ]
  },
  {
   "cell_type": "code",
   "execution_count": 4,
   "metadata": {},
   "outputs": [
    {
     "name": "stdout",
     "output_type": "stream",
     "text": [
      "577    PDS49OR2\n",
      "Name: Trial, dtype: object\n"
     ]
    }
   ],
   "source": [
    "#trial=PDSinfo.loc[586]\n",
    "re=PDSinfo.loc[PDSinfo['Subject']==49]\n",
    "#print(trial['Trial'])\n",
    "#print(trial['Subject'])\n",
    "trial=re['Trial']\n",
    "print(trial[1:2])"
   ]
  },
  {
   "cell_type": "markdown",
   "metadata": {},
   "source": [
    "### First is necessary to take data for trial 150"
   ]
  },
  {
   "cell_type": "code",
   "execution_count": 26,
   "metadata": {},
   "outputs": [
    {
     "ename": "LinAlgError",
     "evalue": "SVD did not converge in Linear Least Squares",
     "output_type": "error",
     "traceback": [
      "\u001b[1;31m---------------------------------------------------------------------------\u001b[0m",
      "\u001b[1;31mLinAlgError\u001b[0m                               Traceback (most recent call last)",
      "\u001b[1;32m<ipython-input-26-7a7e7caaca82>\u001b[0m in \u001b[0;36m<module>\u001b[1;34m\u001b[0m\n\u001b[0;32m     12\u001b[0m     \u001b[1;32mfor\u001b[0m \u001b[0mnt\u001b[0m \u001b[1;32min\u001b[0m \u001b[0mrange\u001b[0m\u001b[1;33m(\u001b[0m\u001b[1;36m1\u001b[0m\u001b[1;33m,\u001b[0m\u001b[1;36m30\u001b[0m\u001b[1;33m)\u001b[0m\u001b[1;33m:\u001b[0m\u001b[1;33m\u001b[0m\u001b[1;33m\u001b[0m\u001b[0m\n\u001b[0;32m     13\u001b[0m         \u001b[0mx0\u001b[0m\u001b[1;33m=\u001b[0m\u001b[0mnp\u001b[0m\u001b[1;33m.\u001b[0m\u001b[0mhstack\u001b[0m\u001b[1;33m(\u001b[0m\u001b[1;33m(\u001b[0m\u001b[0mx0\u001b[0m\u001b[1;33m,\u001b[0m\u001b[0mnp\u001b[0m\u001b[1;33m.\u001b[0m\u001b[0marray\u001b[0m\u001b[1;33m(\u001b[0m\u001b[0mx\u001b[0m\u001b[1;33m[\u001b[0m\u001b[0mnt\u001b[0m\u001b[1;33m:\u001b[0m\u001b[1;33m-\u001b[0m\u001b[1;36m30\u001b[0m\u001b[1;33m+\u001b[0m\u001b[0mnt\u001b[0m\u001b[1;33m]\u001b[0m\u001b[1;33m)\u001b[0m\u001b[1;33m.\u001b[0m\u001b[0mreshape\u001b[0m\u001b[1;33m(\u001b[0m\u001b[1;33m-\u001b[0m\u001b[1;36m1\u001b[0m\u001b[1;33m,\u001b[0m\u001b[1;36m1\u001b[0m\u001b[1;33m)\u001b[0m\u001b[1;33m)\u001b[0m\u001b[1;33m)\u001b[0m\u001b[1;33m\u001b[0m\u001b[1;33m\u001b[0m\u001b[0m\n\u001b[1;32m---> 14\u001b[1;33m     \u001b[0mc\u001b[0m\u001b[1;33m,\u001b[0m\u001b[0md\u001b[0m\u001b[1;33m,\u001b[0m\u001b[0m_\u001b[0m\u001b[1;33m,\u001b[0m\u001b[0m_\u001b[0m\u001b[1;33m=\u001b[0m\u001b[0mnp\u001b[0m\u001b[1;33m.\u001b[0m\u001b[0mlinalg\u001b[0m\u001b[1;33m.\u001b[0m\u001b[0mlstsq\u001b[0m\u001b[1;33m(\u001b[0m\u001b[0mx0\u001b[0m\u001b[1;33m,\u001b[0m\u001b[0my0\u001b[0m\u001b[1;33m,\u001b[0m\u001b[0mrcond\u001b[0m\u001b[1;33m=\u001b[0m\u001b[1;32mNone\u001b[0m\u001b[1;33m)\u001b[0m\u001b[1;33m\u001b[0m\u001b[1;33m\u001b[0m\u001b[0m\n\u001b[0m\u001b[0;32m     15\u001b[0m     \u001b[0mb\u001b[0m\u001b[1;33m=\u001b[0m\u001b[0mPDSinfo\u001b[0m\u001b[1;33m[\u001b[0m\u001b[0mPDSinfo\u001b[0m\u001b[1;33m[\u001b[0m\u001b[1;34m'Subject'\u001b[0m\u001b[1;33m]\u001b[0m\u001b[1;33m==\u001b[0m\u001b[0ms\u001b[0m\u001b[1;33m]\u001b[0m\u001b[1;33m.\u001b[0m\u001b[0mindex\u001b[0m\u001b[1;33m.\u001b[0m\u001b[0mtolist\u001b[0m\u001b[1;33m(\u001b[0m\u001b[1;33m)\u001b[0m\u001b[1;33m[\u001b[0m\u001b[1;36m4\u001b[0m\u001b[1;33m]\u001b[0m\u001b[1;33m\u001b[0m\u001b[1;33m\u001b[0m\u001b[0m\n\u001b[0;32m     16\u001b[0m     \u001b[0mfname_grftest\u001b[0m\u001b[1;33m=\u001b[0m\u001b[0mos\u001b[0m\u001b[1;33m.\u001b[0m\u001b[0mpath\u001b[0m\u001b[1;33m.\u001b[0m\u001b[0mjoin\u001b[0m\u001b[1;33m(\u001b[0m\u001b[0mpath2\u001b[0m\u001b[1;33m,\u001b[0m\u001b[0mPDSinfo\u001b[0m\u001b[1;33m.\u001b[0m\u001b[0mTrial\u001b[0m\u001b[1;33m[\u001b[0m\u001b[0mb\u001b[0m\u001b[1;33m]\u001b[0m\u001b[1;33m+\u001b[0m\u001b[1;34m'grf'\u001b[0m\u001b[1;33m+\u001b[0m\u001b[1;34m'.txt'\u001b[0m\u001b[1;33m)\u001b[0m\u001b[1;33m\u001b[0m\u001b[1;33m\u001b[0m\u001b[0m\n",
      "\u001b[1;32m<__array_function__ internals>\u001b[0m in \u001b[0;36mlstsq\u001b[1;34m(*args, **kwargs)\u001b[0m\n",
      "\u001b[1;32m~\\anaconda3\\lib\\site-packages\\numpy\\linalg\\linalg.py\u001b[0m in \u001b[0;36mlstsq\u001b[1;34m(a, b, rcond)\u001b[0m\n\u001b[0;32m   2303\u001b[0m         \u001b[1;31m# lapack can't handle n_rhs = 0 - so allocate the array one larger in that axis\u001b[0m\u001b[1;33m\u001b[0m\u001b[1;33m\u001b[0m\u001b[1;33m\u001b[0m\u001b[0m\n\u001b[0;32m   2304\u001b[0m         \u001b[0mb\u001b[0m \u001b[1;33m=\u001b[0m \u001b[0mzeros\u001b[0m\u001b[1;33m(\u001b[0m\u001b[0mb\u001b[0m\u001b[1;33m.\u001b[0m\u001b[0mshape\u001b[0m\u001b[1;33m[\u001b[0m\u001b[1;33m:\u001b[0m\u001b[1;33m-\u001b[0m\u001b[1;36m2\u001b[0m\u001b[1;33m]\u001b[0m \u001b[1;33m+\u001b[0m \u001b[1;33m(\u001b[0m\u001b[0mm\u001b[0m\u001b[1;33m,\u001b[0m \u001b[0mn_rhs\u001b[0m \u001b[1;33m+\u001b[0m \u001b[1;36m1\u001b[0m\u001b[1;33m)\u001b[0m\u001b[1;33m,\u001b[0m \u001b[0mdtype\u001b[0m\u001b[1;33m=\u001b[0m\u001b[0mb\u001b[0m\u001b[1;33m.\u001b[0m\u001b[0mdtype\u001b[0m\u001b[1;33m)\u001b[0m\u001b[1;33m\u001b[0m\u001b[1;33m\u001b[0m\u001b[0m\n\u001b[1;32m-> 2305\u001b[1;33m     \u001b[0mx\u001b[0m\u001b[1;33m,\u001b[0m \u001b[0mresids\u001b[0m\u001b[1;33m,\u001b[0m \u001b[0mrank\u001b[0m\u001b[1;33m,\u001b[0m \u001b[0ms\u001b[0m \u001b[1;33m=\u001b[0m \u001b[0mgufunc\u001b[0m\u001b[1;33m(\u001b[0m\u001b[0ma\u001b[0m\u001b[1;33m,\u001b[0m \u001b[0mb\u001b[0m\u001b[1;33m,\u001b[0m \u001b[0mrcond\u001b[0m\u001b[1;33m,\u001b[0m \u001b[0msignature\u001b[0m\u001b[1;33m=\u001b[0m\u001b[0msignature\u001b[0m\u001b[1;33m,\u001b[0m \u001b[0mextobj\u001b[0m\u001b[1;33m=\u001b[0m\u001b[0mextobj\u001b[0m\u001b[1;33m)\u001b[0m\u001b[1;33m\u001b[0m\u001b[1;33m\u001b[0m\u001b[0m\n\u001b[0m\u001b[0;32m   2306\u001b[0m     \u001b[1;32mif\u001b[0m \u001b[0mm\u001b[0m \u001b[1;33m==\u001b[0m \u001b[1;36m0\u001b[0m\u001b[1;33m:\u001b[0m\u001b[1;33m\u001b[0m\u001b[1;33m\u001b[0m\u001b[0m\n\u001b[0;32m   2307\u001b[0m         \u001b[0mx\u001b[0m\u001b[1;33m[\u001b[0m\u001b[1;33m...\u001b[0m\u001b[1;33m]\u001b[0m \u001b[1;33m=\u001b[0m \u001b[1;36m0\u001b[0m\u001b[1;33m\u001b[0m\u001b[1;33m\u001b[0m\u001b[0m\n",
      "\u001b[1;32m~\\anaconda3\\lib\\site-packages\\numpy\\linalg\\linalg.py\u001b[0m in \u001b[0;36m_raise_linalgerror_lstsq\u001b[1;34m(err, flag)\u001b[0m\n\u001b[0;32m     98\u001b[0m \u001b[1;33m\u001b[0m\u001b[0m\n\u001b[0;32m     99\u001b[0m \u001b[1;32mdef\u001b[0m \u001b[0m_raise_linalgerror_lstsq\u001b[0m\u001b[1;33m(\u001b[0m\u001b[0merr\u001b[0m\u001b[1;33m,\u001b[0m \u001b[0mflag\u001b[0m\u001b[1;33m)\u001b[0m\u001b[1;33m:\u001b[0m\u001b[1;33m\u001b[0m\u001b[1;33m\u001b[0m\u001b[0m\n\u001b[1;32m--> 100\u001b[1;33m     \u001b[1;32mraise\u001b[0m \u001b[0mLinAlgError\u001b[0m\u001b[1;33m(\u001b[0m\u001b[1;34m\"SVD did not converge in Linear Least Squares\"\u001b[0m\u001b[1;33m)\u001b[0m\u001b[1;33m\u001b[0m\u001b[1;33m\u001b[0m\u001b[0m\n\u001b[0m\u001b[0;32m    101\u001b[0m \u001b[1;33m\u001b[0m\u001b[0m\n\u001b[0;32m    102\u001b[0m \u001b[1;32mdef\u001b[0m \u001b[0mget_linalg_error_extobj\u001b[0m\u001b[1;33m(\u001b[0m\u001b[0mcallback\u001b[0m\u001b[1;33m)\u001b[0m\u001b[1;33m:\u001b[0m\u001b[1;33m\u001b[0m\u001b[1;33m\u001b[0m\u001b[0m\n",
      "\u001b[1;31mLinAlgError\u001b[0m: SVD did not converge in Linear Least Squares"
     ]
    },
    {
     "data": {
      "image/png": "[encoded data removed]",
      "text/plain": [
       "<Figure size 432x288 with 1 Axes>"
      ]
     },
     "metadata": {
      "needs_background": "light"
     },
     "output_type": "display_data"
    }
   ],
   "source": [
    "for s in range(1,50):\n",
    "    a=PDSinfo[PDSinfo['Subject']==s].index.tolist()[0]\n",
    "    fname_grf=os.path.join(path2, PDSinfo.Trial[a]+'grf'+'.txt')\n",
    "    fname_mkr=os.path.join(path2,PDSinfo.Trial[a]+'mkr'+'.txt')\n",
    "    grf=pd.read_csv(fname_grf,delimiter='\\t',header=0,engine='c')\n",
    "    mkr=pd.read_csv(fname_mkr,delimiter='\\t',header=0,engine='c')\n",
    "    x=mkr['COG_X']\n",
    "    y=grf['COPNET_X']\n",
    "    t=mkr['Time']\n",
    "    x0=np.array(x[:-30]).reshape(-1,1)\n",
    "    y0=np.array(y[30:]).reshape(-1,1)\n",
    "    for nt in range(1,30):\n",
    "        x0=np.hstack((x0,np.array(x[nt:-30+nt]).reshape(-1,1)))\n",
    "    c,d,_,_=np.linalg.lstsq(x0,y0,rcond=None)\n",
    "    b=PDSinfo[PDSinfo['Subject']==s].index.tolist()[4]\n",
    "    fname_grftest=os.path.join(path2,PDSinfo.Trial[b]+'grf'+'.txt')\n",
    "    fname_mkrtest=os.path.join(path2,PDSinfo.Trial[b]+'mkr'+'.txt')\n",
    "    grftest=pd.read_csv(fname_grftest,delimiter='\\t',header=0,engine='c')\n",
    "    mkrtest=pd.read_csv(fname_mkrtest,delimiter='\\t',header=0,engine='c')\n",
    "    x1=mkrtest['COG_X']\n",
    "    y1=grftest['COPNET_X']\n",
    "    x1test=np.array(x1[:-30]).reshape(-1,1)\n",
    "    y1test=np.array(y1[30:]).reshape(-1,1)\n",
    "    for nt in range (1,30):\n",
    "        x1test=np.hstack((x1test,np.array(x1[nt:-30+nt]).reshape(-1,1)))\n",
    "    yexttest=x1test@c\n",
    "    plt.plot(t[:-30],yexttest,marker='',color='purple',linestyle='-')\n",
    "    plt.plot(t[:-30],y1[30:],marker='',color='red',linestyle='-')\n",
    "    plt.xlabel('Tempo')\n",
    "    plt.ylabel('COP')"
   ]
  },
  {
   "cell_type": "code",
   "execution_count": 6,
   "metadata": {},
   "outputs": [
    {
     "name": "stdout",
     "output_type": "stream",
     "text": [
      "[576, 577]\n"
     ]
    }
   ],
   "source": [
    "a=PDSinfo[PDSinfo['Subject']==49].index.tolist()[0:2]\n",
    "print(a[0:2])"
   ]
  },
  {
   "cell_type": "code",
   "execution_count": 12,
   "metadata": {},
   "outputs": [],
   "source": [
    "fname_grf=os.path.join(path2, PDSinfo.Trial[394]+'grf'+'.txt')\n",
    "fname_mkr=os.path.join(path2, PDSinfo.Trial[394]+'mkr'+'.txt')\n",
    "grf=pd.read_csv(fname_grf, delimiter='\\t',header=0,engine='c')\n",
    "mkr=pd.read_csv(fname_mkr,delimiter='\\t',header=0,engine='c')"
   ]
  },
  {
   "cell_type": "markdown",
   "metadata": {},
   "source": [
    "Devemos calcular os coeficientes da equação que relaciona o COG com o COP"
   ]
  },
  {
   "cell_type": "code",
   "execution_count": 13,
   "metadata": {},
   "outputs": [],
   "source": [
    "y=grf['COPNET_X']\n",
    "x=mkr['COG_X']\n",
    "t=mkr['Time']"
   ]
  },
  {
   "cell_type": "markdown",
   "metadata": {},
   "source": [
    "First it is created the array with values of cop and cog, and then calculated their coefficients, in this case for Trial 150, subject 13."
   ]
  },
  {
   "cell_type": "code",
   "execution_count": 14,
   "metadata": {},
   "outputs": [],
   "source": [
    "x1=np.array(x[:-30]).reshape(-1,1)\n",
    "y1=np.array(y[30:]).reshape(-1,1)\n",
    "for nt in range(1,30):\n",
    "    x1=np.hstack((x1,np.array(x[nt:-30+nt]).reshape(-1,1)))\n",
    "N=len(x1)\n",
    "f1=np.hstack((x1,np.ones((N,1))))\n",
    "c,d,_,_=np.linalg.lstsq(x1,y1,rcond=None)"
   ]
  },
  {
   "cell_type": "markdown",
   "metadata": {},
   "source": [
    "After the coefficients are calculated it is necessary to test the veracity of these values with other trials, for example 154"
   ]
  },
  {
   "cell_type": "code",
   "execution_count": 16,
   "metadata": {},
   "outputs": [],
   "source": [
    "fname_grftest1=os.path.join(path2, PDSinfo.Trial[395]+'grf'+'.txt')\n",
    "fname_mkrtest1=os.path.join(path2, PDSinfo.Trial[395]+'mkr'+'.txt')\n",
    "grftest1=pd.read_csv(fname_grftest1, delimiter='\\t', header=0, engine='c')\n",
    "mkrtest1=pd.read_csv(fname_mkrtest1, delimiter='\\t', header=0, engine='c')"
   ]
  },
  {
   "cell_type": "code",
   "execution_count": 17,
   "metadata": {},
   "outputs": [],
   "source": [
    "u1=mkrtest1['COG_X']\n",
    "v1=grftest1['COPNET_X']"
   ]
  },
  {
   "cell_type": "markdown",
   "metadata": {},
   "source": [
    "Now it is done de arrays that gather the data from nt to nt-30 for trial 154"
   ]
  },
  {
   "cell_type": "code",
   "execution_count": 20,
   "metadata": {},
   "outputs": [],
   "source": [
    "x1test1=np.array(u1[:-30]).reshape(-1,1)\n",
    "y1test1=np.array(v1[30:]).reshape(-1,1)\n",
    "for nt in range(1,30):\n",
    "    x1test1=np.hstack((x1test1,np.array(u1[nt:-30+nt]).reshape(-1,1)))"
   ]
  },
  {
   "cell_type": "markdown",
   "metadata": {},
   "source": [
    "It is time to plot the graphics with values of trial number 154 but using trial's 150 coeficient"
   ]
  },
  {
   "cell_type": "code",
   "execution_count": 22,
   "metadata": {},
   "outputs": [
    {
     "name": "stdout",
     "output_type": "stream",
     "text": [
      "[[nan]\n",
      " [nan]\n",
      " [nan]\n",
      " ...\n",
      " [nan]\n",
      " [nan]\n",
      " [nan]]\n"
     ]
    },
    {
     "data": {
      "text/plain": [
       "Text(0, 0.5, 'COP')"
      ]
     },
     "execution_count": 22,
     "metadata": {},
     "output_type": "execute_result"
    },
    {
     "data": {
      "image/png": "[encoded data removed]",
      "text/plain": [
       "<Figure size 432x288 with 1 Axes>"
      ]
     },
     "metadata": {
      "needs_background": "light"
     },
     "output_type": "display_data"
    }
   ],
   "source": [
    "yexttest1=x1test1@c\n",
    "print(yexttest1)\n",
    "plt.plot(t[:-30],yexttest1,marker='', color='purple',linestyle='-')\n",
    "plt.plot(t[:-30],v1[30:],marker='',color='red',linestyle='-')\n",
    "plt.xlabel('Tempo')\n",
    "plt.ylabel('COP')"
   ]
  },
  {
   "cell_type": "markdown",
   "metadata": {},
   "source": [
    "Now it is calculated the mean square error:"
   ]
  },
  {
   "cell_type": "code",
   "execution_count": 212,
   "metadata": {},
   "outputs": [
    {
     "name": "stdout",
     "output_type": "stream",
     "text": [
      "0.0004716409771949315\n"
     ]
    }
   ],
   "source": [
    "yext1med=np.mean(yexttest1)\n",
    "yreal1med=np.mean(v1[30:])\n",
    "e1=np.sqrt(np.mean((yext1med-yreal1med)**2))\n",
    "print(e1)"
   ]
  }
 ],
 "metadata": {
  "anaconda-cloud": {},
  "hide_input": false,
  "kernelspec": {
   "display_name": "Python 3",
   "language": "python",
   "name": "python3"
  },
  "language_info": {
   "codemirror_mode": {
    "name": "ipython",
    "version": 3
   },
   "file_extension": ".py",
   "mimetype": "text/x-python",
   "name": "python",
   "nbconvert_exporter": "python",
   "pygments_lexer": "ipython3",
   "version": "3.8.8"
  },
  "widgets": {
   "state": {
    "a16d9c9faf9c48c7af730aca51dc2a05": {
     "views": [
      {
       "cell_index": 25
      }
     ]
    },
    "be16c4e214eb40cf976ed257dbdbc5e5": {
     "views": [
      {
       "cell_index": 40
      }
     ]
    }
   },
   "version": "1.2.0"
  }
 },
 "nbformat": 4,
 "nbformat_minor": 4
}
