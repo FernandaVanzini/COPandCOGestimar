{
 "cells": [
  {
   "cell_type": "code",
   "execution_count": 2,
   "id": "4d6f2b2e-9889-4f20-a259-70287557fe9a",
   "metadata": {
    "ExecuteTime": {
     "end_time": "2017-02-27T18:50:34.521091Z",
     "start_time": "2017-02-27T15:50:33.800352-03:00"
    },
    "editable": true,
    "tags": []
   },
   "outputs": [],
   "source": [
    "import numpy as np\n",
    "#from scipy.signal import butter, filtfilt\n",
    "import pandas as pd\n",
    "import matplotlib\n",
    "import matplotlib.pyplot as plt\n",
    "import matplotlib.gridspec as gridspec\n",
    "import pickle\n",
    "%matplotlib inline\n",
    "#import seaborn as sns\n",
    "#sns.set_context(\"notebook\", font_scale=1.3,\n",
    "#                rc={'lines.linewidth': 1.5, 'lines.markersize': 14, 'axes.titlesize': 'x-large'})\n",
    "#matplotlib.rc('legend', numpoints=1, fontsize=14)\n",
    "#import glob\n",
    "import sys, os\n",
    "sys.path.insert(1, r'./Functions')\n",
    "# IPython widgets:\n",
    "from IPython.display import display\n",
    "import ipywidgets\n",
    "from ipywidgets import FloatProgress, interactive\n",
    "import seaborn as sns\n",
    "from scipy.signal import detrend\n",
    "import pickle"
   ]
  },
  {
   "cell_type": "code",
   "execution_count": 3,
   "id": "b6a86806-06a6-4230-a0e4-3dcc4c587c23",
   "metadata": {
    "collapsed": false,
    "editable": true,
    "jupyter": {
     "outputs_hidden": false
    },
    "tags": []
   },
   "outputs": [
    {
     "data": {
      "application/json": {
       "Software versions": [
        {
         "module": "Python",
         "version": "3.8.8 64bit [MSC v.1916 64 bit (AMD64)]"
        },
        {
         "module": "IPython",
         "version": "7.22.0"
        },
        {
         "module": "OS",
         "version": "Windows 10 10.0.22621 SP0"
        },
        {
         "module": "numpy",
         "version": "1.20.1"
        },
        {
         "module": "scipy",
         "version": "1.6.2"
        },
        {
         "module": "pandas",
         "version": "1.2.4"
        },
        {
         "module": "matplotlib",
         "version": "3.3.4"
        },
        {
         "module": "seaborn",
         "version": "0.11.1"
        }
       ]
      },
      "text/html": [
       "<table><tr><th>Software</th><th>Version</th></tr><tr><td>Python</td><td>3.8.8 64bit [MSC v.1916 64 bit (AMD64)]</td></tr><tr><td>IPython</td><td>7.22.0</td></tr><tr><td>OS</td><td>Windows 10 10.0.22621 SP0</td></tr><tr><td>numpy</td><td>1.20.1</td></tr><tr><td>scipy</td><td>1.6.2</td></tr><tr><td>pandas</td><td>1.2.4</td></tr><tr><td>matplotlib</td><td>3.3.4</td></tr><tr><td>seaborn</td><td>0.11.1</td></tr><tr><td colspan='2'>Tue Jun 27 20:29:13 2023 Hora oficial do Brasil</td></tr></table>"
      ],
      "text/latex": [
       "\\begin{tabular}{|l|l|}\\hline\n",
       "{\\bf Software} & {\\bf Version} \\\\ \\hline\\hline\n",
       "Python & 3.8.8 64bit [MSC v.1916 64 bit (AMD64)] \\\\ \\hline\n",
       "IPython & 7.22.0 \\\\ \\hline\n",
       "OS & Windows 10 10.0.22621 SP0 \\\\ \\hline\n",
       "numpy & 1.20.1 \\\\ \\hline\n",
       "scipy & 1.6.2 \\\\ \\hline\n",
       "pandas & 1.2.4 \\\\ \\hline\n",
       "matplotlib & 3.3.4 \\\\ \\hline\n",
       "seaborn & 0.11.1 \\\\ \\hline\n",
       "\\hline \\multicolumn{2}{|l|}{Tue Jun 27 20:29:13 2023 Hora oficial do Brasil} \\\\ \\hline\n",
       "\\end{tabular}\n"
      ],
      "text/plain": [
       "Software versions\n",
       "Python 3.8.8 64bit [MSC v.1916 64 bit (AMD64)]\n",
       "IPython 7.22.0\n",
       "OS Windows 10 10.0.22621 SP0\n",
       "numpy 1.20.1\n",
       "scipy 1.6.2\n",
       "pandas 1.2.4\n",
       "matplotlib 3.3.4\n",
       "seaborn 0.11.1\n",
       "Tue Jun 27 20:29:13 2023 Hora oficial do Brasil"
      ]
     },
     "execution_count": 3,
     "metadata": {},
     "output_type": "execute_result"
    }
   ],
   "source": [
    "#!pip install version_information\n",
    "%load_ext version_information\n",
    "%version_information numpy, scipy, pandas, matplotlib, seaborn"
   ]
  },
  {
   "cell_type": "code",
   "execution_count": 4,
   "id": "43e6855e-f2a8-45c3-b876-864fd3b24795",
   "metadata": {
    "ExecuteTime": {
     "end_time": "2017-02-27T18:50:34.534681Z",
     "start_time": "2017-02-27T15:50:34.521091-03:00"
    },
    "collapsed": false,
    "editable": true,
    "jupyter": {
     "outputs_hidden": false
    },
    "tags": []
   },
   "outputs": [
    {
     "name": "stdout",
     "output_type": "stream",
     "text": [
      "C:\\\\Users\\\\ferna\\\\Downloads\\\\IC- dados\\\\Dados\\PDSinfo.txt\n",
      "Information of 49 subjects loaded (588 rows, 29 columns).\n"
     ]
    }
   ],
   "source": [
    "# GitHub URL:\n",
    "#path2 = 'C:\\Users\\ferna\\Downloads\\IC- dados\\Dados'\n",
    "#local directory:\n",
    "path2 = r'C:\\\\Users\\\\ferna\\\\Downloads\\\\IC- dados\\\\Dados'\n",
    "#path2 = '/home/rnwatanabe/copdata'\n",
    "fname = os.path.join(path2, 'PDSinfo.txt')\n",
    "PDSinfo = pd.read_csv(fname, sep='\\t', header=0, index_col=None, engine='c', encoding='utf-8')\n",
    "print(fname)\n",
    "print(\"Information of %s subjects loaded (%s rows, %s columns).\"\n",
    "      %(len(pd.unique(PDSinfo.Subject)), PDSinfo.shape[0], PDSinfo.shape[1]))"
   ]
  },
  {
   "cell_type": "code",
   "execution_count": 5,
   "id": "980b8fea-56f9-4a6b-93de-a2c44fffce60",
   "metadata": {
    "tags": []
   },
   "outputs": [
    {
     "data": {
      "text/plain": [
       "Index                 128\n",
       "Trial                4704\n",
       "Subject              4704\n",
       "Vision               4704\n",
       "Surface              4704\n",
       "Rep                  4704\n",
       "Age                  4704\n",
       "AgeGroup             4704\n",
       "Gender               4704\n",
       "Height               4704\n",
       "Mass                 4704\n",
       "BMI                  4704\n",
       "FootLen              4704\n",
       "DominantLeg          4704\n",
       "Nationality          4704\n",
       "SkinColor            4704\n",
       "Ystudy               4704\n",
       "Footwear             4704\n",
       "Illness              4704\n",
       "Illness2             4704\n",
       "Nmedication          4704\n",
       "Medication           4704\n",
       "Ortho-Prosthesis     4704\n",
       "Ortho-Prosthesis2    4704\n",
       "Disability           4704\n",
       "Disability2          4704\n",
       "Falls12m             4704\n",
       "PhysicalActivity     4704\n",
       "Sequence             4704\n",
       "Date                 4704\n",
       "dtype: int64"
      ]
     },
     "execution_count": 5,
     "metadata": {},
     "output_type": "execute_result"
    }
   ],
   "source": [
    "a=PDSinfo[PDSinfo['Subject']==44].index.tolist()\n",
    "e=PDSinfo[PDSinfo['Subject']==44].index.tolist()[2]\n",
    "ei = PDSinfo[PDSinfo['Subject']==44]\n",
    "PDSinfo.memory_usage()"
   ]
  },
  {
   "cell_type": "code",
   "execution_count": 6,
   "id": "61499f4c-0fbd-4f23-82ba-dd670f96e9f3",
   "metadata": {
    "tags": []
   },
   "outputs": [
    {
     "name": "stdout",
     "output_type": "stream",
     "text": [
      "(588, 5970)\n"
     ]
    }
   ],
   "source": [
    "from sklearn.linear_model import LinearRegression\n",
    "from sklearn.model_selection import train_test_split\n",
    "fs = 100 # Hz\n",
    "import pickle \n",
    "#file = open('important', 'wb')\n",
    "\n",
    "COPX = np.zeros((49*12, 60*fs-30))\n",
    "COPZ = np.zeros((49*12, 60*fs-30))\n",
    "\n",
    "COPXreal = np.zeros((49*12, 60*fs-30))\n",
    "COPYreal = np.zeros((49*12, 60*fs-30))\n",
    "COPZreal = np.zeros((49*12, 60*fs-30))\n",
    "\n",
    "d1x = np.zeros((49*12, 60*fs-30))\n",
    "d2x = np.zeros((49*12, 60*fs-30))\n",
    "\n",
    "d1z = np.zeros((49*12, 60*fs-30))\n",
    "d2z = np.zeros((49*12, 60*fs-30))\n",
    "\n",
    "matrizangx = np.zeros((49*12, 60*fs-30))\n",
    "matrizangz = np.zeros((49*12, 60*fs-30))\n",
    "\n",
    "alpha = np.zeros((49*12, 60*fs-30))\n",
    "\n",
    "\n",
    "COGX = np.empty((49*12, 60*fs-30))\n",
    "print(COGX.shape)\n",
    "COGY = np.empty((49*12, 60*fs-30))\n",
    "COGZ = np.empty((49*12, 60*fs-30))\n",
    "\n",
    "d = np.zeros((49*12, 60*fs-30))\n",
    "\n",
    "\n",
    "angulox = np.zeros((49*12, 60*fs-30))\n",
    "anguloz= np.zeros((49*12, 60*fs-30))\n",
    "\n",
    "matrizangx = np.zeros((49*12, 60*fs-30))\n",
    "matrizangz = np.zeros((49*12, 60*fs-30))\n",
    "\n",
    "\n",
    "\n",
    "subject = np.zeros((0,1))\n",
    "j=0\n",
    "\n",
    "\n",
    "trial = 0\n",
    "for s in range (1,50):\n",
    "    \n",
    "    #a = PDSinfo[PDSinfo['Subject']==s].index.tolist()[2]\n",
    "    \n",
    "    ei = PDSinfo[PDSinfo['Subject']==s].index.tolist()\n",
    "    \n",
    "    \n",
    "    for i in range(0,len(ei)):\n",
    "        a = ei[i]\n",
    "        fname_grf = os.path.join(path2, PDSinfo.Trial[a] + 'grf' + '.txt') \n",
    "        fname_mkr = os.path.join(path2, PDSinfo.Trial[a] + 'mkr' + '.txt')\n",
    "        grf = pd.read_csv(fname_grf, delimiter='\\t', header=0, engine='c')\n",
    "        mkr = pd.read_csv(fname_mkr, delimiter='\\t', header=0, engine='c')\n",
    "        \n",
    "        \n",
    "        COGX[trial,:]=(mkr['COG_X'].values[30:])\n",
    "        COGY[trial,:]=(mkr['COG_Y'].values[30:])\n",
    "        COGZ[trial,:]=(mkr['COG_Z'].values[30:])\n",
    "        \n",
    "        \n",
    "        mass=PDSinfo['Mass']\n",
    "        if((np.isnan(d)).any) != 'True':\n",
    "            d[trial,:] = np.sqrt(COGX[trial,:]**2+COGY[trial,:]**2+COGZ[trial,:]**2)\n",
    "            angulox[trial,:] = np.arcsin(COGX[trial,:]/d[trial,:])\n",
    "            anguloz[trial,:] = np.arcsin(COGZ[trial,:]/d[trial,:])\n",
    "            sinx = np.sin(angulox[trial,:])\n",
    "            sinz = np.sin(anguloz[trial,:])\n",
    "            cosx = np.cos(angulox[trial,:])\n",
    "            cosz = np.cos(anguloz[trial,:])\n",
    "            tanx = np.tan(angulox[trial,:])\n",
    "            tanz = np.tan(anguloz[trial,:])\n",
    "            matrizangx[trial,:] = angulox[trial,:]\n",
    "            matrizangz[trial,:] = anguloz[trial,:]\n",
    "\n",
    "\n",
    "            Jb=(4/3)*(mass.values[s])*((d[trial,:])**2)\n",
    "            t=grf['Time']\n",
    "            dt=t[1]-t[0]\n",
    "\n",
    "\n",
    "            d1x[trial,:] = np.gradient(matrizangx[trial,:],dt)\n",
    "            d1z[trial,:] = np.gradient(matrizangz[trial,:],dt)\n",
    "\n",
    "            d2x[trial,:] = np.gradient(d1x[trial,:],dt)\n",
    "            d2z[trial,:] = np.gradient(d1z[trial,:],dt)\n",
    "\n",
    "            COPX[trial,:] = d[trial,:]*sinx + Jb/(mass.values[s]*9.8)*(sinx*d1x[trial,:]**2-cosx*d2x[trial,:]) \n",
    "            COPZ[trial,:] = d[trial,:]*sinz + Jb/(mass.values[s]*9.8)*(sinz*d1z[trial,:]**2-cosz*d2z[trial,:])\n",
    "\n",
    "\n",
    "\n",
    "\n",
    "            COPXreal[trial,:] = grf['COPNET_X'].values[30:]\n",
    "            COPZreal[trial,:] = grf['COPNET_Z'].values[30:]\n",
    "\n",
    "            subject = np.vstack((subject, [s]))\n",
    "\n",
    "            trial = trial + 1\n"
   ]
  },
  {
   "cell_type": "code",
   "execution_count": 7,
   "id": "7593a8e0-28b2-4477-ba56-26d4aac5ed59",
   "metadata": {},
   "outputs": [],
   "source": [
    "MASS = (PDSinfo['Mass'])\n",
    "ASISX=(mkr['R.ASIS_X'])\n",
    "ASISY=(mkr['R.ASIS_Y'])\n",
    "ASISZ=(mkr['R.ASIS_Z'])\n",
    "\n",
    "GTRX = mkr['R.GTR_X']\n",
    "GTRY = mkr['R.GTR_Y']\n",
    "GTRZ =mkr['R.GTR_Z']\n",
    "\n",
    "ILIACX = mkr['R.Iliac.Crestv_X']\n",
    "ILIACY= mkr['R.Iliac.Crestv_Y']\n",
    "ILIACZ= mkr['R.Iliac.Crestv_Z']\n",
    "\n",
    "PSISX = mkr['R.PSIS_X']\n",
    "PSISY = mkr['R.PSIS_Y']\n",
    "PSISZ = mkr['R.PSIS_Z']\n",
    "\n"
   ]
  },
  {
   "cell_type": "code",
   "execution_count": 8,
   "id": "f60b6caa-4082-471a-964c-91963f4885a5",
   "metadata": {},
   "outputs": [],
   "source": [
    "def fun(mass,x,y,z):\n",
    "    #CENTRODE PRESSAO\n",
    "    COPXpart = np.zeros((49*12, 60*fs-30))\n",
    "    COPZpart = np.zeros((49*12, 60*fs-30))\n",
    "\n",
    "    COPXreal = np.zeros((49*12, 60*fs-30))\n",
    "    COPYreal = np.zeros((49*12, 60*fs-30))\n",
    "    COPZreal = np.zeros((49*12, 60*fs-30))\n",
    "\n",
    "    d1x = np.zeros((49*12, 60*fs-30))\n",
    "    d2x = np.zeros((49*12, 60*fs-30))\n",
    "\n",
    "    d1z = np.zeros((49*12, 60*fs-30))\n",
    "    d2z = np.zeros((49*12, 60*fs-30))\n",
    "\n",
    "    matrizangx = np.zeros((49*12, 60*fs-30))\n",
    "    matrizangz = np.zeros((49*12, 60*fs-30))\n",
    "\n",
    "    alpha = np.zeros((49*12, 60*fs-30))\n",
    "\n",
    "\n",
    "    PARTX= np.empty((49*12, 60*fs-30))\n",
    "    PARTY= np.empty((49*12, 60*fs-30))\n",
    "    PARTZ = np.empty((49*12, 60*fs-30))\n",
    "\n",
    "    MASS = np.empty((49*12))\n",
    "\n",
    "    d = np.zeros((49*12, 60*fs-30))\n",
    "\n",
    "    angulox = np.zeros((49*12, 60*fs-30))\n",
    "    anguloz= np.zeros((49*12, 60*fs-30))\n",
    "\n",
    "    matrizangx = np.zeros((49*12, 60*fs-30))\n",
    "    matrizangz = np.zeros((49*12, 60*fs-30))\n",
    "\n",
    "\n",
    "\n",
    "    subject = np.zeros((0,1))\n",
    "    j=0\n",
    "\n",
    "\n",
    "    trial = 0\n",
    "    \n",
    "    for s in range (1,50):\n",
    "        for i in range(0,len(ei)):\n",
    "            PARTX[trial,:]=(x.values[30:])\n",
    "            PARTY[trial,:]=(y.values[30:])\n",
    "            PARTZ[trial,:]=(z.values[30:])\n",
    "        \n",
    "        \n",
    "            MASS[trial,] = (mass).values[s]\n",
    "           \n",
    "            d[trial,:] = np.sqrt(PARTX[trial,:]**2+PARTY[trial,:]**2+PARTZ[trial,:]**2)\n",
    "            if (any(np.isnan(d[trial,:]))) != 'True':\n",
    "                angulox[trial,:] = np.arcsin(PARTX[trial,:]/d[trial,:])\n",
    "                anguloz[trial,:] = np.arcsin(PARTZ[trial,:]/d[trial,:])\n",
    "                sinx = np.sin(angulox[trial,:])\n",
    "                sinz = np.sin(anguloz[trial,:])\n",
    "                cosx = np.cos(angulox[trial,:])\n",
    "                cosz = np.cos(anguloz[trial,:])\n",
    "                tanx = np.tan(angulox[trial,:])\n",
    "                tanz = np.tan(anguloz[trial,:])\n",
    "                matrizangx[trial,:] = angulox[trial,:]\n",
    "                matrizangz[trial,:] = anguloz[trial,:]\n",
    "            \n",
    "\n",
    "\n",
    "                Jb=(4/3)*(MASS[trial,])*((d[trial,:])**2)\n",
    "                t=grf['Time']\n",
    "                dt=t[1]-t[0]\n",
    "\n",
    "\n",
    "                d1x[trial,:] = np.gradient(matrizangx[trial,:],dt)\n",
    "                d1z[trial,:] = np.gradient(matrizangz[trial,:],dt)\n",
    "\n",
    "                d2x[trial,:] = np.gradient(d1x[trial,:],dt)\n",
    "                d2z[trial,:] = np.gradient(d1z[trial,:],dt)\n",
    "\n",
    "                COPXpart[trial,:] = d[trial,:]*sinx + Jb/(MASS[trial,]*9.8)*(sinx*d1x[trial,:]**2-cosx*d2x[trial,:]) \n",
    "                COPZpart[trial,:] = d[trial,:]*sinz + Jb/(MASS[trial,]*9.8)*(sinz*d1z[trial,:]**2-cosz*d2z[trial,:])\n",
    "\n",
    "\n",
    "                COPXreal[trial,:] = grf['COPNET_X'].values[30:]\n",
    "                COPZreal[trial,:] = grf['COPNET_Z'].values[30:]\n",
    "\n",
    "\n",
    "                subject = np.vstack((subject, [s]))\n",
    "\n",
    "                trial = trial + 1\n",
    "    #zeros\n",
    "    testex=np.where(np.isnan(COGX))\n",
    "    testey=np.where(np.isnan(COGY))\n",
    "    testez=np.where(np.isnan(COGZ))\n",
    "\n",
    "\n",
    "    cogx=np.delete(COGX,[testex[0]],0)\n",
    "    cogy=np.delete(COGY,[testey[0]],0)\n",
    "    cogz=np.delete(COGZ,[testez[0]],0)\n",
    "\n",
    "    subjectc = np.delete(subject,[testex[0]],0)\n",
    "\n",
    "    testex = np.where(np.isnan(PARTX))\n",
    "    testey = np.where(np.isnan(PARTY))\n",
    "    testez = np.where(np.isnan(PARTZ))\n",
    "    print(testex)\n",
    "\n",
    "    partx=np.delete(PARTX,[testex[0]],0)\n",
    "    party=np.delete(PARTY,[testey[0]],0)\n",
    "    partz=np.delete(PARTZ,[testez[0]],0)\n",
    "    print(np.where(np.isnan(partz)))\n",
    "\n",
    "    subjecta = np.delete(subject,[testex[0]],0)\n",
    "\n",
    "\n",
    "\n",
    "    testex=np.where(np.isnan(COPX))\n",
    "    testez=np.where(np.isnan(COPZ))\n",
    "\n",
    "    copx=np.delete(COPX,[testex[0]],0)\n",
    "    copz=np.delete(COPZ,[testez[0]],0)\n",
    "    subjectp = np.delete(subject,[testex[0]],0)\n",
    "    \n",
    "    #\n",
    "    \n",
    "    indices = np.arange(1,50).reshape(-1,1)\n",
    "    np.random.shuffle(indices)\n",
    "    train = indices[:40]\n",
    "    test = indices[40:]\n",
    "\n",
    "\n",
    "    #masstrain = mass.values[train]\n",
    "    masstrain = MASS[np.in1d(subject,train),]\n",
    "    print(train.shape)\n",
    "\n",
    "    masstest = MASS[np.in1d(subject,test),]\n",
    "\n",
    "    PARTXtrain = partx[np.in1d(subjecta,train),]\n",
    "    COGXtrain = cogx[np.in1d(subjectc,train),]\n",
    "    COGXtest = cogx[np.in1d(subjectc,test),]\n",
    "    PARTXtest = partx[np.in1d(subjecta,test),]\n",
    "    COPXtrain = copx[np.in1d(subjectp,train),]\n",
    "    COPXtest = copx[np.in1d(subjectp,test),]\n",
    "\n",
    "    PARTYtrain = party[np.in1d(subjecta,train),]\n",
    "    COGYtrain = cogy[np.in1d(subjectc,train),]\n",
    "    COGYtest = cogy[np.in1d(subjectc,test),]\n",
    "    PARTYtest = party[np.in1d(subjecta,test),]\n",
    "\n",
    "    PARTZtrain = partz[np.in1d(subjecta,train),]\n",
    "    PARTZtest = partz[np.in1d(subjecta,test),]\n",
    "    COPZtrain = copz[np.in1d(subjectp,train),]\n",
    "    COPZtest = copz[np.in1d(subjectp,test),]\n",
    "    COGZtrain = cogz[np.in1d(subjectc,train),]\n",
    "    COGZtest = cogz[np.in1d(subjectc,test),]\n",
    "    \n",
    "    values = ((COPXreal,COPZreal,COPXpart,COPZpart,d1x,d1z,d2x,d2z,matrizangx,matrizangz,COGX,COGY,COGZ,PARTX,PARTY,PARTZ,angulox,anguloz,d,alpha,subject,ei,sinx,sinz,cosx,cosz,tanx,tanz,COGXtrain,COGYtrain,COGZtrain,COGXtest,COGYtest,COGZtest,PARTXtrain,PARTYtrain,PARTZtrain,PARTXtest,PARTYtest,PARTZtest,COPXtrain,COPXtest,COPZtrain,COPZtest,train,test,masstrain,masstest,subjectp,subjectc,subjecta,t))\n",
    "\n",
    "\n",
    "    return  values"
   ]
  },
  {
   "cell_type": "code",
   "execution_count": 14,
   "id": "b52d6450-4a47-49ba-a065-1bb1823cf24b",
   "metadata": {},
   "outputs": [
    {
     "name": "stdout",
     "output_type": "stream",
     "text": [
      "(array([], dtype=int64), array([], dtype=int64))\n",
      "(array([], dtype=int64), array([], dtype=int64))\n",
      "(40, 1)\n",
      "0       0.377840\n",
      "1       0.377851\n",
      "2       0.377862\n",
      "3       0.377873\n",
      "4       0.377882\n",
      "          ...   \n",
      "5995    0.378639\n",
      "5996    0.378665\n",
      "5997    0.378678\n",
      "5998    0.378682\n",
      "5999    0.378682\n",
      "Name: R.ASIS_X, Length: 6000, dtype: float64\n"
     ]
    }
   ],
   "source": [
    "file = open('storeasis.pkl', 'wb')\n",
    "\n",
    "         \n",
    "pickle.dump((fun(MASS,ASISX,ASISY,ASISZ)), file)\n",
    "\n",
    "\n",
    "file.close()\n",
    "    "
   ]
  },
  {
   "cell_type": "markdown",
   "id": "e753877c-bc1f-4f38-860c-d9f35c882565",
   "metadata": {
    "tags": []
   },
   "source": [
    "ILIAC"
   ]
  },
  {
   "cell_type": "code",
   "execution_count": 15,
   "id": "377d064a-ae53-45eb-a165-3ee68e17a88f",
   "metadata": {},
   "outputs": [
    {
     "name": "stdout",
     "output_type": "stream",
     "text": [
      "(array([], dtype=int64), array([], dtype=int64))\n",
      "(array([], dtype=int64), array([], dtype=int64))\n",
      "(40, 1)\n",
      "0       0.275980\n",
      "1       0.276002\n",
      "2       0.276018\n",
      "3       0.276023\n",
      "4       0.276016\n",
      "          ...   \n",
      "5995    0.275096\n",
      "5996    0.275105\n",
      "5997    0.275084\n",
      "5998    0.275038\n",
      "5999    0.274979\n",
      "Name: R.GTR_X, Length: 6000, dtype: float64\n"
     ]
    }
   ],
   "source": [
    "file = open('storegtr2.pkl', 'wb')\n",
    "\n",
    "         \n",
    "pickle.dump((fun(MASS,GTRX,GTRY,GTRZ)), file)\n",
    "\n",
    "\n",
    "file.close()"
   ]
  },
  {
   "cell_type": "code",
   "execution_count": 11,
   "id": "fd11f9a7-b4d4-444f-9e21-8fb3e6863ba8",
   "metadata": {},
   "outputs": [
    {
     "name": "stdout",
     "output_type": "stream",
     "text": [
      "(array([], dtype=int64), array([], dtype=int64))\n",
      "(array([], dtype=int64), array([], dtype=int64))\n",
      "(40, 1)\n"
     ]
    }
   ],
   "source": [
    "file = open('storeili2.pkl', 'wb')\n",
    "\n",
    "         \n",
    "pickle.dump((fun(MASS,ILIACX,ILIACY,ILIACZ)), file)\n",
    "\n",
    "\n",
    "file.close()"
   ]
  },
  {
   "cell_type": "code",
   "execution_count": 12,
   "id": "d885a51a-297e-4251-9662-7c03d3d988e4",
   "metadata": {},
   "outputs": [
    {
     "name": "stdout",
     "output_type": "stream",
     "text": [
      "(array([], dtype=int64), array([], dtype=int64))\n",
      "(array([], dtype=int64), array([], dtype=int64))\n",
      "(40, 1)\n"
     ]
    }
   ],
   "source": [
    "file = open('storepsi2.pkl', 'wb')\n",
    "\n",
    "         \n",
    "pickle.dump((fun(MASS,PSISX,PSISY,PSISZ)), file)\n",
    "\n",
    "\n",
    "file.close()"
   ]
  },
  {
   "cell_type": "code",
   "execution_count": null,
   "id": "c192aa04-0970-4d68-ae9d-0b623e128744",
   "metadata": {},
   "outputs": [],
   "source": []
  }
 ],
 "metadata": {
  "kernelspec": {
   "display_name": "Python 3",
   "language": "python",
   "name": "python3"
  },
  "language_info": {
   "codemirror_mode": {
    "name": "ipython",
    "version": 3
   },
   "file_extension": ".py",
   "mimetype": "text/x-python",
   "name": "python",
   "nbconvert_exporter": "python",
   "pygments_lexer": "ipython3",
   "version": "3.8.8"
  }
 },
 "nbformat": 4,
 "nbformat_minor": 5
}
