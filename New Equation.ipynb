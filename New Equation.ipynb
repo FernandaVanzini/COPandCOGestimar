{
 "cells": [
  {
   "cell_type": "markdown",
   "id": "24dfccc5-e0ea-45f9-bd75-b15068c2f1f0",
   "metadata": {
    "editable": true
   },
   "source": [
    "## Python libraries\n",
    "\n",
    "First, let's import the necessary Python libraries and configure the environment:"
   ]
  },
  {
   "cell_type": "code",
   "execution_count": 1,
   "id": "635e0dd1-cdd1-4990-a658-dbd90a7f62dc",
   "metadata": {
    "ExecuteTime": {
     "end_time": "2017-02-27T18:50:34.521091Z",
     "start_time": "2017-02-27T15:50:33.800352-03:00"
    },
    "editable": true,
    "tags": []
   },
   "outputs": [],
   "source": [
    "import numpy as np\n",
    "#from scipy.signal import butter, filtfilt\n",
    "import pandas as pd\n",
    "import matplotlib\n",
    "import matplotlib.pyplot as plt\n",
    "import matplotlib.gridspec as gridspec\n",
    "%matplotlib inline\n",
    "#import seaborn as sns\n",
    "#sns.set_context(\"notebook\", font_scale=1.3,\n",
    "#                rc={'lines.linewidth': 1.5, 'lines.markersize': 14, 'axes.titlesize': 'x-large'})\n",
    "#matplotlib.rc('legend', numpoints=1, fontsize=14)\n",
    "#import glob\n",
    "import sys, os\n",
    "sys.path.insert(1, r'./Functions')\n",
    "# IPython widgets:\n",
    "from IPython.display import display\n",
    "import ipywidgets\n",
    "from ipywidgets import FloatProgress, interactive\n",
    "import seaborn as sns"
   ]
  },
  {
   "cell_type": "code",
   "execution_count": 2,
   "id": "d3790a4c-7d71-48d9-a526-3a305da08618",
   "metadata": {
    "collapsed": false,
    "editable": true,
    "jupyter": {
     "outputs_hidden": false
    }
   },
   "outputs": [
    {
     "data": {
      "application/json": {
       "Software versions": [
        {
         "module": "Python",
         "version": "3.8.8 64bit [MSC v.1916 64 bit (AMD64)]"
        },
        {
         "module": "IPython",
         "version": "7.22.0"
        },
        {
         "module": "OS",
         "version": "Windows 10 10.0.22000 SP0"
        },
        {
         "module": "numpy",
         "version": "1.20.1"
        },
        {
         "module": "scipy",
         "version": "1.6.2"
        },
        {
         "module": "pandas",
         "version": "1.2.4"
        },
        {
         "module": "matplotlib",
         "version": "3.3.4"
        },
        {
         "module": "seaborn",
         "version": "0.11.1"
        }
       ]
      },
      "text/html": [
       "<table><tr><th>Software</th><th>Version</th></tr><tr><td>Python</td><td>3.8.8 64bit [MSC v.1916 64 bit (AMD64)]</td></tr><tr><td>IPython</td><td>7.22.0</td></tr><tr><td>OS</td><td>Windows 10 10.0.22000 SP0</td></tr><tr><td>numpy</td><td>1.20.1</td></tr><tr><td>scipy</td><td>1.6.2</td></tr><tr><td>pandas</td><td>1.2.4</td></tr><tr><td>matplotlib</td><td>3.3.4</td></tr><tr><td>seaborn</td><td>0.11.1</td></tr><tr><td colspan='2'>Fri Oct 07 13:26:42 2022 Hora oficial do Brasil</td></tr></table>"
      ],
      "text/latex": [
       "\\begin{tabular}{|l|l|}\\hline\n",
       "{\\bf Software} & {\\bf Version} \\\\ \\hline\\hline\n",
       "Python & 3.8.8 64bit [MSC v.1916 64 bit (AMD64)] \\\\ \\hline\n",
       "IPython & 7.22.0 \\\\ \\hline\n",
       "OS & Windows 10 10.0.22000 SP0 \\\\ \\hline\n",
       "numpy & 1.20.1 \\\\ \\hline\n",
       "scipy & 1.6.2 \\\\ \\hline\n",
       "pandas & 1.2.4 \\\\ \\hline\n",
       "matplotlib & 3.3.4 \\\\ \\hline\n",
       "seaborn & 0.11.1 \\\\ \\hline\n",
       "\\hline \\multicolumn{2}{|l|}{Fri Oct 07 13:26:42 2022 Hora oficial do Brasil} \\\\ \\hline\n",
       "\\end{tabular}\n"
      ],
      "text/plain": [
       "Software versions\n",
       "Python 3.8.8 64bit [MSC v.1916 64 bit (AMD64)]\n",
       "IPython 7.22.0\n",
       "OS Windows 10 10.0.22000 SP0\n",
       "numpy 1.20.1\n",
       "scipy 1.6.2\n",
       "pandas 1.2.4\n",
       "matplotlib 3.3.4\n",
       "seaborn 0.11.1\n",
       "Fri Oct 07 13:26:42 2022 Hora oficial do Brasil"
      ]
     },
     "execution_count": 2,
     "metadata": {},
     "output_type": "execute_result"
    }
   ],
   "source": [
    "#!pip install version_information\n",
    "%load_ext version_information\n",
    "%version_information numpy, scipy, pandas, matplotlib, seaborn"
   ]
  },
  {
   "cell_type": "markdown",
   "id": "b2068c24-c746-4562-a2a9-edef119a3628",
   "metadata": {
    "editable": true
   },
   "source": [
    "## Meta data\n",
    "\n",
    "The file `PDSinfo.txt` contains meta data about the subjects and the experimental trials. The file has a header plus 588 rows per 29 columns (there are 12 rows for each of the 49 subjects).   \n",
    "Let's use the power of the [pandas](http://pandas.pydata.org/) library to load and explore the meta data:"
   ]
  },
  {
   "cell_type": "code",
   "execution_count": 3,
   "id": "0468e248-2a9e-4296-a13c-ef7436375ceb",
   "metadata": {
    "ExecuteTime": {
     "end_time": "2017-02-27T18:50:34.534681Z",
     "start_time": "2017-02-27T15:50:34.521091-03:00"
    },
    "collapsed": false,
    "editable": true,
    "jupyter": {
     "outputs_hidden": false
    }
   },
   "outputs": [
    {
     "name": "stdout",
     "output_type": "stream",
     "text": [
      "C:\\\\Users\\\\ferna\\\\Downloads\\\\IC- dados\\\\Dados\\PDSinfo.txt\n",
      "Information of 49 subjects loaded (588 rows, 29 columns).\n"
     ]
    }
   ],
   "source": [
    "# GitHub URL:\n",
    "#path2 = 'C:\\Users\\ferna\\Downloads\\IC- dados\\Dados'\n",
    "# local directory:\n",
    "path2 = r'C:\\\\Users\\\\ferna\\\\Downloads\\\\IC- dados\\\\Dados'\n",
    "fname = os.path.join(path2, 'PDSinfo.txt')\n",
    "PDSinfo = pd.read_csv(fname, sep='\\t', header=0, index_col=None, engine='c', encoding='utf-8')\n",
    "print(fname)\n",
    "print(\"Information of %s subjects loaded (%s rows, %s columns).\"\n",
    "      %(len(pd.unique(PDSinfo.Subject)), PDSinfo.shape[0], PDSinfo.shape[1]))"
   ]
  },
  {
   "cell_type": "code",
   "execution_count": 4,
   "id": "a4a16e4b-68d3-47a7-843f-faca0011ff40",
   "metadata": {},
   "outputs": [
    {
     "name": "stdout",
     "output_type": "stream",
     "text": [
      "[516, 517, 518, 519, 520, 521, 522, 523, 524, 525, 526, 527]\n",
      "518\n"
     ]
    }
   ],
   "source": [
    "a=PDSinfo[PDSinfo['Subject']==44].index.tolist()\n",
    "e=PDSinfo[PDSinfo['Subject']==44].index.tolist()[2]\n",
    "print(a)\n",
    "print(e)"
   ]
  },
  {
   "cell_type": "markdown",
   "id": "045e6a2b-3284-436c-bea2-23cd8e49d41b",
   "metadata": {
    "editable": true
   },
   "source": [
    "Here are the first 12 rows and first 10 columns of meta data:"
   ]
  },
  {
   "cell_type": "markdown",
   "id": "5e887c35-ebfc-42a8-99fb-618fcb8d6712",
   "metadata": {
    "editable": true
   },
   "source": [
    "## COP and COG displacements"
   ]
  },
  {
   "cell_type": "markdown",
   "id": "af2ef4d2-164b-4611-8fc2-f5ea019983e7",
   "metadata": {},
   "source": [
    "## For Every Subject"
   ]
  },
  {
   "cell_type": "markdown",
   "id": "c2d22a75-c64f-4528-9504-2bab5b3c7add",
   "metadata": {},
   "source": [
    "COP = alfa*angulo + beta* derivada"
   ]
  },
  {
   "cell_type": "code",
   "execution_count": 5,
   "id": "bf5caee7-ef1e-4ec3-9906-a03df65a6585",
   "metadata": {},
   "outputs": [
    {
     "name": "stdout",
     "output_type": "stream",
     "text": [
      "0       0.264040\n",
      "1       0.264001\n",
      "2       0.263961\n",
      "3       0.263919\n",
      "4       0.263876\n",
      "          ...   \n",
      "5995    0.251854\n",
      "5996    0.251785\n",
      "5997    0.251715\n",
      "5998    0.251646\n",
      "5999    0.251579\n",
      "Name: COG_X, Length: 6000, dtype: float64\n"
     ]
    }
   ],
   "source": [
    "from sklearn.linear_model import LinearRegression\n",
    "fs = 100 # Hz\n",
    "COPX = np.zeros((49, 60*fs-30))\n",
    "COPZ = np.zeros((49, 60*fs-30))\n",
    "\n",
    "COPXreal = np.zeros((49, 60*fs-30))\n",
    "COPZreal = np.zeros((49, 60*fs-30))\n",
    "\n",
    "d1x = np.zeros((49, 60*fs-30))\n",
    "d2x = np.zeros((49, 60*fs-30))\n",
    "\n",
    "d1z = np.zeros((49, 60*fs-30))\n",
    "d2z = np.zeros((49, 60*fs-30))\n",
    "\n",
    "matrizangx = np.zeros((49, 60*fs-30))\n",
    "matrizangz = np.zeros((49, 60*fs-30))\n",
    "\n",
    "alpha = np.zeros((49, 60*fs-30))\n",
    "for s in range (1,50):\n",
    "    a = PDSinfo[PDSinfo['Subject']==s].index.tolist()[2]\n",
    "    \n",
    "    fname_grf = os.path.join(path2, PDSinfo.Trial[a] + 'grf' + '.txt') \n",
    "    fname_mkr = os.path.join(path2, PDSinfo.Trial[a] + 'mkr' + '.txt')\n",
    "    grf = pd.read_csv(fname_grf, delimiter='\\t', header=0, engine='c')\n",
    "    mkr = pd.read_csv(fname_mkr, delimiter='\\t', header=0, engine='c')\n",
    "    COGX=mkr['COG_X']\n",
    "    COGY=mkr['COG_Y']\n",
    "    COGZ=mkr['COG_Z']\n",
    "    mass=PDSinfo['Mass']\n",
    "    d = np.sqrt(COGX**2+COGY**2+COGZ**2)\n",
    "    angulox = np.arcsin(COGX/d)\n",
    "    anguloz= np.arcsin(COGZ/d)\n",
    "    sinx=np.sin(angulox)\n",
    "    sinz=np.sin(anguloz)\n",
    "    cosx=np.cos(angulox)\n",
    "    cosz=np.cos(anguloz)\n",
    "    tanx=np.tan(angulox)\n",
    "    tanz=np.tan(anguloz)\n",
    "    matrizangx[s-1,:] = angulox.values[30:]\n",
    "    matrizangz[s-1,:] = anguloz.values[30:]\n",
    "    \n",
    "    \n",
    "    Jb=(4/3)*(mass.values[s])*((d[30:])**2)\n",
    "    t=grf['Time']\n",
    "    dt=t[1]-t[0]\n",
    "\n",
    "    d1x[s-1,:]=np.gradient(matrizangx[s-1,:],dt)\n",
    "    d1z[s-1,:]=np.gradient(matrizangz[s-1,:],dt)\n",
    "\n",
    "    d2x[s-1,:]=np.gradient(d1x[s-1,:],dt)\n",
    "    d2z[s-1,:]=np.gradient(d1z[s-1,:],dt)\n",
    "    \n",
    "    COPX[s-1,:] = d.values[30:]*sinx.values[30:] + Jb/(mass.values[s]*9.8)*(sinx.values[30:]*d1x[s-1,:]**2-cosx.values[30:]*d2x[s-1,:])\n",
    "    COPZ[s-1,:] = d.values[30:]*sinz.values[30:] + Jb/(mass.values[s]*9.8)*(sinz.values[30:]*d1z[s-1,:]**2-cosz.values[30:]*d2z[s-1,:])\n",
    "    \n",
    "    \n",
    "    COPXreal[s-1,:]=grf['COPNET_X'].values[30:]\n",
    "    COPZreal[s-1,:]=grf['COPNET_Z'].values[30:]\n",
    "    \n",
    "    x= np.vstack((COPX[[s-1],:],d2x[[s-1],:]))\n",
    "    y= COPXreal[s-1,:]\n",
    "\n",
    "    model=LinearRegression(fit_intercept=False)\n",
    "    model.fit(x.T,y)\n",
    "    #print(model.coef_) \n",
    "    \n",
    "    #def reg_m(y, x):\n",
    "        #ones = np.ones(len(x[0]))\n",
    "        #X = sm.add_constant(np.column_stack((x[0], ones)))\n",
    "        #for oi in x[1:]:\n",
    "            #X = sm.add_constant(np.column_stack((oi, X)))\n",
    "            #results = sm.OLS(y, x).fit()\n",
    "            #return results\n",
    "    #print(model.coef_)\n",
    "    #print(reg_m(y, x.T).summary())\n",
    " \n",
    "    #print(model.coef_)\n",
    "    #x= (np.array([COPX[s-1,:],d2x[s-1,:]]))\n",
    "    #y= COPXreal[s-1,:]\n",
    "    #model=LinearRegression()\n",
    "    #model.fit(x.T,y)\n",
    "    #print(model.coef_) \n",
    "    #Histogramas\n",
    "    #plt.figure()\n",
    "    #hist=plt.hist(model.coef_[0], bins=50)\n",
    "    #plt.title('Histograms of alpha'.format(s))\n",
    "    #plt.show()\n",
    "print(COGX)    "
   ]
  },
  {
   "cell_type": "code",
   "execution_count": 6,
   "id": "32b6cd8c-7e66-4ca2-bf4f-a2a90213b7b8",
   "metadata": {},
   "outputs": [
    {
     "name": "stdout",
     "output_type": "stream",
     "text": [
      "[0.226171 0.226215 0.22628  ... 0.239102 0.239199 0.239302]\n",
      "[0.265622 0.265845 0.266072 ... 0.244288 0.244232 0.24418 ]\n",
      "[0.228266 0.228242 0.22824  ... 0.210021 0.210067 0.210129]\n",
      "[0.201201 0.201274 0.201328 ... 0.192306 0.192299 0.19228 ]\n",
      "[0.226489 0.226548 0.226604 ... 0.212395 0.212387 0.212359]\n",
      "[0.213573 0.213584 0.213602 ... 0.193228 0.193121 0.192987]\n",
      "[0.21237  0.212326 0.212265 ... 0.188437 0.188492 0.18853 ]\n",
      "[0.214675 0.214655 0.214664 ... 0.213194 0.213081 0.212961]\n",
      "[0.208002 0.208001 0.207993 ... 0.213046 0.212957 0.21284 ]\n",
      "[0.230632 0.230624 0.230612 ... 0.229226 0.229328 0.229441]\n",
      "[0.24118  0.241489 0.241808 ... 0.21804  0.218075 0.21812 ]\n",
      "[0.214241 0.214255 0.214287 ... 0.20103  0.200968 0.2009  ]\n",
      "[0.224572 0.22452  0.224466 ... 0.226079 0.226128 0.22619 ]\n",
      "[0.21678  0.216729 0.216662 ... 0.200695 0.200623 0.20055 ]\n",
      "[0.195308 0.195519 0.195747 ... 0.190798 0.190699 0.190559]\n",
      "[0.24953  0.249516 0.249508 ... 0.238421 0.238324 0.238209]\n",
      "[0.207211 0.207277 0.20735  ... 0.188963 0.189274 0.189589]\n",
      "[0.204821 0.20486  0.20491  ... 0.197646 0.197633 0.197592]\n",
      "[0.246585 0.24651  0.2464   ... 0.223047 0.223039 0.22302 ]\n",
      "[0.254957 0.255008 0.255064 ... 0.247714 0.247688 0.247659]\n",
      "[0.198317 0.198253 0.1982   ... 0.191662 0.191689 0.19173 ]\n",
      "[0.228122 0.228088 0.228068 ... 0.211486 0.211623 0.211753]\n",
      "[0.223207 0.223242 0.223305 ... 0.218627 0.218543 0.21846 ]\n",
      "[0.223297 0.223559 0.223823 ... 0.214534 0.214402 0.214268]\n",
      "[0.236192 0.236051 0.235898 ... 0.22454  0.224539 0.224541]\n",
      "[0.244372 0.244497 0.24462  ... 0.236347 0.236269 0.23617 ]\n",
      "[0.259671 0.259451 0.259242 ... 0.235121 0.235146 0.235172]\n",
      "[0.230959 0.230673 0.230383 ... 0.222939 0.223067 0.223208]\n",
      "[0.213898 0.213917 0.213947 ... 0.204104 0.204237 0.20438 ]\n",
      "[0.235888 0.235801 0.235706 ... 0.230076 0.229979 0.229869]\n",
      "[0.199892 0.1999   0.19994  ... 0.201338 0.201347 0.201318]\n",
      "[0.211994 0.211797 0.211595 ... 0.206462 0.206716 0.206998]\n",
      "[0.221772 0.221876 0.221962 ... 0.210567 0.210533 0.21051 ]\n",
      "[0.200553 0.200727 0.200903 ... 0.204055 0.20413  0.204204]\n",
      "[0.245148 0.245106 0.245089 ... 0.248176 0.248169 0.24816 ]\n",
      "[0.244491 0.244657 0.244832 ... 0.243434 0.243309 0.243181]\n",
      "[0.222967 0.223015 0.223083 ... 0.217719 0.217577 0.217456]\n",
      "[0.268023 0.267968 0.267906 ... 0.276393 0.276339 0.27627 ]\n",
      "[0.199572 0.199704 0.199844 ... 0.211038 0.211135 0.211242]\n",
      "[0.194477 0.19444  0.194394 ... 0.193239 0.193013 0.192732]\n",
      "[0.22783  0.227947 0.228064 ... 0.238152 0.238189 0.238201]\n",
      "[0.220853 0.220792 0.220752 ... 0.211121 0.211192 0.211271]\n",
      "[0.216457 0.216371 0.21625  ... 0.210149 0.2101   0.210049]\n",
      "[0.221119 0.220982 0.220866 ... 0.234317 0.234272 0.234228]\n",
      "[0.237168 0.237149 0.237179 ... 0.226353 0.226375 0.226401]\n",
      "[0.209332 0.209509 0.209707 ... 0.196124 0.19629  0.196459]\n",
      "[0.2171   0.217172 0.217209 ... 0.204945 0.20509  0.205259]\n",
      "[0.209503 0.209464 0.209422 ... 0.191029 0.191075 0.191112]\n",
      "[0.247517 0.24739  0.24725  ... 0.235163 0.235002 0.234829]\n"
     ]
    },
    {
     "data": {
      "image/png": "[encoded data removed]",
      "text/plain": [
       "<Figure size 432x288 with 1 Axes>"
      ]
     },
     "metadata": {
      "needs_background": "light"
     },
     "output_type": "display_data"
    },
    {
     "data": {
      "image/png": "[encoded data removed]",
      "text/plain": [
       "<Figure size 432x288 with 1 Axes>"
      ]
     },
     "metadata": {
      "needs_background": "light"
     },
     "output_type": "display_data"
    },
    {
     "data": {
      "image/png": "[encoded data removed]",
      "text/plain": [
       "<Figure size 432x288 with 1 Axes>"
      ]
     },
     "metadata": {
      "needs_background": "light"
     },
     "output_type": "display_data"
    },
    {
     "name": "stdout",
     "output_type": "stream",
     "text": [
      "0.968254853833539\n",
      "0.08722443052591325\n"
     ]
    }
   ],
   "source": [
    "from sklearn.linear_model import LinearRegression\n",
    "fs = 100 # Hz\n",
    "COPX = np.zeros((49, 60*fs-30))\n",
    "COPZ = np.zeros((49, 60*fs-30))\n",
    "\n",
    "COPXreal = np.zeros((49, 60*fs-30))\n",
    "COPZreal = np.zeros((49, 60*fs-30))\n",
    "\n",
    "d1x = np.zeros((49, 60*fs-30))\n",
    "d2x = np.zeros((49, 60*fs-30))\n",
    "\n",
    "d1z = np.zeros((49, 60*fs-30))\n",
    "d2z = np.zeros((49, 60*fs-30))\n",
    "\n",
    "matrizangx = np.zeros((49, 60*fs-30))\n",
    "matrizangz = np.zeros((49, 60*fs-30))\n",
    "\n",
    "alpha = []\n",
    "beta=[]\n",
    "\n",
    "for s in range (1,50):\n",
    "    a = PDSinfo[PDSinfo['Subject']==s].index.tolist()[2]\n",
    "    \n",
    "    fname_grf = os.path.join(path2, PDSinfo.Trial[a] + 'grf' + '.txt') \n",
    "    fname_mkr = os.path.join(path2, PDSinfo.Trial[a] + 'mkr' + '.txt')\n",
    "    grf = pd.read_csv(fname_grf, delimiter='\\t', header=0, engine='c')\n",
    "    mkr = pd.read_csv(fname_mkr, delimiter='\\t', header=0, engine='c')\n",
    "    COGX=mkr['COG_X']\n",
    "    COGY=mkr['COG_Y']\n",
    "    COGZ=mkr['COG_Z']\n",
    "    mass=PDSinfo['Mass']\n",
    "    d = np.sqrt(COGX**2+COGY**2+COGZ**2)\n",
    "    angulox = np.arcsin(COGX/d)\n",
    "    anguloz= np.arcsin(COGZ/d)\n",
    "    sinx=np.sin(angulox)\n",
    "    sinz=np.sin(anguloz)\n",
    "    cosx=np.cos(angulox)\n",
    "    cosz=np.cos(anguloz)\n",
    "    tanx=np.tan(angulox)\n",
    "    tanz=np.tan(anguloz)\n",
    "    matrizangx[s-1,:] = angulox.values[30:]\n",
    "    matrizangz[s-1,:] = anguloz.values[30:]\n",
    "    \n",
    "    Jb=(4/3)*(mass.values[s])*((d[30:])**2)\n",
    "    t=grf['Time']\n",
    "    dt=t[1]-t[0]\n",
    "\n",
    "    d1x[s-1,:]=np.gradient(matrizangx[s-1,:],dt)\n",
    "    d1z[s-1,:]=np.gradient(matrizangz[s-1,:],dt)\n",
    "    \n",
    "    \n",
    "\n",
    "    d2x[s-1,:]=np.gradient(d1x[s-1,:],dt)\n",
    "    d2z[s-1,:]=np.gradient(d1z[s-1,:],dt)\n",
    "    \n",
    "    COPX[s-1,:] = d.values[30:]*sinx.values[30:] + Jb/(mass.values[s]*9.8)*(sinx.values[30:]*d1x[s-1,:]**2-cosx.values[30:]*d2x[s-1,:])\n",
    "    COPZ[s-1,:] = d.values[30:]*sinz.values[30:] + Jb/(mass.values[s]*9.8)*(sinz.values[30:]*d1z[s-1,:]**2-cosz.values[30:]*d2z[s-1,:])\n",
    "    \n",
    "    \n",
    "    COPXreal[s-1,:]=grf['COPNET_X'].values[30:]\n",
    "    COPZreal[s-1,:]=grf['COPNET_Z'].values[30:]\n",
    "    \n",
    "   \n",
    "    \n",
    "    x= np.vstack((COPX[[s-1],:],d2x[[s-1],:]))\n",
    "    y= COPXreal[s-1,:]\n",
    "    \n",
    "    print(y)\n",
    "   \n",
    "\n",
    "    model=LinearRegression(fit_intercept=False)\n",
    "    model.fit(x.T,y)\n",
    "   \n",
    "    alpha.append(model.coef_[0])\n",
    "    beta.append(model.coef_[1])\n",
    "    \n",
    "#Histograma só alfa\n",
    "plt.figure()\n",
    "hist = plt.hist(alpha, bins=50)\n",
    "plt.title('Histogram alpha')\n",
    "plt.show()\n",
    "\n",
    "#Histograma só beta\n",
    "plt.figure()\n",
    "hist2=plt.hist(beta, bins=50)\n",
    "plt.title('Histogram beta')\n",
    "plt.show()\n",
    "#Histograma dos dois \n",
    "plt.figure()\n",
    "hist = plt.hist(alpha, bins=50, color='purple',label='Alpha')\n",
    "hist2=plt.hist(beta, bins=50, color='yellow',label='Beta')\n",
    "plt.legend()\n",
    "plt.title('Histogram')\n",
    "plt.show()\n",
    "alfamedia=np.mean(alpha)\n",
    "betamedia=np.mean(beta)\n",
    "print(alfamedia)\n",
    "print(betamedia)"
   ]
  },
  {
   "cell_type": "code",
   "execution_count": 7,
   "id": "6d1a85d8-a457-411e-b031-89143baa93b6",
   "metadata": {},
   "outputs": [],
   "source": [
    "from sklearn.linear_model import LinearRegression\n",
    "fs = 100 # Hz\n",
    "COPX = np.zeros((49, 60*fs-30))\n",
    "COPZ = np.zeros((49, 60*fs-30))\n",
    "\n",
    "COPXreal = np.zeros((49, 60*fs-30))\n",
    "COPZreal = np.zeros((49, 60*fs-30))\n",
    "\n",
    "d1x = np.zeros((49, 60*fs-30))\n",
    "d2x = np.zeros((49, 60*fs-30))\n",
    "\n",
    "d1z = np.zeros((49, 60*fs-30))\n",
    "d2z = np.zeros((49, 60*fs-30))\n",
    "\n",
    "matrizangx = np.zeros((49, 60*fs-30))\n",
    "matrizangz = np.zeros((49, 60*fs-30))\n",
    "\n",
    "#alpha = np.zeros((49))\n",
    "\n",
    "for s in range (1,50):\n",
    "    a = PDSinfo[PDSinfo['Subject']==s].index.tolist()[2]\n",
    "    \n",
    "    fname_grf = os.path.join(path2, PDSinfo.Trial[a] + 'grf' + '.txt') \n",
    "    fname_mkr = os.path.join(path2, PDSinfo.Trial[a] + 'mkr' + '.txt')\n",
    "    grf = pd.read_csv(fname_grf, delimiter='\\t', header=0, engine='c')\n",
    "    mkr = pd.read_csv(fname_mkr, delimiter='\\t', header=0, engine='c')\n",
    "    COGX=mkr['COG_X']\n",
    "    COGY=mkr['COG_Y']\n",
    "    COGZ=mkr['COG_Z']\n",
    "    mass=PDSinfo['Mass']\n",
    "    d = np.sqrt(COGX**2+COGY**2+COGZ**2)\n",
    "    angulox = np.arcsin(COGX/d)\n",
    "    anguloz= np.arcsin(COGZ/d)\n",
    "    sinx=np.sin(angulox)\n",
    "    sinz=np.sin(anguloz)\n",
    "    cosx=np.cos(angulox)\n",
    "    cosz=np.cos(anguloz)\n",
    "    tanx=np.tan(angulox)\n",
    "    tanz=np.tan(anguloz)\n",
    "    matrizangx[s-1,:] = angulox.values[30:]\n",
    "    matrizangz[s-1,:] = anguloz.values[30:]\n",
    "    \n",
    "    \n",
    "    Jb=(4/3)*(mass.values[s])*((d[30:])**2)\n",
    "    t=grf['Time']\n",
    "    dt=t[1]-t[0]\n",
    "\n",
    "    d1x[s-1,:]=np.gradient(matrizangx[s-1,:],dt)\n",
    "    d1z[s-1,:]=np.gradient(matrizangz[s-1,:],dt)\n",
    "\n",
    "    d2x[s-1,:]=np.gradient(d1x[s-1,:],dt)\n",
    "    d2z[s-1,:]=np.gradient(d1z[s-1,:],dt)\n",
    "    \n",
    "    COPX[s-1,:] = d.values[30:]*sinx.values[30:] + Jb/(mass.values[s]*9.8)*(sinx.values[30:]*d1x[s-1,:]**2-cosx.values[30:]*d2x[s-1,:])\n",
    "    COPZ[s-1,:] = d.values[30:]*sinz.values[30:] + Jb/(mass.values[s]*9.8)*(sinz.values[30:]*d1z[s-1,:]**2-cosz.values[30:]*d2z[s-1,:])\n",
    "    \n",
    "    \n",
    "    COPXreal[s-1,:]=grf['COPNET_X'].values[30:]\n",
    "    COPZreal[s-1,:]=grf['COPNET_Z'].values[30:]\n",
    "    \n",
    "    x= np.vstack((COPX[[s-1],:],d2x[[s-1],:]))\n",
    "    y= COPXreal[s-1,:]\n",
    "\n",
    "    model=LinearRegression(fit_intercept=False)\n",
    "    model.fit(x.T,y)\n",
    "    \n",
    "    \n",
    "    "
   ]
  },
  {
   "cell_type": "markdown",
   "id": "55a590c2-6794-4b91-9ee9-4a559285e7fd",
   "metadata": {},
   "source": [
    "$ COP= \\alpha* cop + \\beta* derivada $"
   ]
  },
  {
   "cell_type": "code",
   "execution_count": 8,
   "id": "9b1f9c28-a529-462b-a62c-c3cb892e6e40",
   "metadata": {},
   "outputs": [
    {
     "name": "stdout",
     "output_type": "stream",
     "text": [
      "[0.98776403 0.11668188]\n",
      "[1.07707474 0.15396341]\n",
      "[1.04292252 0.11817438]\n",
      "[0.98157105 0.07774052]\n",
      "[1.03114046 0.14568942]\n",
      "[1.04256778 0.1219521 ]\n",
      "[0.98711625 0.07449764]\n",
      "[1.00020585 0.1261385 ]\n",
      "[0.94743146 0.09252417]\n",
      "[0.97028692 0.07593209]\n",
      "[1.06038275 0.15853444]\n",
      "[1.04577356 0.0875066 ]\n",
      "[0.99188036 0.09628288]\n",
      "[1.08608257 0.10865439]\n",
      "[1.01272286 0.0564917 ]\n",
      "[0.95791464 0.10676012]\n",
      "[1.05251942 0.08824943]\n",
      "[1.12151591 0.0706974 ]\n",
      "[0.98403562 0.08511779]\n",
      "[1.01122025 0.11996988]\n",
      "[1.02551802 0.09833888]\n",
      "[0.95491244 0.06619994]\n",
      "[1.03573028 0.11396974]\n",
      "[0.98442947 0.0729936 ]\n",
      "[1.0686288  0.12176061]\n",
      "[1.03936807 0.12905947]\n",
      "[1.0035762  0.11056942]\n",
      "[1.04403625 0.12233034]\n",
      "[1.06105104 0.06442661]\n",
      "[1.03520685 0.0539731 ]\n",
      "[1.10335618 0.09246177]\n",
      "[1.07575982 0.05651086]\n",
      "[1.06079852 0.09822189]\n",
      "[0.93518191 0.08783163]\n",
      "[0.93810427 0.04012682]\n",
      "[1.06066279 0.09142683]\n",
      "[1.03035832 0.08757533]\n",
      "[1.04129163 0.09389804]\n",
      "[1.02211034 0.08011622]\n",
      "[1.02148174 0.0999637 ]\n",
      "[0.8743053  0.06341778]\n",
      "[1.03703365 0.11031287]\n",
      "[1.0085714  0.10400218]\n",
      "[1.06128027 0.098591  ]\n",
      "[1.0735217  0.11346338]\n",
      "[1.09260508 0.08481112]\n",
      "[1.02911766 0.09845663]\n",
      "[1.05097449 0.07507901]\n",
      "[1.14237345 0.10617191]\n"
     ]
    }
   ],
   "source": [
    "from sklearn.linear_model import LinearRegression\n",
    "fs = 100 # Hz\n",
    "COPX = np.zeros((49, 60*fs-30))\n",
    "COPZ = np.zeros((49, 60*fs-30))\n",
    "\n",
    "COPXreal = np.zeros((49, 60*fs-30))\n",
    "COPZreal = np.zeros((49, 60*fs-30))\n",
    "\n",
    "d1x = np.zeros((49, 60*fs-30))\n",
    "d2x = np.zeros((49, 60*fs-30))\n",
    "\n",
    "d1z = np.zeros((49, 60*fs-30))\n",
    "d2z = np.zeros((49, 60*fs-30))\n",
    "\n",
    "matrizangx = np.zeros((49, 60*fs-30))\n",
    "matrizangz = np.zeros((49, 60*fs-30))\n",
    "\n",
    "alpha =np.zeros((49))\n",
    "\n",
    "for s in range (1,50):\n",
    "    a = PDSinfo[PDSinfo['Subject']==s].index.tolist()[2]\n",
    "    \n",
    "    fname_grf = os.path.join(path2, PDSinfo.Trial[a] + 'grf' + '.txt') \n",
    "    fname_mkr = os.path.join(path2, PDSinfo.Trial[a] + 'mkr' + '.txt')\n",
    "    grf = pd.read_csv(fname_grf, delimiter='\\t', header=0, engine='c')\n",
    "    mkr = pd.read_csv(fname_mkr, delimiter='\\t', header=0, engine='c')\n",
    "    COGX=mkr['COG_X']\n",
    "    COGY=mkr['COG_Y']\n",
    "    COGZ=mkr['COG_Z']\n",
    "    mass=PDSinfo['Mass']\n",
    "    d = np.sqrt(COGX**2+COGY**2+COGZ**2)\n",
    "    angulox = np.arcsin(COGX/d)\n",
    "    anguloz= np.arcsin(COGZ/d)\n",
    "    sinx=np.sin(angulox)\n",
    "    sinz=np.sin(anguloz)\n",
    "    cosx=np.cos(angulox)\n",
    "    cosz=np.cos(anguloz)\n",
    "    tanx=np.tan(angulox)\n",
    "    tanz=np.tan(anguloz)\n",
    "    matrizangx[s-1,:] = angulox.values[30:]\n",
    "    matrizangz[s-1,:] = anguloz.values[30:]\n",
    "    \n",
    "    \n",
    "    Jb=(4/3)*(mass.values[s])*((d[30:])**2)\n",
    "    t=grf['Time']\n",
    "    dt=t[1]-t[0]\n",
    "\n",
    "    d1x[s-1,:]=np.gradient(matrizangx[s-1,:],dt)\n",
    "    d1z[s-1,:]=np.gradient(matrizangz[s-1,:],dt)\n",
    "\n",
    "    d2x[s-1,:]=np.gradient(d1x[s-1,:],dt)\n",
    "    d2z[s-1,:]=np.gradient(d1z[s-1,:],dt)\n",
    "    \n",
    "    COPX[s-1,:] = d.values[30:]*sinx.values[30:] + Jb/(mass.values[s]*9.8)*(sinx.values[30:]*d1x[s-1,:]**2-cosx.values[30:]*d2x[s-1,:])\n",
    "    COPZ[s-1,:] = d.values[30:]*sinz.values[30:] + Jb/(mass.values[s]*9.8)*(sinz.values[30:]*d1z[s-1,:]**2-cosz.values[30:]*d2z[s-1,:])\n",
    "    \n",
    "    \n",
    "    COPXreal[s-1,:]=grf['COPNET_X'].values[30:]\n",
    "    COPZreal[s-1,:]=grf['COPNET_Z'].values[30:]\n",
    "    \n",
    "    \n",
    "    x= (np.array([COPX[s-1,:],d2x[s-1,:]])).transpose()\n",
    "    y= COPXreal[s-1,:]\n",
    "    model=LinearRegression()\n",
    "    model.fit(x,y)\n",
    "    print(model.coef_)   "
   ]
  },
  {
   "cell_type": "code",
   "execution_count": 9,
   "id": "4707f978-d5d4-45ba-996d-4c9b6f6f9da6",
   "metadata": {},
   "outputs": [
    {
     "name": "stdout",
     "output_type": "stream",
     "text": [
      "(6000,)\n",
      "(49, 5970)\n"
     ]
    },
    {
     "ename": "ValueError",
     "evalue": "Found input variables with inconsistent numbers of samples: [6000, 49]",
     "output_type": "error",
     "traceback": [
      "\u001b[1;31m---------------------------------------------------------------------------\u001b[0m",
      "\u001b[1;31mValueError\u001b[0m                                Traceback (most recent call last)",
      "\u001b[1;32m<ipython-input-9-44ac230207fd>\u001b[0m in \u001b[0;36m<module>\u001b[1;34m\u001b[0m\n\u001b[0;32m      2\u001b[0m \u001b[0mprint\u001b[0m\u001b[1;33m(\u001b[0m\u001b[0mCOGX\u001b[0m\u001b[1;33m.\u001b[0m\u001b[0mshape\u001b[0m\u001b[1;33m)\u001b[0m\u001b[1;33m\u001b[0m\u001b[1;33m\u001b[0m\u001b[0m\n\u001b[0;32m      3\u001b[0m \u001b[0mprint\u001b[0m\u001b[1;33m(\u001b[0m\u001b[0mCOPXreal\u001b[0m\u001b[1;33m.\u001b[0m\u001b[0mshape\u001b[0m\u001b[1;33m)\u001b[0m\u001b[1;33m\u001b[0m\u001b[1;33m\u001b[0m\u001b[0m\n\u001b[1;32m----> 4\u001b[1;33m \u001b[0mtrain_test_split\u001b[0m\u001b[1;33m(\u001b[0m\u001b[0mCOGX\u001b[0m\u001b[1;33m,\u001b[0m\u001b[0mCOPXreal\u001b[0m\u001b[1;33m,\u001b[0m\u001b[0mtest_size\u001b[0m\u001b[1;33m=\u001b[0m\u001b[1;36m9\u001b[0m\u001b[1;33m)\u001b[0m\u001b[1;33m\u001b[0m\u001b[1;33m\u001b[0m\u001b[0m\n\u001b[0m",
      "\u001b[1;32m~\\anaconda3\\lib\\site-packages\\sklearn\\model_selection\\_split.py\u001b[0m in \u001b[0;36mtrain_test_split\u001b[1;34m(test_size, train_size, random_state, shuffle, stratify, *arrays)\u001b[0m\n\u001b[0;32m   2170\u001b[0m         \u001b[1;32mraise\u001b[0m \u001b[0mValueError\u001b[0m\u001b[1;33m(\u001b[0m\u001b[1;34m\"At least one array required as input\"\u001b[0m\u001b[1;33m)\u001b[0m\u001b[1;33m\u001b[0m\u001b[1;33m\u001b[0m\u001b[0m\n\u001b[0;32m   2171\u001b[0m \u001b[1;33m\u001b[0m\u001b[0m\n\u001b[1;32m-> 2172\u001b[1;33m     \u001b[0marrays\u001b[0m \u001b[1;33m=\u001b[0m \u001b[0mindexable\u001b[0m\u001b[1;33m(\u001b[0m\u001b[1;33m*\u001b[0m\u001b[0marrays\u001b[0m\u001b[1;33m)\u001b[0m\u001b[1;33m\u001b[0m\u001b[1;33m\u001b[0m\u001b[0m\n\u001b[0m\u001b[0;32m   2173\u001b[0m \u001b[1;33m\u001b[0m\u001b[0m\n\u001b[0;32m   2174\u001b[0m     \u001b[0mn_samples\u001b[0m \u001b[1;33m=\u001b[0m \u001b[0m_num_samples\u001b[0m\u001b[1;33m(\u001b[0m\u001b[0marrays\u001b[0m\u001b[1;33m[\u001b[0m\u001b[1;36m0\u001b[0m\u001b[1;33m]\u001b[0m\u001b[1;33m)\u001b[0m\u001b[1;33m\u001b[0m\u001b[1;33m\u001b[0m\u001b[0m\n",
      "\u001b[1;32m~\\anaconda3\\lib\\site-packages\\sklearn\\utils\\validation.py\u001b[0m in \u001b[0;36mindexable\u001b[1;34m(*iterables)\u001b[0m\n\u001b[0;32m    297\u001b[0m     \"\"\"\n\u001b[0;32m    298\u001b[0m     \u001b[0mresult\u001b[0m \u001b[1;33m=\u001b[0m \u001b[1;33m[\u001b[0m\u001b[0m_make_indexable\u001b[0m\u001b[1;33m(\u001b[0m\u001b[0mX\u001b[0m\u001b[1;33m)\u001b[0m \u001b[1;32mfor\u001b[0m \u001b[0mX\u001b[0m \u001b[1;32min\u001b[0m \u001b[0miterables\u001b[0m\u001b[1;33m]\u001b[0m\u001b[1;33m\u001b[0m\u001b[1;33m\u001b[0m\u001b[0m\n\u001b[1;32m--> 299\u001b[1;33m     \u001b[0mcheck_consistent_length\u001b[0m\u001b[1;33m(\u001b[0m\u001b[1;33m*\u001b[0m\u001b[0mresult\u001b[0m\u001b[1;33m)\u001b[0m\u001b[1;33m\u001b[0m\u001b[1;33m\u001b[0m\u001b[0m\n\u001b[0m\u001b[0;32m    300\u001b[0m     \u001b[1;32mreturn\u001b[0m \u001b[0mresult\u001b[0m\u001b[1;33m\u001b[0m\u001b[1;33m\u001b[0m\u001b[0m\n\u001b[0;32m    301\u001b[0m \u001b[1;33m\u001b[0m\u001b[0m\n",
      "\u001b[1;32m~\\anaconda3\\lib\\site-packages\\sklearn\\utils\\validation.py\u001b[0m in \u001b[0;36mcheck_consistent_length\u001b[1;34m(*arrays)\u001b[0m\n\u001b[0;32m    260\u001b[0m     \u001b[0muniques\u001b[0m \u001b[1;33m=\u001b[0m \u001b[0mnp\u001b[0m\u001b[1;33m.\u001b[0m\u001b[0munique\u001b[0m\u001b[1;33m(\u001b[0m\u001b[0mlengths\u001b[0m\u001b[1;33m)\u001b[0m\u001b[1;33m\u001b[0m\u001b[1;33m\u001b[0m\u001b[0m\n\u001b[0;32m    261\u001b[0m     \u001b[1;32mif\u001b[0m \u001b[0mlen\u001b[0m\u001b[1;33m(\u001b[0m\u001b[0muniques\u001b[0m\u001b[1;33m)\u001b[0m \u001b[1;33m>\u001b[0m \u001b[1;36m1\u001b[0m\u001b[1;33m:\u001b[0m\u001b[1;33m\u001b[0m\u001b[1;33m\u001b[0m\u001b[0m\n\u001b[1;32m--> 262\u001b[1;33m         raise ValueError(\"Found input variables with inconsistent numbers of\"\n\u001b[0m\u001b[0;32m    263\u001b[0m                          \" samples: %r\" % [int(l) for l in lengths])\n\u001b[0;32m    264\u001b[0m \u001b[1;33m\u001b[0m\u001b[0m\n",
      "\u001b[1;31mValueError\u001b[0m: Found input variables with inconsistent numbers of samples: [6000, 49]"
     ]
    }
   ],
   "source": [
    "from sklearn.model_selection import train_test_split\n",
    "print(COGX.shape)\n",
    "print(COPXreal.shape)\n",
    "train_test_split(COGX,COPXreal,test_size=9)"
   ]
  },
  {
   "cell_type": "code",
   "execution_count": null,
   "id": "4c69c5a8-4b6b-4b07-a4c4-6d170882e44b",
   "metadata": {},
   "outputs": [],
   "source": []
  }
 ],
 "metadata": {
  "kernelspec": {
   "display_name": "Python 3",
   "language": "python",
   "name": "python3"
  },
  "language_info": {
   "codemirror_mode": {
    "name": "ipython",
    "version": 3
   },
   "file_extension": ".py",
   "mimetype": "text/x-python",
   "name": "python",
   "nbconvert_exporter": "python",
   "pygments_lexer": "ipython3",
   "version": "3.8.8"
  }
 },
 "nbformat": 4,
 "nbformat_minor": 5
}
