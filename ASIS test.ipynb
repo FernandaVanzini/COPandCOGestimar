{
 "cells": [
  {
   "cell_type": "code",
   "execution_count": 1,
   "id": "4d6f2b2e-9889-4f20-a259-70287557fe9a",
   "metadata": {
    "ExecuteTime": {
     "end_time": "2017-02-27T18:50:34.521091Z",
     "start_time": "2017-02-27T15:50:33.800352-03:00"
    },
    "editable": true,
    "tags": []
   },
   "outputs": [],
   "source": [
    "import numpy as np\n",
    "#from scipy.signal import butter, filtfilt\n",
    "import pandas as pd\n",
    "import matplotlib\n",
    "import matplotlib.pyplot as plt\n",
    "import matplotlib.gridspec as gridspec\n",
    "%matplotlib inline\n",
    "#import seaborn as sns\n",
    "#sns.set_context(\"notebook\", font_scale=1.3,\n",
    "#                rc={'lines.linewidth': 1.5, 'lines.markersize': 14, 'axes.titlesize': 'x-large'})\n",
    "#matplotlib.rc('legend', numpoints=1, fontsize=14)\n",
    "#import glob\n",
    "import sys, os\n",
    "sys.path.insert(1, r'./Functions')\n",
    "# IPython widgets:\n",
    "from IPython.display import display\n",
    "import ipywidgets\n",
    "from ipywidgets import FloatProgress, interactive\n",
    "import seaborn as sns\n",
    "from scipy.signal import detrend"
   ]
  },
  {
   "cell_type": "code",
   "execution_count": 2,
   "id": "b6a86806-06a6-4230-a0e4-3dcc4c587c23",
   "metadata": {
    "collapsed": false,
    "editable": true,
    "jupyter": {
     "outputs_hidden": false
    }
   },
   "outputs": [
    {
     "data": {
      "application/json": {
       "Software versions": [
        {
         "module": "Python",
         "version": "3.8.8 64bit [MSC v.1916 64 bit (AMD64)]"
        },
        {
         "module": "IPython",
         "version": "7.22.0"
        },
        {
         "module": "OS",
         "version": "Windows 10 10.0.22000 SP0"
        },
        {
         "module": "numpy",
         "version": "1.20.1"
        },
        {
         "module": "scipy",
         "version": "1.6.2"
        },
        {
         "module": "pandas",
         "version": "1.2.4"
        },
        {
         "module": "matplotlib",
         "version": "3.3.4"
        },
        {
         "module": "seaborn",
         "version": "0.11.1"
        }
       ]
      },
      "text/html": [
       "<table><tr><th>Software</th><th>Version</th></tr><tr><td>Python</td><td>3.8.8 64bit [MSC v.1916 64 bit (AMD64)]</td></tr><tr><td>IPython</td><td>7.22.0</td></tr><tr><td>OS</td><td>Windows 10 10.0.22000 SP0</td></tr><tr><td>numpy</td><td>1.20.1</td></tr><tr><td>scipy</td><td>1.6.2</td></tr><tr><td>pandas</td><td>1.2.4</td></tr><tr><td>matplotlib</td><td>3.3.4</td></tr><tr><td>seaborn</td><td>0.11.1</td></tr><tr><td colspan='2'>Wed Oct 12 17:16:23 2022 Hora oficial do Brasil</td></tr></table>"
      ],
      "text/latex": [
       "\\begin{tabular}{|l|l|}\\hline\n",
       "{\\bf Software} & {\\bf Version} \\\\ \\hline\\hline\n",
       "Python & 3.8.8 64bit [MSC v.1916 64 bit (AMD64)] \\\\ \\hline\n",
       "IPython & 7.22.0 \\\\ \\hline\n",
       "OS & Windows 10 10.0.22000 SP0 \\\\ \\hline\n",
       "numpy & 1.20.1 \\\\ \\hline\n",
       "scipy & 1.6.2 \\\\ \\hline\n",
       "pandas & 1.2.4 \\\\ \\hline\n",
       "matplotlib & 3.3.4 \\\\ \\hline\n",
       "seaborn & 0.11.1 \\\\ \\hline\n",
       "\\hline \\multicolumn{2}{|l|}{Wed Oct 12 17:16:23 2022 Hora oficial do Brasil} \\\\ \\hline\n",
       "\\end{tabular}\n"
      ],
      "text/plain": [
       "Software versions\n",
       "Python 3.8.8 64bit [MSC v.1916 64 bit (AMD64)]\n",
       "IPython 7.22.0\n",
       "OS Windows 10 10.0.22000 SP0\n",
       "numpy 1.20.1\n",
       "scipy 1.6.2\n",
       "pandas 1.2.4\n",
       "matplotlib 3.3.4\n",
       "seaborn 0.11.1\n",
       "Wed Oct 12 17:16:23 2022 Hora oficial do Brasil"
      ]
     },
     "execution_count": 2,
     "metadata": {},
     "output_type": "execute_result"
    }
   ],
   "source": [
    "#!pip install version_information\n",
    "%load_ext version_information\n",
    "%version_information numpy, scipy, pandas, matplotlib, seaborn"
   ]
  },
  {
   "cell_type": "code",
   "execution_count": 3,
   "id": "43e6855e-f2a8-45c3-b876-864fd3b24795",
   "metadata": {
    "ExecuteTime": {
     "end_time": "2017-02-27T18:50:34.534681Z",
     "start_time": "2017-02-27T15:50:34.521091-03:00"
    },
    "collapsed": false,
    "editable": true,
    "jupyter": {
     "outputs_hidden": false
    }
   },
   "outputs": [
    {
     "name": "stdout",
     "output_type": "stream",
     "text": [
      "C:\\\\Users\\\\ferna\\\\Downloads\\\\IC- dados\\\\Dados\\PDSinfo.txt\n",
      "Information of 49 subjects loaded (588 rows, 29 columns).\n"
     ]
    }
   ],
   "source": [
    "# GitHub URL:\n",
    "#path2 = 'C:\\Users\\ferna\\Downloads\\IC- dados\\Dados'\n",
    "# local directory:\n",
    "path2 = r'C:\\\\Users\\\\ferna\\\\Downloads\\\\IC- dados\\\\Dados'\n",
    "fname = os.path.join(path2, 'PDSinfo.txt')\n",
    "PDSinfo = pd.read_csv(fname, sep='\\t', header=0, index_col=None, engine='c', encoding='utf-8')\n",
    "print(fname)\n",
    "print(\"Information of %s subjects loaded (%s rows, %s columns).\"\n",
    "      %(len(pd.unique(PDSinfo.Subject)), PDSinfo.shape[0], PDSinfo.shape[1]))"
   ]
  },
  {
   "cell_type": "code",
   "execution_count": 4,
   "id": "980b8fea-56f9-4a6b-93de-a2c44fffce60",
   "metadata": {},
   "outputs": [],
   "source": [
    "a=PDSinfo[PDSinfo['Subject']==44].index.tolist()\n",
    "e=PDSinfo[PDSinfo['Subject']==44].index.tolist()[2]"
   ]
  },
  {
   "cell_type": "code",
   "execution_count": 5,
   "id": "82fe9016-1b74-4af6-99cb-906661ef2134",
   "metadata": {},
   "outputs": [
    {
     "name": "stdout",
     "output_type": "stream",
     "text": [
      "['Time', 'R.Front.Head_X', 'R.Front.Head_Y', 'R.Front.Head_Z', 'L.Front.Head_X', 'L.Front.Head_Y', 'L.Front.Head_Z', 'R.Back.Head_X', 'R.Back.Head_Y', 'R.Back.Head_Z', 'L.Back.Head_X', 'L.Back.Head_Y', 'L.Back.Head_Z', 'R.Shoulder_X', 'R.Shoulder_Y', 'R.Shoulder_Z', 'L.Shoulder_X', 'L.Shoulder_Y', 'L.Shoulder_Z', 'C7_X', 'C7_Y', 'C7_Z', 'T2_X', 'T2_Y', 'T2_Z', 'T7_X', 'T7_Y', 'T7_Z', 'L1_X', 'L1_Y', 'L1_Z', 'L3_X', 'L3_Y', 'L3_Z', 'L5_X', 'L5_Y', 'L5_Z', 'IJ_X', 'IJ_Y', 'IJ_Z', 'PX_X', 'PX_Y', 'PX_Z', 'R.ASIS_X', 'R.ASIS_Y', 'R.ASIS_Z', 'L.ASIS_X', 'L.ASIS_Y', 'L.ASIS_Z', 'R.PSIS_X', 'R.PSIS_Y', 'R.PSIS_Z', 'L.PSIS_X', 'L.PSIS_Y', 'L.PSIS_Z', 'L.Iliac.Crestv_X', 'L.Iliac.Crestv_Y', 'L.Iliac.Crestv_Z', 'R.Iliac.Crestv_X', 'R.Iliac.Crestv_Y', 'R.Iliac.Crestv_Z', 'R.GTR_X', 'R.GTR_Y', 'R.GTR_Z', 'L.GTR_X', 'L.GTR_Y', 'L.GTR_Z', 'R.Knee_X', 'R.Knee_Y', 'R.Knee_Z', 'R.Knee.Medialv_X', 'R.Knee.Medialv_Y', 'R.Knee.Medialv_Z', 'L.Knee_X', 'L.Knee_Y', 'L.Knee_Z', 'L.Knee.Medialv_X', 'L.Knee.Medialv_Y', 'L.Knee.Medialv_Z', 'R.HF_X', 'R.HF_Y', 'R.HF_Z', 'L.HF_X', 'L.HF_Y', 'L.HF_Z', 'R.TT_X', 'R.TT_Y', 'R.TT_Z', 'L.TT_X', 'L.TT_Y', 'L.TT_Z', 'R.Ankle_X', 'R.Ankle_Y', 'R.Ankle_Z', 'R.Ankle.Medialv_X', 'R.Ankle.Medialv_Y', 'R.Ankle.Medialv_Z', 'L.Ankle_X', 'L.Ankle_Y', 'L.Ankle_Z', 'L.Ankle.Medialv_X', 'L.Ankle.Medialv_Y', 'L.Ankle.Medialv_Z', 'R.Heel_X', 'R.Heel_Y', 'R.Heel_Z', 'L.Heel_X', 'L.Heel_Y', 'L.Heel_Z', 'R.MT1_X', 'R.MT1_Y', 'R.MT1_Z', 'R.MT2_X', 'R.MT2_Y', 'R.MT2_Z', 'R.MT5_X', 'R.MT5_Y', 'R.MT5_Z', 'L.MT1_X', 'L.MT1_Y', 'L.MT1_Z', 'L.MT2_X', 'L.MT2_Y', 'L.MT2_Z', 'L.MT5_X', 'L.MT5_Y', 'L.MT5_Z', 'COG_X', 'COG_Y', 'COG_Z']\n",
      "['Time', 'R.Front.Head_X', 'R.Front.Head_Y', 'R.Front.Head_Z', 'L.Front.Head_X', 'L.Front.Head_Y', 'L.Front.Head_Z', 'R.Back.Head_X', 'R.Back.Head_Y', 'R.Back.Head_Z', 'L.Back.Head_X', 'L.Back.Head_Y', 'L.Back.Head_Z', 'R.Shoulder_X', 'R.Shoulder_Y', 'R.Shoulder_Z', 'L.Shoulder_X', 'L.Shoulder_Y', 'L.Shoulder_Z', 'C7_X', 'C7_Y', 'C7_Z', 'T2_X', 'T2_Y', 'T2_Z', 'T7_X', 'T7_Y', 'T7_Z', 'L1_X', 'L1_Y', 'L1_Z', 'L3_X', 'L3_Y', 'L3_Z', 'L5_X', 'L5_Y', 'L5_Z', 'IJ_X', 'IJ_Y', 'IJ_Z', 'PX_X', 'PX_Y', 'PX_Z', 'R.ASIS_X', 'R.ASIS_Y', 'R.ASIS_Z', 'L.ASIS_X', 'L.ASIS_Y', 'L.ASIS_Z', 'R.PSIS_X', 'R.PSIS_Y', 'R.PSIS_Z', 'L.PSIS_X', 'L.PSIS_Y', 'L.PSIS_Z', 'L.Iliac.Crestv_X', 'L.Iliac.Crestv_Y', 'L.Iliac.Crestv_Z', 'R.Iliac.Crestv_X', 'R.Iliac.Crestv_Y', 'R.Iliac.Crestv_Z', 'R.GTR_X', 'R.GTR_Y', 'R.GTR_Z', 'L.GTR_X', 'L.GTR_Y', 'L.GTR_Z', 'R.Knee_X', 'R.Knee_Y', 'R.Knee_Z', 'R.Knee.Medialv_X', 'R.Knee.Medialv_Y', 'R.Knee.Medialv_Z', 'L.Knee_X', 'L.Knee_Y', 'L.Knee_Z', 'L.Knee.Medialv_X', 'L.Knee.Medialv_Y', 'L.Knee.Medialv_Z', 'R.HF_X', 'R.HF_Y', 'R.HF_Z', 'L.HF_X', 'L.HF_Y', 'L.HF_Z', 'R.TT_X', 'R.TT_Y', 'R.TT_Z', 'L.TT_X', 'L.TT_Y', 'L.TT_Z', 'R.Ankle_X', 'R.Ankle_Y', 'R.Ankle_Z', 'R.Ankle.Medialv_X', 'R.Ankle.Medialv_Y', 'R.Ankle.Medialv_Z', 'L.Ankle_X', 'L.Ankle_Y', 'L.Ankle_Z', 'L.Ankle.Medialv_X', 'L.Ankle.Medialv_Y', 'L.Ankle.Medialv_Z', 'R.Heel_X', 'R.Heel_Y', 'R.Heel_Z', 'L.Heel_X', 'L.Heel_Y', 'L.Heel_Z', 'R.MT1_X', 'R.MT1_Y', 'R.MT1_Z', 'R.MT2_X', 'R.MT2_Y', 'R.MT2_Z', 'R.MT5_X', 'R.MT5_Y', 'R.MT5_Z', 'L.MT1_X', 'L.MT1_Y', 'L.MT1_Z', 'L.MT2_X', 'L.MT2_Y', 'L.MT2_Z', 'L.MT5_X', 'L.MT5_Y', 'L.MT5_Z', 'COG_X', 'COG_Y', 'COG_Z']\n",
      "['Time', 'R.Front.Head_X', 'R.Front.Head_Y', 'R.Front.Head_Z', 'L.Front.Head_X', 'L.Front.Head_Y', 'L.Front.Head_Z', 'R.Back.Head_X', 'R.Back.Head_Y', 'R.Back.Head_Z', 'L.Back.Head_X', 'L.Back.Head_Y', 'L.Back.Head_Z', 'R.Shoulder_X', 'R.Shoulder_Y', 'R.Shoulder_Z', 'L.Shoulder_X', 'L.Shoulder_Y', 'L.Shoulder_Z', 'C7_X', 'C7_Y', 'C7_Z', 'T2_X', 'T2_Y', 'T2_Z', 'T7_X', 'T7_Y', 'T7_Z', 'L1_X', 'L1_Y', 'L1_Z', 'L3_X', 'L3_Y', 'L3_Z', 'L5_X', 'L5_Y', 'L5_Z', 'IJ_X', 'IJ_Y', 'IJ_Z', 'PX_X', 'PX_Y', 'PX_Z', 'R.ASIS_X', 'R.ASIS_Y', 'R.ASIS_Z', 'L.ASIS_X', 'L.ASIS_Y', 'L.ASIS_Z', 'R.PSIS_X', 'R.PSIS_Y', 'R.PSIS_Z', 'L.PSIS_X', 'L.PSIS_Y', 'L.PSIS_Z', 'L.Iliac.Crestv_X', 'L.Iliac.Crestv_Y', 'L.Iliac.Crestv_Z', 'R.Iliac.Crestv_X', 'R.Iliac.Crestv_Y', 'R.Iliac.Crestv_Z', 'R.GTR_X', 'R.GTR_Y', 'R.GTR_Z', 'L.GTR_X', 'L.GTR_Y', 'L.GTR_Z', 'R.Knee_X', 'R.Knee_Y', 'R.Knee_Z', 'R.Knee.Medialv_X', 'R.Knee.Medialv_Y', 'R.Knee.Medialv_Z', 'L.Knee_X', 'L.Knee_Y', 'L.Knee_Z', 'L.Knee.Medialv_X', 'L.Knee.Medialv_Y', 'L.Knee.Medialv_Z', 'R.HF_X', 'R.HF_Y', 'R.HF_Z', 'L.HF_X', 'L.HF_Y', 'L.HF_Z', 'R.TT_X', 'R.TT_Y', 'R.TT_Z', 'L.TT_X', 'L.TT_Y', 'L.TT_Z', 'R.Ankle_X', 'R.Ankle_Y', 'R.Ankle_Z', 'R.Ankle.Medialv_X', 'R.Ankle.Medialv_Y', 'R.Ankle.Medialv_Z', 'L.Ankle_X', 'L.Ankle_Y', 'L.Ankle_Z', 'L.Ankle.Medialv_X', 'L.Ankle.Medialv_Y', 'L.Ankle.Medialv_Z', 'R.Heel_X', 'R.Heel_Y', 'R.Heel_Z', 'L.Heel_X', 'L.Heel_Y', 'L.Heel_Z', 'R.MT1_X', 'R.MT1_Y', 'R.MT1_Z', 'R.MT2_X', 'R.MT2_Y', 'R.MT2_Z', 'R.MT5_X', 'R.MT5_Y', 'R.MT5_Z', 'L.MT1_X', 'L.MT1_Y', 'L.MT1_Z', 'L.MT2_X', 'L.MT2_Y', 'L.MT2_Z', 'L.MT5_X', 'L.MT5_Y', 'L.MT5_Z', 'COG_X', 'COG_Y', 'COG_Z']\n",
      "['Time', 'R.Front.Head_X', 'R.Front.Head_Y', 'R.Front.Head_Z', 'L.Front.Head_X', 'L.Front.Head_Y', 'L.Front.Head_Z', 'R.Back.Head_X', 'R.Back.Head_Y', 'R.Back.Head_Z', 'L.Back.Head_X', 'L.Back.Head_Y', 'L.Back.Head_Z', 'R.Shoulder_X', 'R.Shoulder_Y', 'R.Shoulder_Z', 'L.Shoulder_X', 'L.Shoulder_Y', 'L.Shoulder_Z', 'C7_X', 'C7_Y', 'C7_Z', 'T2_X', 'T2_Y', 'T2_Z', 'T7_X', 'T7_Y', 'T7_Z', 'L1_X', 'L1_Y', 'L1_Z', 'L3_X', 'L3_Y', 'L3_Z', 'L5_X', 'L5_Y', 'L5_Z', 'IJ_X', 'IJ_Y', 'IJ_Z', 'PX_X', 'PX_Y', 'PX_Z', 'R.ASIS_X', 'R.ASIS_Y', 'R.ASIS_Z', 'L.ASIS_X', 'L.ASIS_Y', 'L.ASIS_Z', 'R.PSIS_X', 'R.PSIS_Y', 'R.PSIS_Z', 'L.PSIS_X', 'L.PSIS_Y', 'L.PSIS_Z', 'L.Iliac.Crestv_X', 'L.Iliac.Crestv_Y', 'L.Iliac.Crestv_Z', 'R.Iliac.Crestv_X', 'R.Iliac.Crestv_Y', 'R.Iliac.Crestv_Z', 'R.GTR_X', 'R.GTR_Y', 'R.GTR_Z', 'L.GTR_X', 'L.GTR_Y', 'L.GTR_Z', 'R.Knee_X', 'R.Knee_Y', 'R.Knee_Z', 'R.Knee.Medialv_X', 'R.Knee.Medialv_Y', 'R.Knee.Medialv_Z', 'L.Knee_X', 'L.Knee_Y', 'L.Knee_Z', 'L.Knee.Medialv_X', 'L.Knee.Medialv_Y', 'L.Knee.Medialv_Z', 'R.HF_X', 'R.HF_Y', 'R.HF_Z', 'L.HF_X', 'L.HF_Y', 'L.HF_Z', 'R.TT_X', 'R.TT_Y', 'R.TT_Z', 'L.TT_X', 'L.TT_Y', 'L.TT_Z', 'R.Ankle_X', 'R.Ankle_Y', 'R.Ankle_Z', 'R.Ankle.Medialv_X', 'R.Ankle.Medialv_Y', 'R.Ankle.Medialv_Z', 'L.Ankle_X', 'L.Ankle_Y', 'L.Ankle_Z', 'L.Ankle.Medialv_X', 'L.Ankle.Medialv_Y', 'L.Ankle.Medialv_Z', 'R.Heel_X', 'R.Heel_Y', 'R.Heel_Z', 'L.Heel_X', 'L.Heel_Y', 'L.Heel_Z', 'R.MT1_X', 'R.MT1_Y', 'R.MT1_Z', 'R.MT2_X', 'R.MT2_Y', 'R.MT2_Z', 'R.MT5_X', 'R.MT5_Y', 'R.MT5_Z', 'L.MT1_X', 'L.MT1_Y', 'L.MT1_Z', 'L.MT2_X', 'L.MT2_Y', 'L.MT2_Z', 'L.MT5_X', 'L.MT5_Y', 'L.MT5_Z', 'COG_X', 'COG_Y', 'COG_Z']\n",
      "['Time', 'R.Front.Head_X', 'R.Front.Head_Y', 'R.Front.Head_Z', 'L.Front.Head_X', 'L.Front.Head_Y', 'L.Front.Head_Z', 'R.Back.Head_X', 'R.Back.Head_Y', 'R.Back.Head_Z', 'L.Back.Head_X', 'L.Back.Head_Y', 'L.Back.Head_Z', 'R.Shoulder_X', 'R.Shoulder_Y', 'R.Shoulder_Z', 'L.Shoulder_X', 'L.Shoulder_Y', 'L.Shoulder_Z', 'C7_X', 'C7_Y', 'C7_Z', 'T2_X', 'T2_Y', 'T2_Z', 'T7_X', 'T7_Y', 'T7_Z', 'L1_X', 'L1_Y', 'L1_Z', 'L3_X', 'L3_Y', 'L3_Z', 'L5_X', 'L5_Y', 'L5_Z', 'IJ_X', 'IJ_Y', 'IJ_Z', 'PX_X', 'PX_Y', 'PX_Z', 'R.ASIS_X', 'R.ASIS_Y', 'R.ASIS_Z', 'L.ASIS_X', 'L.ASIS_Y', 'L.ASIS_Z', 'R.PSIS_X', 'R.PSIS_Y', 'R.PSIS_Z', 'L.PSIS_X', 'L.PSIS_Y', 'L.PSIS_Z', 'L.Iliac.Crestv_X', 'L.Iliac.Crestv_Y', 'L.Iliac.Crestv_Z', 'R.Iliac.Crestv_X', 'R.Iliac.Crestv_Y', 'R.Iliac.Crestv_Z', 'R.GTR_X', 'R.GTR_Y', 'R.GTR_Z', 'L.GTR_X', 'L.GTR_Y', 'L.GTR_Z', 'R.Knee_X', 'R.Knee_Y', 'R.Knee_Z', 'R.Knee.Medialv_X', 'R.Knee.Medialv_Y', 'R.Knee.Medialv_Z', 'L.Knee_X', 'L.Knee_Y', 'L.Knee_Z', 'L.Knee.Medialv_X', 'L.Knee.Medialv_Y', 'L.Knee.Medialv_Z', 'R.HF_X', 'R.HF_Y', 'R.HF_Z', 'L.HF_X', 'L.HF_Y', 'L.HF_Z', 'R.TT_X', 'R.TT_Y', 'R.TT_Z', 'L.TT_X', 'L.TT_Y', 'L.TT_Z', 'R.Ankle_X', 'R.Ankle_Y', 'R.Ankle_Z', 'R.Ankle.Medialv_X', 'R.Ankle.Medialv_Y', 'R.Ankle.Medialv_Z', 'L.Ankle_X', 'L.Ankle_Y', 'L.Ankle_Z', 'L.Ankle.Medialv_X', 'L.Ankle.Medialv_Y', 'L.Ankle.Medialv_Z', 'R.Heel_X', 'R.Heel_Y', 'R.Heel_Z', 'L.Heel_X', 'L.Heel_Y', 'L.Heel_Z', 'R.MT1_X', 'R.MT1_Y', 'R.MT1_Z', 'R.MT2_X', 'R.MT2_Y', 'R.MT2_Z', 'R.MT5_X', 'R.MT5_Y', 'R.MT5_Z', 'L.MT1_X', 'L.MT1_Y', 'L.MT1_Z', 'L.MT2_X', 'L.MT2_Y', 'L.MT2_Z', 'L.MT5_X', 'L.MT5_Y', 'L.MT5_Z', 'COG_X', 'COG_Y', 'COG_Z']\n",
      "['Time', 'R.Front.Head_X', 'R.Front.Head_Y', 'R.Front.Head_Z', 'L.Front.Head_X', 'L.Front.Head_Y', 'L.Front.Head_Z', 'R.Back.Head_X', 'R.Back.Head_Y', 'R.Back.Head_Z', 'L.Back.Head_X', 'L.Back.Head_Y', 'L.Back.Head_Z', 'R.Shoulder_X', 'R.Shoulder_Y', 'R.Shoulder_Z', 'L.Shoulder_X', 'L.Shoulder_Y', 'L.Shoulder_Z', 'C7_X', 'C7_Y', 'C7_Z', 'T2_X', 'T2_Y', 'T2_Z', 'T7_X', 'T7_Y', 'T7_Z', 'L1_X', 'L1_Y', 'L1_Z', 'L3_X', 'L3_Y', 'L3_Z', 'L5_X', 'L5_Y', 'L5_Z', 'IJ_X', 'IJ_Y', 'IJ_Z', 'PX_X', 'PX_Y', 'PX_Z', 'R.ASIS_X', 'R.ASIS_Y', 'R.ASIS_Z', 'L.ASIS_X', 'L.ASIS_Y', 'L.ASIS_Z', 'R.PSIS_X', 'R.PSIS_Y', 'R.PSIS_Z', 'L.PSIS_X', 'L.PSIS_Y', 'L.PSIS_Z', 'L.Iliac.Crestv_X', 'L.Iliac.Crestv_Y', 'L.Iliac.Crestv_Z', 'R.Iliac.Crestv_X', 'R.Iliac.Crestv_Y', 'R.Iliac.Crestv_Z', 'R.GTR_X', 'R.GTR_Y', 'R.GTR_Z', 'L.GTR_X', 'L.GTR_Y', 'L.GTR_Z', 'R.Knee_X', 'R.Knee_Y', 'R.Knee_Z', 'R.Knee.Medialv_X', 'R.Knee.Medialv_Y', 'R.Knee.Medialv_Z', 'L.Knee_X', 'L.Knee_Y', 'L.Knee_Z', 'L.Knee.Medialv_X', 'L.Knee.Medialv_Y', 'L.Knee.Medialv_Z', 'R.HF_X', 'R.HF_Y', 'R.HF_Z', 'L.HF_X', 'L.HF_Y', 'L.HF_Z', 'R.TT_X', 'R.TT_Y', 'R.TT_Z', 'L.TT_X', 'L.TT_Y', 'L.TT_Z', 'R.Ankle_X', 'R.Ankle_Y', 'R.Ankle_Z', 'R.Ankle.Medialv_X', 'R.Ankle.Medialv_Y', 'R.Ankle.Medialv_Z', 'L.Ankle_X', 'L.Ankle_Y', 'L.Ankle_Z', 'L.Ankle.Medialv_X', 'L.Ankle.Medialv_Y', 'L.Ankle.Medialv_Z', 'R.Heel_X', 'R.Heel_Y', 'R.Heel_Z', 'L.Heel_X', 'L.Heel_Y', 'L.Heel_Z', 'R.MT1_X', 'R.MT1_Y', 'R.MT1_Z', 'R.MT2_X', 'R.MT2_Y', 'R.MT2_Z', 'R.MT5_X', 'R.MT5_Y', 'R.MT5_Z', 'L.MT1_X', 'L.MT1_Y', 'L.MT1_Z', 'L.MT2_X', 'L.MT2_Y', 'L.MT2_Z', 'L.MT5_X', 'L.MT5_Y', 'L.MT5_Z', 'COG_X', 'COG_Y', 'COG_Z']\n",
      "['Time', 'R.Front.Head_X', 'R.Front.Head_Y', 'R.Front.Head_Z', 'L.Front.Head_X', 'L.Front.Head_Y', 'L.Front.Head_Z', 'R.Back.Head_X', 'R.Back.Head_Y', 'R.Back.Head_Z', 'L.Back.Head_X', 'L.Back.Head_Y', 'L.Back.Head_Z', 'R.Shoulder_X', 'R.Shoulder_Y', 'R.Shoulder_Z', 'L.Shoulder_X', 'L.Shoulder_Y', 'L.Shoulder_Z', 'C7_X', 'C7_Y', 'C7_Z', 'T2_X', 'T2_Y', 'T2_Z', 'T7_X', 'T7_Y', 'T7_Z', 'L1_X', 'L1_Y', 'L1_Z', 'L3_X', 'L3_Y', 'L3_Z', 'L5_X', 'L5_Y', 'L5_Z', 'IJ_X', 'IJ_Y', 'IJ_Z', 'PX_X', 'PX_Y', 'PX_Z', 'R.ASIS_X', 'R.ASIS_Y', 'R.ASIS_Z', 'L.ASIS_X', 'L.ASIS_Y', 'L.ASIS_Z', 'R.PSIS_X', 'R.PSIS_Y', 'R.PSIS_Z', 'L.PSIS_X', 'L.PSIS_Y', 'L.PSIS_Z', 'L.Iliac.Crestv_X', 'L.Iliac.Crestv_Y', 'L.Iliac.Crestv_Z', 'R.Iliac.Crestv_X', 'R.Iliac.Crestv_Y', 'R.Iliac.Crestv_Z', 'R.GTR_X', 'R.GTR_Y', 'R.GTR_Z', 'L.GTR_X', 'L.GTR_Y', 'L.GTR_Z', 'R.Knee_X', 'R.Knee_Y', 'R.Knee_Z', 'R.Knee.Medialv_X', 'R.Knee.Medialv_Y', 'R.Knee.Medialv_Z', 'L.Knee_X', 'L.Knee_Y', 'L.Knee_Z', 'L.Knee.Medialv_X', 'L.Knee.Medialv_Y', 'L.Knee.Medialv_Z', 'R.HF_X', 'R.HF_Y', 'R.HF_Z', 'L.HF_X', 'L.HF_Y', 'L.HF_Z', 'R.TT_X', 'R.TT_Y', 'R.TT_Z', 'L.TT_X', 'L.TT_Y', 'L.TT_Z', 'R.Ankle_X', 'R.Ankle_Y', 'R.Ankle_Z', 'R.Ankle.Medialv_X', 'R.Ankle.Medialv_Y', 'R.Ankle.Medialv_Z', 'L.Ankle_X', 'L.Ankle_Y', 'L.Ankle_Z', 'L.Ankle.Medialv_X', 'L.Ankle.Medialv_Y', 'L.Ankle.Medialv_Z', 'R.Heel_X', 'R.Heel_Y', 'R.Heel_Z', 'L.Heel_X', 'L.Heel_Y', 'L.Heel_Z', 'R.MT1_X', 'R.MT1_Y', 'R.MT1_Z', 'R.MT2_X', 'R.MT2_Y', 'R.MT2_Z', 'R.MT5_X', 'R.MT5_Y', 'R.MT5_Z', 'L.MT1_X', 'L.MT1_Y', 'L.MT1_Z', 'L.MT2_X', 'L.MT2_Y', 'L.MT2_Z', 'L.MT5_X', 'L.MT5_Y', 'L.MT5_Z', 'COG_X', 'COG_Y', 'COG_Z']\n",
      "['Time', 'R.Front.Head_X', 'R.Front.Head_Y', 'R.Front.Head_Z', 'L.Front.Head_X', 'L.Front.Head_Y', 'L.Front.Head_Z', 'R.Back.Head_X', 'R.Back.Head_Y', 'R.Back.Head_Z', 'L.Back.Head_X', 'L.Back.Head_Y', 'L.Back.Head_Z', 'R.Shoulder_X', 'R.Shoulder_Y', 'R.Shoulder_Z', 'L.Shoulder_X', 'L.Shoulder_Y', 'L.Shoulder_Z', 'C7_X', 'C7_Y', 'C7_Z', 'T2_X', 'T2_Y', 'T2_Z', 'T7_X', 'T7_Y', 'T7_Z', 'L1_X', 'L1_Y', 'L1_Z', 'L3_X', 'L3_Y', 'L3_Z', 'L5_X', 'L5_Y', 'L5_Z', 'IJ_X', 'IJ_Y', 'IJ_Z', 'PX_X', 'PX_Y', 'PX_Z', 'R.ASIS_X', 'R.ASIS_Y', 'R.ASIS_Z', 'L.ASIS_X', 'L.ASIS_Y', 'L.ASIS_Z', 'R.PSIS_X', 'R.PSIS_Y', 'R.PSIS_Z', 'L.PSIS_X', 'L.PSIS_Y', 'L.PSIS_Z', 'L.Iliac.Crestv_X', 'L.Iliac.Crestv_Y', 'L.Iliac.Crestv_Z', 'R.Iliac.Crestv_X', 'R.Iliac.Crestv_Y', 'R.Iliac.Crestv_Z', 'R.GTR_X', 'R.GTR_Y', 'R.GTR_Z', 'L.GTR_X', 'L.GTR_Y', 'L.GTR_Z', 'R.Knee_X', 'R.Knee_Y', 'R.Knee_Z', 'R.Knee.Medialv_X', 'R.Knee.Medialv_Y', 'R.Knee.Medialv_Z', 'L.Knee_X', 'L.Knee_Y', 'L.Knee_Z', 'L.Knee.Medialv_X', 'L.Knee.Medialv_Y', 'L.Knee.Medialv_Z', 'R.HF_X', 'R.HF_Y', 'R.HF_Z', 'L.HF_X', 'L.HF_Y', 'L.HF_Z', 'R.TT_X', 'R.TT_Y', 'R.TT_Z', 'L.TT_X', 'L.TT_Y', 'L.TT_Z', 'R.Ankle_X', 'R.Ankle_Y', 'R.Ankle_Z', 'R.Ankle.Medialv_X', 'R.Ankle.Medialv_Y', 'R.Ankle.Medialv_Z', 'L.Ankle_X', 'L.Ankle_Y', 'L.Ankle_Z', 'L.Ankle.Medialv_X', 'L.Ankle.Medialv_Y', 'L.Ankle.Medialv_Z', 'R.Heel_X', 'R.Heel_Y', 'R.Heel_Z', 'L.Heel_X', 'L.Heel_Y', 'L.Heel_Z', 'R.MT1_X', 'R.MT1_Y', 'R.MT1_Z', 'R.MT2_X', 'R.MT2_Y', 'R.MT2_Z', 'R.MT5_X', 'R.MT5_Y', 'R.MT5_Z', 'L.MT1_X', 'L.MT1_Y', 'L.MT1_Z', 'L.MT2_X', 'L.MT2_Y', 'L.MT2_Z', 'L.MT5_X', 'L.MT5_Y', 'L.MT5_Z', 'COG_X', 'COG_Y', 'COG_Z']\n",
      "['Time', 'R.Front.Head_X', 'R.Front.Head_Y', 'R.Front.Head_Z', 'L.Front.Head_X', 'L.Front.Head_Y', 'L.Front.Head_Z', 'R.Back.Head_X', 'R.Back.Head_Y', 'R.Back.Head_Z', 'L.Back.Head_X', 'L.Back.Head_Y', 'L.Back.Head_Z', 'R.Shoulder_X', 'R.Shoulder_Y', 'R.Shoulder_Z', 'L.Shoulder_X', 'L.Shoulder_Y', 'L.Shoulder_Z', 'C7_X', 'C7_Y', 'C7_Z', 'T2_X', 'T2_Y', 'T2_Z', 'T7_X', 'T7_Y', 'T7_Z', 'L1_X', 'L1_Y', 'L1_Z', 'L3_X', 'L3_Y', 'L3_Z', 'L5_X', 'L5_Y', 'L5_Z', 'IJ_X', 'IJ_Y', 'IJ_Z', 'PX_X', 'PX_Y', 'PX_Z', 'R.ASIS_X', 'R.ASIS_Y', 'R.ASIS_Z', 'L.ASIS_X', 'L.ASIS_Y', 'L.ASIS_Z', 'R.PSIS_X', 'R.PSIS_Y', 'R.PSIS_Z', 'L.PSIS_X', 'L.PSIS_Y', 'L.PSIS_Z', 'L.Iliac.Crestv_X', 'L.Iliac.Crestv_Y', 'L.Iliac.Crestv_Z', 'R.Iliac.Crestv_X', 'R.Iliac.Crestv_Y', 'R.Iliac.Crestv_Z', 'R.GTR_X', 'R.GTR_Y', 'R.GTR_Z', 'L.GTR_X', 'L.GTR_Y', 'L.GTR_Z', 'R.Knee_X', 'R.Knee_Y', 'R.Knee_Z', 'R.Knee.Medialv_X', 'R.Knee.Medialv_Y', 'R.Knee.Medialv_Z', 'L.Knee_X', 'L.Knee_Y', 'L.Knee_Z', 'L.Knee.Medialv_X', 'L.Knee.Medialv_Y', 'L.Knee.Medialv_Z', 'R.HF_X', 'R.HF_Y', 'R.HF_Z', 'L.HF_X', 'L.HF_Y', 'L.HF_Z', 'R.TT_X', 'R.TT_Y', 'R.TT_Z', 'L.TT_X', 'L.TT_Y', 'L.TT_Z', 'R.Ankle_X', 'R.Ankle_Y', 'R.Ankle_Z', 'R.Ankle.Medialv_X', 'R.Ankle.Medialv_Y', 'R.Ankle.Medialv_Z', 'L.Ankle_X', 'L.Ankle_Y', 'L.Ankle_Z', 'L.Ankle.Medialv_X', 'L.Ankle.Medialv_Y', 'L.Ankle.Medialv_Z', 'R.Heel_X', 'R.Heel_Y', 'R.Heel_Z', 'L.Heel_X', 'L.Heel_Y', 'L.Heel_Z', 'R.MT1_X', 'R.MT1_Y', 'R.MT1_Z', 'R.MT2_X', 'R.MT2_Y', 'R.MT2_Z', 'R.MT5_X', 'R.MT5_Y', 'R.MT5_Z', 'L.MT1_X', 'L.MT1_Y', 'L.MT1_Z', 'L.MT2_X', 'L.MT2_Y', 'L.MT2_Z', 'L.MT5_X', 'L.MT5_Y', 'L.MT5_Z', 'COG_X', 'COG_Y', 'COG_Z']\n",
      "['Time', 'R.Front.Head_X', 'R.Front.Head_Y', 'R.Front.Head_Z', 'L.Front.Head_X', 'L.Front.Head_Y', 'L.Front.Head_Z', 'R.Back.Head_X', 'R.Back.Head_Y', 'R.Back.Head_Z', 'L.Back.Head_X', 'L.Back.Head_Y', 'L.Back.Head_Z', 'R.Shoulder_X', 'R.Shoulder_Y', 'R.Shoulder_Z', 'L.Shoulder_X', 'L.Shoulder_Y', 'L.Shoulder_Z', 'C7_X', 'C7_Y', 'C7_Z', 'T2_X', 'T2_Y', 'T2_Z', 'T7_X', 'T7_Y', 'T7_Z', 'L1_X', 'L1_Y', 'L1_Z', 'L3_X', 'L3_Y', 'L3_Z', 'L5_X', 'L5_Y', 'L5_Z', 'IJ_X', 'IJ_Y', 'IJ_Z', 'PX_X', 'PX_Y', 'PX_Z', 'R.ASIS_X', 'R.ASIS_Y', 'R.ASIS_Z', 'L.ASIS_X', 'L.ASIS_Y', 'L.ASIS_Z', 'R.PSIS_X', 'R.PSIS_Y', 'R.PSIS_Z', 'L.PSIS_X', 'L.PSIS_Y', 'L.PSIS_Z', 'L.Iliac.Crestv_X', 'L.Iliac.Crestv_Y', 'L.Iliac.Crestv_Z', 'R.Iliac.Crestv_X', 'R.Iliac.Crestv_Y', 'R.Iliac.Crestv_Z', 'R.GTR_X', 'R.GTR_Y', 'R.GTR_Z', 'L.GTR_X', 'L.GTR_Y', 'L.GTR_Z', 'R.Knee_X', 'R.Knee_Y', 'R.Knee_Z', 'R.Knee.Medialv_X', 'R.Knee.Medialv_Y', 'R.Knee.Medialv_Z', 'L.Knee_X', 'L.Knee_Y', 'L.Knee_Z', 'L.Knee.Medialv_X', 'L.Knee.Medialv_Y', 'L.Knee.Medialv_Z', 'R.HF_X', 'R.HF_Y', 'R.HF_Z', 'L.HF_X', 'L.HF_Y', 'L.HF_Z', 'R.TT_X', 'R.TT_Y', 'R.TT_Z', 'L.TT_X', 'L.TT_Y', 'L.TT_Z', 'R.Ankle_X', 'R.Ankle_Y', 'R.Ankle_Z', 'R.Ankle.Medialv_X', 'R.Ankle.Medialv_Y', 'R.Ankle.Medialv_Z', 'L.Ankle_X', 'L.Ankle_Y', 'L.Ankle_Z', 'L.Ankle.Medialv_X', 'L.Ankle.Medialv_Y', 'L.Ankle.Medialv_Z', 'R.Heel_X', 'R.Heel_Y', 'R.Heel_Z', 'L.Heel_X', 'L.Heel_Y', 'L.Heel_Z', 'R.MT1_X', 'R.MT1_Y', 'R.MT1_Z', 'R.MT2_X', 'R.MT2_Y', 'R.MT2_Z', 'R.MT5_X', 'R.MT5_Y', 'R.MT5_Z', 'L.MT1_X', 'L.MT1_Y', 'L.MT1_Z', 'L.MT2_X', 'L.MT2_Y', 'L.MT2_Z', 'L.MT5_X', 'L.MT5_Y', 'L.MT5_Z', 'COG_X', 'COG_Y', 'COG_Z']\n",
      "['Time', 'R.Front.Head_X', 'R.Front.Head_Y', 'R.Front.Head_Z', 'L.Front.Head_X', 'L.Front.Head_Y', 'L.Front.Head_Z', 'R.Back.Head_X', 'R.Back.Head_Y', 'R.Back.Head_Z', 'L.Back.Head_X', 'L.Back.Head_Y', 'L.Back.Head_Z', 'R.Shoulder_X', 'R.Shoulder_Y', 'R.Shoulder_Z', 'L.Shoulder_X', 'L.Shoulder_Y', 'L.Shoulder_Z', 'C7_X', 'C7_Y', 'C7_Z', 'T2_X', 'T2_Y', 'T2_Z', 'T7_X', 'T7_Y', 'T7_Z', 'L1_X', 'L1_Y', 'L1_Z', 'L3_X', 'L3_Y', 'L3_Z', 'L5_X', 'L5_Y', 'L5_Z', 'IJ_X', 'IJ_Y', 'IJ_Z', 'PX_X', 'PX_Y', 'PX_Z', 'R.ASIS_X', 'R.ASIS_Y', 'R.ASIS_Z', 'L.ASIS_X', 'L.ASIS_Y', 'L.ASIS_Z', 'R.PSIS_X', 'R.PSIS_Y', 'R.PSIS_Z', 'L.PSIS_X', 'L.PSIS_Y', 'L.PSIS_Z', 'L.Iliac.Crestv_X', 'L.Iliac.Crestv_Y', 'L.Iliac.Crestv_Z', 'R.Iliac.Crestv_X', 'R.Iliac.Crestv_Y', 'R.Iliac.Crestv_Z', 'R.GTR_X', 'R.GTR_Y', 'R.GTR_Z', 'L.GTR_X', 'L.GTR_Y', 'L.GTR_Z', 'R.Knee_X', 'R.Knee_Y', 'R.Knee_Z', 'R.Knee.Medialv_X', 'R.Knee.Medialv_Y', 'R.Knee.Medialv_Z', 'L.Knee_X', 'L.Knee_Y', 'L.Knee_Z', 'L.Knee.Medialv_X', 'L.Knee.Medialv_Y', 'L.Knee.Medialv_Z', 'R.HF_X', 'R.HF_Y', 'R.HF_Z', 'L.HF_X', 'L.HF_Y', 'L.HF_Z', 'R.TT_X', 'R.TT_Y', 'R.TT_Z', 'L.TT_X', 'L.TT_Y', 'L.TT_Z', 'R.Ankle_X', 'R.Ankle_Y', 'R.Ankle_Z', 'R.Ankle.Medialv_X', 'R.Ankle.Medialv_Y', 'R.Ankle.Medialv_Z', 'L.Ankle_X', 'L.Ankle_Y', 'L.Ankle_Z', 'L.Ankle.Medialv_X', 'L.Ankle.Medialv_Y', 'L.Ankle.Medialv_Z', 'R.Heel_X', 'R.Heel_Y', 'R.Heel_Z', 'L.Heel_X', 'L.Heel_Y', 'L.Heel_Z', 'R.MT1_X', 'R.MT1_Y', 'R.MT1_Z', 'R.MT2_X', 'R.MT2_Y', 'R.MT2_Z', 'R.MT5_X', 'R.MT5_Y', 'R.MT5_Z', 'L.MT1_X', 'L.MT1_Y', 'L.MT1_Z', 'L.MT2_X', 'L.MT2_Y', 'L.MT2_Z', 'L.MT5_X', 'L.MT5_Y', 'L.MT5_Z', 'COG_X', 'COG_Y', 'COG_Z']\n",
      "['Time', 'R.Front.Head_X', 'R.Front.Head_Y', 'R.Front.Head_Z', 'L.Front.Head_X', 'L.Front.Head_Y', 'L.Front.Head_Z', 'R.Back.Head_X', 'R.Back.Head_Y', 'R.Back.Head_Z', 'L.Back.Head_X', 'L.Back.Head_Y', 'L.Back.Head_Z', 'R.Shoulder_X', 'R.Shoulder_Y', 'R.Shoulder_Z', 'L.Shoulder_X', 'L.Shoulder_Y', 'L.Shoulder_Z', 'C7_X', 'C7_Y', 'C7_Z', 'T2_X', 'T2_Y', 'T2_Z', 'T7_X', 'T7_Y', 'T7_Z', 'L1_X', 'L1_Y', 'L1_Z', 'L3_X', 'L3_Y', 'L3_Z', 'L5_X', 'L5_Y', 'L5_Z', 'IJ_X', 'IJ_Y', 'IJ_Z', 'PX_X', 'PX_Y', 'PX_Z', 'R.ASIS_X', 'R.ASIS_Y', 'R.ASIS_Z', 'L.ASIS_X', 'L.ASIS_Y', 'L.ASIS_Z', 'R.PSIS_X', 'R.PSIS_Y', 'R.PSIS_Z', 'L.PSIS_X', 'L.PSIS_Y', 'L.PSIS_Z', 'L.Iliac.Crestv_X', 'L.Iliac.Crestv_Y', 'L.Iliac.Crestv_Z', 'R.Iliac.Crestv_X', 'R.Iliac.Crestv_Y', 'R.Iliac.Crestv_Z', 'R.GTR_X', 'R.GTR_Y', 'R.GTR_Z', 'L.GTR_X', 'L.GTR_Y', 'L.GTR_Z', 'R.Knee_X', 'R.Knee_Y', 'R.Knee_Z', 'R.Knee.Medialv_X', 'R.Knee.Medialv_Y', 'R.Knee.Medialv_Z', 'L.Knee_X', 'L.Knee_Y', 'L.Knee_Z', 'L.Knee.Medialv_X', 'L.Knee.Medialv_Y', 'L.Knee.Medialv_Z', 'R.HF_X', 'R.HF_Y', 'R.HF_Z', 'L.HF_X', 'L.HF_Y', 'L.HF_Z', 'R.TT_X', 'R.TT_Y', 'R.TT_Z', 'L.TT_X', 'L.TT_Y', 'L.TT_Z', 'R.Ankle_X', 'R.Ankle_Y', 'R.Ankle_Z', 'R.Ankle.Medialv_X', 'R.Ankle.Medialv_Y', 'R.Ankle.Medialv_Z', 'L.Ankle_X', 'L.Ankle_Y', 'L.Ankle_Z', 'L.Ankle.Medialv_X', 'L.Ankle.Medialv_Y', 'L.Ankle.Medialv_Z', 'R.Heel_X', 'R.Heel_Y', 'R.Heel_Z', 'L.Heel_X', 'L.Heel_Y', 'L.Heel_Z', 'R.MT1_X', 'R.MT1_Y', 'R.MT1_Z', 'R.MT2_X', 'R.MT2_Y', 'R.MT2_Z', 'R.MT5_X', 'R.MT5_Y', 'R.MT5_Z', 'L.MT1_X', 'L.MT1_Y', 'L.MT1_Z', 'L.MT2_X', 'L.MT2_Y', 'L.MT2_Z', 'L.MT5_X', 'L.MT5_Y', 'L.MT5_Z', 'COG_X', 'COG_Y', 'COG_Z']\n",
      "['Time', 'R.Front.Head_X', 'R.Front.Head_Y', 'R.Front.Head_Z', 'L.Front.Head_X', 'L.Front.Head_Y', 'L.Front.Head_Z', 'R.Back.Head_X', 'R.Back.Head_Y', 'R.Back.Head_Z', 'L.Back.Head_X', 'L.Back.Head_Y', 'L.Back.Head_Z', 'R.Shoulder_X', 'R.Shoulder_Y', 'R.Shoulder_Z', 'L.Shoulder_X', 'L.Shoulder_Y', 'L.Shoulder_Z', 'C7_X', 'C7_Y', 'C7_Z', 'T2_X', 'T2_Y', 'T2_Z', 'T7_X', 'T7_Y', 'T7_Z', 'L1_X', 'L1_Y', 'L1_Z', 'L3_X', 'L3_Y', 'L3_Z', 'L5_X', 'L5_Y', 'L5_Z', 'IJ_X', 'IJ_Y', 'IJ_Z', 'PX_X', 'PX_Y', 'PX_Z', 'R.ASIS_X', 'R.ASIS_Y', 'R.ASIS_Z', 'L.ASIS_X', 'L.ASIS_Y', 'L.ASIS_Z', 'R.PSIS_X', 'R.PSIS_Y', 'R.PSIS_Z', 'L.PSIS_X', 'L.PSIS_Y', 'L.PSIS_Z', 'L.Iliac.Crestv_X', 'L.Iliac.Crestv_Y', 'L.Iliac.Crestv_Z', 'R.Iliac.Crestv_X', 'R.Iliac.Crestv_Y', 'R.Iliac.Crestv_Z', 'R.GTR_X', 'R.GTR_Y', 'R.GTR_Z', 'L.GTR_X', 'L.GTR_Y', 'L.GTR_Z', 'R.Knee_X', 'R.Knee_Y', 'R.Knee_Z', 'R.Knee.Medialv_X', 'R.Knee.Medialv_Y', 'R.Knee.Medialv_Z', 'L.Knee_X', 'L.Knee_Y', 'L.Knee_Z', 'L.Knee.Medialv_X', 'L.Knee.Medialv_Y', 'L.Knee.Medialv_Z', 'R.HF_X', 'R.HF_Y', 'R.HF_Z', 'L.HF_X', 'L.HF_Y', 'L.HF_Z', 'R.TT_X', 'R.TT_Y', 'R.TT_Z', 'L.TT_X', 'L.TT_Y', 'L.TT_Z', 'R.Ankle_X', 'R.Ankle_Y', 'R.Ankle_Z', 'R.Ankle.Medialv_X', 'R.Ankle.Medialv_Y', 'R.Ankle.Medialv_Z', 'L.Ankle_X', 'L.Ankle_Y', 'L.Ankle_Z', 'L.Ankle.Medialv_X', 'L.Ankle.Medialv_Y', 'L.Ankle.Medialv_Z', 'R.Heel_X', 'R.Heel_Y', 'R.Heel_Z', 'L.Heel_X', 'L.Heel_Y', 'L.Heel_Z', 'R.MT1_X', 'R.MT1_Y', 'R.MT1_Z', 'R.MT2_X', 'R.MT2_Y', 'R.MT2_Z', 'R.MT5_X', 'R.MT5_Y', 'R.MT5_Z', 'L.MT1_X', 'L.MT1_Y', 'L.MT1_Z', 'L.MT2_X', 'L.MT2_Y', 'L.MT2_Z', 'L.MT5_X', 'L.MT5_Y', 'L.MT5_Z', 'COG_X', 'COG_Y', 'COG_Z']\n",
      "['Time', 'R.Front.Head_X', 'R.Front.Head_Y', 'R.Front.Head_Z', 'L.Front.Head_X', 'L.Front.Head_Y', 'L.Front.Head_Z', 'R.Back.Head_X', 'R.Back.Head_Y', 'R.Back.Head_Z', 'L.Back.Head_X', 'L.Back.Head_Y', 'L.Back.Head_Z', 'R.Shoulder_X', 'R.Shoulder_Y', 'R.Shoulder_Z', 'L.Shoulder_X', 'L.Shoulder_Y', 'L.Shoulder_Z', 'C7_X', 'C7_Y', 'C7_Z', 'T2_X', 'T2_Y', 'T2_Z', 'T7_X', 'T7_Y', 'T7_Z', 'L1_X', 'L1_Y', 'L1_Z', 'L3_X', 'L3_Y', 'L3_Z', 'L5_X', 'L5_Y', 'L5_Z', 'IJ_X', 'IJ_Y', 'IJ_Z', 'PX_X', 'PX_Y', 'PX_Z', 'R.ASIS_X', 'R.ASIS_Y', 'R.ASIS_Z', 'L.ASIS_X', 'L.ASIS_Y', 'L.ASIS_Z', 'R.PSIS_X', 'R.PSIS_Y', 'R.PSIS_Z', 'L.PSIS_X', 'L.PSIS_Y', 'L.PSIS_Z', 'L.Iliac.Crestv_X', 'L.Iliac.Crestv_Y', 'L.Iliac.Crestv_Z', 'R.Iliac.Crestv_X', 'R.Iliac.Crestv_Y', 'R.Iliac.Crestv_Z', 'R.GTR_X', 'R.GTR_Y', 'R.GTR_Z', 'L.GTR_X', 'L.GTR_Y', 'L.GTR_Z', 'R.Knee_X', 'R.Knee_Y', 'R.Knee_Z', 'R.Knee.Medialv_X', 'R.Knee.Medialv_Y', 'R.Knee.Medialv_Z', 'L.Knee_X', 'L.Knee_Y', 'L.Knee_Z', 'L.Knee.Medialv_X', 'L.Knee.Medialv_Y', 'L.Knee.Medialv_Z', 'R.HF_X', 'R.HF_Y', 'R.HF_Z', 'L.HF_X', 'L.HF_Y', 'L.HF_Z', 'R.TT_X', 'R.TT_Y', 'R.TT_Z', 'L.TT_X', 'L.TT_Y', 'L.TT_Z', 'R.Ankle_X', 'R.Ankle_Y', 'R.Ankle_Z', 'R.Ankle.Medialv_X', 'R.Ankle.Medialv_Y', 'R.Ankle.Medialv_Z', 'L.Ankle_X', 'L.Ankle_Y', 'L.Ankle_Z', 'L.Ankle.Medialv_X', 'L.Ankle.Medialv_Y', 'L.Ankle.Medialv_Z', 'R.Heel_X', 'R.Heel_Y', 'R.Heel_Z', 'L.Heel_X', 'L.Heel_Y', 'L.Heel_Z', 'R.MT1_X', 'R.MT1_Y', 'R.MT1_Z', 'R.MT2_X', 'R.MT2_Y', 'R.MT2_Z', 'R.MT5_X', 'R.MT5_Y', 'R.MT5_Z', 'L.MT1_X', 'L.MT1_Y', 'L.MT1_Z', 'L.MT2_X', 'L.MT2_Y', 'L.MT2_Z', 'L.MT5_X', 'L.MT5_Y', 'L.MT5_Z', 'COG_X', 'COG_Y', 'COG_Z']\n",
      "['Time', 'R.Front.Head_X', 'R.Front.Head_Y', 'R.Front.Head_Z', 'L.Front.Head_X', 'L.Front.Head_Y', 'L.Front.Head_Z', 'R.Back.Head_X', 'R.Back.Head_Y', 'R.Back.Head_Z', 'L.Back.Head_X', 'L.Back.Head_Y', 'L.Back.Head_Z', 'R.Shoulder_X', 'R.Shoulder_Y', 'R.Shoulder_Z', 'L.Shoulder_X', 'L.Shoulder_Y', 'L.Shoulder_Z', 'C7_X', 'C7_Y', 'C7_Z', 'T2_X', 'T2_Y', 'T2_Z', 'T7_X', 'T7_Y', 'T7_Z', 'L1_X', 'L1_Y', 'L1_Z', 'L3_X', 'L3_Y', 'L3_Z', 'L5_X', 'L5_Y', 'L5_Z', 'IJ_X', 'IJ_Y', 'IJ_Z', 'PX_X', 'PX_Y', 'PX_Z', 'R.ASIS_X', 'R.ASIS_Y', 'R.ASIS_Z', 'L.ASIS_X', 'L.ASIS_Y', 'L.ASIS_Z', 'R.PSIS_X', 'R.PSIS_Y', 'R.PSIS_Z', 'L.PSIS_X', 'L.PSIS_Y', 'L.PSIS_Z', 'L.Iliac.Crestv_X', 'L.Iliac.Crestv_Y', 'L.Iliac.Crestv_Z', 'R.Iliac.Crestv_X', 'R.Iliac.Crestv_Y', 'R.Iliac.Crestv_Z', 'R.GTR_X', 'R.GTR_Y', 'R.GTR_Z', 'L.GTR_X', 'L.GTR_Y', 'L.GTR_Z', 'R.Knee_X', 'R.Knee_Y', 'R.Knee_Z', 'R.Knee.Medialv_X', 'R.Knee.Medialv_Y', 'R.Knee.Medialv_Z', 'L.Knee_X', 'L.Knee_Y', 'L.Knee_Z', 'L.Knee.Medialv_X', 'L.Knee.Medialv_Y', 'L.Knee.Medialv_Z', 'R.HF_X', 'R.HF_Y', 'R.HF_Z', 'L.HF_X', 'L.HF_Y', 'L.HF_Z', 'R.TT_X', 'R.TT_Y', 'R.TT_Z', 'L.TT_X', 'L.TT_Y', 'L.TT_Z', 'R.Ankle_X', 'R.Ankle_Y', 'R.Ankle_Z', 'R.Ankle.Medialv_X', 'R.Ankle.Medialv_Y', 'R.Ankle.Medialv_Z', 'L.Ankle_X', 'L.Ankle_Y', 'L.Ankle_Z', 'L.Ankle.Medialv_X', 'L.Ankle.Medialv_Y', 'L.Ankle.Medialv_Z', 'R.Heel_X', 'R.Heel_Y', 'R.Heel_Z', 'L.Heel_X', 'L.Heel_Y', 'L.Heel_Z', 'R.MT1_X', 'R.MT1_Y', 'R.MT1_Z', 'R.MT2_X', 'R.MT2_Y', 'R.MT2_Z', 'R.MT5_X', 'R.MT5_Y', 'R.MT5_Z', 'L.MT1_X', 'L.MT1_Y', 'L.MT1_Z', 'L.MT2_X', 'L.MT2_Y', 'L.MT2_Z', 'L.MT5_X', 'L.MT5_Y', 'L.MT5_Z', 'COG_X', 'COG_Y', 'COG_Z']\n",
      "['Time', 'R.Front.Head_X', 'R.Front.Head_Y', 'R.Front.Head_Z', 'L.Front.Head_X', 'L.Front.Head_Y', 'L.Front.Head_Z', 'R.Back.Head_X', 'R.Back.Head_Y', 'R.Back.Head_Z', 'L.Back.Head_X', 'L.Back.Head_Y', 'L.Back.Head_Z', 'R.Shoulder_X', 'R.Shoulder_Y', 'R.Shoulder_Z', 'L.Shoulder_X', 'L.Shoulder_Y', 'L.Shoulder_Z', 'C7_X', 'C7_Y', 'C7_Z', 'T2_X', 'T2_Y', 'T2_Z', 'T7_X', 'T7_Y', 'T7_Z', 'L1_X', 'L1_Y', 'L1_Z', 'L3_X', 'L3_Y', 'L3_Z', 'L5_X', 'L5_Y', 'L5_Z', 'IJ_X', 'IJ_Y', 'IJ_Z', 'PX_X', 'PX_Y', 'PX_Z', 'R.ASIS_X', 'R.ASIS_Y', 'R.ASIS_Z', 'L.ASIS_X', 'L.ASIS_Y', 'L.ASIS_Z', 'R.PSIS_X', 'R.PSIS_Y', 'R.PSIS_Z', 'L.PSIS_X', 'L.PSIS_Y', 'L.PSIS_Z', 'L.Iliac.Crestv_X', 'L.Iliac.Crestv_Y', 'L.Iliac.Crestv_Z', 'R.Iliac.Crestv_X', 'R.Iliac.Crestv_Y', 'R.Iliac.Crestv_Z', 'R.GTR_X', 'R.GTR_Y', 'R.GTR_Z', 'L.GTR_X', 'L.GTR_Y', 'L.GTR_Z', 'R.Knee_X', 'R.Knee_Y', 'R.Knee_Z', 'R.Knee.Medialv_X', 'R.Knee.Medialv_Y', 'R.Knee.Medialv_Z', 'L.Knee_X', 'L.Knee_Y', 'L.Knee_Z', 'L.Knee.Medialv_X', 'L.Knee.Medialv_Y', 'L.Knee.Medialv_Z', 'R.HF_X', 'R.HF_Y', 'R.HF_Z', 'L.HF_X', 'L.HF_Y', 'L.HF_Z', 'R.TT_X', 'R.TT_Y', 'R.TT_Z', 'L.TT_X', 'L.TT_Y', 'L.TT_Z', 'R.Ankle_X', 'R.Ankle_Y', 'R.Ankle_Z', 'R.Ankle.Medialv_X', 'R.Ankle.Medialv_Y', 'R.Ankle.Medialv_Z', 'L.Ankle_X', 'L.Ankle_Y', 'L.Ankle_Z', 'L.Ankle.Medialv_X', 'L.Ankle.Medialv_Y', 'L.Ankle.Medialv_Z', 'R.Heel_X', 'R.Heel_Y', 'R.Heel_Z', 'L.Heel_X', 'L.Heel_Y', 'L.Heel_Z', 'R.MT1_X', 'R.MT1_Y', 'R.MT1_Z', 'R.MT2_X', 'R.MT2_Y', 'R.MT2_Z', 'R.MT5_X', 'R.MT5_Y', 'R.MT5_Z', 'L.MT1_X', 'L.MT1_Y', 'L.MT1_Z', 'L.MT2_X', 'L.MT2_Y', 'L.MT2_Z', 'L.MT5_X', 'L.MT5_Y', 'L.MT5_Z', 'COG_X', 'COG_Y', 'COG_Z']\n",
      "['Time', 'R.Front.Head_X', 'R.Front.Head_Y', 'R.Front.Head_Z', 'L.Front.Head_X', 'L.Front.Head_Y', 'L.Front.Head_Z', 'R.Back.Head_X', 'R.Back.Head_Y', 'R.Back.Head_Z', 'L.Back.Head_X', 'L.Back.Head_Y', 'L.Back.Head_Z', 'R.Shoulder_X', 'R.Shoulder_Y', 'R.Shoulder_Z', 'L.Shoulder_X', 'L.Shoulder_Y', 'L.Shoulder_Z', 'C7_X', 'C7_Y', 'C7_Z', 'T2_X', 'T2_Y', 'T2_Z', 'T7_X', 'T7_Y', 'T7_Z', 'L1_X', 'L1_Y', 'L1_Z', 'L3_X', 'L3_Y', 'L3_Z', 'L5_X', 'L5_Y', 'L5_Z', 'IJ_X', 'IJ_Y', 'IJ_Z', 'PX_X', 'PX_Y', 'PX_Z', 'R.ASIS_X', 'R.ASIS_Y', 'R.ASIS_Z', 'L.ASIS_X', 'L.ASIS_Y', 'L.ASIS_Z', 'R.PSIS_X', 'R.PSIS_Y', 'R.PSIS_Z', 'L.PSIS_X', 'L.PSIS_Y', 'L.PSIS_Z', 'L.Iliac.Crestv_X', 'L.Iliac.Crestv_Y', 'L.Iliac.Crestv_Z', 'R.Iliac.Crestv_X', 'R.Iliac.Crestv_Y', 'R.Iliac.Crestv_Z', 'R.GTR_X', 'R.GTR_Y', 'R.GTR_Z', 'L.GTR_X', 'L.GTR_Y', 'L.GTR_Z', 'R.Knee_X', 'R.Knee_Y', 'R.Knee_Z', 'R.Knee.Medialv_X', 'R.Knee.Medialv_Y', 'R.Knee.Medialv_Z', 'L.Knee_X', 'L.Knee_Y', 'L.Knee_Z', 'L.Knee.Medialv_X', 'L.Knee.Medialv_Y', 'L.Knee.Medialv_Z', 'R.HF_X', 'R.HF_Y', 'R.HF_Z', 'L.HF_X', 'L.HF_Y', 'L.HF_Z', 'R.TT_X', 'R.TT_Y', 'R.TT_Z', 'L.TT_X', 'L.TT_Y', 'L.TT_Z', 'R.Ankle_X', 'R.Ankle_Y', 'R.Ankle_Z', 'R.Ankle.Medialv_X', 'R.Ankle.Medialv_Y', 'R.Ankle.Medialv_Z', 'L.Ankle_X', 'L.Ankle_Y', 'L.Ankle_Z', 'L.Ankle.Medialv_X', 'L.Ankle.Medialv_Y', 'L.Ankle.Medialv_Z', 'R.Heel_X', 'R.Heel_Y', 'R.Heel_Z', 'L.Heel_X', 'L.Heel_Y', 'L.Heel_Z', 'R.MT1_X', 'R.MT1_Y', 'R.MT1_Z', 'R.MT2_X', 'R.MT2_Y', 'R.MT2_Z', 'R.MT5_X', 'R.MT5_Y', 'R.MT5_Z', 'L.MT1_X', 'L.MT1_Y', 'L.MT1_Z', 'L.MT2_X', 'L.MT2_Y', 'L.MT2_Z', 'L.MT5_X', 'L.MT5_Y', 'L.MT5_Z', 'COG_X', 'COG_Y', 'COG_Z']\n",
      "['Time', 'R.Front.Head_X', 'R.Front.Head_Y', 'R.Front.Head_Z', 'L.Front.Head_X', 'L.Front.Head_Y', 'L.Front.Head_Z', 'R.Back.Head_X', 'R.Back.Head_Y', 'R.Back.Head_Z', 'L.Back.Head_X', 'L.Back.Head_Y', 'L.Back.Head_Z', 'R.Shoulder_X', 'R.Shoulder_Y', 'R.Shoulder_Z', 'L.Shoulder_X', 'L.Shoulder_Y', 'L.Shoulder_Z', 'C7_X', 'C7_Y', 'C7_Z', 'T2_X', 'T2_Y', 'T2_Z', 'T7_X', 'T7_Y', 'T7_Z', 'L1_X', 'L1_Y', 'L1_Z', 'L3_X', 'L3_Y', 'L3_Z', 'L5_X', 'L5_Y', 'L5_Z', 'IJ_X', 'IJ_Y', 'IJ_Z', 'PX_X', 'PX_Y', 'PX_Z', 'R.ASIS_X', 'R.ASIS_Y', 'R.ASIS_Z', 'L.ASIS_X', 'L.ASIS_Y', 'L.ASIS_Z', 'R.PSIS_X', 'R.PSIS_Y', 'R.PSIS_Z', 'L.PSIS_X', 'L.PSIS_Y', 'L.PSIS_Z', 'L.Iliac.Crestv_X', 'L.Iliac.Crestv_Y', 'L.Iliac.Crestv_Z', 'R.Iliac.Crestv_X', 'R.Iliac.Crestv_Y', 'R.Iliac.Crestv_Z', 'R.GTR_X', 'R.GTR_Y', 'R.GTR_Z', 'L.GTR_X', 'L.GTR_Y', 'L.GTR_Z', 'R.Knee_X', 'R.Knee_Y', 'R.Knee_Z', 'R.Knee.Medialv_X', 'R.Knee.Medialv_Y', 'R.Knee.Medialv_Z', 'L.Knee_X', 'L.Knee_Y', 'L.Knee_Z', 'L.Knee.Medialv_X', 'L.Knee.Medialv_Y', 'L.Knee.Medialv_Z', 'R.HF_X', 'R.HF_Y', 'R.HF_Z', 'L.HF_X', 'L.HF_Y', 'L.HF_Z', 'R.TT_X', 'R.TT_Y', 'R.TT_Z', 'L.TT_X', 'L.TT_Y', 'L.TT_Z', 'R.Ankle_X', 'R.Ankle_Y', 'R.Ankle_Z', 'R.Ankle.Medialv_X', 'R.Ankle.Medialv_Y', 'R.Ankle.Medialv_Z', 'L.Ankle_X', 'L.Ankle_Y', 'L.Ankle_Z', 'L.Ankle.Medialv_X', 'L.Ankle.Medialv_Y', 'L.Ankle.Medialv_Z', 'R.Heel_X', 'R.Heel_Y', 'R.Heel_Z', 'L.Heel_X', 'L.Heel_Y', 'L.Heel_Z', 'R.MT1_X', 'R.MT1_Y', 'R.MT1_Z', 'R.MT2_X', 'R.MT2_Y', 'R.MT2_Z', 'R.MT5_X', 'R.MT5_Y', 'R.MT5_Z', 'L.MT1_X', 'L.MT1_Y', 'L.MT1_Z', 'L.MT2_X', 'L.MT2_Y', 'L.MT2_Z', 'L.MT5_X', 'L.MT5_Y', 'L.MT5_Z', 'COG_X', 'COG_Y', 'COG_Z']\n",
      "['Time', 'R.Front.Head_X', 'R.Front.Head_Y', 'R.Front.Head_Z', 'L.Front.Head_X', 'L.Front.Head_Y', 'L.Front.Head_Z', 'R.Back.Head_X', 'R.Back.Head_Y', 'R.Back.Head_Z', 'L.Back.Head_X', 'L.Back.Head_Y', 'L.Back.Head_Z', 'R.Shoulder_X', 'R.Shoulder_Y', 'R.Shoulder_Z', 'L.Shoulder_X', 'L.Shoulder_Y', 'L.Shoulder_Z', 'C7_X', 'C7_Y', 'C7_Z', 'T2_X', 'T2_Y', 'T2_Z', 'T7_X', 'T7_Y', 'T7_Z', 'L1_X', 'L1_Y', 'L1_Z', 'L3_X', 'L3_Y', 'L3_Z', 'L5_X', 'L5_Y', 'L5_Z', 'IJ_X', 'IJ_Y', 'IJ_Z', 'PX_X', 'PX_Y', 'PX_Z', 'R.ASIS_X', 'R.ASIS_Y', 'R.ASIS_Z', 'L.ASIS_X', 'L.ASIS_Y', 'L.ASIS_Z', 'R.PSIS_X', 'R.PSIS_Y', 'R.PSIS_Z', 'L.PSIS_X', 'L.PSIS_Y', 'L.PSIS_Z', 'L.Iliac.Crestv_X', 'L.Iliac.Crestv_Y', 'L.Iliac.Crestv_Z', 'R.Iliac.Crestv_X', 'R.Iliac.Crestv_Y', 'R.Iliac.Crestv_Z', 'R.GTR_X', 'R.GTR_Y', 'R.GTR_Z', 'L.GTR_X', 'L.GTR_Y', 'L.GTR_Z', 'R.Knee_X', 'R.Knee_Y', 'R.Knee_Z', 'R.Knee.Medialv_X', 'R.Knee.Medialv_Y', 'R.Knee.Medialv_Z', 'L.Knee_X', 'L.Knee_Y', 'L.Knee_Z', 'L.Knee.Medialv_X', 'L.Knee.Medialv_Y', 'L.Knee.Medialv_Z', 'R.HF_X', 'R.HF_Y', 'R.HF_Z', 'L.HF_X', 'L.HF_Y', 'L.HF_Z', 'R.TT_X', 'R.TT_Y', 'R.TT_Z', 'L.TT_X', 'L.TT_Y', 'L.TT_Z', 'R.Ankle_X', 'R.Ankle_Y', 'R.Ankle_Z', 'R.Ankle.Medialv_X', 'R.Ankle.Medialv_Y', 'R.Ankle.Medialv_Z', 'L.Ankle_X', 'L.Ankle_Y', 'L.Ankle_Z', 'L.Ankle.Medialv_X', 'L.Ankle.Medialv_Y', 'L.Ankle.Medialv_Z', 'R.Heel_X', 'R.Heel_Y', 'R.Heel_Z', 'L.Heel_X', 'L.Heel_Y', 'L.Heel_Z', 'R.MT1_X', 'R.MT1_Y', 'R.MT1_Z', 'R.MT2_X', 'R.MT2_Y', 'R.MT2_Z', 'R.MT5_X', 'R.MT5_Y', 'R.MT5_Z', 'L.MT1_X', 'L.MT1_Y', 'L.MT1_Z', 'L.MT2_X', 'L.MT2_Y', 'L.MT2_Z', 'L.MT5_X', 'L.MT5_Y', 'L.MT5_Z', 'COG_X', 'COG_Y', 'COG_Z']\n",
      "['Time', 'R.Front.Head_X', 'R.Front.Head_Y', 'R.Front.Head_Z', 'L.Front.Head_X', 'L.Front.Head_Y', 'L.Front.Head_Z', 'R.Back.Head_X', 'R.Back.Head_Y', 'R.Back.Head_Z', 'L.Back.Head_X', 'L.Back.Head_Y', 'L.Back.Head_Z', 'R.Shoulder_X', 'R.Shoulder_Y', 'R.Shoulder_Z', 'L.Shoulder_X', 'L.Shoulder_Y', 'L.Shoulder_Z', 'C7_X', 'C7_Y', 'C7_Z', 'T2_X', 'T2_Y', 'T2_Z', 'T7_X', 'T7_Y', 'T7_Z', 'L1_X', 'L1_Y', 'L1_Z', 'L3_X', 'L3_Y', 'L3_Z', 'L5_X', 'L5_Y', 'L5_Z', 'IJ_X', 'IJ_Y', 'IJ_Z', 'PX_X', 'PX_Y', 'PX_Z', 'R.ASIS_X', 'R.ASIS_Y', 'R.ASIS_Z', 'L.ASIS_X', 'L.ASIS_Y', 'L.ASIS_Z', 'R.PSIS_X', 'R.PSIS_Y', 'R.PSIS_Z', 'L.PSIS_X', 'L.PSIS_Y', 'L.PSIS_Z', 'L.Iliac.Crestv_X', 'L.Iliac.Crestv_Y', 'L.Iliac.Crestv_Z', 'R.Iliac.Crestv_X', 'R.Iliac.Crestv_Y', 'R.Iliac.Crestv_Z', 'R.GTR_X', 'R.GTR_Y', 'R.GTR_Z', 'L.GTR_X', 'L.GTR_Y', 'L.GTR_Z', 'R.Knee_X', 'R.Knee_Y', 'R.Knee_Z', 'R.Knee.Medialv_X', 'R.Knee.Medialv_Y', 'R.Knee.Medialv_Z', 'L.Knee_X', 'L.Knee_Y', 'L.Knee_Z', 'L.Knee.Medialv_X', 'L.Knee.Medialv_Y', 'L.Knee.Medialv_Z', 'R.HF_X', 'R.HF_Y', 'R.HF_Z', 'L.HF_X', 'L.HF_Y', 'L.HF_Z', 'R.TT_X', 'R.TT_Y', 'R.TT_Z', 'L.TT_X', 'L.TT_Y', 'L.TT_Z', 'R.Ankle_X', 'R.Ankle_Y', 'R.Ankle_Z', 'R.Ankle.Medialv_X', 'R.Ankle.Medialv_Y', 'R.Ankle.Medialv_Z', 'L.Ankle_X', 'L.Ankle_Y', 'L.Ankle_Z', 'L.Ankle.Medialv_X', 'L.Ankle.Medialv_Y', 'L.Ankle.Medialv_Z', 'R.Heel_X', 'R.Heel_Y', 'R.Heel_Z', 'L.Heel_X', 'L.Heel_Y', 'L.Heel_Z', 'R.MT1_X', 'R.MT1_Y', 'R.MT1_Z', 'R.MT2_X', 'R.MT2_Y', 'R.MT2_Z', 'R.MT5_X', 'R.MT5_Y', 'R.MT5_Z', 'L.MT1_X', 'L.MT1_Y', 'L.MT1_Z', 'L.MT2_X', 'L.MT2_Y', 'L.MT2_Z', 'L.MT5_X', 'L.MT5_Y', 'L.MT5_Z', 'COG_X', 'COG_Y', 'COG_Z']\n",
      "['Time', 'R.Front.Head_X', 'R.Front.Head_Y', 'R.Front.Head_Z', 'L.Front.Head_X', 'L.Front.Head_Y', 'L.Front.Head_Z', 'R.Back.Head_X', 'R.Back.Head_Y', 'R.Back.Head_Z', 'L.Back.Head_X', 'L.Back.Head_Y', 'L.Back.Head_Z', 'R.Shoulder_X', 'R.Shoulder_Y', 'R.Shoulder_Z', 'L.Shoulder_X', 'L.Shoulder_Y', 'L.Shoulder_Z', 'C7_X', 'C7_Y', 'C7_Z', 'T2_X', 'T2_Y', 'T2_Z', 'T7_X', 'T7_Y', 'T7_Z', 'L1_X', 'L1_Y', 'L1_Z', 'L3_X', 'L3_Y', 'L3_Z', 'L5_X', 'L5_Y', 'L5_Z', 'IJ_X', 'IJ_Y', 'IJ_Z', 'PX_X', 'PX_Y', 'PX_Z', 'R.ASIS_X', 'R.ASIS_Y', 'R.ASIS_Z', 'L.ASIS_X', 'L.ASIS_Y', 'L.ASIS_Z', 'R.PSIS_X', 'R.PSIS_Y', 'R.PSIS_Z', 'L.PSIS_X', 'L.PSIS_Y', 'L.PSIS_Z', 'L.Iliac.Crestv_X', 'L.Iliac.Crestv_Y', 'L.Iliac.Crestv_Z', 'R.Iliac.Crestv_X', 'R.Iliac.Crestv_Y', 'R.Iliac.Crestv_Z', 'R.GTR_X', 'R.GTR_Y', 'R.GTR_Z', 'L.GTR_X', 'L.GTR_Y', 'L.GTR_Z', 'R.Knee_X', 'R.Knee_Y', 'R.Knee_Z', 'R.Knee.Medialv_X', 'R.Knee.Medialv_Y', 'R.Knee.Medialv_Z', 'L.Knee_X', 'L.Knee_Y', 'L.Knee_Z', 'L.Knee.Medialv_X', 'L.Knee.Medialv_Y', 'L.Knee.Medialv_Z', 'R.HF_X', 'R.HF_Y', 'R.HF_Z', 'L.HF_X', 'L.HF_Y', 'L.HF_Z', 'R.TT_X', 'R.TT_Y', 'R.TT_Z', 'L.TT_X', 'L.TT_Y', 'L.TT_Z', 'R.Ankle_X', 'R.Ankle_Y', 'R.Ankle_Z', 'R.Ankle.Medialv_X', 'R.Ankle.Medialv_Y', 'R.Ankle.Medialv_Z', 'L.Ankle_X', 'L.Ankle_Y', 'L.Ankle_Z', 'L.Ankle.Medialv_X', 'L.Ankle.Medialv_Y', 'L.Ankle.Medialv_Z', 'R.Heel_X', 'R.Heel_Y', 'R.Heel_Z', 'L.Heel_X', 'L.Heel_Y', 'L.Heel_Z', 'R.MT1_X', 'R.MT1_Y', 'R.MT1_Z', 'R.MT2_X', 'R.MT2_Y', 'R.MT2_Z', 'R.MT5_X', 'R.MT5_Y', 'R.MT5_Z', 'L.MT1_X', 'L.MT1_Y', 'L.MT1_Z', 'L.MT2_X', 'L.MT2_Y', 'L.MT2_Z', 'L.MT5_X', 'L.MT5_Y', 'L.MT5_Z', 'COG_X', 'COG_Y', 'COG_Z']\n",
      "['Time', 'R.Front.Head_X', 'R.Front.Head_Y', 'R.Front.Head_Z', 'L.Front.Head_X', 'L.Front.Head_Y', 'L.Front.Head_Z', 'R.Back.Head_X', 'R.Back.Head_Y', 'R.Back.Head_Z', 'L.Back.Head_X', 'L.Back.Head_Y', 'L.Back.Head_Z', 'R.Shoulder_X', 'R.Shoulder_Y', 'R.Shoulder_Z', 'L.Shoulder_X', 'L.Shoulder_Y', 'L.Shoulder_Z', 'C7_X', 'C7_Y', 'C7_Z', 'T2_X', 'T2_Y', 'T2_Z', 'T7_X', 'T7_Y', 'T7_Z', 'L1_X', 'L1_Y', 'L1_Z', 'L3_X', 'L3_Y', 'L3_Z', 'L5_X', 'L5_Y', 'L5_Z', 'IJ_X', 'IJ_Y', 'IJ_Z', 'PX_X', 'PX_Y', 'PX_Z', 'R.ASIS_X', 'R.ASIS_Y', 'R.ASIS_Z', 'L.ASIS_X', 'L.ASIS_Y', 'L.ASIS_Z', 'R.PSIS_X', 'R.PSIS_Y', 'R.PSIS_Z', 'L.PSIS_X', 'L.PSIS_Y', 'L.PSIS_Z', 'L.Iliac.Crestv_X', 'L.Iliac.Crestv_Y', 'L.Iliac.Crestv_Z', 'R.Iliac.Crestv_X', 'R.Iliac.Crestv_Y', 'R.Iliac.Crestv_Z', 'R.GTR_X', 'R.GTR_Y', 'R.GTR_Z', 'L.GTR_X', 'L.GTR_Y', 'L.GTR_Z', 'R.Knee_X', 'R.Knee_Y', 'R.Knee_Z', 'R.Knee.Medialv_X', 'R.Knee.Medialv_Y', 'R.Knee.Medialv_Z', 'L.Knee_X', 'L.Knee_Y', 'L.Knee_Z', 'L.Knee.Medialv_X', 'L.Knee.Medialv_Y', 'L.Knee.Medialv_Z', 'R.HF_X', 'R.HF_Y', 'R.HF_Z', 'L.HF_X', 'L.HF_Y', 'L.HF_Z', 'R.TT_X', 'R.TT_Y', 'R.TT_Z', 'L.TT_X', 'L.TT_Y', 'L.TT_Z', 'R.Ankle_X', 'R.Ankle_Y', 'R.Ankle_Z', 'R.Ankle.Medialv_X', 'R.Ankle.Medialv_Y', 'R.Ankle.Medialv_Z', 'L.Ankle_X', 'L.Ankle_Y', 'L.Ankle_Z', 'L.Ankle.Medialv_X', 'L.Ankle.Medialv_Y', 'L.Ankle.Medialv_Z', 'R.Heel_X', 'R.Heel_Y', 'R.Heel_Z', 'L.Heel_X', 'L.Heel_Y', 'L.Heel_Z', 'R.MT1_X', 'R.MT1_Y', 'R.MT1_Z', 'R.MT2_X', 'R.MT2_Y', 'R.MT2_Z', 'R.MT5_X', 'R.MT5_Y', 'R.MT5_Z', 'L.MT1_X', 'L.MT1_Y', 'L.MT1_Z', 'L.MT2_X', 'L.MT2_Y', 'L.MT2_Z', 'L.MT5_X', 'L.MT5_Y', 'L.MT5_Z', 'COG_X', 'COG_Y', 'COG_Z']\n",
      "['Time', 'R.Front.Head_X', 'R.Front.Head_Y', 'R.Front.Head_Z', 'L.Front.Head_X', 'L.Front.Head_Y', 'L.Front.Head_Z', 'R.Back.Head_X', 'R.Back.Head_Y', 'R.Back.Head_Z', 'L.Back.Head_X', 'L.Back.Head_Y', 'L.Back.Head_Z', 'R.Shoulder_X', 'R.Shoulder_Y', 'R.Shoulder_Z', 'L.Shoulder_X', 'L.Shoulder_Y', 'L.Shoulder_Z', 'C7_X', 'C7_Y', 'C7_Z', 'T2_X', 'T2_Y', 'T2_Z', 'T7_X', 'T7_Y', 'T7_Z', 'L1_X', 'L1_Y', 'L1_Z', 'L3_X', 'L3_Y', 'L3_Z', 'L5_X', 'L5_Y', 'L5_Z', 'IJ_X', 'IJ_Y', 'IJ_Z', 'PX_X', 'PX_Y', 'PX_Z', 'R.ASIS_X', 'R.ASIS_Y', 'R.ASIS_Z', 'L.ASIS_X', 'L.ASIS_Y', 'L.ASIS_Z', 'R.PSIS_X', 'R.PSIS_Y', 'R.PSIS_Z', 'L.PSIS_X', 'L.PSIS_Y', 'L.PSIS_Z', 'L.Iliac.Crestv_X', 'L.Iliac.Crestv_Y', 'L.Iliac.Crestv_Z', 'R.Iliac.Crestv_X', 'R.Iliac.Crestv_Y', 'R.Iliac.Crestv_Z', 'R.GTR_X', 'R.GTR_Y', 'R.GTR_Z', 'L.GTR_X', 'L.GTR_Y', 'L.GTR_Z', 'R.Knee_X', 'R.Knee_Y', 'R.Knee_Z', 'R.Knee.Medialv_X', 'R.Knee.Medialv_Y', 'R.Knee.Medialv_Z', 'L.Knee_X', 'L.Knee_Y', 'L.Knee_Z', 'L.Knee.Medialv_X', 'L.Knee.Medialv_Y', 'L.Knee.Medialv_Z', 'R.HF_X', 'R.HF_Y', 'R.HF_Z', 'L.HF_X', 'L.HF_Y', 'L.HF_Z', 'R.TT_X', 'R.TT_Y', 'R.TT_Z', 'L.TT_X', 'L.TT_Y', 'L.TT_Z', 'R.Ankle_X', 'R.Ankle_Y', 'R.Ankle_Z', 'R.Ankle.Medialv_X', 'R.Ankle.Medialv_Y', 'R.Ankle.Medialv_Z', 'L.Ankle_X', 'L.Ankle_Y', 'L.Ankle_Z', 'L.Ankle.Medialv_X', 'L.Ankle.Medialv_Y', 'L.Ankle.Medialv_Z', 'R.Heel_X', 'R.Heel_Y', 'R.Heel_Z', 'L.Heel_X', 'L.Heel_Y', 'L.Heel_Z', 'R.MT1_X', 'R.MT1_Y', 'R.MT1_Z', 'R.MT2_X', 'R.MT2_Y', 'R.MT2_Z', 'R.MT5_X', 'R.MT5_Y', 'R.MT5_Z', 'L.MT1_X', 'L.MT1_Y', 'L.MT1_Z', 'L.MT2_X', 'L.MT2_Y', 'L.MT2_Z', 'L.MT5_X', 'L.MT5_Y', 'L.MT5_Z', 'COG_X', 'COG_Y', 'COG_Z']\n",
      "['Time', 'R.Front.Head_X', 'R.Front.Head_Y', 'R.Front.Head_Z', 'L.Front.Head_X', 'L.Front.Head_Y', 'L.Front.Head_Z', 'R.Back.Head_X', 'R.Back.Head_Y', 'R.Back.Head_Z', 'L.Back.Head_X', 'L.Back.Head_Y', 'L.Back.Head_Z', 'R.Shoulder_X', 'R.Shoulder_Y', 'R.Shoulder_Z', 'L.Shoulder_X', 'L.Shoulder_Y', 'L.Shoulder_Z', 'C7_X', 'C7_Y', 'C7_Z', 'T2_X', 'T2_Y', 'T2_Z', 'T7_X', 'T7_Y', 'T7_Z', 'L1_X', 'L1_Y', 'L1_Z', 'L3_X', 'L3_Y', 'L3_Z', 'L5_X', 'L5_Y', 'L5_Z', 'IJ_X', 'IJ_Y', 'IJ_Z', 'PX_X', 'PX_Y', 'PX_Z', 'R.ASIS_X', 'R.ASIS_Y', 'R.ASIS_Z', 'L.ASIS_X', 'L.ASIS_Y', 'L.ASIS_Z', 'R.PSIS_X', 'R.PSIS_Y', 'R.PSIS_Z', 'L.PSIS_X', 'L.PSIS_Y', 'L.PSIS_Z', 'L.Iliac.Crestv_X', 'L.Iliac.Crestv_Y', 'L.Iliac.Crestv_Z', 'R.Iliac.Crestv_X', 'R.Iliac.Crestv_Y', 'R.Iliac.Crestv_Z', 'R.GTR_X', 'R.GTR_Y', 'R.GTR_Z', 'L.GTR_X', 'L.GTR_Y', 'L.GTR_Z', 'R.Knee_X', 'R.Knee_Y', 'R.Knee_Z', 'R.Knee.Medialv_X', 'R.Knee.Medialv_Y', 'R.Knee.Medialv_Z', 'L.Knee_X', 'L.Knee_Y', 'L.Knee_Z', 'L.Knee.Medialv_X', 'L.Knee.Medialv_Y', 'L.Knee.Medialv_Z', 'R.HF_X', 'R.HF_Y', 'R.HF_Z', 'L.HF_X', 'L.HF_Y', 'L.HF_Z', 'R.TT_X', 'R.TT_Y', 'R.TT_Z', 'L.TT_X', 'L.TT_Y', 'L.TT_Z', 'R.Ankle_X', 'R.Ankle_Y', 'R.Ankle_Z', 'R.Ankle.Medialv_X', 'R.Ankle.Medialv_Y', 'R.Ankle.Medialv_Z', 'L.Ankle_X', 'L.Ankle_Y', 'L.Ankle_Z', 'L.Ankle.Medialv_X', 'L.Ankle.Medialv_Y', 'L.Ankle.Medialv_Z', 'R.Heel_X', 'R.Heel_Y', 'R.Heel_Z', 'L.Heel_X', 'L.Heel_Y', 'L.Heel_Z', 'R.MT1_X', 'R.MT1_Y', 'R.MT1_Z', 'R.MT2_X', 'R.MT2_Y', 'R.MT2_Z', 'R.MT5_X', 'R.MT5_Y', 'R.MT5_Z', 'L.MT1_X', 'L.MT1_Y', 'L.MT1_Z', 'L.MT2_X', 'L.MT2_Y', 'L.MT2_Z', 'L.MT5_X', 'L.MT5_Y', 'L.MT5_Z', 'COG_X', 'COG_Y', 'COG_Z']\n",
      "['Time', 'R.Front.Head_X', 'R.Front.Head_Y', 'R.Front.Head_Z', 'L.Front.Head_X', 'L.Front.Head_Y', 'L.Front.Head_Z', 'R.Back.Head_X', 'R.Back.Head_Y', 'R.Back.Head_Z', 'L.Back.Head_X', 'L.Back.Head_Y', 'L.Back.Head_Z', 'R.Shoulder_X', 'R.Shoulder_Y', 'R.Shoulder_Z', 'L.Shoulder_X', 'L.Shoulder_Y', 'L.Shoulder_Z', 'C7_X', 'C7_Y', 'C7_Z', 'T2_X', 'T2_Y', 'T2_Z', 'T7_X', 'T7_Y', 'T7_Z', 'L1_X', 'L1_Y', 'L1_Z', 'L3_X', 'L3_Y', 'L3_Z', 'L5_X', 'L5_Y', 'L5_Z', 'IJ_X', 'IJ_Y', 'IJ_Z', 'PX_X', 'PX_Y', 'PX_Z', 'R.ASIS_X', 'R.ASIS_Y', 'R.ASIS_Z', 'L.ASIS_X', 'L.ASIS_Y', 'L.ASIS_Z', 'R.PSIS_X', 'R.PSIS_Y', 'R.PSIS_Z', 'L.PSIS_X', 'L.PSIS_Y', 'L.PSIS_Z', 'L.Iliac.Crestv_X', 'L.Iliac.Crestv_Y', 'L.Iliac.Crestv_Z', 'R.Iliac.Crestv_X', 'R.Iliac.Crestv_Y', 'R.Iliac.Crestv_Z', 'R.GTR_X', 'R.GTR_Y', 'R.GTR_Z', 'L.GTR_X', 'L.GTR_Y', 'L.GTR_Z', 'R.Knee_X', 'R.Knee_Y', 'R.Knee_Z', 'R.Knee.Medialv_X', 'R.Knee.Medialv_Y', 'R.Knee.Medialv_Z', 'L.Knee_X', 'L.Knee_Y', 'L.Knee_Z', 'L.Knee.Medialv_X', 'L.Knee.Medialv_Y', 'L.Knee.Medialv_Z', 'R.HF_X', 'R.HF_Y', 'R.HF_Z', 'L.HF_X', 'L.HF_Y', 'L.HF_Z', 'R.TT_X', 'R.TT_Y', 'R.TT_Z', 'L.TT_X', 'L.TT_Y', 'L.TT_Z', 'R.Ankle_X', 'R.Ankle_Y', 'R.Ankle_Z', 'R.Ankle.Medialv_X', 'R.Ankle.Medialv_Y', 'R.Ankle.Medialv_Z', 'L.Ankle_X', 'L.Ankle_Y', 'L.Ankle_Z', 'L.Ankle.Medialv_X', 'L.Ankle.Medialv_Y', 'L.Ankle.Medialv_Z', 'R.Heel_X', 'R.Heel_Y', 'R.Heel_Z', 'L.Heel_X', 'L.Heel_Y', 'L.Heel_Z', 'R.MT1_X', 'R.MT1_Y', 'R.MT1_Z', 'R.MT2_X', 'R.MT2_Y', 'R.MT2_Z', 'R.MT5_X', 'R.MT5_Y', 'R.MT5_Z', 'L.MT1_X', 'L.MT1_Y', 'L.MT1_Z', 'L.MT2_X', 'L.MT2_Y', 'L.MT2_Z', 'L.MT5_X', 'L.MT5_Y', 'L.MT5_Z', 'COG_X', 'COG_Y', 'COG_Z']\n",
      "['Time', 'R.Front.Head_X', 'R.Front.Head_Y', 'R.Front.Head_Z', 'L.Front.Head_X', 'L.Front.Head_Y', 'L.Front.Head_Z', 'R.Back.Head_X', 'R.Back.Head_Y', 'R.Back.Head_Z', 'L.Back.Head_X', 'L.Back.Head_Y', 'L.Back.Head_Z', 'R.Shoulder_X', 'R.Shoulder_Y', 'R.Shoulder_Z', 'L.Shoulder_X', 'L.Shoulder_Y', 'L.Shoulder_Z', 'C7_X', 'C7_Y', 'C7_Z', 'T2_X', 'T2_Y', 'T2_Z', 'T7_X', 'T7_Y', 'T7_Z', 'L1_X', 'L1_Y', 'L1_Z', 'L3_X', 'L3_Y', 'L3_Z', 'L5_X', 'L5_Y', 'L5_Z', 'IJ_X', 'IJ_Y', 'IJ_Z', 'PX_X', 'PX_Y', 'PX_Z', 'R.ASIS_X', 'R.ASIS_Y', 'R.ASIS_Z', 'L.ASIS_X', 'L.ASIS_Y', 'L.ASIS_Z', 'R.PSIS_X', 'R.PSIS_Y', 'R.PSIS_Z', 'L.PSIS_X', 'L.PSIS_Y', 'L.PSIS_Z', 'L.Iliac.Crestv_X', 'L.Iliac.Crestv_Y', 'L.Iliac.Crestv_Z', 'R.Iliac.Crestv_X', 'R.Iliac.Crestv_Y', 'R.Iliac.Crestv_Z', 'R.GTR_X', 'R.GTR_Y', 'R.GTR_Z', 'L.GTR_X', 'L.GTR_Y', 'L.GTR_Z', 'R.Knee_X', 'R.Knee_Y', 'R.Knee_Z', 'R.Knee.Medialv_X', 'R.Knee.Medialv_Y', 'R.Knee.Medialv_Z', 'L.Knee_X', 'L.Knee_Y', 'L.Knee_Z', 'L.Knee.Medialv_X', 'L.Knee.Medialv_Y', 'L.Knee.Medialv_Z', 'R.HF_X', 'R.HF_Y', 'R.HF_Z', 'L.HF_X', 'L.HF_Y', 'L.HF_Z', 'R.TT_X', 'R.TT_Y', 'R.TT_Z', 'L.TT_X', 'L.TT_Y', 'L.TT_Z', 'R.Ankle_X', 'R.Ankle_Y', 'R.Ankle_Z', 'R.Ankle.Medialv_X', 'R.Ankle.Medialv_Y', 'R.Ankle.Medialv_Z', 'L.Ankle_X', 'L.Ankle_Y', 'L.Ankle_Z', 'L.Ankle.Medialv_X', 'L.Ankle.Medialv_Y', 'L.Ankle.Medialv_Z', 'R.Heel_X', 'R.Heel_Y', 'R.Heel_Z', 'L.Heel_X', 'L.Heel_Y', 'L.Heel_Z', 'R.MT1_X', 'R.MT1_Y', 'R.MT1_Z', 'R.MT2_X', 'R.MT2_Y', 'R.MT2_Z', 'R.MT5_X', 'R.MT5_Y', 'R.MT5_Z', 'L.MT1_X', 'L.MT1_Y', 'L.MT1_Z', 'L.MT2_X', 'L.MT2_Y', 'L.MT2_Z', 'L.MT5_X', 'L.MT5_Y', 'L.MT5_Z', 'COG_X', 'COG_Y', 'COG_Z']\n",
      "['Time', 'R.Front.Head_X', 'R.Front.Head_Y', 'R.Front.Head_Z', 'L.Front.Head_X', 'L.Front.Head_Y', 'L.Front.Head_Z', 'R.Back.Head_X', 'R.Back.Head_Y', 'R.Back.Head_Z', 'L.Back.Head_X', 'L.Back.Head_Y', 'L.Back.Head_Z', 'R.Shoulder_X', 'R.Shoulder_Y', 'R.Shoulder_Z', 'L.Shoulder_X', 'L.Shoulder_Y', 'L.Shoulder_Z', 'C7_X', 'C7_Y', 'C7_Z', 'T2_X', 'T2_Y', 'T2_Z', 'T7_X', 'T7_Y', 'T7_Z', 'L1_X', 'L1_Y', 'L1_Z', 'L3_X', 'L3_Y', 'L3_Z', 'L5_X', 'L5_Y', 'L5_Z', 'IJ_X', 'IJ_Y', 'IJ_Z', 'PX_X', 'PX_Y', 'PX_Z', 'R.ASIS_X', 'R.ASIS_Y', 'R.ASIS_Z', 'L.ASIS_X', 'L.ASIS_Y', 'L.ASIS_Z', 'R.PSIS_X', 'R.PSIS_Y', 'R.PSIS_Z', 'L.PSIS_X', 'L.PSIS_Y', 'L.PSIS_Z', 'L.Iliac.Crestv_X', 'L.Iliac.Crestv_Y', 'L.Iliac.Crestv_Z', 'R.Iliac.Crestv_X', 'R.Iliac.Crestv_Y', 'R.Iliac.Crestv_Z', 'R.GTR_X', 'R.GTR_Y', 'R.GTR_Z', 'L.GTR_X', 'L.GTR_Y', 'L.GTR_Z', 'R.Knee_X', 'R.Knee_Y', 'R.Knee_Z', 'R.Knee.Medialv_X', 'R.Knee.Medialv_Y', 'R.Knee.Medialv_Z', 'L.Knee_X', 'L.Knee_Y', 'L.Knee_Z', 'L.Knee.Medialv_X', 'L.Knee.Medialv_Y', 'L.Knee.Medialv_Z', 'R.HF_X', 'R.HF_Y', 'R.HF_Z', 'L.HF_X', 'L.HF_Y', 'L.HF_Z', 'R.TT_X', 'R.TT_Y', 'R.TT_Z', 'L.TT_X', 'L.TT_Y', 'L.TT_Z', 'R.Ankle_X', 'R.Ankle_Y', 'R.Ankle_Z', 'R.Ankle.Medialv_X', 'R.Ankle.Medialv_Y', 'R.Ankle.Medialv_Z', 'L.Ankle_X', 'L.Ankle_Y', 'L.Ankle_Z', 'L.Ankle.Medialv_X', 'L.Ankle.Medialv_Y', 'L.Ankle.Medialv_Z', 'R.Heel_X', 'R.Heel_Y', 'R.Heel_Z', 'L.Heel_X', 'L.Heel_Y', 'L.Heel_Z', 'R.MT1_X', 'R.MT1_Y', 'R.MT1_Z', 'R.MT2_X', 'R.MT2_Y', 'R.MT2_Z', 'R.MT5_X', 'R.MT5_Y', 'R.MT5_Z', 'L.MT1_X', 'L.MT1_Y', 'L.MT1_Z', 'L.MT2_X', 'L.MT2_Y', 'L.MT2_Z', 'L.MT5_X', 'L.MT5_Y', 'L.MT5_Z', 'COG_X', 'COG_Y', 'COG_Z']\n",
      "['Time', 'R.Front.Head_X', 'R.Front.Head_Y', 'R.Front.Head_Z', 'L.Front.Head_X', 'L.Front.Head_Y', 'L.Front.Head_Z', 'R.Back.Head_X', 'R.Back.Head_Y', 'R.Back.Head_Z', 'L.Back.Head_X', 'L.Back.Head_Y', 'L.Back.Head_Z', 'R.Shoulder_X', 'R.Shoulder_Y', 'R.Shoulder_Z', 'L.Shoulder_X', 'L.Shoulder_Y', 'L.Shoulder_Z', 'C7_X', 'C7_Y', 'C7_Z', 'T2_X', 'T2_Y', 'T2_Z', 'T7_X', 'T7_Y', 'T7_Z', 'L1_X', 'L1_Y', 'L1_Z', 'L3_X', 'L3_Y', 'L3_Z', 'L5_X', 'L5_Y', 'L5_Z', 'IJ_X', 'IJ_Y', 'IJ_Z', 'PX_X', 'PX_Y', 'PX_Z', 'R.ASIS_X', 'R.ASIS_Y', 'R.ASIS_Z', 'L.ASIS_X', 'L.ASIS_Y', 'L.ASIS_Z', 'R.PSIS_X', 'R.PSIS_Y', 'R.PSIS_Z', 'L.PSIS_X', 'L.PSIS_Y', 'L.PSIS_Z', 'L.Iliac.Crestv_X', 'L.Iliac.Crestv_Y', 'L.Iliac.Crestv_Z', 'R.Iliac.Crestv_X', 'R.Iliac.Crestv_Y', 'R.Iliac.Crestv_Z', 'R.GTR_X', 'R.GTR_Y', 'R.GTR_Z', 'L.GTR_X', 'L.GTR_Y', 'L.GTR_Z', 'R.Knee_X', 'R.Knee_Y', 'R.Knee_Z', 'R.Knee.Medialv_X', 'R.Knee.Medialv_Y', 'R.Knee.Medialv_Z', 'L.Knee_X', 'L.Knee_Y', 'L.Knee_Z', 'L.Knee.Medialv_X', 'L.Knee.Medialv_Y', 'L.Knee.Medialv_Z', 'R.HF_X', 'R.HF_Y', 'R.HF_Z', 'L.HF_X', 'L.HF_Y', 'L.HF_Z', 'R.TT_X', 'R.TT_Y', 'R.TT_Z', 'L.TT_X', 'L.TT_Y', 'L.TT_Z', 'R.Ankle_X', 'R.Ankle_Y', 'R.Ankle_Z', 'R.Ankle.Medialv_X', 'R.Ankle.Medialv_Y', 'R.Ankle.Medialv_Z', 'L.Ankle_X', 'L.Ankle_Y', 'L.Ankle_Z', 'L.Ankle.Medialv_X', 'L.Ankle.Medialv_Y', 'L.Ankle.Medialv_Z', 'R.Heel_X', 'R.Heel_Y', 'R.Heel_Z', 'L.Heel_X', 'L.Heel_Y', 'L.Heel_Z', 'R.MT1_X', 'R.MT1_Y', 'R.MT1_Z', 'R.MT2_X', 'R.MT2_Y', 'R.MT2_Z', 'R.MT5_X', 'R.MT5_Y', 'R.MT5_Z', 'L.MT1_X', 'L.MT1_Y', 'L.MT1_Z', 'L.MT2_X', 'L.MT2_Y', 'L.MT2_Z', 'L.MT5_X', 'L.MT5_Y', 'L.MT5_Z', 'COG_X', 'COG_Y', 'COG_Z']\n",
      "['Time', 'R.Front.Head_X', 'R.Front.Head_Y', 'R.Front.Head_Z', 'L.Front.Head_X', 'L.Front.Head_Y', 'L.Front.Head_Z', 'R.Back.Head_X', 'R.Back.Head_Y', 'R.Back.Head_Z', 'L.Back.Head_X', 'L.Back.Head_Y', 'L.Back.Head_Z', 'R.Shoulder_X', 'R.Shoulder_Y', 'R.Shoulder_Z', 'L.Shoulder_X', 'L.Shoulder_Y', 'L.Shoulder_Z', 'C7_X', 'C7_Y', 'C7_Z', 'T2_X', 'T2_Y', 'T2_Z', 'T7_X', 'T7_Y', 'T7_Z', 'L1_X', 'L1_Y', 'L1_Z', 'L3_X', 'L3_Y', 'L3_Z', 'L5_X', 'L5_Y', 'L5_Z', 'IJ_X', 'IJ_Y', 'IJ_Z', 'PX_X', 'PX_Y', 'PX_Z', 'R.ASIS_X', 'R.ASIS_Y', 'R.ASIS_Z', 'L.ASIS_X', 'L.ASIS_Y', 'L.ASIS_Z', 'R.PSIS_X', 'R.PSIS_Y', 'R.PSIS_Z', 'L.PSIS_X', 'L.PSIS_Y', 'L.PSIS_Z', 'L.Iliac.Crestv_X', 'L.Iliac.Crestv_Y', 'L.Iliac.Crestv_Z', 'R.Iliac.Crestv_X', 'R.Iliac.Crestv_Y', 'R.Iliac.Crestv_Z', 'R.GTR_X', 'R.GTR_Y', 'R.GTR_Z', 'L.GTR_X', 'L.GTR_Y', 'L.GTR_Z', 'R.Knee_X', 'R.Knee_Y', 'R.Knee_Z', 'R.Knee.Medialv_X', 'R.Knee.Medialv_Y', 'R.Knee.Medialv_Z', 'L.Knee_X', 'L.Knee_Y', 'L.Knee_Z', 'L.Knee.Medialv_X', 'L.Knee.Medialv_Y', 'L.Knee.Medialv_Z', 'R.HF_X', 'R.HF_Y', 'R.HF_Z', 'L.HF_X', 'L.HF_Y', 'L.HF_Z', 'R.TT_X', 'R.TT_Y', 'R.TT_Z', 'L.TT_X', 'L.TT_Y', 'L.TT_Z', 'R.Ankle_X', 'R.Ankle_Y', 'R.Ankle_Z', 'R.Ankle.Medialv_X', 'R.Ankle.Medialv_Y', 'R.Ankle.Medialv_Z', 'L.Ankle_X', 'L.Ankle_Y', 'L.Ankle_Z', 'L.Ankle.Medialv_X', 'L.Ankle.Medialv_Y', 'L.Ankle.Medialv_Z', 'R.Heel_X', 'R.Heel_Y', 'R.Heel_Z', 'L.Heel_X', 'L.Heel_Y', 'L.Heel_Z', 'R.MT1_X', 'R.MT1_Y', 'R.MT1_Z', 'R.MT2_X', 'R.MT2_Y', 'R.MT2_Z', 'R.MT5_X', 'R.MT5_Y', 'R.MT5_Z', 'L.MT1_X', 'L.MT1_Y', 'L.MT1_Z', 'L.MT2_X', 'L.MT2_Y', 'L.MT2_Z', 'L.MT5_X', 'L.MT5_Y', 'L.MT5_Z', 'COG_X', 'COG_Y', 'COG_Z']\n",
      "['Time', 'R.Front.Head_X', 'R.Front.Head_Y', 'R.Front.Head_Z', 'L.Front.Head_X', 'L.Front.Head_Y', 'L.Front.Head_Z', 'R.Back.Head_X', 'R.Back.Head_Y', 'R.Back.Head_Z', 'L.Back.Head_X', 'L.Back.Head_Y', 'L.Back.Head_Z', 'R.Shoulder_X', 'R.Shoulder_Y', 'R.Shoulder_Z', 'L.Shoulder_X', 'L.Shoulder_Y', 'L.Shoulder_Z', 'C7_X', 'C7_Y', 'C7_Z', 'T2_X', 'T2_Y', 'T2_Z', 'T7_X', 'T7_Y', 'T7_Z', 'L1_X', 'L1_Y', 'L1_Z', 'L3_X', 'L3_Y', 'L3_Z', 'L5_X', 'L5_Y', 'L5_Z', 'IJ_X', 'IJ_Y', 'IJ_Z', 'PX_X', 'PX_Y', 'PX_Z', 'R.ASIS_X', 'R.ASIS_Y', 'R.ASIS_Z', 'L.ASIS_X', 'L.ASIS_Y', 'L.ASIS_Z', 'R.PSIS_X', 'R.PSIS_Y', 'R.PSIS_Z', 'L.PSIS_X', 'L.PSIS_Y', 'L.PSIS_Z', 'L.Iliac.Crestv_X', 'L.Iliac.Crestv_Y', 'L.Iliac.Crestv_Z', 'R.Iliac.Crestv_X', 'R.Iliac.Crestv_Y', 'R.Iliac.Crestv_Z', 'R.GTR_X', 'R.GTR_Y', 'R.GTR_Z', 'L.GTR_X', 'L.GTR_Y', 'L.GTR_Z', 'R.Knee_X', 'R.Knee_Y', 'R.Knee_Z', 'R.Knee.Medialv_X', 'R.Knee.Medialv_Y', 'R.Knee.Medialv_Z', 'L.Knee_X', 'L.Knee_Y', 'L.Knee_Z', 'L.Knee.Medialv_X', 'L.Knee.Medialv_Y', 'L.Knee.Medialv_Z', 'R.HF_X', 'R.HF_Y', 'R.HF_Z', 'L.HF_X', 'L.HF_Y', 'L.HF_Z', 'R.TT_X', 'R.TT_Y', 'R.TT_Z', 'L.TT_X', 'L.TT_Y', 'L.TT_Z', 'R.Ankle_X', 'R.Ankle_Y', 'R.Ankle_Z', 'R.Ankle.Medialv_X', 'R.Ankle.Medialv_Y', 'R.Ankle.Medialv_Z', 'L.Ankle_X', 'L.Ankle_Y', 'L.Ankle_Z', 'L.Ankle.Medialv_X', 'L.Ankle.Medialv_Y', 'L.Ankle.Medialv_Z', 'R.Heel_X', 'R.Heel_Y', 'R.Heel_Z', 'L.Heel_X', 'L.Heel_Y', 'L.Heel_Z', 'R.MT1_X', 'R.MT1_Y', 'R.MT1_Z', 'R.MT2_X', 'R.MT2_Y', 'R.MT2_Z', 'R.MT5_X', 'R.MT5_Y', 'R.MT5_Z', 'L.MT1_X', 'L.MT1_Y', 'L.MT1_Z', 'L.MT2_X', 'L.MT2_Y', 'L.MT2_Z', 'L.MT5_X', 'L.MT5_Y', 'L.MT5_Z', 'COG_X', 'COG_Y', 'COG_Z']\n",
      "['Time', 'R.Front.Head_X', 'R.Front.Head_Y', 'R.Front.Head_Z', 'L.Front.Head_X', 'L.Front.Head_Y', 'L.Front.Head_Z', 'R.Back.Head_X', 'R.Back.Head_Y', 'R.Back.Head_Z', 'L.Back.Head_X', 'L.Back.Head_Y', 'L.Back.Head_Z', 'R.Shoulder_X', 'R.Shoulder_Y', 'R.Shoulder_Z', 'L.Shoulder_X', 'L.Shoulder_Y', 'L.Shoulder_Z', 'C7_X', 'C7_Y', 'C7_Z', 'T2_X', 'T2_Y', 'T2_Z', 'T7_X', 'T7_Y', 'T7_Z', 'L1_X', 'L1_Y', 'L1_Z', 'L3_X', 'L3_Y', 'L3_Z', 'L5_X', 'L5_Y', 'L5_Z', 'IJ_X', 'IJ_Y', 'IJ_Z', 'PX_X', 'PX_Y', 'PX_Z', 'R.ASIS_X', 'R.ASIS_Y', 'R.ASIS_Z', 'L.ASIS_X', 'L.ASIS_Y', 'L.ASIS_Z', 'R.PSIS_X', 'R.PSIS_Y', 'R.PSIS_Z', 'L.PSIS_X', 'L.PSIS_Y', 'L.PSIS_Z', 'L.Iliac.Crestv_X', 'L.Iliac.Crestv_Y', 'L.Iliac.Crestv_Z', 'R.Iliac.Crestv_X', 'R.Iliac.Crestv_Y', 'R.Iliac.Crestv_Z', 'R.GTR_X', 'R.GTR_Y', 'R.GTR_Z', 'L.GTR_X', 'L.GTR_Y', 'L.GTR_Z', 'R.Knee_X', 'R.Knee_Y', 'R.Knee_Z', 'R.Knee.Medialv_X', 'R.Knee.Medialv_Y', 'R.Knee.Medialv_Z', 'L.Knee_X', 'L.Knee_Y', 'L.Knee_Z', 'L.Knee.Medialv_X', 'L.Knee.Medialv_Y', 'L.Knee.Medialv_Z', 'R.HF_X', 'R.HF_Y', 'R.HF_Z', 'L.HF_X', 'L.HF_Y', 'L.HF_Z', 'R.TT_X', 'R.TT_Y', 'R.TT_Z', 'L.TT_X', 'L.TT_Y', 'L.TT_Z', 'R.Ankle_X', 'R.Ankle_Y', 'R.Ankle_Z', 'R.Ankle.Medialv_X', 'R.Ankle.Medialv_Y', 'R.Ankle.Medialv_Z', 'L.Ankle_X', 'L.Ankle_Y', 'L.Ankle_Z', 'L.Ankle.Medialv_X', 'L.Ankle.Medialv_Y', 'L.Ankle.Medialv_Z', 'R.Heel_X', 'R.Heel_Y', 'R.Heel_Z', 'L.Heel_X', 'L.Heel_Y', 'L.Heel_Z', 'R.MT1_X', 'R.MT1_Y', 'R.MT1_Z', 'R.MT2_X', 'R.MT2_Y', 'R.MT2_Z', 'R.MT5_X', 'R.MT5_Y', 'R.MT5_Z', 'L.MT1_X', 'L.MT1_Y', 'L.MT1_Z', 'L.MT2_X', 'L.MT2_Y', 'L.MT2_Z', 'L.MT5_X', 'L.MT5_Y', 'L.MT5_Z', 'COG_X', 'COG_Y', 'COG_Z']\n",
      "['Time', 'R.Front.Head_X', 'R.Front.Head_Y', 'R.Front.Head_Z', 'L.Front.Head_X', 'L.Front.Head_Y', 'L.Front.Head_Z', 'R.Back.Head_X', 'R.Back.Head_Y', 'R.Back.Head_Z', 'L.Back.Head_X', 'L.Back.Head_Y', 'L.Back.Head_Z', 'R.Shoulder_X', 'R.Shoulder_Y', 'R.Shoulder_Z', 'L.Shoulder_X', 'L.Shoulder_Y', 'L.Shoulder_Z', 'C7_X', 'C7_Y', 'C7_Z', 'T2_X', 'T2_Y', 'T2_Z', 'T7_X', 'T7_Y', 'T7_Z', 'L1_X', 'L1_Y', 'L1_Z', 'L3_X', 'L3_Y', 'L3_Z', 'L5_X', 'L5_Y', 'L5_Z', 'IJ_X', 'IJ_Y', 'IJ_Z', 'PX_X', 'PX_Y', 'PX_Z', 'R.ASIS_X', 'R.ASIS_Y', 'R.ASIS_Z', 'L.ASIS_X', 'L.ASIS_Y', 'L.ASIS_Z', 'R.PSIS_X', 'R.PSIS_Y', 'R.PSIS_Z', 'L.PSIS_X', 'L.PSIS_Y', 'L.PSIS_Z', 'L.Iliac.Crestv_X', 'L.Iliac.Crestv_Y', 'L.Iliac.Crestv_Z', 'R.Iliac.Crestv_X', 'R.Iliac.Crestv_Y', 'R.Iliac.Crestv_Z', 'R.GTR_X', 'R.GTR_Y', 'R.GTR_Z', 'L.GTR_X', 'L.GTR_Y', 'L.GTR_Z', 'R.Knee_X', 'R.Knee_Y', 'R.Knee_Z', 'R.Knee.Medialv_X', 'R.Knee.Medialv_Y', 'R.Knee.Medialv_Z', 'L.Knee_X', 'L.Knee_Y', 'L.Knee_Z', 'L.Knee.Medialv_X', 'L.Knee.Medialv_Y', 'L.Knee.Medialv_Z', 'R.HF_X', 'R.HF_Y', 'R.HF_Z', 'L.HF_X', 'L.HF_Y', 'L.HF_Z', 'R.TT_X', 'R.TT_Y', 'R.TT_Z', 'L.TT_X', 'L.TT_Y', 'L.TT_Z', 'R.Ankle_X', 'R.Ankle_Y', 'R.Ankle_Z', 'R.Ankle.Medialv_X', 'R.Ankle.Medialv_Y', 'R.Ankle.Medialv_Z', 'L.Ankle_X', 'L.Ankle_Y', 'L.Ankle_Z', 'L.Ankle.Medialv_X', 'L.Ankle.Medialv_Y', 'L.Ankle.Medialv_Z', 'R.Heel_X', 'R.Heel_Y', 'R.Heel_Z', 'L.Heel_X', 'L.Heel_Y', 'L.Heel_Z', 'R.MT1_X', 'R.MT1_Y', 'R.MT1_Z', 'R.MT2_X', 'R.MT2_Y', 'R.MT2_Z', 'R.MT5_X', 'R.MT5_Y', 'R.MT5_Z', 'L.MT1_X', 'L.MT1_Y', 'L.MT1_Z', 'L.MT2_X', 'L.MT2_Y', 'L.MT2_Z', 'L.MT5_X', 'L.MT5_Y', 'L.MT5_Z', 'COG_X', 'COG_Y', 'COG_Z']\n",
      "['Time', 'R.Front.Head_X', 'R.Front.Head_Y', 'R.Front.Head_Z', 'L.Front.Head_X', 'L.Front.Head_Y', 'L.Front.Head_Z', 'R.Back.Head_X', 'R.Back.Head_Y', 'R.Back.Head_Z', 'L.Back.Head_X', 'L.Back.Head_Y', 'L.Back.Head_Z', 'R.Shoulder_X', 'R.Shoulder_Y', 'R.Shoulder_Z', 'L.Shoulder_X', 'L.Shoulder_Y', 'L.Shoulder_Z', 'C7_X', 'C7_Y', 'C7_Z', 'T2_X', 'T2_Y', 'T2_Z', 'T7_X', 'T7_Y', 'T7_Z', 'L1_X', 'L1_Y', 'L1_Z', 'L3_X', 'L3_Y', 'L3_Z', 'L5_X', 'L5_Y', 'L5_Z', 'IJ_X', 'IJ_Y', 'IJ_Z', 'PX_X', 'PX_Y', 'PX_Z', 'R.ASIS_X', 'R.ASIS_Y', 'R.ASIS_Z', 'L.ASIS_X', 'L.ASIS_Y', 'L.ASIS_Z', 'R.PSIS_X', 'R.PSIS_Y', 'R.PSIS_Z', 'L.PSIS_X', 'L.PSIS_Y', 'L.PSIS_Z', 'L.Iliac.Crestv_X', 'L.Iliac.Crestv_Y', 'L.Iliac.Crestv_Z', 'R.Iliac.Crestv_X', 'R.Iliac.Crestv_Y', 'R.Iliac.Crestv_Z', 'R.GTR_X', 'R.GTR_Y', 'R.GTR_Z', 'L.GTR_X', 'L.GTR_Y', 'L.GTR_Z', 'R.Knee_X', 'R.Knee_Y', 'R.Knee_Z', 'R.Knee.Medialv_X', 'R.Knee.Medialv_Y', 'R.Knee.Medialv_Z', 'L.Knee_X', 'L.Knee_Y', 'L.Knee_Z', 'L.Knee.Medialv_X', 'L.Knee.Medialv_Y', 'L.Knee.Medialv_Z', 'R.HF_X', 'R.HF_Y', 'R.HF_Z', 'L.HF_X', 'L.HF_Y', 'L.HF_Z', 'R.TT_X', 'R.TT_Y', 'R.TT_Z', 'L.TT_X', 'L.TT_Y', 'L.TT_Z', 'R.Ankle_X', 'R.Ankle_Y', 'R.Ankle_Z', 'R.Ankle.Medialv_X', 'R.Ankle.Medialv_Y', 'R.Ankle.Medialv_Z', 'L.Ankle_X', 'L.Ankle_Y', 'L.Ankle_Z', 'L.Ankle.Medialv_X', 'L.Ankle.Medialv_Y', 'L.Ankle.Medialv_Z', 'R.Heel_X', 'R.Heel_Y', 'R.Heel_Z', 'L.Heel_X', 'L.Heel_Y', 'L.Heel_Z', 'R.MT1_X', 'R.MT1_Y', 'R.MT1_Z', 'R.MT2_X', 'R.MT2_Y', 'R.MT2_Z', 'R.MT5_X', 'R.MT5_Y', 'R.MT5_Z', 'L.MT1_X', 'L.MT1_Y', 'L.MT1_Z', 'L.MT2_X', 'L.MT2_Y', 'L.MT2_Z', 'L.MT5_X', 'L.MT5_Y', 'L.MT5_Z', 'COG_X', 'COG_Y', 'COG_Z']\n",
      "['Time', 'R.Front.Head_X', 'R.Front.Head_Y', 'R.Front.Head_Z', 'L.Front.Head_X', 'L.Front.Head_Y', 'L.Front.Head_Z', 'R.Back.Head_X', 'R.Back.Head_Y', 'R.Back.Head_Z', 'L.Back.Head_X', 'L.Back.Head_Y', 'L.Back.Head_Z', 'R.Shoulder_X', 'R.Shoulder_Y', 'R.Shoulder_Z', 'L.Shoulder_X', 'L.Shoulder_Y', 'L.Shoulder_Z', 'C7_X', 'C7_Y', 'C7_Z', 'T2_X', 'T2_Y', 'T2_Z', 'T7_X', 'T7_Y', 'T7_Z', 'L1_X', 'L1_Y', 'L1_Z', 'L3_X', 'L3_Y', 'L3_Z', 'L5_X', 'L5_Y', 'L5_Z', 'IJ_X', 'IJ_Y', 'IJ_Z', 'PX_X', 'PX_Y', 'PX_Z', 'R.ASIS_X', 'R.ASIS_Y', 'R.ASIS_Z', 'L.ASIS_X', 'L.ASIS_Y', 'L.ASIS_Z', 'R.PSIS_X', 'R.PSIS_Y', 'R.PSIS_Z', 'L.PSIS_X', 'L.PSIS_Y', 'L.PSIS_Z', 'L.Iliac.Crestv_X', 'L.Iliac.Crestv_Y', 'L.Iliac.Crestv_Z', 'R.Iliac.Crestv_X', 'R.Iliac.Crestv_Y', 'R.Iliac.Crestv_Z', 'R.GTR_X', 'R.GTR_Y', 'R.GTR_Z', 'L.GTR_X', 'L.GTR_Y', 'L.GTR_Z', 'R.Knee_X', 'R.Knee_Y', 'R.Knee_Z', 'R.Knee.Medialv_X', 'R.Knee.Medialv_Y', 'R.Knee.Medialv_Z', 'L.Knee_X', 'L.Knee_Y', 'L.Knee_Z', 'L.Knee.Medialv_X', 'L.Knee.Medialv_Y', 'L.Knee.Medialv_Z', 'R.HF_X', 'R.HF_Y', 'R.HF_Z', 'L.HF_X', 'L.HF_Y', 'L.HF_Z', 'R.TT_X', 'R.TT_Y', 'R.TT_Z', 'L.TT_X', 'L.TT_Y', 'L.TT_Z', 'R.Ankle_X', 'R.Ankle_Y', 'R.Ankle_Z', 'R.Ankle.Medialv_X', 'R.Ankle.Medialv_Y', 'R.Ankle.Medialv_Z', 'L.Ankle_X', 'L.Ankle_Y', 'L.Ankle_Z', 'L.Ankle.Medialv_X', 'L.Ankle.Medialv_Y', 'L.Ankle.Medialv_Z', 'R.Heel_X', 'R.Heel_Y', 'R.Heel_Z', 'L.Heel_X', 'L.Heel_Y', 'L.Heel_Z', 'R.MT1_X', 'R.MT1_Y', 'R.MT1_Z', 'R.MT2_X', 'R.MT2_Y', 'R.MT2_Z', 'R.MT5_X', 'R.MT5_Y', 'R.MT5_Z', 'L.MT1_X', 'L.MT1_Y', 'L.MT1_Z', 'L.MT2_X', 'L.MT2_Y', 'L.MT2_Z', 'L.MT5_X', 'L.MT5_Y', 'L.MT5_Z', 'COG_X', 'COG_Y', 'COG_Z']\n",
      "['Time', 'R.Front.Head_X', 'R.Front.Head_Y', 'R.Front.Head_Z', 'L.Front.Head_X', 'L.Front.Head_Y', 'L.Front.Head_Z', 'R.Back.Head_X', 'R.Back.Head_Y', 'R.Back.Head_Z', 'L.Back.Head_X', 'L.Back.Head_Y', 'L.Back.Head_Z', 'R.Shoulder_X', 'R.Shoulder_Y', 'R.Shoulder_Z', 'L.Shoulder_X', 'L.Shoulder_Y', 'L.Shoulder_Z', 'C7_X', 'C7_Y', 'C7_Z', 'T2_X', 'T2_Y', 'T2_Z', 'T7_X', 'T7_Y', 'T7_Z', 'L1_X', 'L1_Y', 'L1_Z', 'L3_X', 'L3_Y', 'L3_Z', 'L5_X', 'L5_Y', 'L5_Z', 'IJ_X', 'IJ_Y', 'IJ_Z', 'PX_X', 'PX_Y', 'PX_Z', 'R.ASIS_X', 'R.ASIS_Y', 'R.ASIS_Z', 'L.ASIS_X', 'L.ASIS_Y', 'L.ASIS_Z', 'R.PSIS_X', 'R.PSIS_Y', 'R.PSIS_Z', 'L.PSIS_X', 'L.PSIS_Y', 'L.PSIS_Z', 'L.Iliac.Crestv_X', 'L.Iliac.Crestv_Y', 'L.Iliac.Crestv_Z', 'R.Iliac.Crestv_X', 'R.Iliac.Crestv_Y', 'R.Iliac.Crestv_Z', 'R.GTR_X', 'R.GTR_Y', 'R.GTR_Z', 'L.GTR_X', 'L.GTR_Y', 'L.GTR_Z', 'R.Knee_X', 'R.Knee_Y', 'R.Knee_Z', 'R.Knee.Medialv_X', 'R.Knee.Medialv_Y', 'R.Knee.Medialv_Z', 'L.Knee_X', 'L.Knee_Y', 'L.Knee_Z', 'L.Knee.Medialv_X', 'L.Knee.Medialv_Y', 'L.Knee.Medialv_Z', 'R.HF_X', 'R.HF_Y', 'R.HF_Z', 'L.HF_X', 'L.HF_Y', 'L.HF_Z', 'R.TT_X', 'R.TT_Y', 'R.TT_Z', 'L.TT_X', 'L.TT_Y', 'L.TT_Z', 'R.Ankle_X', 'R.Ankle_Y', 'R.Ankle_Z', 'R.Ankle.Medialv_X', 'R.Ankle.Medialv_Y', 'R.Ankle.Medialv_Z', 'L.Ankle_X', 'L.Ankle_Y', 'L.Ankle_Z', 'L.Ankle.Medialv_X', 'L.Ankle.Medialv_Y', 'L.Ankle.Medialv_Z', 'R.Heel_X', 'R.Heel_Y', 'R.Heel_Z', 'L.Heel_X', 'L.Heel_Y', 'L.Heel_Z', 'R.MT1_X', 'R.MT1_Y', 'R.MT1_Z', 'R.MT2_X', 'R.MT2_Y', 'R.MT2_Z', 'R.MT5_X', 'R.MT5_Y', 'R.MT5_Z', 'L.MT1_X', 'L.MT1_Y', 'L.MT1_Z', 'L.MT2_X', 'L.MT2_Y', 'L.MT2_Z', 'L.MT5_X', 'L.MT5_Y', 'L.MT5_Z', 'COG_X', 'COG_Y', 'COG_Z']\n",
      "['Time', 'R.Front.Head_X', 'R.Front.Head_Y', 'R.Front.Head_Z', 'L.Front.Head_X', 'L.Front.Head_Y', 'L.Front.Head_Z', 'R.Back.Head_X', 'R.Back.Head_Y', 'R.Back.Head_Z', 'L.Back.Head_X', 'L.Back.Head_Y', 'L.Back.Head_Z', 'R.Shoulder_X', 'R.Shoulder_Y', 'R.Shoulder_Z', 'L.Shoulder_X', 'L.Shoulder_Y', 'L.Shoulder_Z', 'C7_X', 'C7_Y', 'C7_Z', 'T2_X', 'T2_Y', 'T2_Z', 'T7_X', 'T7_Y', 'T7_Z', 'L1_X', 'L1_Y', 'L1_Z', 'L3_X', 'L3_Y', 'L3_Z', 'L5_X', 'L5_Y', 'L5_Z', 'IJ_X', 'IJ_Y', 'IJ_Z', 'PX_X', 'PX_Y', 'PX_Z', 'R.ASIS_X', 'R.ASIS_Y', 'R.ASIS_Z', 'L.ASIS_X', 'L.ASIS_Y', 'L.ASIS_Z', 'R.PSIS_X', 'R.PSIS_Y', 'R.PSIS_Z', 'L.PSIS_X', 'L.PSIS_Y', 'L.PSIS_Z', 'L.Iliac.Crestv_X', 'L.Iliac.Crestv_Y', 'L.Iliac.Crestv_Z', 'R.Iliac.Crestv_X', 'R.Iliac.Crestv_Y', 'R.Iliac.Crestv_Z', 'R.GTR_X', 'R.GTR_Y', 'R.GTR_Z', 'L.GTR_X', 'L.GTR_Y', 'L.GTR_Z', 'R.Knee_X', 'R.Knee_Y', 'R.Knee_Z', 'R.Knee.Medialv_X', 'R.Knee.Medialv_Y', 'R.Knee.Medialv_Z', 'L.Knee_X', 'L.Knee_Y', 'L.Knee_Z', 'L.Knee.Medialv_X', 'L.Knee.Medialv_Y', 'L.Knee.Medialv_Z', 'R.HF_X', 'R.HF_Y', 'R.HF_Z', 'L.HF_X', 'L.HF_Y', 'L.HF_Z', 'R.TT_X', 'R.TT_Y', 'R.TT_Z', 'L.TT_X', 'L.TT_Y', 'L.TT_Z', 'R.Ankle_X', 'R.Ankle_Y', 'R.Ankle_Z', 'R.Ankle.Medialv_X', 'R.Ankle.Medialv_Y', 'R.Ankle.Medialv_Z', 'L.Ankle_X', 'L.Ankle_Y', 'L.Ankle_Z', 'L.Ankle.Medialv_X', 'L.Ankle.Medialv_Y', 'L.Ankle.Medialv_Z', 'R.Heel_X', 'R.Heel_Y', 'R.Heel_Z', 'L.Heel_X', 'L.Heel_Y', 'L.Heel_Z', 'R.MT1_X', 'R.MT1_Y', 'R.MT1_Z', 'R.MT2_X', 'R.MT2_Y', 'R.MT2_Z', 'R.MT5_X', 'R.MT5_Y', 'R.MT5_Z', 'L.MT1_X', 'L.MT1_Y', 'L.MT1_Z', 'L.MT2_X', 'L.MT2_Y', 'L.MT2_Z', 'L.MT5_X', 'L.MT5_Y', 'L.MT5_Z', 'COG_X', 'COG_Y', 'COG_Z']\n",
      "['Time', 'R.Front.Head_X', 'R.Front.Head_Y', 'R.Front.Head_Z', 'L.Front.Head_X', 'L.Front.Head_Y', 'L.Front.Head_Z', 'R.Back.Head_X', 'R.Back.Head_Y', 'R.Back.Head_Z', 'L.Back.Head_X', 'L.Back.Head_Y', 'L.Back.Head_Z', 'R.Shoulder_X', 'R.Shoulder_Y', 'R.Shoulder_Z', 'L.Shoulder_X', 'L.Shoulder_Y', 'L.Shoulder_Z', 'C7_X', 'C7_Y', 'C7_Z', 'T2_X', 'T2_Y', 'T2_Z', 'T7_X', 'T7_Y', 'T7_Z', 'L1_X', 'L1_Y', 'L1_Z', 'L3_X', 'L3_Y', 'L3_Z', 'L5_X', 'L5_Y', 'L5_Z', 'IJ_X', 'IJ_Y', 'IJ_Z', 'PX_X', 'PX_Y', 'PX_Z', 'R.ASIS_X', 'R.ASIS_Y', 'R.ASIS_Z', 'L.ASIS_X', 'L.ASIS_Y', 'L.ASIS_Z', 'R.PSIS_X', 'R.PSIS_Y', 'R.PSIS_Z', 'L.PSIS_X', 'L.PSIS_Y', 'L.PSIS_Z', 'L.Iliac.Crestv_X', 'L.Iliac.Crestv_Y', 'L.Iliac.Crestv_Z', 'R.Iliac.Crestv_X', 'R.Iliac.Crestv_Y', 'R.Iliac.Crestv_Z', 'R.GTR_X', 'R.GTR_Y', 'R.GTR_Z', 'L.GTR_X', 'L.GTR_Y', 'L.GTR_Z', 'R.Knee_X', 'R.Knee_Y', 'R.Knee_Z', 'R.Knee.Medialv_X', 'R.Knee.Medialv_Y', 'R.Knee.Medialv_Z', 'L.Knee_X', 'L.Knee_Y', 'L.Knee_Z', 'L.Knee.Medialv_X', 'L.Knee.Medialv_Y', 'L.Knee.Medialv_Z', 'R.HF_X', 'R.HF_Y', 'R.HF_Z', 'L.HF_X', 'L.HF_Y', 'L.HF_Z', 'R.TT_X', 'R.TT_Y', 'R.TT_Z', 'L.TT_X', 'L.TT_Y', 'L.TT_Z', 'R.Ankle_X', 'R.Ankle_Y', 'R.Ankle_Z', 'R.Ankle.Medialv_X', 'R.Ankle.Medialv_Y', 'R.Ankle.Medialv_Z', 'L.Ankle_X', 'L.Ankle_Y', 'L.Ankle_Z', 'L.Ankle.Medialv_X', 'L.Ankle.Medialv_Y', 'L.Ankle.Medialv_Z', 'R.Heel_X', 'R.Heel_Y', 'R.Heel_Z', 'L.Heel_X', 'L.Heel_Y', 'L.Heel_Z', 'R.MT1_X', 'R.MT1_Y', 'R.MT1_Z', 'R.MT2_X', 'R.MT2_Y', 'R.MT2_Z', 'R.MT5_X', 'R.MT5_Y', 'R.MT5_Z', 'L.MT1_X', 'L.MT1_Y', 'L.MT1_Z', 'L.MT2_X', 'L.MT2_Y', 'L.MT2_Z', 'L.MT5_X', 'L.MT5_Y', 'L.MT5_Z', 'COG_X', 'COG_Y', 'COG_Z']\n",
      "['Time', 'R.Front.Head_X', 'R.Front.Head_Y', 'R.Front.Head_Z', 'L.Front.Head_X', 'L.Front.Head_Y', 'L.Front.Head_Z', 'R.Back.Head_X', 'R.Back.Head_Y', 'R.Back.Head_Z', 'L.Back.Head_X', 'L.Back.Head_Y', 'L.Back.Head_Z', 'R.Shoulder_X', 'R.Shoulder_Y', 'R.Shoulder_Z', 'L.Shoulder_X', 'L.Shoulder_Y', 'L.Shoulder_Z', 'C7_X', 'C7_Y', 'C7_Z', 'T2_X', 'T2_Y', 'T2_Z', 'T7_X', 'T7_Y', 'T7_Z', 'L1_X', 'L1_Y', 'L1_Z', 'L3_X', 'L3_Y', 'L3_Z', 'L5_X', 'L5_Y', 'L5_Z', 'IJ_X', 'IJ_Y', 'IJ_Z', 'PX_X', 'PX_Y', 'PX_Z', 'R.ASIS_X', 'R.ASIS_Y', 'R.ASIS_Z', 'L.ASIS_X', 'L.ASIS_Y', 'L.ASIS_Z', 'R.PSIS_X', 'R.PSIS_Y', 'R.PSIS_Z', 'L.PSIS_X', 'L.PSIS_Y', 'L.PSIS_Z', 'L.Iliac.Crestv_X', 'L.Iliac.Crestv_Y', 'L.Iliac.Crestv_Z', 'R.Iliac.Crestv_X', 'R.Iliac.Crestv_Y', 'R.Iliac.Crestv_Z', 'R.GTR_X', 'R.GTR_Y', 'R.GTR_Z', 'L.GTR_X', 'L.GTR_Y', 'L.GTR_Z', 'R.Knee_X', 'R.Knee_Y', 'R.Knee_Z', 'R.Knee.Medialv_X', 'R.Knee.Medialv_Y', 'R.Knee.Medialv_Z', 'L.Knee_X', 'L.Knee_Y', 'L.Knee_Z', 'L.Knee.Medialv_X', 'L.Knee.Medialv_Y', 'L.Knee.Medialv_Z', 'R.HF_X', 'R.HF_Y', 'R.HF_Z', 'L.HF_X', 'L.HF_Y', 'L.HF_Z', 'R.TT_X', 'R.TT_Y', 'R.TT_Z', 'L.TT_X', 'L.TT_Y', 'L.TT_Z', 'R.Ankle_X', 'R.Ankle_Y', 'R.Ankle_Z', 'R.Ankle.Medialv_X', 'R.Ankle.Medialv_Y', 'R.Ankle.Medialv_Z', 'L.Ankle_X', 'L.Ankle_Y', 'L.Ankle_Z', 'L.Ankle.Medialv_X', 'L.Ankle.Medialv_Y', 'L.Ankle.Medialv_Z', 'R.Heel_X', 'R.Heel_Y', 'R.Heel_Z', 'L.Heel_X', 'L.Heel_Y', 'L.Heel_Z', 'R.MT1_X', 'R.MT1_Y', 'R.MT1_Z', 'R.MT2_X', 'R.MT2_Y', 'R.MT2_Z', 'R.MT5_X', 'R.MT5_Y', 'R.MT5_Z', 'L.MT1_X', 'L.MT1_Y', 'L.MT1_Z', 'L.MT2_X', 'L.MT2_Y', 'L.MT2_Z', 'L.MT5_X', 'L.MT5_Y', 'L.MT5_Z', 'COG_X', 'COG_Y', 'COG_Z']\n",
      "['Time', 'R.Front.Head_X', 'R.Front.Head_Y', 'R.Front.Head_Z', 'L.Front.Head_X', 'L.Front.Head_Y', 'L.Front.Head_Z', 'R.Back.Head_X', 'R.Back.Head_Y', 'R.Back.Head_Z', 'L.Back.Head_X', 'L.Back.Head_Y', 'L.Back.Head_Z', 'R.Shoulder_X', 'R.Shoulder_Y', 'R.Shoulder_Z', 'L.Shoulder_X', 'L.Shoulder_Y', 'L.Shoulder_Z', 'C7_X', 'C7_Y', 'C7_Z', 'T2_X', 'T2_Y', 'T2_Z', 'T7_X', 'T7_Y', 'T7_Z', 'L1_X', 'L1_Y', 'L1_Z', 'L3_X', 'L3_Y', 'L3_Z', 'L5_X', 'L5_Y', 'L5_Z', 'IJ_X', 'IJ_Y', 'IJ_Z', 'PX_X', 'PX_Y', 'PX_Z', 'R.ASIS_X', 'R.ASIS_Y', 'R.ASIS_Z', 'L.ASIS_X', 'L.ASIS_Y', 'L.ASIS_Z', 'R.PSIS_X', 'R.PSIS_Y', 'R.PSIS_Z', 'L.PSIS_X', 'L.PSIS_Y', 'L.PSIS_Z', 'L.Iliac.Crestv_X', 'L.Iliac.Crestv_Y', 'L.Iliac.Crestv_Z', 'R.Iliac.Crestv_X', 'R.Iliac.Crestv_Y', 'R.Iliac.Crestv_Z', 'R.GTR_X', 'R.GTR_Y', 'R.GTR_Z', 'L.GTR_X', 'L.GTR_Y', 'L.GTR_Z', 'R.Knee_X', 'R.Knee_Y', 'R.Knee_Z', 'R.Knee.Medialv_X', 'R.Knee.Medialv_Y', 'R.Knee.Medialv_Z', 'L.Knee_X', 'L.Knee_Y', 'L.Knee_Z', 'L.Knee.Medialv_X', 'L.Knee.Medialv_Y', 'L.Knee.Medialv_Z', 'R.HF_X', 'R.HF_Y', 'R.HF_Z', 'L.HF_X', 'L.HF_Y', 'L.HF_Z', 'R.TT_X', 'R.TT_Y', 'R.TT_Z', 'L.TT_X', 'L.TT_Y', 'L.TT_Z', 'R.Ankle_X', 'R.Ankle_Y', 'R.Ankle_Z', 'R.Ankle.Medialv_X', 'R.Ankle.Medialv_Y', 'R.Ankle.Medialv_Z', 'L.Ankle_X', 'L.Ankle_Y', 'L.Ankle_Z', 'L.Ankle.Medialv_X', 'L.Ankle.Medialv_Y', 'L.Ankle.Medialv_Z', 'R.Heel_X', 'R.Heel_Y', 'R.Heel_Z', 'L.Heel_X', 'L.Heel_Y', 'L.Heel_Z', 'R.MT1_X', 'R.MT1_Y', 'R.MT1_Z', 'R.MT2_X', 'R.MT2_Y', 'R.MT2_Z', 'R.MT5_X', 'R.MT5_Y', 'R.MT5_Z', 'L.MT1_X', 'L.MT1_Y', 'L.MT1_Z', 'L.MT2_X', 'L.MT2_Y', 'L.MT2_Z', 'L.MT5_X', 'L.MT5_Y', 'L.MT5_Z', 'COG_X', 'COG_Y', 'COG_Z']\n",
      "['Time', 'R.Front.Head_X', 'R.Front.Head_Y', 'R.Front.Head_Z', 'L.Front.Head_X', 'L.Front.Head_Y', 'L.Front.Head_Z', 'R.Back.Head_X', 'R.Back.Head_Y', 'R.Back.Head_Z', 'L.Back.Head_X', 'L.Back.Head_Y', 'L.Back.Head_Z', 'R.Shoulder_X', 'R.Shoulder_Y', 'R.Shoulder_Z', 'L.Shoulder_X', 'L.Shoulder_Y', 'L.Shoulder_Z', 'C7_X', 'C7_Y', 'C7_Z', 'T2_X', 'T2_Y', 'T2_Z', 'T7_X', 'T7_Y', 'T7_Z', 'L1_X', 'L1_Y', 'L1_Z', 'L3_X', 'L3_Y', 'L3_Z', 'L5_X', 'L5_Y', 'L5_Z', 'IJ_X', 'IJ_Y', 'IJ_Z', 'PX_X', 'PX_Y', 'PX_Z', 'R.ASIS_X', 'R.ASIS_Y', 'R.ASIS_Z', 'L.ASIS_X', 'L.ASIS_Y', 'L.ASIS_Z', 'R.PSIS_X', 'R.PSIS_Y', 'R.PSIS_Z', 'L.PSIS_X', 'L.PSIS_Y', 'L.PSIS_Z', 'L.Iliac.Crestv_X', 'L.Iliac.Crestv_Y', 'L.Iliac.Crestv_Z', 'R.Iliac.Crestv_X', 'R.Iliac.Crestv_Y', 'R.Iliac.Crestv_Z', 'R.GTR_X', 'R.GTR_Y', 'R.GTR_Z', 'L.GTR_X', 'L.GTR_Y', 'L.GTR_Z', 'R.Knee_X', 'R.Knee_Y', 'R.Knee_Z', 'R.Knee.Medialv_X', 'R.Knee.Medialv_Y', 'R.Knee.Medialv_Z', 'L.Knee_X', 'L.Knee_Y', 'L.Knee_Z', 'L.Knee.Medialv_X', 'L.Knee.Medialv_Y', 'L.Knee.Medialv_Z', 'R.HF_X', 'R.HF_Y', 'R.HF_Z', 'L.HF_X', 'L.HF_Y', 'L.HF_Z', 'R.TT_X', 'R.TT_Y', 'R.TT_Z', 'L.TT_X', 'L.TT_Y', 'L.TT_Z', 'R.Ankle_X', 'R.Ankle_Y', 'R.Ankle_Z', 'R.Ankle.Medialv_X', 'R.Ankle.Medialv_Y', 'R.Ankle.Medialv_Z', 'L.Ankle_X', 'L.Ankle_Y', 'L.Ankle_Z', 'L.Ankle.Medialv_X', 'L.Ankle.Medialv_Y', 'L.Ankle.Medialv_Z', 'R.Heel_X', 'R.Heel_Y', 'R.Heel_Z', 'L.Heel_X', 'L.Heel_Y', 'L.Heel_Z', 'R.MT1_X', 'R.MT1_Y', 'R.MT1_Z', 'R.MT2_X', 'R.MT2_Y', 'R.MT2_Z', 'R.MT5_X', 'R.MT5_Y', 'R.MT5_Z', 'L.MT1_X', 'L.MT1_Y', 'L.MT1_Z', 'L.MT2_X', 'L.MT2_Y', 'L.MT2_Z', 'L.MT5_X', 'L.MT5_Y', 'L.MT5_Z', 'COG_X', 'COG_Y', 'COG_Z']\n",
      "['Time', 'R.Front.Head_X', 'R.Front.Head_Y', 'R.Front.Head_Z', 'L.Front.Head_X', 'L.Front.Head_Y', 'L.Front.Head_Z', 'R.Back.Head_X', 'R.Back.Head_Y', 'R.Back.Head_Z', 'L.Back.Head_X', 'L.Back.Head_Y', 'L.Back.Head_Z', 'R.Shoulder_X', 'R.Shoulder_Y', 'R.Shoulder_Z', 'L.Shoulder_X', 'L.Shoulder_Y', 'L.Shoulder_Z', 'C7_X', 'C7_Y', 'C7_Z', 'T2_X', 'T2_Y', 'T2_Z', 'T7_X', 'T7_Y', 'T7_Z', 'L1_X', 'L1_Y', 'L1_Z', 'L3_X', 'L3_Y', 'L3_Z', 'L5_X', 'L5_Y', 'L5_Z', 'IJ_X', 'IJ_Y', 'IJ_Z', 'PX_X', 'PX_Y', 'PX_Z', 'R.ASIS_X', 'R.ASIS_Y', 'R.ASIS_Z', 'L.ASIS_X', 'L.ASIS_Y', 'L.ASIS_Z', 'R.PSIS_X', 'R.PSIS_Y', 'R.PSIS_Z', 'L.PSIS_X', 'L.PSIS_Y', 'L.PSIS_Z', 'L.Iliac.Crestv_X', 'L.Iliac.Crestv_Y', 'L.Iliac.Crestv_Z', 'R.Iliac.Crestv_X', 'R.Iliac.Crestv_Y', 'R.Iliac.Crestv_Z', 'R.GTR_X', 'R.GTR_Y', 'R.GTR_Z', 'L.GTR_X', 'L.GTR_Y', 'L.GTR_Z', 'R.Knee_X', 'R.Knee_Y', 'R.Knee_Z', 'R.Knee.Medialv_X', 'R.Knee.Medialv_Y', 'R.Knee.Medialv_Z', 'L.Knee_X', 'L.Knee_Y', 'L.Knee_Z', 'L.Knee.Medialv_X', 'L.Knee.Medialv_Y', 'L.Knee.Medialv_Z', 'R.HF_X', 'R.HF_Y', 'R.HF_Z', 'L.HF_X', 'L.HF_Y', 'L.HF_Z', 'R.TT_X', 'R.TT_Y', 'R.TT_Z', 'L.TT_X', 'L.TT_Y', 'L.TT_Z', 'R.Ankle_X', 'R.Ankle_Y', 'R.Ankle_Z', 'R.Ankle.Medialv_X', 'R.Ankle.Medialv_Y', 'R.Ankle.Medialv_Z', 'L.Ankle_X', 'L.Ankle_Y', 'L.Ankle_Z', 'L.Ankle.Medialv_X', 'L.Ankle.Medialv_Y', 'L.Ankle.Medialv_Z', 'R.Heel_X', 'R.Heel_Y', 'R.Heel_Z', 'L.Heel_X', 'L.Heel_Y', 'L.Heel_Z', 'R.MT1_X', 'R.MT1_Y', 'R.MT1_Z', 'R.MT2_X', 'R.MT2_Y', 'R.MT2_Z', 'R.MT5_X', 'R.MT5_Y', 'R.MT5_Z', 'L.MT1_X', 'L.MT1_Y', 'L.MT1_Z', 'L.MT2_X', 'L.MT2_Y', 'L.MT2_Z', 'L.MT5_X', 'L.MT5_Y', 'L.MT5_Z', 'COG_X', 'COG_Y', 'COG_Z']\n",
      "['Time', 'R.Front.Head_X', 'R.Front.Head_Y', 'R.Front.Head_Z', 'L.Front.Head_X', 'L.Front.Head_Y', 'L.Front.Head_Z', 'R.Back.Head_X', 'R.Back.Head_Y', 'R.Back.Head_Z', 'L.Back.Head_X', 'L.Back.Head_Y', 'L.Back.Head_Z', 'R.Shoulder_X', 'R.Shoulder_Y', 'R.Shoulder_Z', 'L.Shoulder_X', 'L.Shoulder_Y', 'L.Shoulder_Z', 'C7_X', 'C7_Y', 'C7_Z', 'T2_X', 'T2_Y', 'T2_Z', 'T7_X', 'T7_Y', 'T7_Z', 'L1_X', 'L1_Y', 'L1_Z', 'L3_X', 'L3_Y', 'L3_Z', 'L5_X', 'L5_Y', 'L5_Z', 'IJ_X', 'IJ_Y', 'IJ_Z', 'PX_X', 'PX_Y', 'PX_Z', 'R.ASIS_X', 'R.ASIS_Y', 'R.ASIS_Z', 'L.ASIS_X', 'L.ASIS_Y', 'L.ASIS_Z', 'R.PSIS_X', 'R.PSIS_Y', 'R.PSIS_Z', 'L.PSIS_X', 'L.PSIS_Y', 'L.PSIS_Z', 'L.Iliac.Crestv_X', 'L.Iliac.Crestv_Y', 'L.Iliac.Crestv_Z', 'R.Iliac.Crestv_X', 'R.Iliac.Crestv_Y', 'R.Iliac.Crestv_Z', 'R.GTR_X', 'R.GTR_Y', 'R.GTR_Z', 'L.GTR_X', 'L.GTR_Y', 'L.GTR_Z', 'R.Knee_X', 'R.Knee_Y', 'R.Knee_Z', 'R.Knee.Medialv_X', 'R.Knee.Medialv_Y', 'R.Knee.Medialv_Z', 'L.Knee_X', 'L.Knee_Y', 'L.Knee_Z', 'L.Knee.Medialv_X', 'L.Knee.Medialv_Y', 'L.Knee.Medialv_Z', 'R.HF_X', 'R.HF_Y', 'R.HF_Z', 'L.HF_X', 'L.HF_Y', 'L.HF_Z', 'R.TT_X', 'R.TT_Y', 'R.TT_Z', 'L.TT_X', 'L.TT_Y', 'L.TT_Z', 'R.Ankle_X', 'R.Ankle_Y', 'R.Ankle_Z', 'R.Ankle.Medialv_X', 'R.Ankle.Medialv_Y', 'R.Ankle.Medialv_Z', 'L.Ankle_X', 'L.Ankle_Y', 'L.Ankle_Z', 'L.Ankle.Medialv_X', 'L.Ankle.Medialv_Y', 'L.Ankle.Medialv_Z', 'R.Heel_X', 'R.Heel_Y', 'R.Heel_Z', 'L.Heel_X', 'L.Heel_Y', 'L.Heel_Z', 'R.MT1_X', 'R.MT1_Y', 'R.MT1_Z', 'R.MT2_X', 'R.MT2_Y', 'R.MT2_Z', 'R.MT5_X', 'R.MT5_Y', 'R.MT5_Z', 'L.MT1_X', 'L.MT1_Y', 'L.MT1_Z', 'L.MT2_X', 'L.MT2_Y', 'L.MT2_Z', 'L.MT5_X', 'L.MT5_Y', 'L.MT5_Z', 'COG_X', 'COG_Y', 'COG_Z']\n",
      "['Time', 'R.Front.Head_X', 'R.Front.Head_Y', 'R.Front.Head_Z', 'L.Front.Head_X', 'L.Front.Head_Y', 'L.Front.Head_Z', 'R.Back.Head_X', 'R.Back.Head_Y', 'R.Back.Head_Z', 'L.Back.Head_X', 'L.Back.Head_Y', 'L.Back.Head_Z', 'R.Shoulder_X', 'R.Shoulder_Y', 'R.Shoulder_Z', 'L.Shoulder_X', 'L.Shoulder_Y', 'L.Shoulder_Z', 'C7_X', 'C7_Y', 'C7_Z', 'T2_X', 'T2_Y', 'T2_Z', 'T7_X', 'T7_Y', 'T7_Z', 'L1_X', 'L1_Y', 'L1_Z', 'L3_X', 'L3_Y', 'L3_Z', 'L5_X', 'L5_Y', 'L5_Z', 'IJ_X', 'IJ_Y', 'IJ_Z', 'PX_X', 'PX_Y', 'PX_Z', 'R.ASIS_X', 'R.ASIS_Y', 'R.ASIS_Z', 'L.ASIS_X', 'L.ASIS_Y', 'L.ASIS_Z', 'R.PSIS_X', 'R.PSIS_Y', 'R.PSIS_Z', 'L.PSIS_X', 'L.PSIS_Y', 'L.PSIS_Z', 'L.Iliac.Crestv_X', 'L.Iliac.Crestv_Y', 'L.Iliac.Crestv_Z', 'R.Iliac.Crestv_X', 'R.Iliac.Crestv_Y', 'R.Iliac.Crestv_Z', 'R.GTR_X', 'R.GTR_Y', 'R.GTR_Z', 'L.GTR_X', 'L.GTR_Y', 'L.GTR_Z', 'R.Knee_X', 'R.Knee_Y', 'R.Knee_Z', 'R.Knee.Medialv_X', 'R.Knee.Medialv_Y', 'R.Knee.Medialv_Z', 'L.Knee_X', 'L.Knee_Y', 'L.Knee_Z', 'L.Knee.Medialv_X', 'L.Knee.Medialv_Y', 'L.Knee.Medialv_Z', 'R.HF_X', 'R.HF_Y', 'R.HF_Z', 'L.HF_X', 'L.HF_Y', 'L.HF_Z', 'R.TT_X', 'R.TT_Y', 'R.TT_Z', 'L.TT_X', 'L.TT_Y', 'L.TT_Z', 'R.Ankle_X', 'R.Ankle_Y', 'R.Ankle_Z', 'R.Ankle.Medialv_X', 'R.Ankle.Medialv_Y', 'R.Ankle.Medialv_Z', 'L.Ankle_X', 'L.Ankle_Y', 'L.Ankle_Z', 'L.Ankle.Medialv_X', 'L.Ankle.Medialv_Y', 'L.Ankle.Medialv_Z', 'R.Heel_X', 'R.Heel_Y', 'R.Heel_Z', 'L.Heel_X', 'L.Heel_Y', 'L.Heel_Z', 'R.MT1_X', 'R.MT1_Y', 'R.MT1_Z', 'R.MT2_X', 'R.MT2_Y', 'R.MT2_Z', 'R.MT5_X', 'R.MT5_Y', 'R.MT5_Z', 'L.MT1_X', 'L.MT1_Y', 'L.MT1_Z', 'L.MT2_X', 'L.MT2_Y', 'L.MT2_Z', 'L.MT5_X', 'L.MT5_Y', 'L.MT5_Z', 'COG_X', 'COG_Y', 'COG_Z']\n",
      "['Time', 'R.Front.Head_X', 'R.Front.Head_Y', 'R.Front.Head_Z', 'L.Front.Head_X', 'L.Front.Head_Y', 'L.Front.Head_Z', 'R.Back.Head_X', 'R.Back.Head_Y', 'R.Back.Head_Z', 'L.Back.Head_X', 'L.Back.Head_Y', 'L.Back.Head_Z', 'R.Shoulder_X', 'R.Shoulder_Y', 'R.Shoulder_Z', 'L.Shoulder_X', 'L.Shoulder_Y', 'L.Shoulder_Z', 'C7_X', 'C7_Y', 'C7_Z', 'T2_X', 'T2_Y', 'T2_Z', 'T7_X', 'T7_Y', 'T7_Z', 'L1_X', 'L1_Y', 'L1_Z', 'L3_X', 'L3_Y', 'L3_Z', 'L5_X', 'L5_Y', 'L5_Z', 'IJ_X', 'IJ_Y', 'IJ_Z', 'PX_X', 'PX_Y', 'PX_Z', 'R.ASIS_X', 'R.ASIS_Y', 'R.ASIS_Z', 'L.ASIS_X', 'L.ASIS_Y', 'L.ASIS_Z', 'R.PSIS_X', 'R.PSIS_Y', 'R.PSIS_Z', 'L.PSIS_X', 'L.PSIS_Y', 'L.PSIS_Z', 'L.Iliac.Crestv_X', 'L.Iliac.Crestv_Y', 'L.Iliac.Crestv_Z', 'R.Iliac.Crestv_X', 'R.Iliac.Crestv_Y', 'R.Iliac.Crestv_Z', 'R.GTR_X', 'R.GTR_Y', 'R.GTR_Z', 'L.GTR_X', 'L.GTR_Y', 'L.GTR_Z', 'R.Knee_X', 'R.Knee_Y', 'R.Knee_Z', 'R.Knee.Medialv_X', 'R.Knee.Medialv_Y', 'R.Knee.Medialv_Z', 'L.Knee_X', 'L.Knee_Y', 'L.Knee_Z', 'L.Knee.Medialv_X', 'L.Knee.Medialv_Y', 'L.Knee.Medialv_Z', 'R.HF_X', 'R.HF_Y', 'R.HF_Z', 'L.HF_X', 'L.HF_Y', 'L.HF_Z', 'R.TT_X', 'R.TT_Y', 'R.TT_Z', 'L.TT_X', 'L.TT_Y', 'L.TT_Z', 'R.Ankle_X', 'R.Ankle_Y', 'R.Ankle_Z', 'R.Ankle.Medialv_X', 'R.Ankle.Medialv_Y', 'R.Ankle.Medialv_Z', 'L.Ankle_X', 'L.Ankle_Y', 'L.Ankle_Z', 'L.Ankle.Medialv_X', 'L.Ankle.Medialv_Y', 'L.Ankle.Medialv_Z', 'R.Heel_X', 'R.Heel_Y', 'R.Heel_Z', 'L.Heel_X', 'L.Heel_Y', 'L.Heel_Z', 'R.MT1_X', 'R.MT1_Y', 'R.MT1_Z', 'R.MT2_X', 'R.MT2_Y', 'R.MT2_Z', 'R.MT5_X', 'R.MT5_Y', 'R.MT5_Z', 'L.MT1_X', 'L.MT1_Y', 'L.MT1_Z', 'L.MT2_X', 'L.MT2_Y', 'L.MT2_Z', 'L.MT5_X', 'L.MT5_Y', 'L.MT5_Z', 'COG_X', 'COG_Y', 'COG_Z']\n",
      "['Time', 'R.Front.Head_X', 'R.Front.Head_Y', 'R.Front.Head_Z', 'L.Front.Head_X', 'L.Front.Head_Y', 'L.Front.Head_Z', 'R.Back.Head_X', 'R.Back.Head_Y', 'R.Back.Head_Z', 'L.Back.Head_X', 'L.Back.Head_Y', 'L.Back.Head_Z', 'R.Shoulder_X', 'R.Shoulder_Y', 'R.Shoulder_Z', 'L.Shoulder_X', 'L.Shoulder_Y', 'L.Shoulder_Z', 'C7_X', 'C7_Y', 'C7_Z', 'T2_X', 'T2_Y', 'T2_Z', 'T7_X', 'T7_Y', 'T7_Z', 'L1_X', 'L1_Y', 'L1_Z', 'L3_X', 'L3_Y', 'L3_Z', 'L5_X', 'L5_Y', 'L5_Z', 'IJ_X', 'IJ_Y', 'IJ_Z', 'PX_X', 'PX_Y', 'PX_Z', 'R.ASIS_X', 'R.ASIS_Y', 'R.ASIS_Z', 'L.ASIS_X', 'L.ASIS_Y', 'L.ASIS_Z', 'R.PSIS_X', 'R.PSIS_Y', 'R.PSIS_Z', 'L.PSIS_X', 'L.PSIS_Y', 'L.PSIS_Z', 'L.Iliac.Crestv_X', 'L.Iliac.Crestv_Y', 'L.Iliac.Crestv_Z', 'R.Iliac.Crestv_X', 'R.Iliac.Crestv_Y', 'R.Iliac.Crestv_Z', 'R.GTR_X', 'R.GTR_Y', 'R.GTR_Z', 'L.GTR_X', 'L.GTR_Y', 'L.GTR_Z', 'R.Knee_X', 'R.Knee_Y', 'R.Knee_Z', 'R.Knee.Medialv_X', 'R.Knee.Medialv_Y', 'R.Knee.Medialv_Z', 'L.Knee_X', 'L.Knee_Y', 'L.Knee_Z', 'L.Knee.Medialv_X', 'L.Knee.Medialv_Y', 'L.Knee.Medialv_Z', 'R.HF_X', 'R.HF_Y', 'R.HF_Z', 'L.HF_X', 'L.HF_Y', 'L.HF_Z', 'R.TT_X', 'R.TT_Y', 'R.TT_Z', 'L.TT_X', 'L.TT_Y', 'L.TT_Z', 'R.Ankle_X', 'R.Ankle_Y', 'R.Ankle_Z', 'R.Ankle.Medialv_X', 'R.Ankle.Medialv_Y', 'R.Ankle.Medialv_Z', 'L.Ankle_X', 'L.Ankle_Y', 'L.Ankle_Z', 'L.Ankle.Medialv_X', 'L.Ankle.Medialv_Y', 'L.Ankle.Medialv_Z', 'R.Heel_X', 'R.Heel_Y', 'R.Heel_Z', 'L.Heel_X', 'L.Heel_Y', 'L.Heel_Z', 'R.MT1_X', 'R.MT1_Y', 'R.MT1_Z', 'R.MT2_X', 'R.MT2_Y', 'R.MT2_Z', 'R.MT5_X', 'R.MT5_Y', 'R.MT5_Z', 'L.MT1_X', 'L.MT1_Y', 'L.MT1_Z', 'L.MT2_X', 'L.MT2_Y', 'L.MT2_Z', 'L.MT5_X', 'L.MT5_Y', 'L.MT5_Z', 'COG_X', 'COG_Y', 'COG_Z']\n",
      "['Time', 'R.Front.Head_X', 'R.Front.Head_Y', 'R.Front.Head_Z', 'L.Front.Head_X', 'L.Front.Head_Y', 'L.Front.Head_Z', 'R.Back.Head_X', 'R.Back.Head_Y', 'R.Back.Head_Z', 'L.Back.Head_X', 'L.Back.Head_Y', 'L.Back.Head_Z', 'R.Shoulder_X', 'R.Shoulder_Y', 'R.Shoulder_Z', 'L.Shoulder_X', 'L.Shoulder_Y', 'L.Shoulder_Z', 'C7_X', 'C7_Y', 'C7_Z', 'T2_X', 'T2_Y', 'T2_Z', 'T7_X', 'T7_Y', 'T7_Z', 'L1_X', 'L1_Y', 'L1_Z', 'L3_X', 'L3_Y', 'L3_Z', 'L5_X', 'L5_Y', 'L5_Z', 'IJ_X', 'IJ_Y', 'IJ_Z', 'PX_X', 'PX_Y', 'PX_Z', 'R.ASIS_X', 'R.ASIS_Y', 'R.ASIS_Z', 'L.ASIS_X', 'L.ASIS_Y', 'L.ASIS_Z', 'R.PSIS_X', 'R.PSIS_Y', 'R.PSIS_Z', 'L.PSIS_X', 'L.PSIS_Y', 'L.PSIS_Z', 'L.Iliac.Crestv_X', 'L.Iliac.Crestv_Y', 'L.Iliac.Crestv_Z', 'R.Iliac.Crestv_X', 'R.Iliac.Crestv_Y', 'R.Iliac.Crestv_Z', 'R.GTR_X', 'R.GTR_Y', 'R.GTR_Z', 'L.GTR_X', 'L.GTR_Y', 'L.GTR_Z', 'R.Knee_X', 'R.Knee_Y', 'R.Knee_Z', 'R.Knee.Medialv_X', 'R.Knee.Medialv_Y', 'R.Knee.Medialv_Z', 'L.Knee_X', 'L.Knee_Y', 'L.Knee_Z', 'L.Knee.Medialv_X', 'L.Knee.Medialv_Y', 'L.Knee.Medialv_Z', 'R.HF_X', 'R.HF_Y', 'R.HF_Z', 'L.HF_X', 'L.HF_Y', 'L.HF_Z', 'R.TT_X', 'R.TT_Y', 'R.TT_Z', 'L.TT_X', 'L.TT_Y', 'L.TT_Z', 'R.Ankle_X', 'R.Ankle_Y', 'R.Ankle_Z', 'R.Ankle.Medialv_X', 'R.Ankle.Medialv_Y', 'R.Ankle.Medialv_Z', 'L.Ankle_X', 'L.Ankle_Y', 'L.Ankle_Z', 'L.Ankle.Medialv_X', 'L.Ankle.Medialv_Y', 'L.Ankle.Medialv_Z', 'R.Heel_X', 'R.Heel_Y', 'R.Heel_Z', 'L.Heel_X', 'L.Heel_Y', 'L.Heel_Z', 'R.MT1_X', 'R.MT1_Y', 'R.MT1_Z', 'R.MT2_X', 'R.MT2_Y', 'R.MT2_Z', 'R.MT5_X', 'R.MT5_Y', 'R.MT5_Z', 'L.MT1_X', 'L.MT1_Y', 'L.MT1_Z', 'L.MT2_X', 'L.MT2_Y', 'L.MT2_Z', 'L.MT5_X', 'L.MT5_Y', 'L.MT5_Z', 'COG_X', 'COG_Y', 'COG_Z']\n",
      "['Time', 'R.Front.Head_X', 'R.Front.Head_Y', 'R.Front.Head_Z', 'L.Front.Head_X', 'L.Front.Head_Y', 'L.Front.Head_Z', 'R.Back.Head_X', 'R.Back.Head_Y', 'R.Back.Head_Z', 'L.Back.Head_X', 'L.Back.Head_Y', 'L.Back.Head_Z', 'R.Shoulder_X', 'R.Shoulder_Y', 'R.Shoulder_Z', 'L.Shoulder_X', 'L.Shoulder_Y', 'L.Shoulder_Z', 'C7_X', 'C7_Y', 'C7_Z', 'T2_X', 'T2_Y', 'T2_Z', 'T7_X', 'T7_Y', 'T7_Z', 'L1_X', 'L1_Y', 'L1_Z', 'L3_X', 'L3_Y', 'L3_Z', 'L5_X', 'L5_Y', 'L5_Z', 'IJ_X', 'IJ_Y', 'IJ_Z', 'PX_X', 'PX_Y', 'PX_Z', 'R.ASIS_X', 'R.ASIS_Y', 'R.ASIS_Z', 'L.ASIS_X', 'L.ASIS_Y', 'L.ASIS_Z', 'R.PSIS_X', 'R.PSIS_Y', 'R.PSIS_Z', 'L.PSIS_X', 'L.PSIS_Y', 'L.PSIS_Z', 'L.Iliac.Crestv_X', 'L.Iliac.Crestv_Y', 'L.Iliac.Crestv_Z', 'R.Iliac.Crestv_X', 'R.Iliac.Crestv_Y', 'R.Iliac.Crestv_Z', 'R.GTR_X', 'R.GTR_Y', 'R.GTR_Z', 'L.GTR_X', 'L.GTR_Y', 'L.GTR_Z', 'R.Knee_X', 'R.Knee_Y', 'R.Knee_Z', 'R.Knee.Medialv_X', 'R.Knee.Medialv_Y', 'R.Knee.Medialv_Z', 'L.Knee_X', 'L.Knee_Y', 'L.Knee_Z', 'L.Knee.Medialv_X', 'L.Knee.Medialv_Y', 'L.Knee.Medialv_Z', 'R.HF_X', 'R.HF_Y', 'R.HF_Z', 'L.HF_X', 'L.HF_Y', 'L.HF_Z', 'R.TT_X', 'R.TT_Y', 'R.TT_Z', 'L.TT_X', 'L.TT_Y', 'L.TT_Z', 'R.Ankle_X', 'R.Ankle_Y', 'R.Ankle_Z', 'R.Ankle.Medialv_X', 'R.Ankle.Medialv_Y', 'R.Ankle.Medialv_Z', 'L.Ankle_X', 'L.Ankle_Y', 'L.Ankle_Z', 'L.Ankle.Medialv_X', 'L.Ankle.Medialv_Y', 'L.Ankle.Medialv_Z', 'R.Heel_X', 'R.Heel_Y', 'R.Heel_Z', 'L.Heel_X', 'L.Heel_Y', 'L.Heel_Z', 'R.MT1_X', 'R.MT1_Y', 'R.MT1_Z', 'R.MT2_X', 'R.MT2_Y', 'R.MT2_Z', 'R.MT5_X', 'R.MT5_Y', 'R.MT5_Z', 'L.MT1_X', 'L.MT1_Y', 'L.MT1_Z', 'L.MT2_X', 'L.MT2_Y', 'L.MT2_Z', 'L.MT5_X', 'L.MT5_Y', 'L.MT5_Z', 'COG_X', 'COG_Y', 'COG_Z']\n",
      "['Time', 'R.Front.Head_X', 'R.Front.Head_Y', 'R.Front.Head_Z', 'L.Front.Head_X', 'L.Front.Head_Y', 'L.Front.Head_Z', 'R.Back.Head_X', 'R.Back.Head_Y', 'R.Back.Head_Z', 'L.Back.Head_X', 'L.Back.Head_Y', 'L.Back.Head_Z', 'R.Shoulder_X', 'R.Shoulder_Y', 'R.Shoulder_Z', 'L.Shoulder_X', 'L.Shoulder_Y', 'L.Shoulder_Z', 'C7_X', 'C7_Y', 'C7_Z', 'T2_X', 'T2_Y', 'T2_Z', 'T7_X', 'T7_Y', 'T7_Z', 'L1_X', 'L1_Y', 'L1_Z', 'L3_X', 'L3_Y', 'L3_Z', 'L5_X', 'L5_Y', 'L5_Z', 'IJ_X', 'IJ_Y', 'IJ_Z', 'PX_X', 'PX_Y', 'PX_Z', 'R.ASIS_X', 'R.ASIS_Y', 'R.ASIS_Z', 'L.ASIS_X', 'L.ASIS_Y', 'L.ASIS_Z', 'R.PSIS_X', 'R.PSIS_Y', 'R.PSIS_Z', 'L.PSIS_X', 'L.PSIS_Y', 'L.PSIS_Z', 'L.Iliac.Crestv_X', 'L.Iliac.Crestv_Y', 'L.Iliac.Crestv_Z', 'R.Iliac.Crestv_X', 'R.Iliac.Crestv_Y', 'R.Iliac.Crestv_Z', 'R.GTR_X', 'R.GTR_Y', 'R.GTR_Z', 'L.GTR_X', 'L.GTR_Y', 'L.GTR_Z', 'R.Knee_X', 'R.Knee_Y', 'R.Knee_Z', 'R.Knee.Medialv_X', 'R.Knee.Medialv_Y', 'R.Knee.Medialv_Z', 'L.Knee_X', 'L.Knee_Y', 'L.Knee_Z', 'L.Knee.Medialv_X', 'L.Knee.Medialv_Y', 'L.Knee.Medialv_Z', 'R.HF_X', 'R.HF_Y', 'R.HF_Z', 'L.HF_X', 'L.HF_Y', 'L.HF_Z', 'R.TT_X', 'R.TT_Y', 'R.TT_Z', 'L.TT_X', 'L.TT_Y', 'L.TT_Z', 'R.Ankle_X', 'R.Ankle_Y', 'R.Ankle_Z', 'R.Ankle.Medialv_X', 'R.Ankle.Medialv_Y', 'R.Ankle.Medialv_Z', 'L.Ankle_X', 'L.Ankle_Y', 'L.Ankle_Z', 'L.Ankle.Medialv_X', 'L.Ankle.Medialv_Y', 'L.Ankle.Medialv_Z', 'R.Heel_X', 'R.Heel_Y', 'R.Heel_Z', 'L.Heel_X', 'L.Heel_Y', 'L.Heel_Z', 'R.MT1_X', 'R.MT1_Y', 'R.MT1_Z', 'R.MT2_X', 'R.MT2_Y', 'R.MT2_Z', 'R.MT5_X', 'R.MT5_Y', 'R.MT5_Z', 'L.MT1_X', 'L.MT1_Y', 'L.MT1_Z', 'L.MT2_X', 'L.MT2_Y', 'L.MT2_Z', 'L.MT5_X', 'L.MT5_Y', 'L.MT5_Z', 'COG_X', 'COG_Y', 'COG_Z']\n",
      "['Time', 'R.Front.Head_X', 'R.Front.Head_Y', 'R.Front.Head_Z', 'L.Front.Head_X', 'L.Front.Head_Y', 'L.Front.Head_Z', 'R.Back.Head_X', 'R.Back.Head_Y', 'R.Back.Head_Z', 'L.Back.Head_X', 'L.Back.Head_Y', 'L.Back.Head_Z', 'R.Shoulder_X', 'R.Shoulder_Y', 'R.Shoulder_Z', 'L.Shoulder_X', 'L.Shoulder_Y', 'L.Shoulder_Z', 'C7_X', 'C7_Y', 'C7_Z', 'T2_X', 'T2_Y', 'T2_Z', 'T7_X', 'T7_Y', 'T7_Z', 'L1_X', 'L1_Y', 'L1_Z', 'L3_X', 'L3_Y', 'L3_Z', 'L5_X', 'L5_Y', 'L5_Z', 'IJ_X', 'IJ_Y', 'IJ_Z', 'PX_X', 'PX_Y', 'PX_Z', 'R.ASIS_X', 'R.ASIS_Y', 'R.ASIS_Z', 'L.ASIS_X', 'L.ASIS_Y', 'L.ASIS_Z', 'R.PSIS_X', 'R.PSIS_Y', 'R.PSIS_Z', 'L.PSIS_X', 'L.PSIS_Y', 'L.PSIS_Z', 'L.Iliac.Crestv_X', 'L.Iliac.Crestv_Y', 'L.Iliac.Crestv_Z', 'R.Iliac.Crestv_X', 'R.Iliac.Crestv_Y', 'R.Iliac.Crestv_Z', 'R.GTR_X', 'R.GTR_Y', 'R.GTR_Z', 'L.GTR_X', 'L.GTR_Y', 'L.GTR_Z', 'R.Knee_X', 'R.Knee_Y', 'R.Knee_Z', 'R.Knee.Medialv_X', 'R.Knee.Medialv_Y', 'R.Knee.Medialv_Z', 'L.Knee_X', 'L.Knee_Y', 'L.Knee_Z', 'L.Knee.Medialv_X', 'L.Knee.Medialv_Y', 'L.Knee.Medialv_Z', 'R.HF_X', 'R.HF_Y', 'R.HF_Z', 'L.HF_X', 'L.HF_Y', 'L.HF_Z', 'R.TT_X', 'R.TT_Y', 'R.TT_Z', 'L.TT_X', 'L.TT_Y', 'L.TT_Z', 'R.Ankle_X', 'R.Ankle_Y', 'R.Ankle_Z', 'R.Ankle.Medialv_X', 'R.Ankle.Medialv_Y', 'R.Ankle.Medialv_Z', 'L.Ankle_X', 'L.Ankle_Y', 'L.Ankle_Z', 'L.Ankle.Medialv_X', 'L.Ankle.Medialv_Y', 'L.Ankle.Medialv_Z', 'R.Heel_X', 'R.Heel_Y', 'R.Heel_Z', 'L.Heel_X', 'L.Heel_Y', 'L.Heel_Z', 'R.MT1_X', 'R.MT1_Y', 'R.MT1_Z', 'R.MT2_X', 'R.MT2_Y', 'R.MT2_Z', 'R.MT5_X', 'R.MT5_Y', 'R.MT5_Z', 'L.MT1_X', 'L.MT1_Y', 'L.MT1_Z', 'L.MT2_X', 'L.MT2_Y', 'L.MT2_Z', 'L.MT5_X', 'L.MT5_Y', 'L.MT5_Z', 'COG_X', 'COG_Y', 'COG_Z']\n"
     ]
    }
   ],
   "source": [
    "from sklearn.linear_model import LinearRegression\n",
    "from sklearn.model_selection import train_test_split\n",
    "fs = 100 # Hz\n",
    "COPX = np.zeros((49, 60*fs-30))\n",
    "COPZ = np.zeros((49, 60*fs-30))\n",
    "\n",
    "COPXreal = np.zeros((49, 60*fs-30))\n",
    "COPYreal = np.zeros((49, 60*fs-30))\n",
    "COPZreal = np.zeros((49, 60*fs-30))\n",
    "\n",
    "d1x = np.zeros((49, 60*fs-30))\n",
    "d2x = np.zeros((49, 60*fs-30))\n",
    "\n",
    "d1z = np.zeros((49, 60*fs-30))\n",
    "d2z = np.zeros((49, 60*fs-30))\n",
    "\n",
    "matrizangx = np.zeros((49, 60*fs-30))\n",
    "matrizangz = np.zeros((49, 60*fs-30))\n",
    "\n",
    "alpha = np.zeros((49, 60*fs-30))\n",
    "\n",
    "COGX = np.zeros((49, 60*fs-30))\n",
    "COGY = np.zeros((49,60*fs-30))\n",
    "COGZ = np.zeros((49, 60*fs-30))  \n",
    "\n",
    "for s in range (1,50):\n",
    "    a = PDSinfo[PDSinfo['Subject']==s].index.tolist()[2]\n",
    "    \n",
    "    fname_grf = os.path.join(path2, PDSinfo.Trial[a] + 'grf' + '.txt') \n",
    "    fname_mkr = os.path.join(path2, PDSinfo.Trial[a] + 'mkr' + '.txt')\n",
    "    grf = pd.read_csv(fname_grf, delimiter='\\t', header=0, engine='c')\n",
    "    mkr = pd.read_csv(fname_mkr, delimiter='\\t', header=0, engine='c')\n",
    "    colunas = mkr.columns\n",
    "    print(list(colunas))\n",
    "    COGX[s-1,:]=mkr['COG_X'].values[30:]\n",
    "    COGY[s-1,:]=mkr['COG_Y'].values[30:]\n",
    "    COGZ[s-1,:]=mkr['COG_Z'].values[30:]\n",
    "    #print(COGX)\n",
    "    mass=PDSinfo['Mass']\n",
    "    d = np.sqrt(COGX[s-1,:]**2+COGY[s-1,:]**2+COGZ[s-1,:]**2)\n",
    "    angulox = np.arcsin(COGX[s-1,:]/d)\n",
    "    anguloz= np.arcsin(COGZ[s-1,:]/d)\n",
    "    sinx=np.sin(angulox)\n",
    "    sinz=np.sin(anguloz)\n",
    "    cosx=np.cos(angulox)\n",
    "    cosz=np.cos(anguloz)\n",
    "    tanx=np.tan(angulox)\n",
    "    tanz=np.tan(anguloz)\n",
    "    matrizangx[s-1,:] = angulox\n",
    "    matrizangz[s-1,:] = anguloz\n",
    "    \n",
    "    \n",
    "    Jb=(4/3)*(mass.values[s])*((d)**2)\n",
    "    t=grf['Time']\n",
    "    dt=t[1]-t[0]\n",
    "\n",
    "    d1x[s-1,:]=np.gradient(matrizangx[s-1,:],dt)\n",
    "    d1z[s-1,:]=np.gradient(matrizangz[s-1,:],dt)\n",
    "\n",
    "    d2x[s-1,:]=np.gradient(d1x[s-1,:],dt)\n",
    "    d2z[s-1,:]=np.gradient(d1z[s-1,:],dt)\n",
    "    \n",
    "    COPX[s-1,:] = d*sinx + Jb/(mass.values[s]*9.8)*(sinx*d1x[s-1,:]**2-cosx*d2x[s-1,:])\n",
    "    COPZ[s-1,:] = d*sinz + Jb/(mass.values[s]*9.8)*(sinz*d1z[s-1,:]**2-cosz*d2z[s-1,:])\n",
    "    \n",
    "    \n",
    "    COPXreal[s-1,:]=grf['COPNET_X'].values[30:]\n",
    "    COPZreal[s-1,:]=grf['COPNET_Z'].values[30:]\n",
    "    \n",
    "\n",
    "    \n",
    "    x= np.vstack((COPX[[s-1],:],d2x[[s-1],:]))\n",
    "    y= COPXreal[s-1,:]\n",
    "\n",
    "    model=LinearRegression(fit_intercept=False)\n",
    "    model.fit(x.T,y)\n",
    "    \n",
    "    \n",
    "    split=train_test_split(COGX,COPXreal,test_size=9)\n",
    "    COGXtrain = split[0]\n",
    "    COPXtrain = split[1]\n",
    "    COGXtest = split[2]\n",
    "    COPXtest = split[3]\n",
    "    \n",
    "#print(COGXtrain)\n",
    "#for i in COGXtrain:\n",
    " #   i=0\n",
    "#print(COGXtrain[i])\n",
    "    \n",
    "    \n",
    "    \n",
    "    \n",
    "    #print(model.coef_) \n",
    "    \n",
    "    #def reg_m(y, x):\n",
    "        #ones = np.ones(len(x[0]))\n",
    "        #X = sm.add_constant(np.column_stack((x[0], ones)))\n",
    "        #for oi in x[1:]:\n",
    "            #X = sm.add_constant(np.column_stack((oi, X)))\n",
    "            #results = sm.OLS(y, x).fit()\n",
    "            #return results\n",
    "    #print(model.coef_)\n",
    "    #print(reg_m(y, x.T).summary())\n",
    " \n",
    "    #print(model.coef_)\n",
    "    #x= (np.array([COPX[s-1,:],d2x[s-1,:]]))\n",
    "    #y= COPXreal[s-1,:]\n",
    "    #model=LinearRegression()\n",
    "    #model.fit(x.T,y)\n",
    "    #print(model.coef_) \n",
    "    #Histogramas\n",
    "    #plt.figure()\n",
    "    #hist=plt.hist(model.coef_[0], bins=50)\n",
    "    #plt.title('Histograms of alpha'.format(s))\n",
    "    #plt.show()\n"
   ]
  },
  {
   "cell_type": "code",
   "execution_count": 6,
   "id": "397a5bd9-1019-4364-9daf-79b734068267",
   "metadata": {},
   "outputs": [],
   "source": [
    "from sklearn.linear_model import LinearRegression\n",
    "from sklearn.model_selection import train_test_split\n",
    "fs = 100 # Hz\n",
    "COPX = np.zeros((49, 60*fs-30))\n",
    "COPZ = np.zeros((49, 60*fs-30))\n",
    "\n",
    "COPXreal = np.zeros((49, 60*fs-30))\n",
    "COPYreal = np.zeros((49, 60*fs-30))\n",
    "COPZreal = np.zeros((49, 60*fs-30))\n",
    "\n",
    "d1x = np.zeros((49, 60*fs-30))\n",
    "d2x = np.zeros((49, 60*fs-30))\n",
    "\n",
    "d1z = np.zeros((49, 60*fs-30))\n",
    "d2z = np.zeros((49, 60*fs-30))\n",
    "\n",
    "matrizangx = np.zeros((49, 60*fs-30))\n",
    "matrizangz = np.zeros((49, 60*fs-30))\n",
    "\n",
    "alpha = np.zeros((49, 60*fs-30))\n",
    "\n",
    "\n",
    "ASISX = np.zeros((49, 60*fs-30))\n",
    "ASISY = np.zeros((49,60*fs-30))\n",
    "ASISZ = np.zeros((49, 60*fs-30))\n",
    "\n",
    "subject = np.zeros((0,1))\n",
    "j=0\n",
    "\n",
    "for s in range (1,50):\n",
    "    a = PDSinfo[PDSinfo['Subject']==s].index.tolist()[2]\n",
    "    \n",
    "    fname_grf = os.path.join(path2, PDSinfo.Trial[a] + 'grf' + '.txt') \n",
    "    fname_mkr = os.path.join(path2, PDSinfo.Trial[a] + 'mkr' + '.txt')\n",
    "    grf = pd.read_csv(fname_grf, delimiter='\\t', header=0, engine='c')\n",
    "    mkr = pd.read_csv(fname_mkr, delimiter='\\t', header=0, engine='c')\n",
    "    colunas = mkr.columns\n",
    "    #print(list(colunas))\n",
    "    ASISX[s-1,:]=mkr['R.ASIS_X'].values[30:]\n",
    "    ASISY[s-1,:]=mkr['R.ASIS_Y'].values[30:]\n",
    "    ASISZ[s-1,:]=mkr['R.ASIS_Z'].values[30:]\n",
    "    #print(COGX)\n",
    "    mass=PDSinfo['Mass']\n",
    "    d = np.sqrt(ASISX[s-1,:]**2+ASISY[s-1,:]**2+ASISZ[s-1,:]**2)\n",
    "    angulox = np.arcsin(ASISX[s-1,:]/d)\n",
    "    anguloz= np.arcsin(ASISZ[s-1,:]/d)\n",
    "    sinx=np.sin(angulox)\n",
    "    sinz=np.sin(anguloz)\n",
    "    cosx=np.cos(angulox)\n",
    "    cosz=np.cos(anguloz)\n",
    "    tanx=np.tan(angulox)\n",
    "    tanz=np.tan(anguloz)\n",
    "    matrizangx[s-1,:] = angulox\n",
    "    matrizangz[s-1,:] = anguloz\n",
    "    \n",
    "    \n",
    "    \n",
    "    Jb=(4/3)*(mass.values[s])*((d)**2)\n",
    "    t=grf['Time']\n",
    "    dt=t[1]-t[0]\n",
    "\n",
    "    d1x[s-1,:]=np.gradient(matrizangx[s-1,:],dt)\n",
    "    d1z[s-1,:]=np.gradient(matrizangz[s-1,:],dt)\n",
    "\n",
    "    d2x[s-1,:]=np.gradient(d1x[s-1,:],dt)\n",
    "    d2z[s-1,:]=np.gradient(d1z[s-1,:],dt)\n",
    "    \n",
    "    COPX[s-1,:] = d*sinx + Jb/(mass.values[s]*9.8)*(sinx*d1x[s-1,:]**2-cosx*d2x[s-1,:])\n",
    "    COPZ[s-1,:] = d*sinz + Jb/(mass.values[s]*9.8)*(sinz*d1z[s-1,:]**2-cosz*d2z[s-1,:])\n",
    "    \n",
    "   \n",
    "    \n",
    "    \n",
    "    COPXreal[s-1,:]=grf['COPNET_X'].values[30:]\n",
    "    COPZreal[s-1,:]=grf['COPNET_Z'].values[30:]\n",
    "    \n",
    "    subject = np.vstack((subject, [s]))\n",
    "    \n"
   ]
  },
  {
   "cell_type": "code",
   "execution_count": 7,
   "id": "e6f6c625-0f0a-4e84-a27d-c329201b6c03",
   "metadata": {},
   "outputs": [],
   "source": [
    "indices = np.arange(1,50).reshape(-1,1)\n",
    "np.random.shuffle(indices)\n",
    "train = indices[:40]\n",
    "test = indices[40:]\n",
    "\n",
    "\n",
    "\n",
    "np.in1d(subject,train)\n",
    "ASISXtrain = ASISX[np.in1d(subject,train),:]\n",
    "ASISXtest = ASISX[np.in1d(subject,test),:]\n",
    "COPXtrain = COPX[np.in1d(subject,train),:]\n",
    "COPXtest = COPX[np.in1d(subject,test),:]\n",
    "ASISYtrain = ASISY[np.in1d(subject,train),:]\n",
    "ASISYtest = ASISY[np.in1d(subject,test),:]\n",
    "\n",
    "ASISZtrain = ASISZ[np.in1d(subject,train),:]\n",
    "ASISZtest = ASISZ[np.in1d(subject,test),:]\n",
    "COPZtrain = COPZ[np.in1d(subject,train),:]\n",
    "COPZtest = COPZ[np.in1d(subject,test),:]\n",
    "\n"
   ]
  },
  {
   "cell_type": "code",
   "execution_count": 27,
   "id": "4d1a276e-dc55-4f68-b5c4-cfa0a40e4eb5",
   "metadata": {},
   "outputs": [],
   "source": [
    "def centerofpressure (paramt):\n",
    "    from sklearn.model_selection import train_test_split\n",
    "    from scipy.optimize import minimize, rosen, rosen_der\n",
    "    #alpha= []\n",
    "    #beta=[]\n",
    "    #gama = []\n",
    "    for i in range(0,len(ASISXtrain)):\n",
    "        d = np.sqrt(ASISXtrain[i]**2+ASISYtrain[i]**2+ASISZtrain[i]**2)\n",
    "        angulox = np.arcsin(ASISXtrain[i]/d)\n",
    "        anguloz = np.arcsin(ASISZtrain[i]/d)\n",
    "        sinx=np.sin(angulox)\n",
    "        sinz=np.sin(anguloz)\n",
    "        cosx=np.cos(angulox)\n",
    "        cosz=np.cos(anguloz)\n",
    "        tanx=np.tan(angulox)\n",
    "        tanz=np.tan(anguloz)\n",
    "        matrizangx[i,:] = angulox\n",
    "        matrizangz[i,:] = anguloz\n",
    "        \n",
    "        A,alpha,beta, gama = paramt\n",
    "\n",
    "        sennovo = sinx*A + ((1-A**2)**1/2)*cosx\n",
    "\n",
    "        cosnovo = cosx*A - ((1-A**2)**1/2)*sinx\n",
    "\n",
    "        Jb=(4/3)*(mass.values[s])*((d)**2)\n",
    "        t=grf['Time']\n",
    "        dt=t[1]-t[0]\n",
    "\n",
    "        d1x[i,:]=np.gradient(matrizangx[i,:],dt)\n",
    "        d1z[i,:]=np.gradient(matrizangz[i,:],dt)\n",
    "\n",
    "\n",
    "\n",
    "        d2x[i,:]=np.gradient(d1x[i,:],dt)\n",
    "        d2z[i,:]=np.gradient(d1z[i,:],dt)\n",
    "\n",
    "        COPX[i,:] = d*sennovo + Jb/(mass.values[s]*9.8)*(sennovo*d1x[i,:]**2-cosnovo*d2x[i,:])\n",
    "        COPZ[i,:] = d*sinz + Jb/(mass.values[s]*9.8)*(sinz*d1z[i,:]**2-cosz*d2z[i,:])\n",
    "        \n",
    "        \n",
    "        \n",
    "        return alpha*(d*sennovo + ((Jb/(mass.values[s]*9.8))*sennovo*d1x[u,:]**2)) + d2x[u,:]*(-alpha*cosnovo*Jb/(mass.values[s]*9.8)+beta) + gama\n",
    "        \n",
    "\n",
    "\n",
    "    "
   ]
  },
  {
   "cell_type": "code",
   "execution_count": 28,
   "id": "a7306f5a-b911-4764-84d8-0b9afde81b12",
   "metadata": {},
   "outputs": [
    {
     "ename": "NameError",
     "evalue": "name 'u' is not defined",
     "output_type": "error",
     "traceback": [
      "\u001b[1;31m---------------------------------------------------------------------------\u001b[0m",
      "\u001b[1;31mNameError\u001b[0m                                 Traceback (most recent call last)",
      "\u001b[1;32m<ipython-input-28-489b18f9314d>\u001b[0m in \u001b[0;36m<module>\u001b[1;34m\u001b[0m\n\u001b[0;32m      3\u001b[0m \u001b[1;32mfrom\u001b[0m \u001b[0mscipy\u001b[0m\u001b[1;33m.\u001b[0m\u001b[0moptimize\u001b[0m \u001b[1;32mimport\u001b[0m \u001b[0mminimize\u001b[0m\u001b[1;33m,\u001b[0m \u001b[0mrosen\u001b[0m\u001b[1;33m,\u001b[0m \u001b[0mrosen_der\u001b[0m\u001b[1;33m\u001b[0m\u001b[1;33m\u001b[0m\u001b[0m\n\u001b[0;32m      4\u001b[0m \u001b[0mfirst_guess\u001b[0m \u001b[1;33m=\u001b[0m \u001b[1;33m[\u001b[0m\u001b[1;36m0\u001b[0m\u001b[1;33m,\u001b[0m\u001b[1;36m0\u001b[0m\u001b[1;33m,\u001b[0m\u001b[1;36m0\u001b[0m\u001b[1;33m,\u001b[0m\u001b[1;36m0\u001b[0m\u001b[1;33m]\u001b[0m\u001b[1;33m\u001b[0m\u001b[1;33m\u001b[0m\u001b[0m\n\u001b[1;32m----> 5\u001b[1;33m \u001b[0mres\u001b[0m \u001b[1;33m=\u001b[0m \u001b[0mminimize\u001b[0m\u001b[1;33m(\u001b[0m\u001b[0mcenterofpressure\u001b[0m\u001b[1;33m,\u001b[0m \u001b[0mfirst_guess\u001b[0m\u001b[1;33m)\u001b[0m\u001b[1;33m\u001b[0m\u001b[1;33m\u001b[0m\u001b[0m\n\u001b[0m\u001b[0;32m      6\u001b[0m \u001b[0mres\u001b[0m\u001b[1;33m.\u001b[0m\u001b[0mx\u001b[0m\u001b[1;33m\u001b[0m\u001b[1;33m\u001b[0m\u001b[0m\n",
      "\u001b[1;32m~\\anaconda3\\lib\\site-packages\\scipy\\optimize\\_minimize.py\u001b[0m in \u001b[0;36mminimize\u001b[1;34m(fun, x0, args, method, jac, hess, hessp, bounds, constraints, tol, callback, options)\u001b[0m\n\u001b[0;32m    612\u001b[0m         \u001b[1;32mreturn\u001b[0m \u001b[0m_minimize_cg\u001b[0m\u001b[1;33m(\u001b[0m\u001b[0mfun\u001b[0m\u001b[1;33m,\u001b[0m \u001b[0mx0\u001b[0m\u001b[1;33m,\u001b[0m \u001b[0margs\u001b[0m\u001b[1;33m,\u001b[0m \u001b[0mjac\u001b[0m\u001b[1;33m,\u001b[0m \u001b[0mcallback\u001b[0m\u001b[1;33m,\u001b[0m \u001b[1;33m**\u001b[0m\u001b[0moptions\u001b[0m\u001b[1;33m)\u001b[0m\u001b[1;33m\u001b[0m\u001b[1;33m\u001b[0m\u001b[0m\n\u001b[0;32m    613\u001b[0m     \u001b[1;32melif\u001b[0m \u001b[0mmeth\u001b[0m \u001b[1;33m==\u001b[0m \u001b[1;34m'bfgs'\u001b[0m\u001b[1;33m:\u001b[0m\u001b[1;33m\u001b[0m\u001b[1;33m\u001b[0m\u001b[0m\n\u001b[1;32m--> 614\u001b[1;33m         \u001b[1;32mreturn\u001b[0m \u001b[0m_minimize_bfgs\u001b[0m\u001b[1;33m(\u001b[0m\u001b[0mfun\u001b[0m\u001b[1;33m,\u001b[0m \u001b[0mx0\u001b[0m\u001b[1;33m,\u001b[0m \u001b[0margs\u001b[0m\u001b[1;33m,\u001b[0m \u001b[0mjac\u001b[0m\u001b[1;33m,\u001b[0m \u001b[0mcallback\u001b[0m\u001b[1;33m,\u001b[0m \u001b[1;33m**\u001b[0m\u001b[0moptions\u001b[0m\u001b[1;33m)\u001b[0m\u001b[1;33m\u001b[0m\u001b[1;33m\u001b[0m\u001b[0m\n\u001b[0m\u001b[0;32m    615\u001b[0m     \u001b[1;32melif\u001b[0m \u001b[0mmeth\u001b[0m \u001b[1;33m==\u001b[0m \u001b[1;34m'newton-cg'\u001b[0m\u001b[1;33m:\u001b[0m\u001b[1;33m\u001b[0m\u001b[1;33m\u001b[0m\u001b[0m\n\u001b[0;32m    616\u001b[0m         return _minimize_newtoncg(fun, x0, args, jac, hess, hessp, callback,\n",
      "\u001b[1;32m~\\anaconda3\\lib\\site-packages\\scipy\\optimize\\optimize.py\u001b[0m in \u001b[0;36m_minimize_bfgs\u001b[1;34m(fun, x0, args, jac, callback, gtol, norm, eps, maxiter, disp, return_all, finite_diff_rel_step, **unknown_options)\u001b[0m\n\u001b[0;32m   1133\u001b[0m         \u001b[0mmaxiter\u001b[0m \u001b[1;33m=\u001b[0m \u001b[0mlen\u001b[0m\u001b[1;33m(\u001b[0m\u001b[0mx0\u001b[0m\u001b[1;33m)\u001b[0m \u001b[1;33m*\u001b[0m \u001b[1;36m200\u001b[0m\u001b[1;33m\u001b[0m\u001b[1;33m\u001b[0m\u001b[0m\n\u001b[0;32m   1134\u001b[0m \u001b[1;33m\u001b[0m\u001b[0m\n\u001b[1;32m-> 1135\u001b[1;33m     sf = _prepare_scalar_function(fun, x0, jac, args=args, epsilon=eps,\n\u001b[0m\u001b[0;32m   1136\u001b[0m                                   finite_diff_rel_step=finite_diff_rel_step)\n\u001b[0;32m   1137\u001b[0m \u001b[1;33m\u001b[0m\u001b[0m\n",
      "\u001b[1;32m~\\anaconda3\\lib\\site-packages\\scipy\\optimize\\optimize.py\u001b[0m in \u001b[0;36m_prepare_scalar_function\u001b[1;34m(fun, x0, jac, args, bounds, epsilon, finite_diff_rel_step, hess)\u001b[0m\n\u001b[0;32m    259\u001b[0m     \u001b[1;31m# ScalarFunction caches. Reuse of fun(x) during grad\u001b[0m\u001b[1;33m\u001b[0m\u001b[1;33m\u001b[0m\u001b[1;33m\u001b[0m\u001b[0m\n\u001b[0;32m    260\u001b[0m     \u001b[1;31m# calculation reduces overall function evaluations.\u001b[0m\u001b[1;33m\u001b[0m\u001b[1;33m\u001b[0m\u001b[1;33m\u001b[0m\u001b[0m\n\u001b[1;32m--> 261\u001b[1;33m     sf = ScalarFunction(fun, x0, args, grad, hess,\n\u001b[0m\u001b[0;32m    262\u001b[0m                         finite_diff_rel_step, bounds, epsilon=epsilon)\n\u001b[0;32m    263\u001b[0m \u001b[1;33m\u001b[0m\u001b[0m\n",
      "\u001b[1;32m~\\anaconda3\\lib\\site-packages\\scipy\\optimize\\_differentiable_functions.py\u001b[0m in \u001b[0;36m__init__\u001b[1;34m(self, fun, x0, args, grad, hess, finite_diff_rel_step, finite_diff_bounds, epsilon)\u001b[0m\n\u001b[0;32m    134\u001b[0m \u001b[1;33m\u001b[0m\u001b[0m\n\u001b[0;32m    135\u001b[0m         \u001b[0mself\u001b[0m\u001b[1;33m.\u001b[0m\u001b[0m_update_fun_impl\u001b[0m \u001b[1;33m=\u001b[0m \u001b[0mupdate_fun\u001b[0m\u001b[1;33m\u001b[0m\u001b[1;33m\u001b[0m\u001b[0m\n\u001b[1;32m--> 136\u001b[1;33m         \u001b[0mself\u001b[0m\u001b[1;33m.\u001b[0m\u001b[0m_update_fun\u001b[0m\u001b[1;33m(\u001b[0m\u001b[1;33m)\u001b[0m\u001b[1;33m\u001b[0m\u001b[1;33m\u001b[0m\u001b[0m\n\u001b[0m\u001b[0;32m    137\u001b[0m \u001b[1;33m\u001b[0m\u001b[0m\n\u001b[0;32m    138\u001b[0m         \u001b[1;31m# Gradient evaluation\u001b[0m\u001b[1;33m\u001b[0m\u001b[1;33m\u001b[0m\u001b[1;33m\u001b[0m\u001b[0m\n",
      "\u001b[1;32m~\\anaconda3\\lib\\site-packages\\scipy\\optimize\\_differentiable_functions.py\u001b[0m in \u001b[0;36m_update_fun\u001b[1;34m(self)\u001b[0m\n\u001b[0;32m    224\u001b[0m     \u001b[1;32mdef\u001b[0m \u001b[0m_update_fun\u001b[0m\u001b[1;33m(\u001b[0m\u001b[0mself\u001b[0m\u001b[1;33m)\u001b[0m\u001b[1;33m:\u001b[0m\u001b[1;33m\u001b[0m\u001b[1;33m\u001b[0m\u001b[0m\n\u001b[0;32m    225\u001b[0m         \u001b[1;32mif\u001b[0m \u001b[1;32mnot\u001b[0m \u001b[0mself\u001b[0m\u001b[1;33m.\u001b[0m\u001b[0mf_updated\u001b[0m\u001b[1;33m:\u001b[0m\u001b[1;33m\u001b[0m\u001b[1;33m\u001b[0m\u001b[0m\n\u001b[1;32m--> 226\u001b[1;33m             \u001b[0mself\u001b[0m\u001b[1;33m.\u001b[0m\u001b[0m_update_fun_impl\u001b[0m\u001b[1;33m(\u001b[0m\u001b[1;33m)\u001b[0m\u001b[1;33m\u001b[0m\u001b[1;33m\u001b[0m\u001b[0m\n\u001b[0m\u001b[0;32m    227\u001b[0m             \u001b[0mself\u001b[0m\u001b[1;33m.\u001b[0m\u001b[0mf_updated\u001b[0m \u001b[1;33m=\u001b[0m \u001b[1;32mTrue\u001b[0m\u001b[1;33m\u001b[0m\u001b[1;33m\u001b[0m\u001b[0m\n\u001b[0;32m    228\u001b[0m \u001b[1;33m\u001b[0m\u001b[0m\n",
      "\u001b[1;32m~\\anaconda3\\lib\\site-packages\\scipy\\optimize\\_differentiable_functions.py\u001b[0m in \u001b[0;36mupdate_fun\u001b[1;34m()\u001b[0m\n\u001b[0;32m    131\u001b[0m \u001b[1;33m\u001b[0m\u001b[0m\n\u001b[0;32m    132\u001b[0m         \u001b[1;32mdef\u001b[0m \u001b[0mupdate_fun\u001b[0m\u001b[1;33m(\u001b[0m\u001b[1;33m)\u001b[0m\u001b[1;33m:\u001b[0m\u001b[1;33m\u001b[0m\u001b[1;33m\u001b[0m\u001b[0m\n\u001b[1;32m--> 133\u001b[1;33m             \u001b[0mself\u001b[0m\u001b[1;33m.\u001b[0m\u001b[0mf\u001b[0m \u001b[1;33m=\u001b[0m \u001b[0mfun_wrapped\u001b[0m\u001b[1;33m(\u001b[0m\u001b[0mself\u001b[0m\u001b[1;33m.\u001b[0m\u001b[0mx\u001b[0m\u001b[1;33m)\u001b[0m\u001b[1;33m\u001b[0m\u001b[1;33m\u001b[0m\u001b[0m\n\u001b[0m\u001b[0;32m    134\u001b[0m \u001b[1;33m\u001b[0m\u001b[0m\n\u001b[0;32m    135\u001b[0m         \u001b[0mself\u001b[0m\u001b[1;33m.\u001b[0m\u001b[0m_update_fun_impl\u001b[0m \u001b[1;33m=\u001b[0m \u001b[0mupdate_fun\u001b[0m\u001b[1;33m\u001b[0m\u001b[1;33m\u001b[0m\u001b[0m\n",
      "\u001b[1;32m~\\anaconda3\\lib\\site-packages\\scipy\\optimize\\_differentiable_functions.py\u001b[0m in \u001b[0;36mfun_wrapped\u001b[1;34m(x)\u001b[0m\n\u001b[0;32m    128\u001b[0m         \u001b[1;32mdef\u001b[0m \u001b[0mfun_wrapped\u001b[0m\u001b[1;33m(\u001b[0m\u001b[0mx\u001b[0m\u001b[1;33m)\u001b[0m\u001b[1;33m:\u001b[0m\u001b[1;33m\u001b[0m\u001b[1;33m\u001b[0m\u001b[0m\n\u001b[0;32m    129\u001b[0m             \u001b[0mself\u001b[0m\u001b[1;33m.\u001b[0m\u001b[0mnfev\u001b[0m \u001b[1;33m+=\u001b[0m \u001b[1;36m1\u001b[0m\u001b[1;33m\u001b[0m\u001b[1;33m\u001b[0m\u001b[0m\n\u001b[1;32m--> 130\u001b[1;33m             \u001b[1;32mreturn\u001b[0m \u001b[0mfun\u001b[0m\u001b[1;33m(\u001b[0m\u001b[0mx\u001b[0m\u001b[1;33m,\u001b[0m \u001b[1;33m*\u001b[0m\u001b[0margs\u001b[0m\u001b[1;33m)\u001b[0m\u001b[1;33m\u001b[0m\u001b[1;33m\u001b[0m\u001b[0m\n\u001b[0m\u001b[0;32m    131\u001b[0m \u001b[1;33m\u001b[0m\u001b[0m\n\u001b[0;32m    132\u001b[0m         \u001b[1;32mdef\u001b[0m \u001b[0mupdate_fun\u001b[0m\u001b[1;33m(\u001b[0m\u001b[1;33m)\u001b[0m\u001b[1;33m:\u001b[0m\u001b[1;33m\u001b[0m\u001b[1;33m\u001b[0m\u001b[0m\n",
      "\u001b[1;32m<ipython-input-27-d42343dc351f>\u001b[0m in \u001b[0;36mcenterofpressure\u001b[1;34m(paramt)\u001b[0m\n\u001b[0;32m     41\u001b[0m \u001b[1;33m\u001b[0m\u001b[0m\n\u001b[0;32m     42\u001b[0m \u001b[1;33m\u001b[0m\u001b[0m\n\u001b[1;32m---> 43\u001b[1;33m         \u001b[1;32mreturn\u001b[0m \u001b[0malpha\u001b[0m\u001b[1;33m*\u001b[0m\u001b[1;33m(\u001b[0m\u001b[0md\u001b[0m\u001b[1;33m*\u001b[0m\u001b[0msennovo\u001b[0m \u001b[1;33m+\u001b[0m \u001b[1;33m(\u001b[0m\u001b[1;33m(\u001b[0m\u001b[0mJb\u001b[0m\u001b[1;33m/\u001b[0m\u001b[1;33m(\u001b[0m\u001b[0mmass\u001b[0m\u001b[1;33m.\u001b[0m\u001b[0mvalues\u001b[0m\u001b[1;33m[\u001b[0m\u001b[0ms\u001b[0m\u001b[1;33m]\u001b[0m\u001b[1;33m*\u001b[0m\u001b[1;36m9.8\u001b[0m\u001b[1;33m)\u001b[0m\u001b[1;33m)\u001b[0m\u001b[1;33m*\u001b[0m\u001b[0msennovo\u001b[0m\u001b[1;33m*\u001b[0m\u001b[0md1x\u001b[0m\u001b[1;33m[\u001b[0m\u001b[0mu\u001b[0m\u001b[1;33m,\u001b[0m\u001b[1;33m:\u001b[0m\u001b[1;33m]\u001b[0m\u001b[1;33m**\u001b[0m\u001b[1;36m2\u001b[0m\u001b[1;33m)\u001b[0m\u001b[1;33m)\u001b[0m \u001b[1;33m+\u001b[0m \u001b[0md2x\u001b[0m\u001b[1;33m[\u001b[0m\u001b[0mu\u001b[0m\u001b[1;33m,\u001b[0m\u001b[1;33m:\u001b[0m\u001b[1;33m]\u001b[0m\u001b[1;33m*\u001b[0m\u001b[1;33m(\u001b[0m\u001b[1;33m-\u001b[0m\u001b[0malpha\u001b[0m\u001b[1;33m*\u001b[0m\u001b[0mcosnovo\u001b[0m\u001b[1;33m*\u001b[0m\u001b[0mJb\u001b[0m\u001b[1;33m/\u001b[0m\u001b[1;33m(\u001b[0m\u001b[0mmass\u001b[0m\u001b[1;33m.\u001b[0m\u001b[0mvalues\u001b[0m\u001b[1;33m[\u001b[0m\u001b[0ms\u001b[0m\u001b[1;33m]\u001b[0m\u001b[1;33m*\u001b[0m\u001b[1;36m9.8\u001b[0m\u001b[1;33m)\u001b[0m\u001b[1;33m+\u001b[0m\u001b[0mbeta\u001b[0m\u001b[1;33m)\u001b[0m \u001b[1;33m+\u001b[0m \u001b[0mgama\u001b[0m\u001b[1;33m\u001b[0m\u001b[1;33m\u001b[0m\u001b[0m\n\u001b[0m\u001b[0;32m     44\u001b[0m \u001b[1;33m\u001b[0m\u001b[0m\n\u001b[0;32m     45\u001b[0m \u001b[1;33m\u001b[0m\u001b[0m\n",
      "\u001b[1;31mNameError\u001b[0m: name 'u' is not defined"
     ]
    }
   ],
   "source": [
    "from sklearn.model_selection import train_test_split\n",
    "#from scipy import optmize\n",
    "from scipy.optimize import minimize, rosen, rosen_der\n",
    "first_guess = [0,0,0,0]\n",
    "res = minimize(centerofpressure, first_guess)\n",
    "res.x"
   ]
  },
  {
   "cell_type": "code",
   "execution_count": null,
   "id": "7a2d634b-5ee1-4b5b-9ce4-ed63c3870ed5",
   "metadata": {},
   "outputs": [],
   "source": [
    "/from sklearn.model_selection import train_test_split\n",
    "import matplotlib.pyplot as plt\n",
    "COPXES = np.zeros((len(COGXtest), 60*fs-30))\n",
    "COPXESorig =np.zeros((len(COGXtest), 60*fs-30))\n",
    "for u in range(0,len(COGXtest)):\n",
    "    d = np.sqrt(COGXtest[u]**2+COGYtest[u]**2+COGZtest[u]**2)\n",
    "    angulox = np.arcsin(COGXtest[u]/d)\n",
    "    anguloz = np.arcsin(COGZtest[u]/d)\n",
    "    sinx=np.sin(angulox)\n",
    "    sinz=np.sin(anguloz)\n",
    "    cosx=np.cos(angulox)\n",
    "    cosz=np.cos(anguloz)\n",
    "    tanx=np.tan(angulox)\n",
    "    tanz=np.tan(anguloz)\n",
    "    matrizangx[u,:] = angulox\n",
    "    matrizangz[u,:] = anguloz\n",
    "    \n",
    "    Jb=(4/3)*(mass.values[s])*((d)**2)\n",
    "    t=grf['Time']\n",
    "    dt=t[1]-t[0]\n",
    "\n",
    "    d1x[u,:]=np.gradient(matrizangx[u,:],dt)\n",
    "    d1z[u,:]=np.gradient(matrizangz[u,:],dt)\n",
    "    \n",
    "    \n",
    "\n",
    "    d2x[u,:]=np.gradient(d1x[u,:],dt)\n",
    "    d2z[u,:]=np.gradient(d1z[u,:],dt)\n",
    "    \n",
    "    \n",
    "    COPX[u,:] = d*sinx + Jb/(mass.values[s]*9.8)*(sinx*d1x[u,:]**2-cosx*d2x[u,:])\n",
    "    \n",
    "    \n",
    "    #COPXES[u,:] = alfamedia* COPX[u,:] + betamedia*(d2x[u,:])\n",
    "    \n",
    "    COPXES[u,:] = alfamedia*(d*sinx + ((Jb/(mass.values[s]*9.8))*sinx*d1x[u,:]**2)) + d2x[u,:]*(-alfamedia*cosx*Jb/(mass.values[s]*9.8)+betamedia)\n",
    "    COPXESorig[u,:]= COPX[u,:]\n",
    "\n",
    "print (COPXESorig.shape)\n",
    "print(COGXtest.shape)\n",
    "time = np.arange(0,6000)/100\n",
    "for i in range(0,len(COGXtest)):\n",
    "    plt.figure()\n",
    "    plt.plot(time[:5970],detrend(COPXES[i,:]),color='purple',label='COP predicted')\n",
    "    plt.plot(time[:5970],detrend(COPXreal[i]),color='blue', label='COP real')\n",
    "    plt.title('COP real X COP calculated for test {:.1f}'.format(i))\n",
    "    plt.xlabel('Time')\n",
    "    plt.legend()\n",
    "    plt.show()\n"
   ]
  },
  {
   "cell_type": "markdown",
   "id": "49ecdaf3-45bd-4781-bef4-f18a6129b3f3",
   "metadata": {},
   "source": [
    "Error from COPXESorig "
   ]
  },
  {
   "cell_type": "code",
   "execution_count": null,
   "id": "bc60a2e0-0281-4100-b80a-0608f359056a",
   "metadata": {},
   "outputs": [],
   "source": [
    "from sklearn.metrics import mean_squared_error\n",
    "ytrue = COPXtest\n",
    "ypredicted = COPXESorig\n",
    "mean_squared_error(ytrue, ypredicted)"
   ]
  },
  {
   "cell_type": "code",
   "execution_count": null,
   "id": "e48073d5-92d6-44f4-a02d-901006c158b2",
   "metadata": {},
   "outputs": [],
   "source": [
    "erro= (COPXtest - COPXESorig)**2\n",
    "print(erro.mean())"
   ]
  },
  {
   "cell_type": "markdown",
   "id": "b063388b-8f74-4d87-8802-b136583caa3f",
   "metadata": {},
   "source": [
    "Error from COPXES"
   ]
  },
  {
   "cell_type": "code",
   "execution_count": null,
   "id": "80129e62-61ac-44e1-9d8e-7165daa7ba76",
   "metadata": {},
   "outputs": [],
   "source": [
    "from sklearn.metrics import mean_squared_error\n",
    "ytrue = COPXtest\n",
    "ypredicted = COPXES\n",
    "mean_squared_error(ytrue, ypredicted)"
   ]
  },
  {
   "cell_type": "code",
   "execution_count": null,
   "id": "de4d9dac-20ab-4357-bc9a-225f5d790e02",
   "metadata": {},
   "outputs": [],
   "source": [
    "erro= (COPXtest - COPXES)**2\n",
    "print(erro.mean())"
   ]
  }
 ],
 "metadata": {
  "kernelspec": {
   "display_name": "Python 3",
   "language": "python",
   "name": "python3"
  },
  "language_info": {
   "codemirror_mode": {
    "name": "ipython",
    "version": 3
   },
   "file_extension": ".py",
   "mimetype": "text/x-python",
   "name": "python",
   "nbconvert_exporter": "python",
   "pygments_lexer": "ipython3",
   "version": "3.8.8"
  }
 },
 "nbformat": 4,
 "nbformat_minor": 5
}
