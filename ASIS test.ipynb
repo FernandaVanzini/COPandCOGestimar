{
 "cells": [
  {
   "cell_type": "code",
   "execution_count": 69,
   "id": "4d6f2b2e-9889-4f20-a259-70287557fe9a",
   "metadata": {
    "ExecuteTime": {
     "end_time": "2017-02-27T18:50:34.521091Z",
     "start_time": "2017-02-27T15:50:33.800352-03:00"
    },
    "editable": true,
    "tags": []
   },
   "outputs": [],
   "source": [
    "import numpy as np\n",
    "#from scipy.signal import butter, filtfilt\n",
    "import pandas as pd\n",
    "import matplotlib\n",
    "import matplotlib.pyplot as plt\n",
    "import matplotlib.gridspec as gridspec\n",
    "%matplotlib inline\n",
    "#import seaborn as sns\n",
    "#sns.set_context(\"notebook\", font_scale=1.3,\n",
    "#                rc={'lines.linewidth': 1.5, 'lines.markersize': 14, 'axes.titlesize': 'x-large'})\n",
    "#matplotlib.rc('legend', numpoints=1, fontsize=14)\n",
    "#import glob\n",
    "import sys, os\n",
    "sys.path.insert(1, r'./Functions')\n",
    "# IPython widgets:\n",
    "from IPython.display import display\n",
    "import ipywidgets\n",
    "from ipywidgets import FloatProgress, interactive\n",
    "import seaborn as sns\n",
    "from scipy.signal import detrend"
   ]
  },
  {
   "cell_type": "code",
   "execution_count": 70,
   "id": "b6a86806-06a6-4230-a0e4-3dcc4c587c23",
   "metadata": {
    "collapsed": false,
    "editable": true,
    "jupyter": {
     "outputs_hidden": false
    },
    "tags": []
   },
   "outputs": [
    {
     "name": "stdout",
     "output_type": "stream",
     "text": [
      "The version_information extension is already loaded. To reload it, use:\n",
      "  %reload_ext version_information\n"
     ]
    },
    {
     "data": {
      "application/json": {
       "Software versions": [
        {
         "module": "Python",
         "version": "3.8.8 64bit [MSC v.1916 64 bit (AMD64)]"
        },
        {
         "module": "IPython",
         "version": "7.22.0"
        },
        {
         "module": "OS",
         "version": "Windows 10 10.0.22621 SP0"
        },
        {
         "module": "numpy",
         "version": "1.20.1"
        },
        {
         "module": "scipy",
         "version": "1.6.2"
        },
        {
         "module": "pandas",
         "version": "1.2.4"
        },
        {
         "module": "matplotlib",
         "version": "3.3.4"
        },
        {
         "module": "seaborn",
         "version": "0.11.1"
        }
       ]
      },
      "text/html": [
       "<table><tr><th>Software</th><th>Version</th></tr><tr><td>Python</td><td>3.8.8 64bit [MSC v.1916 64 bit (AMD64)]</td></tr><tr><td>IPython</td><td>7.22.0</td></tr><tr><td>OS</td><td>Windows 10 10.0.22621 SP0</td></tr><tr><td>numpy</td><td>1.20.1</td></tr><tr><td>scipy</td><td>1.6.2</td></tr><tr><td>pandas</td><td>1.2.4</td></tr><tr><td>matplotlib</td><td>3.3.4</td></tr><tr><td>seaborn</td><td>0.11.1</td></tr><tr><td colspan='2'>Thu Apr 20 12:13:29 2023 Hora oficial do Brasil</td></tr></table>"
      ],
      "text/latex": [
       "\\begin{tabular}{|l|l|}\\hline\n",
       "{\\bf Software} & {\\bf Version} \\\\ \\hline\\hline\n",
       "Python & 3.8.8 64bit [MSC v.1916 64 bit (AMD64)] \\\\ \\hline\n",
       "IPython & 7.22.0 \\\\ \\hline\n",
       "OS & Windows 10 10.0.22621 SP0 \\\\ \\hline\n",
       "numpy & 1.20.1 \\\\ \\hline\n",
       "scipy & 1.6.2 \\\\ \\hline\n",
       "pandas & 1.2.4 \\\\ \\hline\n",
       "matplotlib & 3.3.4 \\\\ \\hline\n",
       "seaborn & 0.11.1 \\\\ \\hline\n",
       "\\hline \\multicolumn{2}{|l|}{Thu Apr 20 12:13:29 2023 Hora oficial do Brasil} \\\\ \\hline\n",
       "\\end{tabular}\n"
      ],
      "text/plain": [
       "Software versions\n",
       "Python 3.8.8 64bit [MSC v.1916 64 bit (AMD64)]\n",
       "IPython 7.22.0\n",
       "OS Windows 10 10.0.22621 SP0\n",
       "numpy 1.20.1\n",
       "scipy 1.6.2\n",
       "pandas 1.2.4\n",
       "matplotlib 3.3.4\n",
       "seaborn 0.11.1\n",
       "Thu Apr 20 12:13:29 2023 Hora oficial do Brasil"
      ]
     },
     "execution_count": 70,
     "metadata": {},
     "output_type": "execute_result"
    }
   ],
   "source": [
    "#!pip install version_information\n",
    "%load_ext version_information\n",
    "%version_information numpy, scipy, pandas, matplotlib, seaborn"
   ]
  },
  {
   "cell_type": "code",
   "execution_count": 71,
   "id": "43e6855e-f2a8-45c3-b876-864fd3b24795",
   "metadata": {
    "ExecuteTime": {
     "end_time": "2017-02-27T18:50:34.534681Z",
     "start_time": "2017-02-27T15:50:34.521091-03:00"
    },
    "collapsed": false,
    "editable": true,
    "jupyter": {
     "outputs_hidden": false
    },
    "tags": []
   },
   "outputs": [
    {
     "name": "stdout",
     "output_type": "stream",
     "text": [
      "C:\\\\Users\\\\ferna\\\\Downloads\\\\IC- dados\\\\Dados\\PDSinfo.txt\n",
      "Information of 49 subjects loaded (588 rows, 29 columns).\n"
     ]
    }
   ],
   "source": [
    "# GitHub URL:\n",
    "#path2 = 'C:\\Users\\ferna\\Downloads\\IC- dados\\Dados'\n",
    "#local directory:\n",
    "path2 = r'C:\\\\Users\\\\ferna\\\\Downloads\\\\IC- dados\\\\Dados'\n",
    "#path2 = '/home/rnwatanabe/copdata'\n",
    "fname = os.path.join(path2, 'PDSinfo.txt')\n",
    "PDSinfo = pd.read_csv(fname, sep='\\t', header=0, index_col=None, engine='c', encoding='utf-8')\n",
    "print(fname)\n",
    "print(\"Information of %s subjects loaded (%s rows, %s columns).\"\n",
    "      %(len(pd.unique(PDSinfo.Subject)), PDSinfo.shape[0], PDSinfo.shape[1]))"
   ]
  },
  {
   "cell_type": "code",
   "execution_count": 72,
   "id": "980b8fea-56f9-4a6b-93de-a2c44fffce60",
   "metadata": {
    "tags": []
   },
   "outputs": [],
   "source": [
    "a=PDSinfo[PDSinfo['Subject']==44].index.tolist()\n",
    "e=PDSinfo[PDSinfo['Subject']==44].index.tolist()[2]\n",
    "ei = PDSinfo[PDSinfo['Subject']==44]"
   ]
  },
  {
   "cell_type": "code",
   "execution_count": 73,
   "id": "437d68f5-6675-41ee-a607-bdb6710ae19e",
   "metadata": {
    "tags": []
   },
   "outputs": [
    {
     "name": "stderr",
     "output_type": "stream",
     "text": [
      "<ipython-input-73-a0a5ca5da4aa>:69: RuntimeWarning: invalid value encountered in true_divide\n",
      "  angulox[trial,:] = np.arcsin(ASISX[trial,:]/d[trial,:])\n",
      "<ipython-input-73-a0a5ca5da4aa>:70: RuntimeWarning: invalid value encountered in true_divide\n",
      "  anguloz[trial,:] = np.arcsin(ASISZ[trial,:]/d[trial,:])\n",
      "<ipython-input-73-a0a5ca5da4aa>:69: RuntimeWarning: invalid value encountered in true_divide\n",
      "  angulox[trial,:] = np.arcsin(ASISX[trial,:]/d[trial,:])\n",
      "<ipython-input-73-a0a5ca5da4aa>:70: RuntimeWarning: invalid value encountered in true_divide\n",
      "  anguloz[trial,:] = np.arcsin(ASISZ[trial,:]/d[trial,:])\n"
     ]
    },
    {
     "name": "stdout",
     "output_type": "stream",
     "text": [
      "(5970,)\n",
      "(588, 5970)\n"
     ]
    }
   ],
   "source": [
    "from sklearn.linear_model import LinearRegression\n",
    "from sklearn.model_selection import train_test_split\n",
    "fs = 100 # Hz\n",
    "import pickle \n",
    "#file = open('important', 'wb')\n",
    "\n",
    "COPX = np.zeros((49*12, 60*fs-30))\n",
    "COPZ = np.zeros((49*12, 60*fs-30))\n",
    "\n",
    "COPXreal = np.zeros((49*12, 60*fs-30))\n",
    "COPYreal = np.zeros((49*12, 60*fs-30))\n",
    "COPZreal = np.zeros((49*12, 60*fs-30))\n",
    "\n",
    "d1x = np.zeros((49*12, 60*fs-30))\n",
    "d2x = np.zeros((49*12, 60*fs-30))\n",
    "\n",
    "d1z = np.zeros((49*12, 60*fs-30))\n",
    "d2z = np.zeros((49*12, 60*fs-30))\n",
    "\n",
    "matrizangx = np.zeros((49*12, 60*fs-30))\n",
    "matrizangz = np.zeros((49*12, 60*fs-30))\n",
    "\n",
    "alpha = np.zeros((49*12, 60*fs-30))\n",
    "\n",
    "\n",
    "ASISX = np.empty((49*12, 60*fs-30))\n",
    "ASISY = np.empty((49*12, 60*fs-30))\n",
    "ASISZ = np.empty((49*12, 60*fs-30))\n",
    "\n",
    "d = np.zeros((49*12, 60*fs-30))\n",
    "\n",
    "\n",
    "angulox = np.zeros((49*12, 60*fs-30))\n",
    "anguloz= np.zeros((49*12, 60*fs-30))\n",
    "\n",
    "matrizangx = np.zeros((49*12, 60*fs-30))\n",
    "matrizangz = np.zeros((49*12, 60*fs-30))\n",
    "\n",
    "\n",
    "subject = np.zeros((0,1))\n",
    "j=0\n",
    "\n",
    "\n",
    "trial = 0\n",
    "for s in range (1,50):\n",
    "    \n",
    "    #a = PDSinfo[PDSinfo['Subject']==s].index.tolist()[2]\n",
    "    \n",
    "    ei = PDSinfo[PDSinfo['Subject']==s].index.tolist()\n",
    "    \n",
    "    \n",
    "    for i in range(0,len(ei)):\n",
    "        a = ei[i]\n",
    "        fname_grf = os.path.join(path2, PDSinfo.Trial[a] + 'grf' + '.txt') \n",
    "        fname_mkr = os.path.join(path2, PDSinfo.Trial[a] + 'mkr' + '.txt')\n",
    "        grf = pd.read_csv(fname_grf, delimiter='\\t', header=0, engine='c')\n",
    "        mkr = pd.read_csv(fname_mkr, delimiter='\\t', header=0, engine='c')\n",
    "        mkr = mkr.replace(np.nan,0)\n",
    "        grf = grf.replace(np.nan,0)\n",
    "        \n",
    "        ASISX[trial,:] =(mkr['R.ASIS_X'].values[30:])\n",
    "        ASISY[trial,:] =(mkr['R.ASIS_Y'].values[30:])\n",
    "        ASISZ[trial,:] =(mkr['R.ASIS_Z'].values[30:])\n",
    "        \n",
    "        \n",
    "        \n",
    "        mass=PDSinfo['Mass']\n",
    "        d[trial,:] = np.sqrt(ASISX[trial,:]**2+ASISY[trial,:]**2+ASISZ[trial,:]**2)\n",
    "        angulox[trial,:] = np.arcsin(ASISX[trial,:]/d[trial,:])\n",
    "        anguloz[trial,:] = np.arcsin(ASISZ[trial,:]/d[trial,:])\n",
    "        sinx = np.sin(angulox[trial,:])\n",
    "        sinz = np.sin(anguloz[trial,:])\n",
    "        cosx = np.cos(angulox[trial,:])\n",
    "        cosz = np.cos(anguloz[trial,:])\n",
    "        tanx = np.tan(angulox[trial,:])\n",
    "        tanz = np.tan(anguloz[trial,:])\n",
    "        matrizangx[trial,:] = angulox[trial,:]\n",
    "        matrizangz[trial,:] = anguloz[trial,:]\n",
    "\n",
    "\n",
    "        Jb=(4/3)*(mass.values[s])*((d[trial,:])**2)\n",
    "        t=grf['Time']\n",
    "        dt=t[1]-t[0]\n",
    "\n",
    "\n",
    "        d1x[trial,:] = np.gradient(matrizangx[trial,:],dt)\n",
    "        d1z[trial,:] = np.gradient(matrizangz[trial,:],dt)\n",
    "\n",
    "        d2x[trial,:] = np.gradient(d1x[trial,:],dt)\n",
    "        d2z[trial,:] = np.gradient(d1z[trial,:],dt)\n",
    "\n",
    "        COPX[trial,:] = d[trial,:]*sinx + Jb/(mass.values[s]*9.8)*(sinx*d1x[trial,:]**2-cosx*d2x[trial,:]) \n",
    "        COPZ[trial,:] = d[trial,:]*sinz + Jb/(mass.values[s]*9.8)*(sinz*d1z[trial,:]**2-cosz*d2z[trial,:])\n",
    "\n",
    "\n",
    "\n",
    "\n",
    "        COPXreal[trial,:] = grf['COPNET_X'].values[30:]\n",
    "        COPZreal[trial,:] = grf['COPNET_Z'].values[30:]\n",
    "\n",
    "        subject = np.vstack((subject, [s]))\n",
    "\n",
    "        trial = trial + 1\n",
    "\n",
    "            #ASISXnovo = np.vstack((ASISXnovo,(ASISX[-1,:])[np.logical_not(np.isnan(ASISX[-1,:]))]))\n",
    "            #ASISYnovo = np.vstack((ASISYnovo,(ASISY[-1,:])[np.logical_not(np.isnan(ASISY[-1,:]))]))\n",
    "            #ASISZnovo = np.vstack((ASISZnovo,(ASISZ[-1,:])[np.logical_not(np.isnan(ASISZ[-1,:]))]))\n",
    "\n",
    "\n",
    "            #if (ASISXnovo.size)!=0:\n",
    "       \n",
    "\n",
    "filename = 'COPX.pkl'\n",
    "\n",
    "file = open(filename, 'wb')\n",
    "\n",
    "# dump information to that file\n",
    "         \n",
    "pickle.dump(COPXreal, file)\n",
    "pickle.dump(COPZreal,file)\n",
    "pickle.dump(COPX,file)\n",
    "pickle.dump(COPZ,file)\n",
    "pickle.dump(d1x,file)\n",
    "pickle.dump(d1z,file)\n",
    "pickle.dump(d2x,file)\n",
    "pickle.dump(d2z,file)\n",
    "pickle.dump(matrizangx,file)\n",
    "pickle.dump(matrizangz,file)\n",
    "pickle.dump(ASISX,file)\n",
    "pickle.dump(ASISY,file)\n",
    "pickle.dump(ASISZ,file)\n",
    "pickle.dump(angulox,file)\n",
    "pickle.dump(anguloz,file)\n",
    "pickle.dump(d,file)\n",
    "pickle.dump(alpha,file)\n",
    "pickle.dump(subject,file)\n",
    "pickle.dump(ei,file)\n",
    "pickle.dump(sinx,file)\n",
    "pickle.dump(sinz,file)\n",
    "pickle.dump(cosx,file)\n",
    "pickle.dump(cosz,file)\n",
    "pickle.dump(tanx,file)\n",
    "pickle.dump(tanz,file)\n",
    "\n",
    "filename = 'COPZ.pkl'\n",
    "file = open(filename, 'wb')\n",
    "\n",
    "pickle.dump(COPZreal, file)\n",
    "print(asisx.shape)\n",
    "print(ASISX.shape)"
   ]
  },
  {
   "cell_type": "code",
   "execution_count": 74,
   "id": "5cae4cb9-0507-41ed-aaf0-88f64c03ffd5",
   "metadata": {
    "tags": []
   },
   "outputs": [
    {
     "name": "stderr",
     "output_type": "stream",
     "text": [
      "<ipython-input-74-01c1eae6216e>:69: RuntimeWarning: invalid value encountered in true_divide\n",
      "  angulox[trial,:] = np.arcsin(COGX[trial,:]/d[trial,:])\n",
      "<ipython-input-74-01c1eae6216e>:70: RuntimeWarning: invalid value encountered in true_divide\n",
      "  anguloz[trial,:] = np.arcsin(COGZ[trial,:]/d[trial,:])\n",
      "<ipython-input-74-01c1eae6216e>:69: RuntimeWarning: invalid value encountered in true_divide\n",
      "  angulox[trial,:] = np.arcsin(COGX[trial,:]/d[trial,:])\n",
      "<ipython-input-74-01c1eae6216e>:70: RuntimeWarning: invalid value encountered in true_divide\n",
      "  anguloz[trial,:] = np.arcsin(COGZ[trial,:]/d[trial,:])\n",
      "<ipython-input-74-01c1eae6216e>:69: RuntimeWarning: invalid value encountered in true_divide\n",
      "  angulox[trial,:] = np.arcsin(COGX[trial,:]/d[trial,:])\n",
      "<ipython-input-74-01c1eae6216e>:70: RuntimeWarning: invalid value encountered in true_divide\n",
      "  anguloz[trial,:] = np.arcsin(COGZ[trial,:]/d[trial,:])\n",
      "<ipython-input-74-01c1eae6216e>:69: RuntimeWarning: invalid value encountered in true_divide\n",
      "  angulox[trial,:] = np.arcsin(COGX[trial,:]/d[trial,:])\n",
      "<ipython-input-74-01c1eae6216e>:70: RuntimeWarning: invalid value encountered in true_divide\n",
      "  anguloz[trial,:] = np.arcsin(COGZ[trial,:]/d[trial,:])\n",
      "<ipython-input-74-01c1eae6216e>:69: RuntimeWarning: invalid value encountered in true_divide\n",
      "  angulox[trial,:] = np.arcsin(COGX[trial,:]/d[trial,:])\n",
      "<ipython-input-74-01c1eae6216e>:70: RuntimeWarning: invalid value encountered in true_divide\n",
      "  anguloz[trial,:] = np.arcsin(COGZ[trial,:]/d[trial,:])\n"
     ]
    },
    {
     "name": "stdout",
     "output_type": "stream",
     "text": [
      "False\n"
     ]
    }
   ],
   "source": [
    "from sklearn.linear_model import LinearRegression\n",
    "from sklearn.model_selection import train_test_split\n",
    "fs = 100 # Hz\n",
    "import pickle \n",
    "#file = open('important', 'wb')\n",
    "\n",
    "COPX = np.zeros((49*12, 60*fs-30))\n",
    "COPZ = np.zeros((49*12, 60*fs-30))\n",
    "\n",
    "COPXreal = np.zeros((49*12, 60*fs-30))\n",
    "COPYreal = np.zeros((49*12, 60*fs-30))\n",
    "COPZreal = np.zeros((49*12, 60*fs-30))\n",
    "\n",
    "d1x = np.zeros((49*12, 60*fs-30))\n",
    "d2x = np.zeros((49*12, 60*fs-30))\n",
    "\n",
    "d1z = np.zeros((49*12, 60*fs-30))\n",
    "d2z = np.zeros((49*12, 60*fs-30))\n",
    "\n",
    "matrizangx = np.zeros((49*12, 60*fs-30))\n",
    "matrizangz = np.zeros((49*12, 60*fs-30))\n",
    "\n",
    "alpha = np.zeros((49*12, 60*fs-30))\n",
    "\n",
    "\n",
    "COGX = np.empty((49*12, 60*fs-30))\n",
    "COGY = np.empty((49*12, 60*fs-30))\n",
    "COGZ = np.empty((49*12, 60*fs-30))\n",
    "\n",
    "d = np.zeros((49*12, 60*fs-30))\n",
    "\n",
    "\n",
    "angulox = np.zeros((49*12, 60*fs-30))\n",
    "anguloz= np.zeros((49*12, 60*fs-30))\n",
    "\n",
    "matrizangx = np.zeros((49*12, 60*fs-30))\n",
    "matrizangz = np.zeros((49*12, 60*fs-30))\n",
    "\n",
    "\n",
    "\n",
    "subject = np.zeros((0,1))\n",
    "j=0\n",
    "\n",
    "\n",
    "trial = 0\n",
    "for s in range (1,50):\n",
    "    \n",
    "    #a = PDSinfo[PDSinfo['Subject']==s].index.tolist()[2]\n",
    "    \n",
    "    ei = PDSinfo[PDSinfo['Subject']==s].index.tolist()\n",
    "    \n",
    "    \n",
    "    for i in range(0,len(ei)):\n",
    "        a = ei[i]\n",
    "        fname_grf = os.path.join(path2, PDSinfo.Trial[a] + 'grf' + '.txt') \n",
    "        fname_mkr = os.path.join(path2, PDSinfo.Trial[a] + 'mkr' + '.txt')\n",
    "        grf = pd.read_csv(fname_grf, delimiter='\\t', header=0, engine='c')\n",
    "        mkr = pd.read_csv(fname_mkr, delimiter='\\t', header=0, engine='c')\n",
    "        \n",
    "        mkr = mkr.replace(np.nan,0)\n",
    "        grf = grf.replace(np.nan,0)\n",
    "        \n",
    "        COGX[trial,:] = (mkr['COG_X'].values[30:])\n",
    "        COGY[trial,:] = (mkr['COG_Y'].values[30:])\n",
    "        COGZ[trial,:] = (mkr['COG_Z'].values[30:])\n",
    "        \n",
    "        mass=PDSinfo['Mass']\n",
    "        d[trial,:] = np.sqrt(COGX[trial,:]**2+COGY[trial,:]**2+COGZ[trial,:]**2)\n",
    "        angulox[trial,:] = np.arcsin(COGX[trial,:]/d[trial,:])\n",
    "        anguloz[trial,:] = np.arcsin(COGZ[trial,:]/d[trial,:])\n",
    "        sinx = np.sin(angulox[trial,:])\n",
    "        sinz = np.sin(anguloz[trial,:])\n",
    "        cosx = np.cos(angulox[trial,:])\n",
    "        cosz = np.cos(anguloz[trial,:])\n",
    "        tanx = np.tan(angulox[trial,:])\n",
    "        tanz = np.tan(anguloz[trial,:])\n",
    "        matrizangx[trial,:] = angulox[trial,:]\n",
    "        matrizangz[trial,:] = anguloz[trial,:]\n",
    "\n",
    "\n",
    "        Jb=(4/3)*(mass.values[s])*((d[trial,:])**2)\n",
    "        t=grf['Time']\n",
    "        dt=t[1]-t[0]\n",
    "\n",
    "\n",
    "        d1x[trial,:] = np.gradient(matrizangx[trial,:],dt)\n",
    "        d1z[trial,:] = np.gradient(matrizangz[trial,:],dt)\n",
    "\n",
    "        d2x[trial,:] = np.gradient(d1x[trial,:],dt)\n",
    "        d2z[trial,:] = np.gradient(d1z[trial,:],dt)\n",
    "\n",
    "        COPX[trial,:] = d[trial,:]*sinx + Jb/(mass.values[s]*9.8)*(sinx*d1x[trial,:]**2-cosx*d2x[trial,:]) \n",
    "        COPZ[trial,:] = d[trial,:]*sinz + Jb/(mass.values[s]*9.8)*(sinz*d1z[trial,:]**2-cosz*d2z[trial,:])\n",
    "\n",
    "\n",
    "\n",
    "\n",
    "        COPXreal[trial,:] = grf['COPNET_X'].values[30:]\n",
    "        COPZreal[trial,:] = grf['COPNET_Z'].values[30:]\n",
    "\n",
    "        subject = np.vstack((subject, [s]))\n",
    "\n",
    "        trial = trial + 1\n",
    "\n",
    "            #ASISXnovo = np.vstack((ASISXnovo,(ASISX[-1,:])[np.logical_not(np.isnan(ASISX[-1,:]))]))\n",
    "            #ASISYnovo = np.vstack((ASISYnovo,(ASISY[-1,:])[np.logical_not(np.isnan(ASISY[-1,:]))]))\n",
    "            #ASISZnovo = np.vstack((ASISZnovo,(ASISZ[-1,:])[np.logical_not(np.isnan(ASISZ[-1,:]))]))\n",
    "\n",
    "\n",
    "            #if (ASISXnovo.size)!=0:\n",
    "       \n",
    "\n",
    "filename = 'COPX.pkl'\n",
    "\n",
    "file = open(filename, 'wb')\n",
    "\n",
    "# dump information to that file\n",
    "         \n",
    "pickle.dump(COPXreal, file)\n",
    "pickle.dump(COPZreal,file)\n",
    "pickle.dump(COPX,file)\n",
    "pickle.dump(COPZ,file)\n",
    "pickle.dump(d1x,file)\n",
    "pickle.dump(d1z,file)\n",
    "pickle.dump(d2x,file)\n",
    "pickle.dump(d2z,file)\n",
    "pickle.dump(matrizangx,file)\n",
    "pickle.dump(matrizangz,file)\n",
    "pickle.dump(COGX,file)\n",
    "pickle.dump(COGY,file)\n",
    "pickle.dump(COGZ,file)\n",
    "pickle.dump(angulox,file)\n",
    "pickle.dump(anguloz,file)\n",
    "pickle.dump(d,file)\n",
    "pickle.dump(alpha,file)\n",
    "pickle.dump(subject,file)\n",
    "pickle.dump(ei,file)\n",
    "pickle.dump(sinx,file)\n",
    "pickle.dump(sinz,file)\n",
    "pickle.dump(cosx,file)\n",
    "pickle.dump(cosz,file)\n",
    "pickle.dump(tanx,file)\n",
    "pickle.dump(tanz,file)\n",
    "\n",
    "filename = 'COPZ.pkl'\n",
    "file = open(filename, 'wb')\n",
    "\n",
    "pickle.dump(COPZreal, file)\n",
    "print(np.isnan(cogx).any())\n",
    "\n"
   ]
  },
  {
   "cell_type": "code",
   "execution_count": 75,
   "id": "e90a6483-8e6f-4319-a0e0-825b7ec23eae",
   "metadata": {
    "tags": []
   },
   "outputs": [
    {
     "data": {
      "text/plain": [
       "array([-0.000594, -0.000535, -0.000462, ...,  0.012296,  0.012536,\n",
       "        0.012802])"
      ]
     },
     "execution_count": 75,
     "metadata": {},
     "output_type": "execute_result"
    }
   ],
   "source": [
    "np.delete(COPXreal,np.where(COPXreal == 0))\n",
    "\n",
    "np.delete(COPZreal,np.where(COPXreal == 0))\n",
    "\n",
    "#np.delete(ASISX,np.where(ASISX == np.nan))\n"
   ]
  },
  {
   "cell_type": "code",
   "execution_count": 77,
   "id": "e6f6c625-0f0a-4e84-a27d-c329201b6c03",
   "metadata": {},
   "outputs": [
    {
     "name": "stdout",
     "output_type": "stream",
     "text": [
      "(588, 5970)\n",
      "(588, 1)\n"
     ]
    }
   ],
   "source": [
    "indices = np.arange(1,50).reshape(-1,1)\n",
    "np.random.shuffle(indices)\n",
    "train = indices[:40]\n",
    "test = indices[40:]\n",
    "asisx = np.zeros((588,5970))\n",
    "\n",
    "masstrain = mass.values[train]\n",
    "masstest = mass.values[test]\n",
    "\n",
    "np.in1d(subject,train)\n",
    "print(asisx.shape)\n",
    "print(subject.shape)\n",
    "\n",
    "ASISXtrain = ASISX[np.in1d(subject,train),]\n",
    "COGXtrain = COGZ[np.in1d(subject,train),]\n",
    "COGXtest = COGX[np.in1d(subject,test),]\n",
    "ASISXtest = ASISX[np.in1d(subject,test),]\n",
    "COPXtrain = COPX[np.in1d(subject,train),]\n",
    "COPXtest = COPX[np.in1d(subject,test),]\n",
    "\n",
    "ASISYtrain = ASISY[np.in1d(subject,train),]\n",
    "COGYtrain = COGY[np.in1d(subject,train),]\n",
    "COGYtest = COGY[np.in1d(subject,test),]\n",
    "ASISYtest = ASISY[np.in1d(subject,test),]\n",
    "\n",
    "ASISZtrain = ASISZ[np.in1d(subject,train),]\n",
    "ASISZtest = ASISZ[np.in1d(subject,test),]\n",
    "COPZtrain = COPZ[np.in1d(subject,train),]\n",
    "COPZtest = COPZ[np.in1d(subject,test),]\n",
    "COGZtrain = COGZ[np.in1d(subject,train),]\n",
    "COGZtest = COGZ[np.in1d(subject,test),]\n",
    "\n"
   ]
  },
  {
   "cell_type": "code",
   "execution_count": 78,
   "id": "aa27057f-727e-4a8c-9c3a-6127b9f3aa02",
   "metadata": {},
   "outputs": [],
   "source": [
    "def newdist(paramt,x,y,z):\n",
    "    from sklearn.model_selection import train_test_split\n",
    "    from scipy.optimize import minimize, rosen, rosen_der\n",
    "    from sklearn.metrics import mean_squared_error\n",
    "    dest = np.zeros((60*fs-30))\n",
    "    d = np.zeros((60*fs-30))\n",
    "    for i in range(0, len(x)):\n",
    "\n",
    "        delta,mi = paramt\n",
    "\n",
    "        d[i] = np.mean(np.sqrt(x[i]**2+y[i]**2+z[i]**2))\n",
    "\n",
    "\n",
    "        dest[i] = delta * d[i] + mi\n",
    "    \n",
    "      \n",
    "    return dest\n"
   ]
  },
  {
   "cell_type": "code",
   "execution_count": 79,
   "id": "d01576ce-ebf5-4173-8c43-1b5e7a24945e",
   "metadata": {},
   "outputs": [],
   "source": [
    "#for i in range(0,len(COGXtrain)):\n",
    "        \n",
    "        #d= np.sqrt(COGXtrain[i]**2+COGYtrain[i]**2+COGZtrain[i]**2)\n",
    "        \n",
    "def meansquarerrordist(paramt,d,ASISXtrain,ASISYtrain,ASISZtrain):\n",
    "    d = np.zeros((60*fs-30))\n",
    "    from sklearn.metrics import mean_squared_error\n",
    "    ytrue = np.zeros((60*fs-30))\n",
    "    ypredicted = np.zeros((60*fs-30))\n",
    "    for i in range(0,len(ASISXtrain)):\n",
    "        #print(COGXtrain.shape)\n",
    "        \n",
    "        d[i] = np.mean(np.sqrt(COGXtrain[i]**2+COGYtrain[i]**2+COGZtrain[i]**2))\n",
    "        \n",
    "        \n",
    "        ytrue[i] = d[i]\n",
    "        \n",
    "        ypredicted = newdist(paramt,ASISXtrain,ASISYtrain,ASISZtrain)\n",
    "    \n",
    "    \n",
    "    \n",
    "        \n",
    "    return mean_squared_error(ytrue, ypredicted)\n"
   ]
  },
  {
   "cell_type": "code",
   "execution_count": 80,
   "id": "3158a38e-9ed0-4ecd-b99c-8aa79390f345",
   "metadata": {},
   "outputs": [
    {
     "name": "stdout",
     "output_type": "stream",
     "text": [
      "0.9999991574027031\n",
      "-2.09088914947253e-06\n"
     ]
    }
   ],
   "source": [
    "from sklearn.model_selection import train_test_split\n",
    "#from scipy import optmize\n",
    "from scipy.optimize import minimize, rosen, rosen_der\n",
    "first_guess = [1,1]\n",
    "res = minimize(meansquarerrordist, first_guess,(d,COGXtrain,COGYtrain,COGZtrain))\n",
    "coeficientes = res.x\n",
    "delta=coeficientes[0]\n",
    "mi=coeficientes[1]\n",
    "print(delta)\n",
    "print(mi)"
   ]
  },
  {
   "cell_type": "code",
   "execution_count": 81,
   "id": "f4548c41-087c-434d-a4ef-cb8454946c32",
   "metadata": {},
   "outputs": [],
   "source": [
    "treino = newdist(coeficientes,COGXtrain,COGYtrain,COGZtrain)\n",
    "teste = newdist(coeficientes,COGXtest,COGYtest,COGZtest)"
   ]
  },
  {
   "cell_type": "markdown",
   "id": "57e2a4c8-7489-4c98-92fa-98d8d6d4136c",
   "metadata": {},
   "source": [
    "Regressão linear distância"
   ]
  },
  {
   "cell_type": "code",
   "execution_count": null,
   "id": "2a40b8b4-a488-4a50-af54-44f8ab0b8dc9",
   "metadata": {},
   "outputs": [],
   "source": [
    "def centerofpressure(paramt, M,x,y,z):\n",
    "    from sklearn.model_selection import train_test_split\n",
    "    from scipy.optimize import minimize, rosen, rosen_der\n",
    "    from sklearn.metrics import mean_squared_error\n",
    "    COPXES = np.zeros((1, 60*fs-30))\n",
    "    COPXESorig =np.zeros((1, 60*fs-30))\n",
    "    dest =np.zeros((1,60*fs-30))\n",
    "    trial = 0 \n",
    "    sennovox=np.zeros((1,60*fs-30))\n",
    "    cosnovox =np.zeros((1,60*fs-30))\n",
    "    sennovoz=np.zeros((1,60*fs-30))\n",
    "    cosnovoz =np.zeros((1,60*fs-30))\n",
    "    \n",
    "    for i in range(0,len(x)):\n",
    "        \n",
    "        A,alpha,beta, gama= paramt\n",
    "        \n",
    "        d[trial,:] = np.mean(np.sqrt(x[trial,:]**2+y[trial,:]**2+z[trial,:]**2))\n",
    "        \n",
    "        dest[trial,:] = delta * d[trial,:] + mi\n",
    "        \n",
    "        if (any(np.isnan(dest[trial,:]))) != 'True':\n",
    "            angulox[trial,:] = np.arcsin(np.tanh(x[trial,:]/dest[trial,:]))\n",
    "            anguloz[trial,:] = np.arcsin(np.tanh(z[trial,:]/dest[trial,:]))\n",
    "            sinx=np.sin(angulox[trial,:])\n",
    "            sinz=np.sin(anguloz[trial,:])\n",
    "            cosx=np.cos(angulox[trial,:])\n",
    "            cosz=np.cos(anguloz[trial,:])\n",
    "            tanx=np.tan(angulox[trial,:])\n",
    "            tanz=np.tan(anguloz[trial,:])\n",
    "            matrizangx[i,:] = angulox[trial,:]\n",
    "            matrizangz[i,:] = anguloz[trial,:]\n",
    "\n",
    "\n",
    "\n",
    "\n",
    "\n",
    "\n",
    "\n",
    "            sennovox[trial,:] = (sinx)*A + ((1-A**2)**1/2)*(cosx)\n",
    "            \n",
    "\n",
    "            cosnovox[trial,:] = (cosx)*A - ((1-A**2)**1/2)*(sinx)\n",
    "            \n",
    "            sennovoz[trial,:] = (sinz)*A + ((1-A**2)**1/2)*(cosz)\n",
    "           \n",
    "\n",
    "            cosnovoz[trial,:] = (cosz)*A - ((1-A**2)**1/2)*(sinz)\n",
    "\n",
    "\n",
    "\n",
    "\n",
    "            Jb=(4/3)*(M[trial,:])*((dest[trial,:])**2)\n",
    "            \n",
    "            t=grf['Time']\n",
    "            dt=t[1]-t[0]\n",
    "            \n",
    "            d1x[trial,:]=np.gradient(matrizangx[trial,:],dt)\n",
    "            d1z[trial,:]=np.gradient(matrizangz[trial,:],dt)\n",
    "            \n",
    "            \n",
    "            d2x[trial,:]=np.gradient(d1x[trial,:],dt)\n",
    "            d2z[trial,:]=np.gradient(d1z[trial,:],dt)\n",
    "            \n",
    "            if (any(np.isnan(d1x[trial,:]))) != 'True' and (any(np.isnan(d1z[trial,:]))) != 'True' and (any(np.isnan(d2x[trial,:]))) != 'True' and (any(np.isnan(d2z[trial,:]))) != 'True':\n",
    "\n",
    "                COPX[trial,:] = dest[trial,:]*sennovox[trial,:] + Jb/(M[trial,:]*9.8)*(sennovox[trial,:]*d1x[trial,:]**2-cosnovox[trial,:]*d2x[trial,:])\n",
    "                COPZ[trial,:] = dest[trial,:]*sennovoz[trial,:] + Jb/(M[trial,:]*9.8)*(sennovoz[trial,:]*d1z[trial,:]**2-cosnovoz[trial,:]*d2z[trial,:])\n",
    "\n",
    "                COPXES[trial,:]= alpha*(dest[trial,:]*np.tanh(sennovox[trial,:]) + ((Jb/(M[trial,:]*9.8))*np.tanh(sennovox[trial,:])*d1x[trial,:]**2)) + d2x[trial,:]*(-alpha*np.tanh(cosnovox[trial,:])*Jb/(M[trial,:]*9.8)+beta) + gama\n",
    "                COPXESorig[trial,:]= COPX[trial,:]\n",
    "                \n",
    "\n",
    "        \n",
    "          \n",
    "    \n",
    "    return COPXES\n",
    "\n"
   ]
  },
  {
   "cell_type": "code",
   "execution_count": null,
   "id": "4d1a276e-dc55-4f68-b5c4-cfa0a40e4eb5",
   "metadata": {},
   "outputs": [],
   "source": [
    "def meansquarerror(paramt,COPXtrain,masstrain,ASISXtrain,ASISYtrain,ASISZtrain):\n",
    "    \n",
    "    from sklearn.metrics import mean_squared_error\n",
    "    \n",
    "    A,alpha,beta, gama = paramt\n",
    "        \n",
    "    ytrue = COPXtrain\n",
    "    \n",
    "    ypredicted = centerofpressure(paramt,masstrain,ASISXtrain,ASISYtrain,ASISZtrain)\n",
    "    \n",
    "        \n",
    "    \n",
    "    \n",
    "    return mean_squared_error(ytrue, ypredicted)\n",
    "        \n",
    "\n",
    "\n",
    "    "
   ]
  },
  {
   "cell_type": "code",
   "execution_count": null,
   "id": "a7306f5a-b911-4764-84d8-0b9afde81b12",
   "metadata": {},
   "outputs": [],
   "source": [
    "from sklearn.model_selection import train_test_split\n",
    "#from scipy import optmize\n",
    "from scipy.optimize import minimize, rosen, rosen_der\n",
    "first_guess = [1,1,1,1]\n",
    "res = minimize(meansquarerror, first_guess,(COPXtrain,masstrain,ASISXtrain,ASISYtrain,ASISZtrain))\n",
    "coeficientes = res.x\n",
    "A=coeficientes[0]\n",
    "alpha=coeficientes[1]\n",
    "beta=coeficientes[2]\n",
    "gama=coeficientes[3]"
   ]
  },
  {
   "cell_type": "markdown",
   "id": "08bc179e-f61c-4b0e-ac26-6704e6c8fff7",
   "metadata": {},
   "source": [
    "Test"
   ]
  },
  {
   "cell_type": "code",
   "execution_count": null,
   "id": "d84396a1-9dce-4032-97e2-388258134bf6",
   "metadata": {},
   "outputs": [],
   "source": [
    "\n",
    "treinando=centerofpressure(coeficientes, masstrain,ASISXtrain,ASISYtrain,ASISZtrain) \n",
    "\n",
    "testando=centerofpressure(coeficientes, masstest,ASISXtest,ASISYtest,ASISZtest)\n"
   ]
  },
  {
   "cell_type": "code",
   "execution_count": null,
   "id": "0bfc3ddd-2a9b-4803-a270-ec039de8db47",
   "metadata": {},
   "outputs": [],
   "source": [
    "time = np.arange(0,6000)/100\n",
    "for i in range(0,len(ASISXtest)):\n",
    "    plt.figure()\n",
    "    plt.plot(time[:5970],detrend(testando[i,:]),color='purple',label='COP predicted')\n",
    "    plt.plot(time[:5970],detrend(COPXreal[i]),color='blue', label='COP real')\n",
    "    plt.title('COP real X COP calculated for test {:.1f}'.format(i))\n",
    "    plt.xlabel('Time')\n",
    "    plt.legend()\n",
    "    plt.show()"
   ]
  },
  {
   "cell_type": "code",
   "execution_count": null,
   "id": "ff949f49-ed26-48ef-a9bf-c0f200014e09",
   "metadata": {},
   "outputs": [],
   "source": [
    "sennovo = sinx*A + ((1-A**2)**1/2)*cosx\n",
    "print(np.max(sennovo))\n",
    "print(np.min(sennovo))"
   ]
  },
  {
   "cell_type": "code",
   "execution_count": null,
   "id": "38ef0a9a-ab60-4faf-be22-ea53ee5bb0ac",
   "metadata": {},
   "outputs": [],
   "source": [
    "cosnovo = cosx*A - ((1-A**2)**1/2)*sinx\n",
    "print(np.max(cosnovo))\n",
    "print(np.min(cosnovo))"
   ]
  },
  {
   "cell_type": "code",
   "execution_count": null,
   "id": "44bbe9ea-cb35-4b8c-b63d-41a91e314af1",
   "metadata": {},
   "outputs": [],
   "source": []
  }
 ],
 "metadata": {
  "kernelspec": {
   "display_name": "Python 3",
   "language": "python",
   "name": "python3"
  },
  "language_info": {
   "codemirror_mode": {
    "name": "ipython",
    "version": 3
   },
   "file_extension": ".py",
   "mimetype": "text/x-python",
   "name": "python",
   "nbconvert_exporter": "python",
   "pygments_lexer": "ipython3",
   "version": "3.8.8"
  }
 },
 "nbformat": 4,
 "nbformat_minor": 5
}
